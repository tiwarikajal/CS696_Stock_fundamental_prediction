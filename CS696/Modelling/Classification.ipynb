{
 "cells": [
  {
   "cell_type": "code",
   "execution_count": 1,
   "metadata": {},
   "outputs": [],
   "source": [
    "##Import Required packages\n",
    "import torch\n",
    "from torch.autograd import Variable\n",
    "import torch.nn.functional as F\n",
    "import torch.utils.data as Data\n",
    "import matplotlib.pyplot as plt\n",
    "from sklearn.linear_model import LogisticRegression\n",
    "%matplotlib inline\n",
    "import pandas as pd\n",
    "import numpy as np\n",
    "import imageio\n",
    "import os,sys\n",
    "import pandas as pd\n",
    "import re\n",
    "import seaborn as sns\n",
    "from tqdm.notebook import tqdm\n",
    "import torch.nn as nn\n",
    "import torch.optim as optim\n",
    "from torch.utils.data import Dataset, DataLoader\n",
    "import torch.nn as nn\n",
    "import os\n",
    "from sklearn.preprocessing import MinMaxScaler    \n",
    "from sklearn.model_selection import train_test_split\n",
    "from sklearn.metrics import mean_squared_error, r2_score\n",
    "\n",
    "from IPython.core.interactiveshell import InteractiveShell\n",
    "InteractiveShell.ast_node_interactivity = \"all\""
   ]
  },
  {
   "cell_type": "code",
   "execution_count": 36,
   "metadata": {},
   "outputs": [
    {
     "data": {
      "text/html": [
       "<div>\n",
       "<style scoped>\n",
       "    .dataframe tbody tr th:only-of-type {\n",
       "        vertical-align: middle;\n",
       "    }\n",
       "\n",
       "    .dataframe tbody tr th {\n",
       "        vertical-align: top;\n",
       "    }\n",
       "\n",
       "    .dataframe thead th {\n",
       "        text-align: right;\n",
       "    }\n",
       "</style>\n",
       "<table border=\"1\" class=\"dataframe\">\n",
       "  <thead>\n",
       "    <tr style=\"text-align: right;\">\n",
       "      <th></th>\n",
       "      <th>x</th>\n",
       "      <th>y</th>\n",
       "      <th>var1</th>\n",
       "      <th>var2</th>\n",
       "      <th>var3</th>\n",
       "    </tr>\n",
       "  </thead>\n",
       "  <tbody>\n",
       "    <tr>\n",
       "      <th>0</th>\n",
       "      <td>[0.026498422712933758, 0.10214285714285716]</td>\n",
       "      <td>-0.001077</td>\n",
       "      <td>0.026498</td>\n",
       "      <td>0.102143</td>\n",
       "      <td>3</td>\n",
       "    </tr>\n",
       "    <tr>\n",
       "      <th>1</th>\n",
       "      <td>[-0.001076757421935087, 0.026498422712933758]</td>\n",
       "      <td>-0.220906</td>\n",
       "      <td>-0.001077</td>\n",
       "      <td>0.026498</td>\n",
       "      <td>0</td>\n",
       "    </tr>\n",
       "    <tr>\n",
       "      <th>2</th>\n",
       "      <td>[-0.22090618537319048, -0.001076757421935087]</td>\n",
       "      <td>-0.018432</td>\n",
       "      <td>-0.220906</td>\n",
       "      <td>-0.001077</td>\n",
       "      <td>2</td>\n",
       "    </tr>\n",
       "    <tr>\n",
       "      <th>3</th>\n",
       "      <td>[-0.0184320471860408, -0.22090618537319048]</td>\n",
       "      <td>0.001999</td>\n",
       "      <td>-0.018432</td>\n",
       "      <td>-0.220906</td>\n",
       "      <td>3</td>\n",
       "    </tr>\n",
       "    <tr>\n",
       "      <th>4</th>\n",
       "      <td>[0.001999000499750125, -0.0184320471860408]</td>\n",
       "      <td>0.014258</td>\n",
       "      <td>0.001999</td>\n",
       "      <td>-0.018432</td>\n",
       "      <td>4</td>\n",
       "    </tr>\n",
       "  </tbody>\n",
       "</table>\n",
       "</div>"
      ],
      "text/plain": [
       "                                               x         y      var1  \\\n",
       "0    [0.026498422712933758, 0.10214285714285716] -0.001077  0.026498   \n",
       "1  [-0.001076757421935087, 0.026498422712933758] -0.220906 -0.001077   \n",
       "2  [-0.22090618537319048, -0.001076757421935087] -0.018432 -0.220906   \n",
       "3    [-0.0184320471860408, -0.22090618537319048]  0.001999 -0.018432   \n",
       "4    [0.001999000499750125, -0.0184320471860408]  0.014258  0.001999   \n",
       "\n",
       "       var2 var3  \n",
       "0  0.102143    3  \n",
       "1  0.026498    0  \n",
       "2 -0.001077    2  \n",
       "3 -0.220906    3  \n",
       "4 -0.018432    4  "
      ]
     },
     "execution_count": 36,
     "metadata": {},
     "output_type": "execute_result"
    },
    {
     "name": "stdout",
     "output_type": "stream",
     "text": [
      "                                               x         y      var1  \\\n",
      "0    [0.026498422712933758, 0.10214285714285716] -0.001077  0.026498   \n",
      "1  [-0.001076757421935087, 0.026498422712933758] -0.220906 -0.001077   \n",
      "2  [-0.22090618537319048, -0.001076757421935087] -0.018432 -0.220906   \n",
      "3    [-0.0184320471860408, -0.22090618537319048]  0.001999 -0.018432   \n",
      "4    [0.001999000499750125, -0.0184320471860408]  0.014258  0.001999   \n",
      "\n",
      "       var2 var3  label  \n",
      "0  0.102143    3      1  \n",
      "1  0.026498    0      1  \n",
      "2 -0.001077    2      1  \n",
      "3 -0.220906    3      0  \n",
      "4 -0.018432    4      0  \n"
     ]
    },
    {
     "data": {
      "text/plain": [
       "(5674, 6)"
      ]
     },
     "execution_count": 36,
     "metadata": {},
     "output_type": "execute_result"
    },
    {
     "name": "stdout",
     "output_type": "stream",
     "text": [
      "------------------------------Class Distribution ----------------------------------------\n"
     ]
    },
    {
     "data": {
      "text/plain": [
       "9    568\n",
       "6    568\n",
       "3    568\n",
       "0    568\n",
       "8    567\n",
       "7    567\n",
       "5    567\n",
       "4    567\n",
       "2    567\n",
       "1    567\n",
       "Name: var3, dtype: int64"
      ]
     },
     "execution_count": 36,
     "metadata": {},
     "output_type": "execute_result"
    }
   ],
   "source": [
    "##Adding structured data\n",
    "strucdf=pd.read_pickle('Final_XMLRevenuedataset.pkl')\n",
    "\n",
    "#Only use window=1\n",
    "strucdf['var1'] = strucdf['x'].apply(lambda x: x[0])\n",
    "strucdf['var2'] = strucdf['x'].apply(lambda x: x[1])\n",
    "\n",
    "# 10 Class Classificatoin\n",
    "# Convert target into 10 categorical bins based on percentiles.\n",
    "bin_labels = ['0', '1', '2', '3', '4','5','6','7','8','9']\n",
    "strucdf['var3'] = pd.qcut(strucdf['y'],\n",
    "                              q=[0, .1, .2, .3, .4, .5, .6, .7, .8, .9, 1],\n",
    "                              labels=bin_labels)\n",
    "\n",
    "\n",
    "# # 2 Class classification\n",
    "# bin_labels = ['0', '1']\n",
    "# strucdf['bins'] = pd.qcut(strucdf['y'],\n",
    "#                               q=[0, .5, 1],\n",
    "#                               labels=bin_labels)\n",
    "\n",
    "\n",
    "# #4 class classification\n",
    "# bin_labels = ['0', '1','2','3']\n",
    "# strucdf['bins'] = pd.qcut(strucdf['y'],\n",
    "#                               q=[0,.25, .5,.75, 1],\n",
    "#                               labels=bin_labels)\n",
    "\n",
    "strucdf.head()\n",
    "\n",
    "\n",
    "\n",
    "strucdf['label']=strucdf['y'].apply(lambda x: 0 if x >= 0 else 1)\n",
    "x= strucdf[['var1','var2']]\n",
    "y = strucdf['y']\n",
    "# y = strucdf['y']\n",
    "print(strucdf.head())\n",
    "strucdf.shape\n",
    "\n",
    "X_train, X_test, y_train, y_test = train_test_split(x, y, test_size=0.2,shuffle=False)\n",
    "y_train, y_test = y_train.astype(float), y_test.astype(float)\n",
    "\n",
    "X_train = X_train.reset_index(drop=True)\n",
    "X_test = X_test.reset_index(drop=True)\n",
    "y_train = y_train.reset_index(drop=True)\n",
    "y_test = y_test.reset_index(drop=True)\n",
    "\n",
    "\n",
    "print('------------------------------Class Distribution ----------------------------------------')\n",
    "strucdf['var3'].value_counts()"
   ]
  },
  {
   "cell_type": "code",
   "execution_count": 25,
   "metadata": {},
   "outputs": [
    {
     "data": {
      "text/plain": [
       "0      -0.001077\n",
       "1      -0.220906\n",
       "2      -0.018432\n",
       "3       0.001999\n",
       "4       0.014258\n",
       "          ...   \n",
       "4534    0.039028\n",
       "4535    0.051070\n",
       "4536   -0.008586\n",
       "4537   -0.040137\n",
       "4538    0.050600\n",
       "Name: y, Length: 4539, dtype: float64"
      ]
     },
     "execution_count": 25,
     "metadata": {},
     "output_type": "execute_result"
    }
   ],
   "source": [
    "y_train"
   ]
  },
  {
   "cell_type": "code",
   "execution_count": 23,
   "metadata": {},
   "outputs": [
    {
     "data": {
      "text/plain": [
       "array([-0.001076757421935087, 0.026498422712933758, '0'], dtype=object)"
      ]
     },
     "execution_count": 23,
     "metadata": {},
     "output_type": "execute_result"
    }
   ],
   "source": [
    "np.stack(X_train.values)[1]"
   ]
  },
  {
   "cell_type": "code",
   "execution_count": 3,
   "metadata": {},
   "outputs": [],
   "source": [
    "#bucket feature as a binary variable into logistic model."
   ]
  },
  {
   "cell_type": "code",
   "execution_count": 26,
   "metadata": {},
   "outputs": [
    {
     "data": {
      "text/plain": [
       "LinearRegression(copy_X=True, fit_intercept=True, n_jobs=None, normalize=False)"
      ]
     },
     "execution_count": 26,
     "metadata": {},
     "output_type": "execute_result"
    }
   ],
   "source": [
    "from sklearn.linear_model import LogisticRegression\n",
    "from sklearn.linear_model import LinearRegression\n",
    "logisticRegr = LogisticRegression()\n",
    "logisticRegr.fit(np.stack(X_train.values),np.stack(y_train))\n",
    "y_pred = logisticRegr.predict(np.stack(X_test.values))"
   ]
  },
  {
   "cell_type": "code",
   "execution_count": null,
   "metadata": {},
   "outputs": [],
   "source": []
  },
  {
   "cell_type": "code",
   "execution_count": 27,
   "metadata": {},
   "outputs": [
    {
     "data": {
      "text/plain": [
       " 0.000000    4\n",
       "-1.000000    2\n",
       " 1.000000    2\n",
       " 0.745297    1\n",
       " 0.042687    1\n",
       "            ..\n",
       " 0.042598    1\n",
       " 0.587028    1\n",
       " 0.043593    1\n",
       " 0.624860    1\n",
       "-0.220906    1\n",
       "Name: 0, Length: 4534, dtype: int64"
      ]
     },
     "execution_count": 27,
     "metadata": {},
     "output_type": "execute_result"
    }
   ],
   "source": [
    "pd.DataFrame(y_train.values)[0].value_counts()"
   ]
  },
  {
   "cell_type": "code",
   "execution_count": 254,
   "metadata": {},
   "outputs": [
    {
     "name": "stdout",
     "output_type": "stream",
     "text": [
      "--------------------------y_pred------------------------------\n"
     ]
    },
    {
     "data": {
      "text/plain": [
       "0    661\n",
       "1    474\n",
       "Name: 0, dtype: int64"
      ]
     },
     "execution_count": 254,
     "metadata": {},
     "output_type": "execute_result"
    },
    {
     "name": "stdout",
     "output_type": "stream",
     "text": [
      "--------------------------y_test------------------------------\n"
     ]
    },
    {
     "data": {
      "text/plain": [
       "1    576\n",
       "0    559\n",
       "Name: 0, dtype: int64"
      ]
     },
     "execution_count": 254,
     "metadata": {},
     "output_type": "execute_result"
    }
   ],
   "source": [
    "print('--------------------------y_pred------------------------------')\n",
    "pd.DataFrame(y_pred)[0].value_counts()\n",
    "print('--------------------------y_test------------------------------')\n",
    "pd.DataFrame(y_test.values)[0].value_counts()"
   ]
  },
  {
   "cell_type": "markdown",
   "metadata": {},
   "source": [
    "**Logistic Regression Classifier**"
   ]
  },
  {
   "cell_type": "code",
   "execution_count": 255,
   "metadata": {},
   "outputs": [
    {
     "name": "stdout",
     "output_type": "stream",
     "text": [
      "Misclassified test samples: 646\n",
      "Total test samples: 1135\n",
      "Accuracy: 0.43\n",
      "Weighted F1 Score: 0.43\n"
     ]
    }
   ],
   "source": [
    "from sklearn import metrics\n",
    "count_misclassified = (y_test.values != y_pred).sum()\n",
    "count_total = y_test.values.shape[0]\n",
    "print('Misclassified test samples: {}'.format(count_misclassified))\n",
    "print('Total test samples: {}'.format(count_total))\n",
    "accuracy = metrics.accuracy_score(y_test.values, y_pred)\n",
    "f1_score = metrics.f1_score(y_test.values, y_pred,average='weighted')\n",
    "print('Accuracy: {:.2f}'.format(accuracy))\n",
    "print('Weighted F1 Score: {:.2f}'.format(f1_score))\n"
   ]
  },
  {
   "cell_type": "markdown",
   "metadata": {},
   "source": [
    "**Random Forest Classifier**"
   ]
  },
  {
   "cell_type": "code",
   "execution_count": 78,
   "metadata": {},
   "outputs": [
    {
     "ename": "ValueError",
     "evalue": "Unknown label type: 'continuous'",
     "output_type": "error",
     "traceback": [
      "\u001b[0;31m---------------------------------------------------------------------------\u001b[0m",
      "\u001b[0;31mValueError\u001b[0m                                Traceback (most recent call last)",
      "\u001b[0;32m<ipython-input-78-bf32612aeba6>\u001b[0m in \u001b[0;36m<module>\u001b[0;34m\u001b[0m\n\u001b[1;32m      6\u001b[0m                                max_features = 'sqrt')\n\u001b[1;32m      7\u001b[0m \u001b[0;31m# rf_model.fit(X_train.values.reshape(-1, 1), y_train.values.reshape(-1,1))\u001b[0m\u001b[0;34m\u001b[0m\u001b[0;34m\u001b[0m\u001b[0;34m\u001b[0m\u001b[0m\n\u001b[0;32m----> 8\u001b[0;31m \u001b[0mrf_model\u001b[0m\u001b[0;34m.\u001b[0m\u001b[0mfit\u001b[0m\u001b[0;34m(\u001b[0m\u001b[0mnp\u001b[0m\u001b[0;34m.\u001b[0m\u001b[0mstack\u001b[0m\u001b[0;34m(\u001b[0m\u001b[0mX_train\u001b[0m\u001b[0;34m)\u001b[0m\u001b[0;34m,\u001b[0m \u001b[0mnp\u001b[0m\u001b[0;34m.\u001b[0m\u001b[0mstack\u001b[0m\u001b[0;34m(\u001b[0m\u001b[0my_train\u001b[0m\u001b[0;34m)\u001b[0m\u001b[0;34m)\u001b[0m\u001b[0;34m\u001b[0m\u001b[0;34m\u001b[0m\u001b[0m\n\u001b[0m\u001b[1;32m      9\u001b[0m \u001b[0mprint\u001b[0m\u001b[0;34m(\u001b[0m\u001b[0;34mf'Model Train Accuracy: {rf_model.score(np.stack(X_train), y_train.values.reshape(-1,1))}'\u001b[0m\u001b[0;34m)\u001b[0m\u001b[0;34m\u001b[0m\u001b[0;34m\u001b[0m\u001b[0m\n\u001b[1;32m     10\u001b[0m \u001b[0mprint\u001b[0m\u001b[0;34m(\u001b[0m\u001b[0;34mf'Model Test Accuracy: {rf_model.score(np.stack(X_test), y_test.values.reshape(-1,1))}'\u001b[0m\u001b[0;34m)\u001b[0m\u001b[0;34m\u001b[0m\u001b[0;34m\u001b[0m\u001b[0m\n",
      "\u001b[0;32m~/anaconda3/envs/cs696_baseline/lib/python3.7/site-packages/sklearn/ensemble/_forest.py\u001b[0m in \u001b[0;36mfit\u001b[0;34m(self, X, y, sample_weight)\u001b[0m\n\u001b[1;32m    319\u001b[0m         \u001b[0mself\u001b[0m\u001b[0;34m.\u001b[0m\u001b[0mn_outputs_\u001b[0m \u001b[0;34m=\u001b[0m \u001b[0my\u001b[0m\u001b[0;34m.\u001b[0m\u001b[0mshape\u001b[0m\u001b[0;34m[\u001b[0m\u001b[0;36m1\u001b[0m\u001b[0;34m]\u001b[0m\u001b[0;34m\u001b[0m\u001b[0;34m\u001b[0m\u001b[0m\n\u001b[1;32m    320\u001b[0m \u001b[0;34m\u001b[0m\u001b[0m\n\u001b[0;32m--> 321\u001b[0;31m         \u001b[0my\u001b[0m\u001b[0;34m,\u001b[0m \u001b[0mexpanded_class_weight\u001b[0m \u001b[0;34m=\u001b[0m \u001b[0mself\u001b[0m\u001b[0;34m.\u001b[0m\u001b[0m_validate_y_class_weight\u001b[0m\u001b[0;34m(\u001b[0m\u001b[0my\u001b[0m\u001b[0;34m)\u001b[0m\u001b[0;34m\u001b[0m\u001b[0;34m\u001b[0m\u001b[0m\n\u001b[0m\u001b[1;32m    322\u001b[0m \u001b[0;34m\u001b[0m\u001b[0m\n\u001b[1;32m    323\u001b[0m         \u001b[0;32mif\u001b[0m \u001b[0mgetattr\u001b[0m\u001b[0;34m(\u001b[0m\u001b[0my\u001b[0m\u001b[0;34m,\u001b[0m \u001b[0;34m\"dtype\"\u001b[0m\u001b[0;34m,\u001b[0m \u001b[0;32mNone\u001b[0m\u001b[0;34m)\u001b[0m \u001b[0;34m!=\u001b[0m \u001b[0mDOUBLE\u001b[0m \u001b[0;32mor\u001b[0m \u001b[0;32mnot\u001b[0m \u001b[0my\u001b[0m\u001b[0;34m.\u001b[0m\u001b[0mflags\u001b[0m\u001b[0;34m.\u001b[0m\u001b[0mcontiguous\u001b[0m\u001b[0;34m:\u001b[0m\u001b[0;34m\u001b[0m\u001b[0;34m\u001b[0m\u001b[0m\n",
      "\u001b[0;32m~/anaconda3/envs/cs696_baseline/lib/python3.7/site-packages/sklearn/ensemble/_forest.py\u001b[0m in \u001b[0;36m_validate_y_class_weight\u001b[0;34m(self, y)\u001b[0m\n\u001b[1;32m    539\u001b[0m \u001b[0;34m\u001b[0m\u001b[0m\n\u001b[1;32m    540\u001b[0m     \u001b[0;32mdef\u001b[0m \u001b[0m_validate_y_class_weight\u001b[0m\u001b[0;34m(\u001b[0m\u001b[0mself\u001b[0m\u001b[0;34m,\u001b[0m \u001b[0my\u001b[0m\u001b[0;34m)\u001b[0m\u001b[0;34m:\u001b[0m\u001b[0;34m\u001b[0m\u001b[0;34m\u001b[0m\u001b[0m\n\u001b[0;32m--> 541\u001b[0;31m         \u001b[0mcheck_classification_targets\u001b[0m\u001b[0;34m(\u001b[0m\u001b[0my\u001b[0m\u001b[0;34m)\u001b[0m\u001b[0;34m\u001b[0m\u001b[0;34m\u001b[0m\u001b[0m\n\u001b[0m\u001b[1;32m    542\u001b[0m \u001b[0;34m\u001b[0m\u001b[0m\n\u001b[1;32m    543\u001b[0m         \u001b[0my\u001b[0m \u001b[0;34m=\u001b[0m \u001b[0mnp\u001b[0m\u001b[0;34m.\u001b[0m\u001b[0mcopy\u001b[0m\u001b[0;34m(\u001b[0m\u001b[0my\u001b[0m\u001b[0;34m)\u001b[0m\u001b[0;34m\u001b[0m\u001b[0;34m\u001b[0m\u001b[0m\n",
      "\u001b[0;32m~/anaconda3/envs/cs696_baseline/lib/python3.7/site-packages/sklearn/utils/multiclass.py\u001b[0m in \u001b[0;36mcheck_classification_targets\u001b[0;34m(y)\u001b[0m\n\u001b[1;32m    167\u001b[0m     if y_type not in ['binary', 'multiclass', 'multiclass-multioutput',\n\u001b[1;32m    168\u001b[0m                       'multilabel-indicator', 'multilabel-sequences']:\n\u001b[0;32m--> 169\u001b[0;31m         \u001b[0;32mraise\u001b[0m \u001b[0mValueError\u001b[0m\u001b[0;34m(\u001b[0m\u001b[0;34m\"Unknown label type: %r\"\u001b[0m \u001b[0;34m%\u001b[0m \u001b[0my_type\u001b[0m\u001b[0;34m)\u001b[0m\u001b[0;34m\u001b[0m\u001b[0;34m\u001b[0m\u001b[0m\n\u001b[0m\u001b[1;32m    170\u001b[0m \u001b[0;34m\u001b[0m\u001b[0m\n\u001b[1;32m    171\u001b[0m \u001b[0;34m\u001b[0m\u001b[0m\n",
      "\u001b[0;31mValueError\u001b[0m: Unknown label type: 'continuous'"
     ]
    }
   ],
   "source": [
    "from sklearn.ensemble import RandomForestClassifier\n",
    "\n",
    "# Create the model with 100 trees\n",
    "rf_model = RandomForestClassifier(n_estimators=100, \n",
    "                               bootstrap = True,\n",
    "                               max_features = 'sqrt')\n",
    "# rf_model.fit(X_train.values.reshape(-1, 1), y_train.values.reshape(-1,1))\n",
    "rf_model.fit(np.stack(X_train), np.stack(y_train))\n",
    "print(f'Model Train Accuracy: {rf_model.score(np.stack(X_train), y_train.values.reshape(-1,1))}')\n",
    "print(f'Model Test Accuracy: {rf_model.score(np.stack(X_test), y_test.values.reshape(-1,1))}')\n",
    "rf_predictions = rf_model.predict(np.stack(X_test))\n",
    "# Probabilities for each class\n",
    "# rf_probs = rf_model.predict_proba(np.stack(X_test))[:, 1]"
   ]
  },
  {
   "cell_type": "code",
   "execution_count": null,
   "metadata": {},
   "outputs": [],
   "source": [
    "#k-fold CV for RF.\n",
    "#hyperparameters for RF."
   ]
  },
  {
   "cell_type": "code",
   "execution_count": 257,
   "metadata": {},
   "outputs": [
    {
     "name": "stdout",
     "output_type": "stream",
     "text": [
      "--------------------------y_pred------------------------------\n"
     ]
    },
    {
     "data": {
      "text/plain": [
       "1    594\n",
       "0    541\n",
       "Name: 0, dtype: int64"
      ]
     },
     "execution_count": 257,
     "metadata": {},
     "output_type": "execute_result"
    },
    {
     "name": "stdout",
     "output_type": "stream",
     "text": [
      "--------------------------y_test------------------------------\n"
     ]
    },
    {
     "data": {
      "text/plain": [
       "1    576\n",
       "0    559\n",
       "Name: 0, dtype: int64"
      ]
     },
     "execution_count": 257,
     "metadata": {},
     "output_type": "execute_result"
    }
   ],
   "source": [
    "print('--------------------------y_pred------------------------------')\n",
    "pd.DataFrame(rf_predictions)[0].value_counts()\n",
    "print('--------------------------y_test------------------------------')\n",
    "pd.DataFrame(y_test.values)[0].value_counts()"
   ]
  },
  {
   "cell_type": "code",
   "execution_count": 250,
   "metadata": {},
   "outputs": [
    {
     "name": "stdout",
     "output_type": "stream",
     "text": [
      "Misclassified test samples: 451\n",
      "Total test samples: 1135\n",
      "Accuracy: 0.60\n",
      "Weighted F1 Score: 0.60\n"
     ]
    }
   ],
   "source": [
    "from sklearn import metrics\n",
    "count_misclassified = (y_test.values != rf_predictions).sum()\n",
    "count_total = y_test.values.shape[0]\n",
    "print('Misclassified test samples: {}'.format(count_misclassified))\n",
    "print('Total test samples: {}'.format(count_total))\n",
    "accuracy = metrics.accuracy_score(y_test.values, rf_predictions)\n",
    "f1_score = metrics.f1_score(y_test.values, rf_predictions,average='weighted')\n",
    "print('Accuracy: {:.2f}'.format(accuracy))\n",
    "print('Weighted F1 Score: {:.2f}'.format(f1_score))\n"
   ]
  },
  {
   "cell_type": "code",
   "execution_count": 64,
   "metadata": {},
   "outputs": [
    {
     "data": {
      "text/plain": [
       "array([[-0.019679147750139236, -0.03634144365787506,\n",
       "        0.018459182232618332, ..., 0.02011403048267155,\n",
       "        0.032918917833256345, '7'],\n",
       "       [-0.015117797069251537, -0.019679147750139236,\n",
       "        0.02521229349076748, ..., 0.05956274276596148,\n",
       "        0.02011403048267155, '6'],\n",
       "       [-0.014624514617025852, -0.015117797069251537,\n",
       "        0.030115768313407898, ..., 0.04638277584417983,\n",
       "        0.05956274276596148, '4'],\n",
       "       ...,\n",
       "       [-0.29555097222328186, -0.28866058588027954, 0.03358547016978264,\n",
       "        ..., 0.028393399024855943, -0.05055225148683093, '7'],\n",
       "       [-0.2798287570476532, -0.29555097222328186, 0.047348007559776306,\n",
       "        ..., 0.08316678192277588, 0.028393399024855943, '0'],\n",
       "       [-0.2612355053424835, -0.2798287570476532, 0.04323828965425491,\n",
       "        ..., -0.146683078309279, 0.08316678192277588, '9']], dtype=object)"
      ]
     },
     "execution_count": 64,
     "metadata": {},
     "output_type": "execute_result"
    }
   ],
   "source": [
    "x.values"
   ]
  },
  {
   "cell_type": "code",
   "execution_count": 75,
   "metadata": {},
   "outputs": [
    {
     "data": {
      "text/plain": [
       "2"
      ]
     },
     "execution_count": 75,
     "metadata": {},
     "output_type": "execute_result"
    },
    {
     "name": "stdout",
     "output_type": "stream",
     "text": [
      "KFold(n_splits=2, random_state=None, shuffle=False)\n"
     ]
    }
   ],
   "source": [
    "from sklearn.model_selection import KFold # import KFold\n",
    "kf = KFold(n_splits=2) # Define the split - into 2 folds \n",
    "kf.get_n_splits(x.values) # returns the number of splitting iterations in the cross-validator\n",
    "print(kf) \n",
    "# KFold(n_splits=2, random_state=None, shuffle=False)"
   ]
  },
  {
   "cell_type": "code",
   "execution_count": 77,
   "metadata": {},
   "outputs": [
    {
     "name": "stdout",
     "output_type": "stream",
     "text": [
      "TRAIN: [1596 1597 1598 ... 3189 3190 3191] TEST: [   0    1    2 ... 1593 1594 1595]\n"
     ]
    },
    {
     "ename": "NameError",
     "evalue": "name 'rf_model' is not defined",
     "output_type": "error",
     "traceback": [
      "\u001b[0;31m---------------------------------------------------------------------------\u001b[0m",
      "\u001b[0;31mNameError\u001b[0m                                 Traceback (most recent call last)",
      "\u001b[0;32m<ipython-input-77-ff02c13a2aa7>\u001b[0m in \u001b[0;36m<module>\u001b[0;34m\u001b[0m\n\u001b[1;32m      3\u001b[0m     \u001b[0mX_train\u001b[0m\u001b[0;34m,\u001b[0m \u001b[0mX_test\u001b[0m \u001b[0;34m=\u001b[0m \u001b[0mx\u001b[0m\u001b[0;34m.\u001b[0m\u001b[0mvalues\u001b[0m\u001b[0;34m[\u001b[0m\u001b[0mtrain_index\u001b[0m\u001b[0;34m]\u001b[0m\u001b[0;34m,\u001b[0m \u001b[0mx\u001b[0m\u001b[0;34m.\u001b[0m\u001b[0mvalues\u001b[0m\u001b[0;34m[\u001b[0m\u001b[0mtest_index\u001b[0m\u001b[0;34m]\u001b[0m\u001b[0;34m\u001b[0m\u001b[0;34m\u001b[0m\u001b[0m\n\u001b[1;32m      4\u001b[0m     \u001b[0my_train\u001b[0m\u001b[0;34m,\u001b[0m \u001b[0my_test\u001b[0m \u001b[0;34m=\u001b[0m \u001b[0my\u001b[0m\u001b[0;34m[\u001b[0m\u001b[0mtrain_index\u001b[0m\u001b[0;34m]\u001b[0m\u001b[0;34m,\u001b[0m \u001b[0my\u001b[0m\u001b[0;34m[\u001b[0m\u001b[0mtest_index\u001b[0m\u001b[0;34m]\u001b[0m\u001b[0;34m\u001b[0m\u001b[0;34m\u001b[0m\u001b[0m\n\u001b[0;32m----> 5\u001b[0;31m     \u001b[0mrf_model\u001b[0m\u001b[0;34m.\u001b[0m\u001b[0mfit\u001b[0m\u001b[0;34m(\u001b[0m\u001b[0mnp\u001b[0m\u001b[0;34m.\u001b[0m\u001b[0mstack\u001b[0m\u001b[0;34m(\u001b[0m\u001b[0mX_train\u001b[0m\u001b[0;34m)\u001b[0m\u001b[0;34m,\u001b[0m \u001b[0mnp\u001b[0m\u001b[0;34m.\u001b[0m\u001b[0mstack\u001b[0m\u001b[0;34m(\u001b[0m\u001b[0my_train\u001b[0m\u001b[0;34m)\u001b[0m\u001b[0;34m)\u001b[0m\u001b[0;34m\u001b[0m\u001b[0;34m\u001b[0m\u001b[0m\n\u001b[0m\u001b[1;32m      6\u001b[0m     \u001b[0mprint\u001b[0m\u001b[0;34m(\u001b[0m\u001b[0;34mf'Model Train Accuracy: {rf_model.score(np.stack(X_train), y_train.values.reshape(-1,1))}'\u001b[0m\u001b[0;34m)\u001b[0m\u001b[0;34m\u001b[0m\u001b[0;34m\u001b[0m\u001b[0m\n\u001b[1;32m      7\u001b[0m     \u001b[0mprint\u001b[0m\u001b[0;34m(\u001b[0m\u001b[0;34mf'Model Test Accuracy: {rf_model.score(np.stack(X_test), y_test.values.reshape(-1,1))}'\u001b[0m\u001b[0;34m)\u001b[0m\u001b[0;34m\u001b[0m\u001b[0;34m\u001b[0m\u001b[0m\n",
      "\u001b[0;31mNameError\u001b[0m: name 'rf_model' is not defined"
     ]
    }
   ],
   "source": [
    "for train_index, test_index in kf.split(x.values):\n",
    "    print(\"TRAIN:\", train_index, \"TEST:\", test_index)\n",
    "    X_train, X_test = x.values[train_index], x.values[test_index]\n",
    "    y_train, y_test = y[train_index], y[test_index]\n",
    "    rf_model.fit(np.stack(X_train), np.stack(y_train))\n",
    "    print(f'Model Train Accuracy: {rf_model.score(np.stack(X_train), y_train.values.reshape(-1,1))}')\n",
    "    print(f'Model Test Accuracy: {rf_model.score(np.stack(X_test), y_test.values.reshape(-1,1))}')"
   ]
  },
  {
   "cell_type": "code",
   "execution_count": null,
   "metadata": {},
   "outputs": [],
   "source": [
    "## Logistic Regression\n",
    "import pickle\n",
    "from sklearn.linear_model import LinearRegression\n",
    "from sklearn.metrics import mean_squared_error,f1_score,precision_score\n",
    "reg = LogisticRegression().fit(np.stack(X_train),np.stack(y_train))\n",
    "y_pred=reg.predict(np.stack(X_test))\n",
    "\n",
    "#print(y_pred,y_test.to_numpy())\n",
    "score=f1_score(y_pred,y_test)\n",
    "print(\"F1 Score\",score)\n",
    "print(reg.precision_score)"
   ]
  },
  {
   "cell_type": "markdown",
   "metadata": {},
   "source": [
    "**Linear Regression with category variable**"
   ]
  },
  {
   "cell_type": "code",
   "execution_count": 37,
   "metadata": {},
   "outputs": [
    {
     "data": {
      "text/plain": [
       "LinearRegression(copy_X=True, fit_intercept=True, n_jobs=None, normalize=False)"
      ]
     },
     "execution_count": 37,
     "metadata": {},
     "output_type": "execute_result"
    }
   ],
   "source": [
    "from sklearn.linear_model import LinearRegression\n",
    "linearRegr = LinearRegression()  \n",
    "linearRegr.fit(np.stack(X_train.values),np.stack(y_train))\n",
    "y_pred = linearRegr.predict(np.stack(X_test.values))\n",
    "        "
   ]
  },
  {
   "cell_type": "code",
   "execution_count": 29,
   "metadata": {},
   "outputs": [
    {
     "data": {
      "text/plain": [
       "array([-0.21529046, -0.09393125,  0.06096105])"
      ]
     },
     "execution_count": 29,
     "metadata": {},
     "output_type": "execute_result"
    }
   ],
   "source": [
    "linearRegr.coef_"
   ]
  },
  {
   "cell_type": "code",
   "execution_count": 30,
   "metadata": {},
   "outputs": [
    {
     "data": {
      "text/plain": [
       "-0.22704834685905645"
      ]
     },
     "execution_count": 30,
     "metadata": {},
     "output_type": "execute_result"
    }
   ],
   "source": [
    "linearRegr.intercept_"
   ]
  },
  {
   "cell_type": "code",
   "execution_count": 34,
   "metadata": {},
   "outputs": [
    {
     "data": {
      "text/plain": [
       "array([ 0.05889547, -0.23865272, -0.14162734, ...,  0.13617142,\n",
       "        0.12867295,  0.06387846])"
      ]
     },
     "execution_count": 34,
     "metadata": {},
     "output_type": "execute_result"
    }
   ],
   "source": [
    "y_pred"
   ]
  },
  {
   "cell_type": "code",
   "execution_count": 35,
   "metadata": {},
   "outputs": [
    {
     "data": {
      "text/plain": [
       "0.02067723970163462"
      ]
     },
     "execution_count": 35,
     "metadata": {},
     "output_type": "execute_result"
    }
   ],
   "source": [
    "from sklearn.metrics import mean_squared_error\n",
    "mean_squared_error(y_test.values, y_pred)"
   ]
  },
  {
   "cell_type": "markdown",
   "metadata": {},
   "source": [
    "**Without the category variable**"
   ]
  },
  {
   "cell_type": "code",
   "execution_count": 38,
   "metadata": {},
   "outputs": [
    {
     "data": {
      "text/plain": [
       "array([-0.30530215, -0.11687939])"
      ]
     },
     "execution_count": 38,
     "metadata": {},
     "output_type": "execute_result"
    }
   ],
   "source": [
    "linearRegr.coef_"
   ]
  },
  {
   "cell_type": "code",
   "execution_count": 39,
   "metadata": {},
   "outputs": [
    {
     "data": {
      "text/plain": [
       "0.050099305074716514"
      ]
     },
     "execution_count": 39,
     "metadata": {},
     "output_type": "execute_result"
    }
   ],
   "source": [
    "linearRegr.intercept_"
   ]
  },
  {
   "cell_type": "code",
   "execution_count": 40,
   "metadata": {},
   "outputs": [
    {
     "data": {
      "text/plain": [
       "array([0.02431591, 0.03465278, 0.17167374, ..., 0.04645387, 0.03606253,\n",
       "       0.03108925])"
      ]
     },
     "execution_count": 40,
     "metadata": {},
     "output_type": "execute_result"
    }
   ],
   "source": [
    "y_pred"
   ]
  },
  {
   "cell_type": "code",
   "execution_count": 41,
   "metadata": {},
   "outputs": [
    {
     "data": {
      "text/plain": [
       "0.051013790044730126"
      ]
     },
     "execution_count": 41,
     "metadata": {},
     "output_type": "execute_result"
    }
   ],
   "source": [
    "from sklearn.metrics import mean_squared_error\n",
    "mean_squared_error(y_test.values, y_pred)"
   ]
  },
  {
   "cell_type": "markdown",
   "metadata": {},
   "source": [
    "**Now including the sentiment scores into this**"
   ]
  },
  {
   "cell_type": "code",
   "execution_count": 42,
   "metadata": {},
   "outputs": [
    {
     "data": {
      "text/html": [
       "<div>\n",
       "<style scoped>\n",
       "    .dataframe tbody tr th:only-of-type {\n",
       "        vertical-align: middle;\n",
       "    }\n",
       "\n",
       "    .dataframe tbody tr th {\n",
       "        vertical-align: top;\n",
       "    }\n",
       "\n",
       "    .dataframe thead th {\n",
       "        text-align: right;\n",
       "    }\n",
       "</style>\n",
       "<table border=\"1\" class=\"dataframe\">\n",
       "  <thead>\n",
       "    <tr style=\"text-align: right;\">\n",
       "      <th></th>\n",
       "      <th>x</th>\n",
       "      <th>y</th>\n",
       "    </tr>\n",
       "  </thead>\n",
       "  <tbody>\n",
       "    <tr>\n",
       "      <th>0</th>\n",
       "      <td>[-0.019679147750139236, -0.03634144365787506, ...</td>\n",
       "      <td>0.059563</td>\n",
       "    </tr>\n",
       "    <tr>\n",
       "      <th>1</th>\n",
       "      <td>[-0.015117797069251537, -0.019679147750139236,...</td>\n",
       "      <td>0.046383</td>\n",
       "    </tr>\n",
       "    <tr>\n",
       "      <th>2</th>\n",
       "      <td>[-0.014624514617025852, -0.015117797069251537,...</td>\n",
       "      <td>0.015211</td>\n",
       "    </tr>\n",
       "    <tr>\n",
       "      <th>3</th>\n",
       "      <td>[-0.03730310872197151, -0.014624514617025852, ...</td>\n",
       "      <td>0.033951</td>\n",
       "    </tr>\n",
       "    <tr>\n",
       "      <th>4</th>\n",
       "      <td>[-0.04820563271641731, -0.03730310872197151, -...</td>\n",
       "      <td>-0.017975</td>\n",
       "    </tr>\n",
       "  </tbody>\n",
       "</table>\n",
       "</div>"
      ],
      "text/plain": [
       "                                                   x         y\n",
       "0  [-0.019679147750139236, -0.03634144365787506, ...  0.059563\n",
       "1  [-0.015117797069251537, -0.019679147750139236,...  0.046383\n",
       "2  [-0.014624514617025852, -0.015117797069251537,...  0.015211\n",
       "3  [-0.03730310872197151, -0.014624514617025852, ...  0.033951\n",
       "4  [-0.04820563271641731, -0.03730310872197151, -... -0.017975"
      ]
     },
     "execution_count": 42,
     "metadata": {},
     "output_type": "execute_result"
    }
   ],
   "source": [
    "df_2=pd.read_pickle('/mnt/nfs/scratch1/kajaltiwari/Merged/FinalMerged/Final_SentimentScore_TokenAvg.pkl')\n",
    "df_2.head()"
   ]
  },
  {
   "cell_type": "code",
   "execution_count": 43,
   "metadata": {},
   "outputs": [
    {
     "data": {
      "text/plain": [
       "array([-0.01967915, -0.03634144,  0.01845918,  0.00939133,  0.02011403,\n",
       "        0.03291892])"
      ]
     },
     "execution_count": 43,
     "metadata": {},
     "output_type": "execute_result"
    }
   ],
   "source": [
    "df_2['x'][0]"
   ]
  },
  {
   "cell_type": "code",
   "execution_count": 52,
   "metadata": {},
   "outputs": [
    {
     "data": {
      "text/html": [
       "<div>\n",
       "<style scoped>\n",
       "    .dataframe tbody tr th:only-of-type {\n",
       "        vertical-align: middle;\n",
       "    }\n",
       "\n",
       "    .dataframe tbody tr th {\n",
       "        vertical-align: top;\n",
       "    }\n",
       "\n",
       "    .dataframe thead th {\n",
       "        text-align: right;\n",
       "    }\n",
       "</style>\n",
       "<table border=\"1\" class=\"dataframe\">\n",
       "  <thead>\n",
       "    <tr style=\"text-align: right;\">\n",
       "      <th></th>\n",
       "      <th>x</th>\n",
       "      <th>y</th>\n",
       "      <th>var1</th>\n",
       "      <th>var2</th>\n",
       "      <th>var3</th>\n",
       "      <th>var4</th>\n",
       "      <th>var5</th>\n",
       "      <th>var6</th>\n",
       "      <th>var7</th>\n",
       "    </tr>\n",
       "  </thead>\n",
       "  <tbody>\n",
       "    <tr>\n",
       "      <th>0</th>\n",
       "      <td>[-0.019679147750139236, -0.03634144365787506, ...</td>\n",
       "      <td>0.059563</td>\n",
       "      <td>-0.019679</td>\n",
       "      <td>-0.036341</td>\n",
       "      <td>0.018459</td>\n",
       "      <td>0.009391</td>\n",
       "      <td>0.020114</td>\n",
       "      <td>0.032919</td>\n",
       "      <td>7</td>\n",
       "    </tr>\n",
       "    <tr>\n",
       "      <th>1</th>\n",
       "      <td>[-0.015117797069251537, -0.019679147750139236,...</td>\n",
       "      <td>0.046383</td>\n",
       "      <td>-0.015118</td>\n",
       "      <td>-0.019679</td>\n",
       "      <td>0.025212</td>\n",
       "      <td>0.018459</td>\n",
       "      <td>0.059563</td>\n",
       "      <td>0.020114</td>\n",
       "      <td>6</td>\n",
       "    </tr>\n",
       "    <tr>\n",
       "      <th>2</th>\n",
       "      <td>[-0.014624514617025852, -0.015117797069251537,...</td>\n",
       "      <td>0.015211</td>\n",
       "      <td>-0.014625</td>\n",
       "      <td>-0.015118</td>\n",
       "      <td>0.030116</td>\n",
       "      <td>0.025212</td>\n",
       "      <td>0.046383</td>\n",
       "      <td>0.059563</td>\n",
       "      <td>4</td>\n",
       "    </tr>\n",
       "    <tr>\n",
       "      <th>3</th>\n",
       "      <td>[-0.03730310872197151, -0.014624514617025852, ...</td>\n",
       "      <td>0.033951</td>\n",
       "      <td>-0.037303</td>\n",
       "      <td>-0.014625</td>\n",
       "      <td>0.002744</td>\n",
       "      <td>0.030116</td>\n",
       "      <td>0.015211</td>\n",
       "      <td>0.046383</td>\n",
       "      <td>5</td>\n",
       "    </tr>\n",
       "    <tr>\n",
       "      <th>4</th>\n",
       "      <td>[-0.04820563271641731, -0.03730310872197151, -...</td>\n",
       "      <td>-0.017975</td>\n",
       "      <td>-0.048206</td>\n",
       "      <td>-0.037303</td>\n",
       "      <td>-0.000949</td>\n",
       "      <td>0.002744</td>\n",
       "      <td>0.033951</td>\n",
       "      <td>0.015211</td>\n",
       "      <td>2</td>\n",
       "    </tr>\n",
       "  </tbody>\n",
       "</table>\n",
       "</div>"
      ],
      "text/plain": [
       "                                                   x         y      var1  \\\n",
       "0  [-0.019679147750139236, -0.03634144365787506, ...  0.059563 -0.019679   \n",
       "1  [-0.015117797069251537, -0.019679147750139236,...  0.046383 -0.015118   \n",
       "2  [-0.014624514617025852, -0.015117797069251537,...  0.015211 -0.014625   \n",
       "3  [-0.03730310872197151, -0.014624514617025852, ...  0.033951 -0.037303   \n",
       "4  [-0.04820563271641731, -0.03730310872197151, -... -0.017975 -0.048206   \n",
       "\n",
       "       var2      var3      var4      var5      var6 var7  \n",
       "0 -0.036341  0.018459  0.009391  0.020114  0.032919    7  \n",
       "1 -0.019679  0.025212  0.018459  0.059563  0.020114    6  \n",
       "2 -0.015118  0.030116  0.025212  0.046383  0.059563    4  \n",
       "3 -0.014625  0.002744  0.030116  0.015211  0.046383    5  \n",
       "4 -0.037303 -0.000949  0.002744  0.033951  0.015211    2  "
      ]
     },
     "execution_count": 52,
     "metadata": {},
     "output_type": "execute_result"
    },
    {
     "name": "stdout",
     "output_type": "stream",
     "text": [
      "                                                   x         y      var1  \\\n",
      "0  [-0.019679147750139236, -0.03634144365787506, ...  0.059563 -0.019679   \n",
      "1  [-0.015117797069251537, -0.019679147750139236,...  0.046383 -0.015118   \n",
      "2  [-0.014624514617025852, -0.015117797069251537,...  0.015211 -0.014625   \n",
      "3  [-0.03730310872197151, -0.014624514617025852, ...  0.033951 -0.037303   \n",
      "4  [-0.04820563271641731, -0.03730310872197151, -... -0.017975 -0.048206   \n",
      "\n",
      "       var2      var3      var4      var5      var6 var7  label  \n",
      "0 -0.036341  0.018459  0.009391  0.020114  0.032919    7      0  \n",
      "1 -0.019679  0.025212  0.018459  0.059563  0.020114    6      0  \n",
      "2 -0.015118  0.030116  0.025212  0.046383  0.059563    4      0  \n",
      "3 -0.014625  0.002744  0.030116  0.015211  0.046383    5      0  \n",
      "4 -0.037303 -0.000949  0.002744  0.033951  0.015211    2      1  \n"
     ]
    },
    {
     "data": {
      "text/plain": [
       "(3192, 10)"
      ]
     },
     "execution_count": 52,
     "metadata": {},
     "output_type": "execute_result"
    },
    {
     "name": "stdout",
     "output_type": "stream",
     "text": [
      "------------------------------Class Distribution ----------------------------------------\n"
     ]
    },
    {
     "data": {
      "text/plain": [
       "0.026431    6\n",
       "0.013328    5\n",
       "0.013222    5\n",
       "0.023434    4\n",
       "0.032021    3\n",
       "           ..\n",
       "0.055015    1\n",
       "0.045587    1\n",
       "0.022798    1\n",
       "0.177089    1\n",
       "0.057959    1\n",
       "Name: var3, Length: 3156, dtype: int64"
      ]
     },
     "execution_count": 52,
     "metadata": {},
     "output_type": "execute_result"
    }
   ],
   "source": [
    "##Adding structured data\n",
    "strucdf=pd.read_pickle('/mnt/nfs/scratch1/kajaltiwari/Merged/FinalMerged/Final_SentimentScore_TokenAvg.pkl')\n",
    "\n",
    "#Only use window=1\n",
    "strucdf['var1'] = strucdf['x'].apply(lambda x: x[0])\n",
    "strucdf['var2'] = strucdf['x'].apply(lambda x: x[1])\n",
    "strucdf['var3'] = strucdf['x'].apply(lambda x: x[2])\n",
    "strucdf['var4'] = strucdf['x'].apply(lambda x: x[3])\n",
    "strucdf['var5'] = strucdf['x'].apply(lambda x: x[4])\n",
    "strucdf['var6'] = strucdf['x'].apply(lambda x: x[5])\n",
    "\n",
    "# 10 Class Classificatoin\n",
    "# Convert target into 10 categorical bins based on percentiles.\n",
    "bin_labels = ['0', '1', '2', '3', '4','5','6','7','8','9']\n",
    "strucdf['var7'] = pd.qcut(strucdf['y'],\n",
    "                              q=[0, .1, .2, .3, .4, .5, .6, .7, .8, .9, 1],\n",
    "                              labels=bin_labels)\n",
    "\n",
    "\n",
    "# # 2 Class classification\n",
    "# bin_labels = ['0', '1']\n",
    "# strucdf['bins'] = pd.qcut(strucdf['y'],\n",
    "#                               q=[0, .5, 1],\n",
    "#                               labels=bin_labels)\n",
    "\n",
    "\n",
    "# #4 class classification\n",
    "# bin_labels = ['0', '1','2','3']\n",
    "# strucdf['bins'] = pd.qcut(strucdf['y'],\n",
    "#                               q=[0,.25, .5,.75, 1],\n",
    "#                               labels=bin_labels)\n",
    "\n",
    "strucdf.head()\n",
    "\n",
    "\n",
    "\n",
    "strucdf['label']=strucdf['y'].apply(lambda x: 0 if x >= 0 else 1)\n",
    "x= strucdf[['var1','var2','var3','var4','var5','var6','var7']]\n",
    "y = strucdf['y']\n",
    "# y = strucdf['y']\n",
    "print(strucdf.head())\n",
    "strucdf.shape\n",
    "\n",
    "X_train, X_test, y_train, y_test = train_test_split(x, y, test_size=0.2,shuffle=False)\n",
    "y_train, y_test = y_train.astype(float), y_test.astype(float)\n",
    "\n",
    "X_train = X_train.reset_index(drop=True)\n",
    "X_test = X_test.reset_index(drop=True)\n",
    "y_train = y_train.reset_index(drop=True)\n",
    "y_test = y_test.reset_index(drop=True)\n",
    "\n",
    "\n",
    "print('------------------------------Class Distribution ----------------------------------------')\n",
    "strucdf['var3'].value_counts()"
   ]
  },
  {
   "cell_type": "code",
   "execution_count": 53,
   "metadata": {},
   "outputs": [
    {
     "data": {
      "text/html": [
       "<div>\n",
       "<style scoped>\n",
       "    .dataframe tbody tr th:only-of-type {\n",
       "        vertical-align: middle;\n",
       "    }\n",
       "\n",
       "    .dataframe tbody tr th {\n",
       "        vertical-align: top;\n",
       "    }\n",
       "\n",
       "    .dataframe thead th {\n",
       "        text-align: right;\n",
       "    }\n",
       "</style>\n",
       "<table border=\"1\" class=\"dataframe\">\n",
       "  <thead>\n",
       "    <tr style=\"text-align: right;\">\n",
       "      <th></th>\n",
       "      <th>var1</th>\n",
       "      <th>var2</th>\n",
       "      <th>var3</th>\n",
       "      <th>var4</th>\n",
       "      <th>var5</th>\n",
       "      <th>var6</th>\n",
       "      <th>var7</th>\n",
       "    </tr>\n",
       "  </thead>\n",
       "  <tbody>\n",
       "    <tr>\n",
       "      <th>0</th>\n",
       "      <td>-0.019679</td>\n",
       "      <td>-0.036341</td>\n",
       "      <td>0.018459</td>\n",
       "      <td>0.009391</td>\n",
       "      <td>0.020114</td>\n",
       "      <td>0.032919</td>\n",
       "      <td>7</td>\n",
       "    </tr>\n",
       "    <tr>\n",
       "      <th>1</th>\n",
       "      <td>-0.015118</td>\n",
       "      <td>-0.019679</td>\n",
       "      <td>0.025212</td>\n",
       "      <td>0.018459</td>\n",
       "      <td>0.059563</td>\n",
       "      <td>0.020114</td>\n",
       "      <td>6</td>\n",
       "    </tr>\n",
       "    <tr>\n",
       "      <th>2</th>\n",
       "      <td>-0.014625</td>\n",
       "      <td>-0.015118</td>\n",
       "      <td>0.030116</td>\n",
       "      <td>0.025212</td>\n",
       "      <td>0.046383</td>\n",
       "      <td>0.059563</td>\n",
       "      <td>4</td>\n",
       "    </tr>\n",
       "    <tr>\n",
       "      <th>3</th>\n",
       "      <td>-0.037303</td>\n",
       "      <td>-0.014625</td>\n",
       "      <td>0.002744</td>\n",
       "      <td>0.030116</td>\n",
       "      <td>0.015211</td>\n",
       "      <td>0.046383</td>\n",
       "      <td>5</td>\n",
       "    </tr>\n",
       "    <tr>\n",
       "      <th>4</th>\n",
       "      <td>-0.048206</td>\n",
       "      <td>-0.037303</td>\n",
       "      <td>-0.000949</td>\n",
       "      <td>0.002744</td>\n",
       "      <td>0.033951</td>\n",
       "      <td>0.015211</td>\n",
       "      <td>2</td>\n",
       "    </tr>\n",
       "    <tr>\n",
       "      <th>...</th>\n",
       "      <td>...</td>\n",
       "      <td>...</td>\n",
       "      <td>...</td>\n",
       "      <td>...</td>\n",
       "      <td>...</td>\n",
       "      <td>...</td>\n",
       "      <td>...</td>\n",
       "    </tr>\n",
       "    <tr>\n",
       "      <th>2548</th>\n",
       "      <td>-0.192503</td>\n",
       "      <td>-0.175809</td>\n",
       "      <td>-0.106001</td>\n",
       "      <td>-0.118385</td>\n",
       "      <td>-0.001524</td>\n",
       "      <td>-0.340669</td>\n",
       "      <td>9</td>\n",
       "    </tr>\n",
       "    <tr>\n",
       "      <th>2549</th>\n",
       "      <td>-0.220485</td>\n",
       "      <td>-0.192503</td>\n",
       "      <td>-0.160428</td>\n",
       "      <td>-0.106001</td>\n",
       "      <td>0.290369</td>\n",
       "      <td>-0.001524</td>\n",
       "      <td>1</td>\n",
       "    </tr>\n",
       "    <tr>\n",
       "      <th>2550</th>\n",
       "      <td>-0.213561</td>\n",
       "      <td>-0.220485</td>\n",
       "      <td>-0.140434</td>\n",
       "      <td>-0.160428</td>\n",
       "      <td>-0.094825</td>\n",
       "      <td>0.290369</td>\n",
       "      <td>3</td>\n",
       "    </tr>\n",
       "    <tr>\n",
       "      <th>2551</th>\n",
       "      <td>-0.167046</td>\n",
       "      <td>0.030724</td>\n",
       "      <td>-0.035101</td>\n",
       "      <td>0.050066</td>\n",
       "      <td>-0.024455</td>\n",
       "      <td>-0.048247</td>\n",
       "      <td>1</td>\n",
       "    </tr>\n",
       "    <tr>\n",
       "      <th>2552</th>\n",
       "      <td>-0.167575</td>\n",
       "      <td>-0.167046</td>\n",
       "      <td>-0.061666</td>\n",
       "      <td>-0.035101</td>\n",
       "      <td>-0.086447</td>\n",
       "      <td>-0.024455</td>\n",
       "      <td>9</td>\n",
       "    </tr>\n",
       "  </tbody>\n",
       "</table>\n",
       "<p>2553 rows × 7 columns</p>\n",
       "</div>"
      ],
      "text/plain": [
       "          var1      var2      var3      var4      var5      var6 var7\n",
       "0    -0.019679 -0.036341  0.018459  0.009391  0.020114  0.032919    7\n",
       "1    -0.015118 -0.019679  0.025212  0.018459  0.059563  0.020114    6\n",
       "2    -0.014625 -0.015118  0.030116  0.025212  0.046383  0.059563    4\n",
       "3    -0.037303 -0.014625  0.002744  0.030116  0.015211  0.046383    5\n",
       "4    -0.048206 -0.037303 -0.000949  0.002744  0.033951  0.015211    2\n",
       "...        ...       ...       ...       ...       ...       ...  ...\n",
       "2548 -0.192503 -0.175809 -0.106001 -0.118385 -0.001524 -0.340669    9\n",
       "2549 -0.220485 -0.192503 -0.160428 -0.106001  0.290369 -0.001524    1\n",
       "2550 -0.213561 -0.220485 -0.140434 -0.160428 -0.094825  0.290369    3\n",
       "2551 -0.167046  0.030724 -0.035101  0.050066 -0.024455 -0.048247    1\n",
       "2552 -0.167575 -0.167046 -0.061666 -0.035101 -0.086447 -0.024455    9\n",
       "\n",
       "[2553 rows x 7 columns]"
      ]
     },
     "execution_count": 53,
     "metadata": {},
     "output_type": "execute_result"
    }
   ],
   "source": [
    "X_train"
   ]
  },
  {
   "cell_type": "code",
   "execution_count": 54,
   "metadata": {},
   "outputs": [
    {
     "data": {
      "text/plain": [
       "LinearRegression(copy_X=True, fit_intercept=True, n_jobs=None, normalize=False)"
      ]
     },
     "execution_count": 54,
     "metadata": {},
     "output_type": "execute_result"
    }
   ],
   "source": [
    "from sklearn.linear_model import LinearRegression\n",
    "linearRegr = LinearRegression()  \n",
    "linearRegr.fit(np.stack(X_train.values),np.stack(y_train))\n",
    "y_pred = linearRegr.predict(np.stack(X_test.values))"
   ]
  },
  {
   "cell_type": "code",
   "execution_count": 49,
   "metadata": {},
   "outputs": [
    {
     "data": {
      "text/plain": [
       "array([-0.12292396,  0.16327975,  0.45286299, -0.09428932, -0.30346621,\n",
       "       -0.14199952])"
      ]
     },
     "execution_count": 49,
     "metadata": {},
     "output_type": "execute_result"
    }
   ],
   "source": [
    "linearRegr.coef_"
   ]
  },
  {
   "cell_type": "code",
   "execution_count": 50,
   "metadata": {},
   "outputs": [
    {
     "data": {
      "text/plain": [
       "0.042536904787850396"
      ]
     },
     "execution_count": 50,
     "metadata": {},
     "output_type": "execute_result"
    }
   ],
   "source": [
    "linearRegr.intercept_"
   ]
  },
  {
   "cell_type": "code",
   "execution_count": 51,
   "metadata": {},
   "outputs": [
    {
     "data": {
      "text/plain": [
       "0.04284610395395106"
      ]
     },
     "execution_count": 51,
     "metadata": {},
     "output_type": "execute_result"
    }
   ],
   "source": [
    "from sklearn.metrics import mean_squared_error\n",
    "mean_squared_error(y_test.values, y_pred)"
   ]
  },
  {
   "cell_type": "markdown",
   "metadata": {},
   "source": [
    "**Including the sentiment score and cat variable**"
   ]
  },
  {
   "cell_type": "code",
   "execution_count": 56,
   "metadata": {},
   "outputs": [
    {
     "data": {
      "text/plain": [
       "array([-0.13102293,  0.08550388, -0.17421047,  0.11420401, -0.20099868,\n",
       "       -0.09943581,  0.06229367])"
      ]
     },
     "execution_count": 56,
     "metadata": {},
     "output_type": "execute_result"
    }
   ],
   "source": [
    "linearRegr.coef_"
   ]
  },
  {
   "cell_type": "code",
   "execution_count": 57,
   "metadata": {},
   "outputs": [
    {
     "data": {
      "text/plain": [
       "-0.24471936678623676"
      ]
     },
     "execution_count": 57,
     "metadata": {},
     "output_type": "execute_result"
    }
   ],
   "source": [
    "linearRegr.intercept_"
   ]
  },
  {
   "cell_type": "code",
   "execution_count": 58,
   "metadata": {},
   "outputs": [
    {
     "data": {
      "text/plain": [
       "0.02118402539888656"
      ]
     },
     "execution_count": 58,
     "metadata": {},
     "output_type": "execute_result"
    }
   ],
   "source": [
    "from sklearn.metrics import mean_squared_error\n",
    "mean_squared_error(y_test.values, y_pred)"
   ]
  },
  {
   "cell_type": "code",
   "execution_count": null,
   "metadata": {},
   "outputs": [],
   "source": []
  }
 ],
 "metadata": {
  "kernelspec": {
   "display_name": "cs696_baseline",
   "language": "python",
   "name": "cs696_baseline"
  },
  "language_info": {
   "codemirror_mode": {
    "name": "ipython",
    "version": 3
   },
   "file_extension": ".py",
   "mimetype": "text/x-python",
   "name": "python",
   "nbconvert_exporter": "python",
   "pygments_lexer": "ipython3",
   "version": "3.7.6"
  }
 },
 "nbformat": 4,
 "nbformat_minor": 4
}
