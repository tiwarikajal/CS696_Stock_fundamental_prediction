{
  "nbformat": 4,
  "nbformat_minor": 0,
  "metadata": {
    "colab": {
      "name": "Combine_Dataset.ipynb",
      "provenance": [],
      "collapsed_sections": []
    },
    "kernelspec": {
      "name": "python3",
      "display_name": "Python 3"
    },
    "accelerator": "GPU"
  },
  "cells": [
    {
      "cell_type": "code",
      "metadata": {
        "id": "rxz-ejHFxskc",
        "colab_type": "code",
        "colab": {}
      },
      "source": [
        "import torch\n",
        "from torch.autograd import Variable\n",
        "import torch.nn.functional as F\n",
        "import torch.utils.data as Data\n",
        "\n",
        "import matplotlib.pyplot as plt\n",
        "\n",
        "%matplotlib inline\n",
        "import pandas as pd\n",
        "import numpy as np\n",
        "import imageio"
      ],
      "execution_count": 0,
      "outputs": []
    },
    {
      "cell_type": "code",
      "metadata": {
        "id": "saYnfxhjx6Qh",
        "colab_type": "code",
        "outputId": "7ce74909-2563-446c-9738-081ce310baaf",
        "colab": {
          "base_uri": "https://localhost:8080/",
          "height": 35
        }
      },
      "source": [
        "from google.colab import drive\n",
        "drive.mount('/content/drive')\n"
      ],
      "execution_count": 0,
      "outputs": [
        {
          "output_type": "stream",
          "text": [
            "Drive already mounted at /content/drive; to attempt to forcibly remount, call drive.mount(\"/content/drive\", force_remount=True).\n"
          ],
          "name": "stdout"
        }
      ]
    },
    {
      "cell_type": "code",
      "metadata": {
        "id": "Ulx0BEbeySTh",
        "colab_type": "code",
        "outputId": "673b065a-511e-4aa4-8d1c-891527d3c51e",
        "colab": {
          "base_uri": "https://localhost:8080/",
          "height": 35
        }
      },
      "source": [
        "ls"
      ],
      "execution_count": 0,
      "outputs": [
        {
          "output_type": "stream",
          "text": [
            "\u001b[0m\u001b[01;34mdrive\u001b[0m/  \u001b[01;34msample_data\u001b[0m/\n"
          ],
          "name": "stdout"
        }
      ]
    },
    {
      "cell_type": "code",
      "metadata": {
        "id": "6uMxczUuyD1P",
        "colab_type": "code",
        "outputId": "9438d6e2-de0c-428c-91ce-87c0e661bd36",
        "colab": {
          "base_uri": "https://localhost:8080/",
          "height": 35
        }
      },
      "source": [
        "cd ./drive/My\\ Drive/'696 Dataset'/scratch1/embeddings"
      ],
      "execution_count": 0,
      "outputs": [
        {
          "output_type": "stream",
          "text": [
            "/content/drive/My Drive/696 Dataset/scratch1/embeddings\n"
          ],
          "name": "stdout"
        }
      ]
    },
    {
      "cell_type": "code",
      "metadata": {
        "id": "e58yKljVyGMT",
        "colab_type": "code",
        "outputId": "dc633ce1-ee81-4f56-99a6-c56e59b9864a",
        "colab": {
          "base_uri": "https://localhost:8080/",
          "height": 35
        }
      },
      "source": [
        "cd .."
      ],
      "execution_count": 0,
      "outputs": [
        {
          "output_type": "stream",
          "text": [
            "/content/drive/My Drive/696 Dataset/scratch1\n"
          ],
          "name": "stdout"
        }
      ]
    },
    {
      "cell_type": "code",
      "metadata": {
        "id": "DuUKpTCHCRjL",
        "colab_type": "code",
        "outputId": "76795a3d-df66-47a9-9622-7d13743681b5",
        "colab": {
          "base_uri": "https://localhost:8080/",
          "height": 35
        }
      },
      "source": [
        "cd embeddings/\n"
      ],
      "execution_count": 0,
      "outputs": [
        {
          "output_type": "stream",
          "text": [
            "/content/drive/My Drive/696 Dataset/scratch1/embeddings\n"
          ],
          "name": "stdout"
        }
      ]
    },
    {
      "cell_type": "code",
      "metadata": {
        "id": "WOIrKSKkM2V2",
        "colab_type": "code",
        "outputId": "43587f20-0471-429c-d800-3140fc8a0ac0",
        "colab": {
          "base_uri": "https://localhost:8080/",
          "height": 88
        }
      },
      "source": [
        "a=torch.load('CLFD_2011.pt')\n",
        "a"
      ],
      "execution_count": 0,
      "outputs": [
        {
          "output_type": "execute_result",
          "data": {
            "text/plain": [
              "{'Company Name': 'Clearfield, Inc.',\n",
              " 'Industry': 'Communications Equipment',\n",
              " 'Ticker': 'CLFD',\n",
              " 'Top 100': nan}"
            ]
          },
          "metadata": {
            "tags": []
          },
          "execution_count": 64
        }
      ]
    },
    {
      "cell_type": "code",
      "metadata": {
        "id": "sVj1AQFz0DQN",
        "colab_type": "code",
        "colab": {}
      },
      "source": [
        "df=pd.DataFrame(columns=['year','Company','embeddings1a', 'embeddings7'])\n",
        "error=[]\n"
      ],
      "execution_count": 0,
      "outputs": []
    },
    {
      "cell_type": "code",
      "metadata": {
        "id": "qk3LZBm4ydek",
        "colab_type": "code",
        "colab": {}
      },
      "source": [
        "import os\n",
        "import pandas as pd\n",
        "import re\n",
        "i=0\n",
        "for filename in os.listdir():\n",
        "    if filename.endswith(\".pt\"):\n",
        "      try:\n",
        "        df=df.astype('object')\n",
        "        embedding1=torch.load(filename)['item1a'].cpu().data.numpy()\n",
        "        #df['embeddings1a']=df['embeddings1a'].astype('object')\n",
        "       \n",
        "        embedding2=torch.load(filename)['item7'].cpu().data.numpy()\n",
        "        #df['embeddings7']=df['embeddings7'].astype('object')\n",
        "        filename=re.split('[_ .]',filename)\n",
        "        \n",
        "        df=df.append(pd.Series([filename[1], filename[0], [embedding1], [embedding2]], index=df.columns ), ignore_index=True)\n",
        "      except:\n",
        "       error.append(filename)"
      ],
      "execution_count": 0,
      "outputs": []
    },
    {
      "cell_type": "markdown",
      "metadata": {
        "id": "V7LgjR6peNrH",
        "colab_type": "text"
      },
      "source": [
        ""
      ]
    },
    {
      "cell_type": "code",
      "metadata": {
        "id": "56sdN6lRMPFq",
        "colab_type": "code",
        "outputId": "aade2e7a-be31-46d7-ba63-431848a71bc3",
        "colab": {
          "base_uri": "https://localhost:8080/",
          "height": 399
        }
      },
      "source": [
        "df"
      ],
      "execution_count": 0,
      "outputs": [
        {
          "output_type": "execute_result",
          "data": {
            "text/html": [
              "<div>\n",
              "<style scoped>\n",
              "    .dataframe tbody tr th:only-of-type {\n",
              "        vertical-align: middle;\n",
              "    }\n",
              "\n",
              "    .dataframe tbody tr th {\n",
              "        vertical-align: top;\n",
              "    }\n",
              "\n",
              "    .dataframe thead th {\n",
              "        text-align: right;\n",
              "    }\n",
              "</style>\n",
              "<table border=\"1\" class=\"dataframe\">\n",
              "  <thead>\n",
              "    <tr style=\"text-align: right;\">\n",
              "      <th></th>\n",
              "      <th>year</th>\n",
              "      <th>Company</th>\n",
              "      <th>embeddings1a</th>\n",
              "      <th>embeddings7</th>\n",
              "    </tr>\n",
              "  </thead>\n",
              "  <tbody>\n",
              "    <tr>\n",
              "      <th>0</th>\n",
              "      <td>2013</td>\n",
              "      <td>ABT</td>\n",
              "      <td>[[[-0.77044344, -0.6776523, -0.9931203, 0.6817...</td>\n",
              "      <td>[[[-0.6479436, -0.53227496, -0.96918684, 0.396...</td>\n",
              "    </tr>\n",
              "    <tr>\n",
              "      <th>1</th>\n",
              "      <td>2014</td>\n",
              "      <td>ACLS</td>\n",
              "      <td>[[[-0.62997586, -0.5693277, -0.9849253, 0.4313...</td>\n",
              "      <td>[[[-0.56207323, -0.51409143, -0.93154126, 0.36...</td>\n",
              "    </tr>\n",
              "    <tr>\n",
              "      <th>2</th>\n",
              "      <td>2015</td>\n",
              "      <td>ACGL</td>\n",
              "      <td>[[[-0.4039354, -0.49616757, -0.96255946, 0.182...</td>\n",
              "      <td>[[[-0.4293575, -0.5015327, -0.9175008, 0.14522...</td>\n",
              "    </tr>\n",
              "    <tr>\n",
              "      <th>3</th>\n",
              "      <td>2014</td>\n",
              "      <td>ACAD</td>\n",
              "      <td>[[[-0.70847404, -0.62562, -0.9872448, 0.447548...</td>\n",
              "      <td>[[[-0.64687026, -0.59606487, -0.9883264, 0.352...</td>\n",
              "    </tr>\n",
              "    <tr>\n",
              "      <th>4</th>\n",
              "      <td>2015</td>\n",
              "      <td>ABTX</td>\n",
              "      <td>[[[-0.58569044, -0.48395953, -0.95989335, 0.38...</td>\n",
              "      <td>[[[-0.40611959, -0.54656297, -0.95118177, 0.22...</td>\n",
              "    </tr>\n",
              "    <tr>\n",
              "      <th>...</th>\n",
              "      <td>...</td>\n",
              "      <td>...</td>\n",
              "      <td>...</td>\n",
              "      <td>...</td>\n",
              "    </tr>\n",
              "    <tr>\n",
              "      <th>1805</th>\n",
              "      <td>2011</td>\n",
              "      <td>PZZA</td>\n",
              "      <td>[[[-0.6043258, -0.5646532, -0.9359453, 0.41705...</td>\n",
              "      <td>[[[-0.3934065, -0.485814, -0.9232926, 0.184323...</td>\n",
              "    </tr>\n",
              "    <tr>\n",
              "      <th>1806</th>\n",
              "      <td>2013</td>\n",
              "      <td>REGN</td>\n",
              "      <td>[[[-0.6638494, -0.6172233, -0.9676432, 0.39571...</td>\n",
              "      <td>[[[-0.6356754, -0.5817431, -0.97415996, 0.3549...</td>\n",
              "    </tr>\n",
              "    <tr>\n",
              "      <th>1807</th>\n",
              "      <td>2012</td>\n",
              "      <td>REGN</td>\n",
              "      <td>[[[-0.6604135, -0.5698855, -0.9152377, 0.34789...</td>\n",
              "      <td>[[[-0.61145836, -0.5701267, -0.97582066, 0.322...</td>\n",
              "    </tr>\n",
              "    <tr>\n",
              "      <th>1808</th>\n",
              "      <td>2014</td>\n",
              "      <td>REGI</td>\n",
              "      <td>[[[-0.5918173, -0.5589511, -0.9561076, 0.31269...</td>\n",
              "      <td>[[[-0.47051954, -0.5172621, -0.957334, 0.21343...</td>\n",
              "    </tr>\n",
              "    <tr>\n",
              "      <th>1809</th>\n",
              "      <td>2010</td>\n",
              "      <td>REV</td>\n",
              "      <td>[[[-0.55188894, -0.5466806, -0.991646, 0.50631...</td>\n",
              "      <td>[[[-0.5246137, -0.56045425, -0.98548967, 0.458...</td>\n",
              "    </tr>\n",
              "  </tbody>\n",
              "</table>\n",
              "<p>1810 rows × 4 columns</p>\n",
              "</div>"
            ],
            "text/plain": [
              "      year  ...                                        embeddings7\n",
              "0     2013  ...  [[[-0.6479436, -0.53227496, -0.96918684, 0.396...\n",
              "1     2014  ...  [[[-0.56207323, -0.51409143, -0.93154126, 0.36...\n",
              "2     2015  ...  [[[-0.4293575, -0.5015327, -0.9175008, 0.14522...\n",
              "3     2014  ...  [[[-0.64687026, -0.59606487, -0.9883264, 0.352...\n",
              "4     2015  ...  [[[-0.40611959, -0.54656297, -0.95118177, 0.22...\n",
              "...    ...  ...                                                ...\n",
              "1805  2011  ...  [[[-0.3934065, -0.485814, -0.9232926, 0.184323...\n",
              "1806  2013  ...  [[[-0.6356754, -0.5817431, -0.97415996, 0.3549...\n",
              "1807  2012  ...  [[[-0.61145836, -0.5701267, -0.97582066, 0.322...\n",
              "1808  2014  ...  [[[-0.47051954, -0.5172621, -0.957334, 0.21343...\n",
              "1809  2010  ...  [[[-0.5246137, -0.56045425, -0.98548967, 0.458...\n",
              "\n",
              "[1810 rows x 4 columns]"
            ]
          },
          "metadata": {
            "tags": []
          },
          "execution_count": 67
        }
      ]
    },
    {
      "cell_type": "code",
      "metadata": {
        "id": "S-hd_-KCX0JO",
        "colab_type": "code",
        "outputId": "eabf41ef-1cb0-45b3-8128-27b229359908",
        "colab": {
          "base_uri": "https://localhost:8080/",
          "height": 35
        }
      },
      "source": [
        "cd .."
      ],
      "execution_count": 0,
      "outputs": [
        {
          "output_type": "stream",
          "text": [
            "/content/drive/My Drive/696 Dataset/scratch1\n"
          ],
          "name": "stdout"
        }
      ]
    },
    {
      "cell_type": "code",
      "metadata": {
        "id": "EI4AYNzQX1MK",
        "colab_type": "code",
        "outputId": "a286a135-53c8-4935-88ac-1fae2790dfa9",
        "colab": {
          "base_uri": "https://localhost:8080/",
          "height": 35
        }
      },
      "source": [
        "cd ./data_netincome/"
      ],
      "execution_count": 0,
      "outputs": [
        {
          "output_type": "stream",
          "text": [
            "/content/drive/My Drive/696 Dataset/scratch1/data_netincome\n"
          ],
          "name": "stdout"
        }
      ]
    },
    {
      "cell_type": "code",
      "metadata": {
        "id": "Us5NaQw_4vlP",
        "colab_type": "code",
        "colab": {}
      },
      "source": [
        "# pd_final=pd.DataFrame(columns=['year', 'Company' ,    'CIK' , 'NetIncomeLoss',  'BaselineOutput'])\n",
        "# for filename in os.listdir():\n",
        "#     if filename.endswith(\".csv\"):\n",
        " \n",
        "#         df_struc=pd.read_csv(filename)\n",
        "#         pd_final=pd.concat([pd_final,df_struc])\n",
        "# print(pd_final)\n",
        "pd_final=pd.read_csv('preds_train_NetIncomeLoss.csv')\n",
        "\n",
        "        \n",
        "       # df=df.append(pd.Series([filename[1], filename[0], [embedding1], [embedding2]], index=df.columns ), ignore_index=True)\n",
        "  "
      ],
      "execution_count": 0,
      "outputs": []
    },
    {
      "cell_type": "code",
      "metadata": {
        "id": "vgpD-6j9QVkl",
        "colab_type": "code",
        "outputId": "d6567930-9a4d-4f09-a5e7-3bd27f9ec2e6",
        "colab": {
          "base_uri": "https://localhost:8080/",
          "height": 399
        }
      },
      "source": [
        "pd_final"
      ],
      "execution_count": 0,
      "outputs": [
        {
          "output_type": "execute_result",
          "data": {
            "text/html": [
              "<div>\n",
              "<style scoped>\n",
              "    .dataframe tbody tr th:only-of-type {\n",
              "        vertical-align: middle;\n",
              "    }\n",
              "\n",
              "    .dataframe tbody tr th {\n",
              "        vertical-align: top;\n",
              "    }\n",
              "\n",
              "    .dataframe thead th {\n",
              "        text-align: right;\n",
              "    }\n",
              "</style>\n",
              "<table border=\"1\" class=\"dataframe\">\n",
              "  <thead>\n",
              "    <tr style=\"text-align: right;\">\n",
              "      <th></th>\n",
              "      <th>Unnamed: 0</th>\n",
              "      <th>year</th>\n",
              "      <th>Company</th>\n",
              "      <th>NetIncomeLoss</th>\n",
              "      <th>y_pred</th>\n",
              "    </tr>\n",
              "  </thead>\n",
              "  <tbody>\n",
              "    <tr>\n",
              "      <th>0</th>\n",
              "      <td>0</td>\n",
              "      <td>2011</td>\n",
              "      <td>NP</td>\n",
              "      <td>29.1</td>\n",
              "      <td>1.321416e+08</td>\n",
              "    </tr>\n",
              "    <tr>\n",
              "      <th>1</th>\n",
              "      <td>1</td>\n",
              "      <td>2012</td>\n",
              "      <td>NP</td>\n",
              "      <td>44.3</td>\n",
              "      <td>1.321413e+08</td>\n",
              "    </tr>\n",
              "    <tr>\n",
              "      <th>2</th>\n",
              "      <td>2</td>\n",
              "      <td>2013</td>\n",
              "      <td>NP</td>\n",
              "      <td>52.0</td>\n",
              "      <td>1.325291e+08</td>\n",
              "    </tr>\n",
              "    <tr>\n",
              "      <th>3</th>\n",
              "      <td>3</td>\n",
              "      <td>2014</td>\n",
              "      <td>NP</td>\n",
              "      <td>68.7</td>\n",
              "      <td>1.325292e+08</td>\n",
              "    </tr>\n",
              "    <tr>\n",
              "      <th>4</th>\n",
              "      <td>4</td>\n",
              "      <td>2015</td>\n",
              "      <td>NP</td>\n",
              "      <td>51100000.0</td>\n",
              "      <td>1.325293e+08</td>\n",
              "    </tr>\n",
              "    <tr>\n",
              "      <th>...</th>\n",
              "      <td>...</td>\n",
              "      <td>...</td>\n",
              "      <td>...</td>\n",
              "      <td>...</td>\n",
              "      <td>...</td>\n",
              "    </tr>\n",
              "    <tr>\n",
              "      <th>1501</th>\n",
              "      <td>1501</td>\n",
              "      <td>2012</td>\n",
              "      <td>WMK</td>\n",
              "      <td>82511.0</td>\n",
              "      <td>1.321042e+08</td>\n",
              "    </tr>\n",
              "    <tr>\n",
              "      <th>1502</th>\n",
              "      <td>1502</td>\n",
              "      <td>2013</td>\n",
              "      <td>WMK</td>\n",
              "      <td>71721.0</td>\n",
              "      <td>1.330929e+08</td>\n",
              "    </tr>\n",
              "    <tr>\n",
              "      <th>1503</th>\n",
              "      <td>1503</td>\n",
              "      <td>2014</td>\n",
              "      <td>WMK</td>\n",
              "      <td>55167.0</td>\n",
              "      <td>1.331282e+08</td>\n",
              "    </tr>\n",
              "    <tr>\n",
              "      <th>1504</th>\n",
              "      <td>1504</td>\n",
              "      <td>2015</td>\n",
              "      <td>WMK</td>\n",
              "      <td>59330000.0</td>\n",
              "      <td>1.330435e+08</td>\n",
              "    </tr>\n",
              "    <tr>\n",
              "      <th>1505</th>\n",
              "      <td>1505</td>\n",
              "      <td>2016</td>\n",
              "      <td>WMK</td>\n",
              "      <td>87162000.0</td>\n",
              "      <td>1.856669e+08</td>\n",
              "    </tr>\n",
              "  </tbody>\n",
              "</table>\n",
              "<p>1506 rows × 5 columns</p>\n",
              "</div>"
            ],
            "text/plain": [
              "      Unnamed: 0  year Company  NetIncomeLoss        y_pred\n",
              "0              0  2011      NP           29.1  1.321416e+08\n",
              "1              1  2012      NP           44.3  1.321413e+08\n",
              "2              2  2013      NP           52.0  1.325291e+08\n",
              "3              3  2014      NP           68.7  1.325292e+08\n",
              "4              4  2015      NP     51100000.0  1.325293e+08\n",
              "...          ...   ...     ...            ...           ...\n",
              "1501        1501  2012     WMK        82511.0  1.321042e+08\n",
              "1502        1502  2013     WMK        71721.0  1.330929e+08\n",
              "1503        1503  2014     WMK        55167.0  1.331282e+08\n",
              "1504        1504  2015     WMK     59330000.0  1.330435e+08\n",
              "1505        1505  2016     WMK     87162000.0  1.856669e+08\n",
              "\n",
              "[1506 rows x 5 columns]"
            ]
          },
          "metadata": {
            "tags": []
          },
          "execution_count": 71
        }
      ]
    },
    {
      "cell_type": "code",
      "metadata": {
        "id": "9ttB-UxUQAfc",
        "colab_type": "code",
        "colab": {}
      },
      "source": [
        "#pd_final.drop('BaselineOutput',inplace=True,axis=1)\n",
        "#pd_final.drop('Unnamed: 0',inplace=True,axis=1)\n",
        "#pd_final.drop('y_pred',inplace=True,axis=1)\n",
        "pd_final['Embedding1']='Default Value'\n",
        "pd_final['Embedding7']='Default Value'\n"
      ],
      "execution_count": 0,
      "outputs": []
    },
    {
      "cell_type": "code",
      "metadata": {
        "id": "9-9nEWPAeXZF",
        "colab_type": "code",
        "outputId": "eefe9e28-1f70-4f51-f752-fec33b98c488",
        "colab": {
          "base_uri": "https://localhost:8080/",
          "height": 399
        }
      },
      "source": [
        "pd_final"
      ],
      "execution_count": 0,
      "outputs": [
        {
          "output_type": "execute_result",
          "data": {
            "text/html": [
              "<div>\n",
              "<style scoped>\n",
              "    .dataframe tbody tr th:only-of-type {\n",
              "        vertical-align: middle;\n",
              "    }\n",
              "\n",
              "    .dataframe tbody tr th {\n",
              "        vertical-align: top;\n",
              "    }\n",
              "\n",
              "    .dataframe thead th {\n",
              "        text-align: right;\n",
              "    }\n",
              "</style>\n",
              "<table border=\"1\" class=\"dataframe\">\n",
              "  <thead>\n",
              "    <tr style=\"text-align: right;\">\n",
              "      <th></th>\n",
              "      <th>year</th>\n",
              "      <th>Company</th>\n",
              "      <th>NetIncomeLoss</th>\n",
              "      <th>y_pred</th>\n",
              "      <th>Embedding1</th>\n",
              "      <th>Embedding7</th>\n",
              "    </tr>\n",
              "  </thead>\n",
              "  <tbody>\n",
              "    <tr>\n",
              "      <th>0</th>\n",
              "      <td>2011</td>\n",
              "      <td>NP</td>\n",
              "      <td>29.1</td>\n",
              "      <td>1.321416e+08</td>\n",
              "      <td>Default Value</td>\n",
              "      <td>Default Value</td>\n",
              "    </tr>\n",
              "    <tr>\n",
              "      <th>1</th>\n",
              "      <td>2012</td>\n",
              "      <td>NP</td>\n",
              "      <td>44.3</td>\n",
              "      <td>1.321413e+08</td>\n",
              "      <td>Default Value</td>\n",
              "      <td>Default Value</td>\n",
              "    </tr>\n",
              "    <tr>\n",
              "      <th>2</th>\n",
              "      <td>2013</td>\n",
              "      <td>NP</td>\n",
              "      <td>52.0</td>\n",
              "      <td>1.325291e+08</td>\n",
              "      <td>Default Value</td>\n",
              "      <td>Default Value</td>\n",
              "    </tr>\n",
              "    <tr>\n",
              "      <th>3</th>\n",
              "      <td>2014</td>\n",
              "      <td>NP</td>\n",
              "      <td>68.7</td>\n",
              "      <td>1.325292e+08</td>\n",
              "      <td>Default Value</td>\n",
              "      <td>Default Value</td>\n",
              "    </tr>\n",
              "    <tr>\n",
              "      <th>4</th>\n",
              "      <td>2015</td>\n",
              "      <td>NP</td>\n",
              "      <td>51100000.0</td>\n",
              "      <td>1.325293e+08</td>\n",
              "      <td>Default Value</td>\n",
              "      <td>Default Value</td>\n",
              "    </tr>\n",
              "    <tr>\n",
              "      <th>...</th>\n",
              "      <td>...</td>\n",
              "      <td>...</td>\n",
              "      <td>...</td>\n",
              "      <td>...</td>\n",
              "      <td>...</td>\n",
              "      <td>...</td>\n",
              "    </tr>\n",
              "    <tr>\n",
              "      <th>1501</th>\n",
              "      <td>2012</td>\n",
              "      <td>WMK</td>\n",
              "      <td>82511.0</td>\n",
              "      <td>1.321042e+08</td>\n",
              "      <td>Default Value</td>\n",
              "      <td>Default Value</td>\n",
              "    </tr>\n",
              "    <tr>\n",
              "      <th>1502</th>\n",
              "      <td>2013</td>\n",
              "      <td>WMK</td>\n",
              "      <td>71721.0</td>\n",
              "      <td>1.330929e+08</td>\n",
              "      <td>Default Value</td>\n",
              "      <td>Default Value</td>\n",
              "    </tr>\n",
              "    <tr>\n",
              "      <th>1503</th>\n",
              "      <td>2014</td>\n",
              "      <td>WMK</td>\n",
              "      <td>55167.0</td>\n",
              "      <td>1.331282e+08</td>\n",
              "      <td>Default Value</td>\n",
              "      <td>Default Value</td>\n",
              "    </tr>\n",
              "    <tr>\n",
              "      <th>1504</th>\n",
              "      <td>2015</td>\n",
              "      <td>WMK</td>\n",
              "      <td>59330000.0</td>\n",
              "      <td>1.330435e+08</td>\n",
              "      <td>Default Value</td>\n",
              "      <td>Default Value</td>\n",
              "    </tr>\n",
              "    <tr>\n",
              "      <th>1505</th>\n",
              "      <td>2016</td>\n",
              "      <td>WMK</td>\n",
              "      <td>87162000.0</td>\n",
              "      <td>1.856669e+08</td>\n",
              "      <td>Default Value</td>\n",
              "      <td>Default Value</td>\n",
              "    </tr>\n",
              "  </tbody>\n",
              "</table>\n",
              "<p>1506 rows × 6 columns</p>\n",
              "</div>"
            ],
            "text/plain": [
              "      year Company  NetIncomeLoss        y_pred     Embedding1     Embedding7\n",
              "0     2011      NP           29.1  1.321416e+08  Default Value  Default Value\n",
              "1     2012      NP           44.3  1.321413e+08  Default Value  Default Value\n",
              "2     2013      NP           52.0  1.325291e+08  Default Value  Default Value\n",
              "3     2014      NP           68.7  1.325292e+08  Default Value  Default Value\n",
              "4     2015      NP     51100000.0  1.325293e+08  Default Value  Default Value\n",
              "...    ...     ...            ...           ...            ...            ...\n",
              "1501  2012     WMK        82511.0  1.321042e+08  Default Value  Default Value\n",
              "1502  2013     WMK        71721.0  1.330929e+08  Default Value  Default Value\n",
              "1503  2014     WMK        55167.0  1.331282e+08  Default Value  Default Value\n",
              "1504  2015     WMK     59330000.0  1.330435e+08  Default Value  Default Value\n",
              "1505  2016     WMK     87162000.0  1.856669e+08  Default Value  Default Value\n",
              "\n",
              "[1506 rows x 6 columns]"
            ]
          },
          "metadata": {
            "tags": []
          },
          "execution_count": 102
        }
      ]
    },
    {
      "cell_type": "code",
      "metadata": {
        "id": "-L_fnMFiaFlX",
        "colab_type": "code",
        "colab": {}
      },
      "source": [
        "CompanyList_struc= pd_final['Company'].unique().tolist()\n",
        "\n",
        "#df=df.loc[df.Company.isin(CompanyList_struc), :]\n"
      ],
      "execution_count": 0,
      "outputs": []
    },
    {
      "cell_type": "code",
      "metadata": {
        "id": "7Y7dx4JYhklP",
        "colab_type": "code",
        "colab": {}
      },
      "source": [
        "CompanyList_unstruc= df['Company'].unique().tolist()\n",
        "\n",
        "#pd_final=pd_final.loc[pd_final.Company.isin(CompanyList_unstruc), :]\n"
      ],
      "execution_count": 0,
      "outputs": []
    },
    {
      "cell_type": "code",
      "metadata": {
        "id": "8HCELh-bepkE",
        "colab_type": "code",
        "outputId": "e91b1383-630f-48e5-b757-c5131d3ca687",
        "colab": {
          "base_uri": "https://localhost:8080/",
          "height": 35
        }
      },
      "source": [
        "'AAP' in df.Company.unique()"
      ],
      "execution_count": 0,
      "outputs": [
        {
          "output_type": "execute_result",
          "data": {
            "text/plain": [
              "True"
            ]
          },
          "metadata": {
            "tags": []
          },
          "execution_count": 80
        }
      ]
    },
    {
      "cell_type": "markdown",
      "metadata": {
        "id": "xxTE4-LBVEkS",
        "colab_type": "text"
      },
      "source": [
        ""
      ]
    },
    {
      "cell_type": "code",
      "metadata": {
        "id": "mEHLdbQpBNL4",
        "colab_type": "code",
        "colab": {}
      },
      "source": [
        "for i,r in pd_final.iterrows():\n",
        "    for index, row in df.iterrows():\n",
        "        if str(row['Company'])==str(r['Company']) and str(row['year'])==str(r['year']):\n",
        "            #  print(row['Company'],r['Company'] , r['year'],row['year'],row['embeddings1a'])\n",
        "            #  r['Embedding1']=row['embeddings1a']\n",
        "            #  r['Embedding7']=row['embeddings7']\n",
        "            pd_final.at[i,'Embedding1'] = row['embeddings1a']\n",
        "            pd_final.at[i,'Embedding7'] = row['embeddings7']\n"
      ],
      "execution_count": 0,
      "outputs": []
    },
    {
      "cell_type": "markdown",
      "metadata": {
        "id": "CHTGdoXklfhw",
        "colab_type": "text"
      },
      "source": [
        ""
      ]
    },
    {
      "cell_type": "code",
      "metadata": {
        "id": "c9n4rAXtaC1Y",
        "colab_type": "code",
        "colab": {}
      },
      "source": [
        "pd_final=pd_final[pd_final['Embedding1']!='Default Value']\n"
      ],
      "execution_count": 0,
      "outputs": []
    },
    {
      "cell_type": "markdown",
      "metadata": {
        "id": "BB31hPA_moDJ",
        "colab_type": "text"
      },
      "source": [
        ""
      ]
    },
    {
      "cell_type": "code",
      "metadata": {
        "id": "XSYx-JM1ZXXt",
        "colab_type": "code",
        "colab": {}
      },
      "source": [
        "pd_final.to_csv(\"Merged_Data.csv\")"
      ],
      "execution_count": 0,
      "outputs": []
    },
    {
      "cell_type": "code",
      "metadata": {
        "id": "tJApNT4lCAsM",
        "colab_type": "code",
        "outputId": "e1baf2b3-3b42-40ba-c1e6-784b56f800b5",
        "colab": {
          "base_uri": "https://localhost:8080/",
          "height": 35
        }
      },
      "source": [
        "year_list = df['year'].unique().tolist()\n",
        "year_list"
      ],
      "execution_count": 0,
      "outputs": [
        {
          "output_type": "execute_result",
          "data": {
            "text/plain": [
              "['2013', '2014', '2015', '2011', '2010', '2012', '2009', '2016']"
            ]
          },
          "metadata": {
            "tags": []
          },
          "execution_count": 109
        }
      ]
    },
    {
      "cell_type": "code",
      "metadata": {
        "id": "bgAQ5wCKpNxR",
        "colab_type": "code",
        "outputId": "601f735a-d604-4c23-f0aa-aa44f49f4f21",
        "colab": {
          "base_uri": "https://localhost:8080/",
          "height": 399
        }
      },
      "source": [
        "pd_final"
      ],
      "execution_count": 0,
      "outputs": [
        {
          "output_type": "execute_result",
          "data": {
            "text/html": [
              "<div>\n",
              "<style scoped>\n",
              "    .dataframe tbody tr th:only-of-type {\n",
              "        vertical-align: middle;\n",
              "    }\n",
              "\n",
              "    .dataframe tbody tr th {\n",
              "        vertical-align: top;\n",
              "    }\n",
              "\n",
              "    .dataframe thead th {\n",
              "        text-align: right;\n",
              "    }\n",
              "</style>\n",
              "<table border=\"1\" class=\"dataframe\">\n",
              "  <thead>\n",
              "    <tr style=\"text-align: right;\">\n",
              "      <th></th>\n",
              "      <th>year</th>\n",
              "      <th>Company</th>\n",
              "      <th>NetIncomeLoss</th>\n",
              "      <th>y_pred</th>\n",
              "      <th>Embedding1</th>\n",
              "      <th>Embedding7</th>\n",
              "    </tr>\n",
              "  </thead>\n",
              "  <tbody>\n",
              "    <tr>\n",
              "      <th>10</th>\n",
              "      <td>2015</td>\n",
              "      <td>FCF</td>\n",
              "      <td>50143000.0</td>\n",
              "      <td>1.328377e+08</td>\n",
              "      <td>[[[-0.55751914, -0.54325706, -0.9698668, 0.373...</td>\n",
              "      <td>[[[-0.44952148, -0.5213797, -0.93694955, 0.239...</td>\n",
              "    </tr>\n",
              "    <tr>\n",
              "      <th>20</th>\n",
              "      <td>2013</td>\n",
              "      <td>RDN</td>\n",
              "      <td>-196985.0</td>\n",
              "      <td>1.340884e+08</td>\n",
              "      <td>[[[-0.34493896, -0.5200921, -0.96697056, 0.116...</td>\n",
              "      <td>[[[-0.3713425, -0.5138531, -0.92728925, 0.1146...</td>\n",
              "    </tr>\n",
              "    <tr>\n",
              "      <th>38</th>\n",
              "      <td>2013</td>\n",
              "      <td>AYI</td>\n",
              "      <td>127.4</td>\n",
              "      <td>1.325297e+08</td>\n",
              "      <td>[[[-0.71606314, -0.507028, -0.9645224, 0.51025...</td>\n",
              "      <td>[[[-0.6638991, -0.52602595, -0.96891814, 0.516...</td>\n",
              "    </tr>\n",
              "    <tr>\n",
              "      <th>55</th>\n",
              "      <td>2012</td>\n",
              "      <td>JCP</td>\n",
              "      <td>-985.0</td>\n",
              "      <td>1.340349e+08</td>\n",
              "      <td>[[[-0.5103553, -0.50234765, -0.9442782, 0.2437...</td>\n",
              "      <td>[[[-0.43606967, -0.52089983, -0.97143775, 0.16...</td>\n",
              "    </tr>\n",
              "    <tr>\n",
              "      <th>58</th>\n",
              "      <td>2015</td>\n",
              "      <td>JCP</td>\n",
              "      <td>-513000000.0</td>\n",
              "      <td>1.325192e+08</td>\n",
              "      <td>[[[-0.4902832, -0.49668914, -0.9067941, 0.2955...</td>\n",
              "      <td>[[[-0.41055417, -0.4988533, -0.9691971, 0.2078...</td>\n",
              "    </tr>\n",
              "    <tr>\n",
              "      <th>...</th>\n",
              "      <td>...</td>\n",
              "      <td>...</td>\n",
              "      <td>...</td>\n",
              "      <td>...</td>\n",
              "      <td>...</td>\n",
              "      <td>...</td>\n",
              "    </tr>\n",
              "    <tr>\n",
              "      <th>1480</th>\n",
              "      <td>2015</td>\n",
              "      <td>VNDA</td>\n",
              "      <td>-39865000.0</td>\n",
              "      <td>1.324154e+08</td>\n",
              "      <td>[[[-0.69484836, -0.6280908, -0.98671216, 0.470...</td>\n",
              "      <td>[[[-0.55992955, -0.57503456, -0.97508156, 0.30...</td>\n",
              "    </tr>\n",
              "    <tr>\n",
              "      <th>1485</th>\n",
              "      <td>2014</td>\n",
              "      <td>VSEC</td>\n",
              "      <td>19365.0</td>\n",
              "      <td>1.326874e+08</td>\n",
              "      <td>[[[-0.56606543, -0.6498063, -0.98992115, 0.357...</td>\n",
              "      <td>[[[-0.5591741, -0.64790404, -0.9792886, 0.4016...</td>\n",
              "    </tr>\n",
              "    <tr>\n",
              "      <th>1489</th>\n",
              "      <td>2012</td>\n",
              "      <td>FNB</td>\n",
              "      <td>110410.0</td>\n",
              "      <td>1.309180e+08</td>\n",
              "      <td>[[[-0.45538563, -0.4721274, -0.9525029, 0.3181...</td>\n",
              "      <td>[[[-0.475342, -0.53688353, -0.9570441, 0.33612...</td>\n",
              "    </tr>\n",
              "    <tr>\n",
              "      <th>1502</th>\n",
              "      <td>2013</td>\n",
              "      <td>WMK</td>\n",
              "      <td>71721.0</td>\n",
              "      <td>1.330929e+08</td>\n",
              "      <td>[[[-0.58907914, -0.41144234, -0.92679775, 0.40...</td>\n",
              "      <td>[[[-0.6522544, -0.4529312, -0.9591833, 0.42674...</td>\n",
              "    </tr>\n",
              "    <tr>\n",
              "      <th>1504</th>\n",
              "      <td>2015</td>\n",
              "      <td>WMK</td>\n",
              "      <td>59330000.0</td>\n",
              "      <td>1.330435e+08</td>\n",
              "      <td>[[[-0.6378135, -0.4417001, -0.9500024, 0.45057...</td>\n",
              "      <td>[[[-0.6064075, -0.45678118, -0.9609306, 0.4020...</td>\n",
              "    </tr>\n",
              "  </tbody>\n",
              "</table>\n",
              "<p>173 rows × 6 columns</p>\n",
              "</div>"
            ],
            "text/plain": [
              "      year  ...                                         Embedding7\n",
              "10    2015  ...  [[[-0.44952148, -0.5213797, -0.93694955, 0.239...\n",
              "20    2013  ...  [[[-0.3713425, -0.5138531, -0.92728925, 0.1146...\n",
              "38    2013  ...  [[[-0.6638991, -0.52602595, -0.96891814, 0.516...\n",
              "55    2012  ...  [[[-0.43606967, -0.52089983, -0.97143775, 0.16...\n",
              "58    2015  ...  [[[-0.41055417, -0.4988533, -0.9691971, 0.2078...\n",
              "...    ...  ...                                                ...\n",
              "1480  2015  ...  [[[-0.55992955, -0.57503456, -0.97508156, 0.30...\n",
              "1485  2014  ...  [[[-0.5591741, -0.64790404, -0.9792886, 0.4016...\n",
              "1489  2012  ...  [[[-0.475342, -0.53688353, -0.9570441, 0.33612...\n",
              "1502  2013  ...  [[[-0.6522544, -0.4529312, -0.9591833, 0.42674...\n",
              "1504  2015  ...  [[[-0.6064075, -0.45678118, -0.9609306, 0.4020...\n",
              "\n",
              "[173 rows x 6 columns]"
            ]
          },
          "metadata": {
            "tags": []
          },
          "execution_count": 120
        }
      ]
    },
    {
      "cell_type": "code",
      "metadata": {
        "id": "aQczozJqyl8e",
        "colab_type": "code",
        "colab": {}
      },
      "source": [
        ""
      ],
      "execution_count": 0,
      "outputs": []
    },
    {
      "cell_type": "code",
      "metadata": {
        "id": "v_u4HwooYFYk",
        "colab_type": "code",
        "colab": {}
      },
      "source": [
        "## DIDNT WORK\n",
        "\n",
        "# splits = {'train': [], 'test': []}\n",
        "\n",
        "\n",
        "# train_yr = [2010,2011,2012,2013,2014]\n",
        "# test_yr =  [2015,2016]\n",
        "\n",
        "\n",
        "# splits['train'].append(pd_final.loc[pd_final.year.isin(train_yr)])\n",
        "# splits['test'].append(pd_final.loc[pd_final.year.isin(test_yr)])\n"
      ],
      "execution_count": 0,
      "outputs": []
    },
    {
      "cell_type": "code",
      "metadata": {
        "id": "sKnSm9wSvafL",
        "colab_type": "code",
        "outputId": "40143fdf-3a10-49cc-ab46-08f93200df39",
        "colab": {
          "base_uri": "https://localhost:8080/",
          "height": 399
        }
      },
      "source": [
        "splits['train'][0]"
      ],
      "execution_count": 0,
      "outputs": [
        {
          "output_type": "execute_result",
          "data": {
            "text/html": [
              "<div>\n",
              "<style scoped>\n",
              "    .dataframe tbody tr th:only-of-type {\n",
              "        vertical-align: middle;\n",
              "    }\n",
              "\n",
              "    .dataframe tbody tr th {\n",
              "        vertical-align: top;\n",
              "    }\n",
              "\n",
              "    .dataframe thead th {\n",
              "        text-align: right;\n",
              "    }\n",
              "</style>\n",
              "<table border=\"1\" class=\"dataframe\">\n",
              "  <thead>\n",
              "    <tr style=\"text-align: right;\">\n",
              "      <th></th>\n",
              "      <th>year</th>\n",
              "      <th>Company</th>\n",
              "      <th>NetIncomeLoss</th>\n",
              "      <th>y_pred</th>\n",
              "      <th>Embedding1</th>\n",
              "      <th>Embedding7</th>\n",
              "    </tr>\n",
              "  </thead>\n",
              "  <tbody>\n",
              "    <tr>\n",
              "      <th>20</th>\n",
              "      <td>2013</td>\n",
              "      <td>RDN</td>\n",
              "      <td>-196985.0</td>\n",
              "      <td>1.340884e+08</td>\n",
              "      <td>[[[-0.34493896, -0.5200921, -0.96697056, 0.116...</td>\n",
              "      <td>[[[-0.3713425, -0.5138531, -0.92728925, 0.1146...</td>\n",
              "    </tr>\n",
              "    <tr>\n",
              "      <th>38</th>\n",
              "      <td>2013</td>\n",
              "      <td>AYI</td>\n",
              "      <td>127.4</td>\n",
              "      <td>1.325297e+08</td>\n",
              "      <td>[[[-0.71606314, -0.507028, -0.9645224, 0.51025...</td>\n",
              "      <td>[[[-0.6638991, -0.52602595, -0.96891814, 0.516...</td>\n",
              "    </tr>\n",
              "    <tr>\n",
              "      <th>55</th>\n",
              "      <td>2012</td>\n",
              "      <td>JCP</td>\n",
              "      <td>-985.0</td>\n",
              "      <td>1.340349e+08</td>\n",
              "      <td>[[[-0.5103553, -0.50234765, -0.9442782, 0.2437...</td>\n",
              "      <td>[[[-0.43606967, -0.52089983, -0.97143775, 0.16...</td>\n",
              "    </tr>\n",
              "    <tr>\n",
              "      <th>69</th>\n",
              "      <td>2014</td>\n",
              "      <td>PRGX</td>\n",
              "      <td>-7526.0</td>\n",
              "      <td>1.325637e+08</td>\n",
              "      <td>[[[-0.5727251, -0.5698204, -0.9756553, 0.33657...</td>\n",
              "      <td>[[[-0.48026562, -0.50623006, -0.9332737, 0.216...</td>\n",
              "    </tr>\n",
              "    <tr>\n",
              "      <th>78</th>\n",
              "      <td>2011</td>\n",
              "      <td>UVE</td>\n",
              "      <td>20109.0</td>\n",
              "      <td>1.319058e+08</td>\n",
              "      <td>[[[-0.46439448, -0.5883501, -0.9860857, 0.2255...</td>\n",
              "      <td>[[[-0.34473574, -0.4953897, -0.95176804, 0.163...</td>\n",
              "    </tr>\n",
              "    <tr>\n",
              "      <th>...</th>\n",
              "      <td>...</td>\n",
              "      <td>...</td>\n",
              "      <td>...</td>\n",
              "      <td>...</td>\n",
              "      <td>...</td>\n",
              "      <td>...</td>\n",
              "    </tr>\n",
              "    <tr>\n",
              "      <th>1458</th>\n",
              "      <td>2011</td>\n",
              "      <td>FRAF</td>\n",
              "      <td>6569.0</td>\n",
              "      <td>1.324730e+08</td>\n",
              "      <td>[[[-0.41973504, -0.48880666, -0.9686011, 0.221...</td>\n",
              "      <td>[[[-0.40811718, -0.506294, -0.93791807, 0.2634...</td>\n",
              "    </tr>\n",
              "    <tr>\n",
              "      <th>1479</th>\n",
              "      <td>2014</td>\n",
              "      <td>VNDA</td>\n",
              "      <td>20186.0</td>\n",
              "      <td>1.323313e+08</td>\n",
              "      <td>[[[-0.6938738, -0.6184196, -0.9897389, 0.44609...</td>\n",
              "      <td>[[[-0.51984465, -0.51413316, -0.9207084, 0.218...</td>\n",
              "    </tr>\n",
              "    <tr>\n",
              "      <th>1485</th>\n",
              "      <td>2014</td>\n",
              "      <td>VSEC</td>\n",
              "      <td>19365.0</td>\n",
              "      <td>1.326874e+08</td>\n",
              "      <td>[[[-0.56606543, -0.6498063, -0.98992115, 0.357...</td>\n",
              "      <td>[[[-0.5591741, -0.64790404, -0.9792886, 0.4016...</td>\n",
              "    </tr>\n",
              "    <tr>\n",
              "      <th>1489</th>\n",
              "      <td>2012</td>\n",
              "      <td>FNB</td>\n",
              "      <td>110410.0</td>\n",
              "      <td>1.309180e+08</td>\n",
              "      <td>[[[-0.45538563, -0.4721274, -0.9525029, 0.3181...</td>\n",
              "      <td>[[[-0.475342, -0.53688353, -0.9570441, 0.33612...</td>\n",
              "    </tr>\n",
              "    <tr>\n",
              "      <th>1502</th>\n",
              "      <td>2013</td>\n",
              "      <td>WMK</td>\n",
              "      <td>71721.0</td>\n",
              "      <td>1.330929e+08</td>\n",
              "      <td>[[[-0.58907914, -0.41144234, -0.92679775, 0.40...</td>\n",
              "      <td>[[[-0.6522544, -0.4529312, -0.9591833, 0.42674...</td>\n",
              "    </tr>\n",
              "  </tbody>\n",
              "</table>\n",
              "<p>133 rows × 6 columns</p>\n",
              "</div>"
            ],
            "text/plain": [
              "      year  ...                                         Embedding7\n",
              "20    2013  ...  [[[-0.3713425, -0.5138531, -0.92728925, 0.1146...\n",
              "38    2013  ...  [[[-0.6638991, -0.52602595, -0.96891814, 0.516...\n",
              "55    2012  ...  [[[-0.43606967, -0.52089983, -0.97143775, 0.16...\n",
              "69    2014  ...  [[[-0.48026562, -0.50623006, -0.9332737, 0.216...\n",
              "78    2011  ...  [[[-0.34473574, -0.4953897, -0.95176804, 0.163...\n",
              "...    ...  ...                                                ...\n",
              "1458  2011  ...  [[[-0.40811718, -0.506294, -0.93791807, 0.2634...\n",
              "1479  2014  ...  [[[-0.51984465, -0.51413316, -0.9207084, 0.218...\n",
              "1485  2014  ...  [[[-0.5591741, -0.64790404, -0.9792886, 0.4016...\n",
              "1489  2012  ...  [[[-0.475342, -0.53688353, -0.9570441, 0.33612...\n",
              "1502  2013  ...  [[[-0.6522544, -0.4529312, -0.9591833, 0.42674...\n",
              "\n",
              "[133 rows x 6 columns]"
            ]
          },
          "metadata": {
            "tags": []
          },
          "execution_count": 148
        }
      ]
    },
    {
      "cell_type": "code",
      "metadata": {
        "id": "qBH0iwvZoJXj",
        "colab_type": "code",
        "colab": {}
      },
      "source": [
        "for i in pd_final['Company'].unique().tolist():\n",
        "    df_final = pd.DataFrame(columns=['year',\t'Company'\t,'NetIncomeLoss'\t'y_pred'\t,'Embedding1',\t'Embedding7'])\n",
        "    filename= i + '.csv'\n",
        "    for index, row in pd_final.iterrows():\n",
        "        if row['Company']==i:\n",
        "            df_final=df_final.append(pd.Series([row['year'], row['Company'], row['NetIncomeLoss'], row['y_pred'],row['Embedding1'],row['Embedding7']], index=df_final.columns ), ignore_index=True)\n",
        "    df_final.to_csv(filename,index = False, header=True)\n",
        "   \n",
        "\n",
        "            "
      ],
      "execution_count": 0,
      "outputs": []
    },
    {
      "cell_type": "code",
      "metadata": {
        "id": "uLUnHNMHNWa7",
        "colab_type": "code",
        "outputId": "80f70af8-1756-4b76-da84-f37ccf7dc2f8",
        "colab": {
          "base_uri": "https://localhost:8080/",
          "height": 568
        }
      },
      "source": [
        "ls"
      ],
      "execution_count": 0,
      "outputs": [
        {
          "output_type": "stream",
          "text": [
            "AAP_merged.csv   CHCO_merged.csv  HUBG_merged.csv  ROP_merged.csv\n",
            "ABCB_merged.csv  COF_merged.csv   HVT_merged.csv   SBOW_merged.csv\n",
            "ACCO_merged.csv  CR_merged.csv    IBCP_merged.csv  SFST_merged.csv\n",
            "ADBE_merged.csv  CSCO_merged.csv  INSM_merged.csv  SGEN_merged.csv\n",
            "ADI_merged.csv   CSGP_merged.csv  IRBT_merged.csv  SHBI_merged.csv\n",
            "AEL_merged.csv   CSV_merged.csv   IT_merged.csv    SHEN_merged.csv\n",
            "AJRD_merged.csv  CTL_merged.csv   JCP_merged.csv   SMP_merged.csv\n",
            "AKAM_merged.csv  CVLY_merged.csv  LAD_merged.csv   SPOK_merged.csv\n",
            "ALGN_merged.csv  CW_merged.csv    LBAI_merged.csv  SYK_merged.csv\n",
            "ALK_merged.csv   \u001b[0m\u001b[01;34mdata_netincome\u001b[0m/  LII_merged.csv   TG_merged.csv\n",
            "ALL_merged.csv   DCOM_merged.csv  LMT_merged.csv   TMUS_merged.csv\n",
            "AMGN_merged.csv  DLX_merged.csv   LNT_merged.csv   TOL_merged.csv\n",
            "AMNB_merged.csv  \u001b[01;34membeddings\u001b[0m/      MKTX_merged.csv  TPR_merged.csv\n",
            "AMSC_merged.csv  FCF_merged.csv   MRO_merged.csv   TRMK_merged.csv\n",
            "APD_merged.csv   FFBC_merged.csv  MTD_merged.csv   TRST_merged.csv\n",
            "ASNA_merged.csv  FFIC_merged.csv  NATI_merged.csv  UMBF_merged.csv\n",
            "ATEC_merged.csv  FL_merged.csv    NEU_merged.csv   UNB_merged.csv\n",
            "ATHX_merged.csv  FMBH_merged.csv  OMN_merged.csv   UNM_merged.csv\n",
            "ATRI_merged.csv  FNB_merged.csv   ORI_merged.csv   UVE_merged.csv\n",
            "AWI_merged.csv   FRAF_merged.csv  OTTR_merged.csv  UVSP_merged.csv\n",
            "AYI_merged.csv   FRME_merged.csv  PEBK_merged.csv  VHC_merged.csv\n",
            "BHE_merged.csv   FWRD_merged.csv  PFBI_merged.csv  VLY_merged.csv\n",
            "BKU_merged.csv   GATX_merged.csv  PGTI_merged.csv  VNDA_merged.csv\n",
            "BRC_merged.csv   GBLI_merged.csv  PHM_merged.csv   VSEC_merged.csv\n",
            "BXC_merged.csv   GNC_merged.csv   PLT_merged.csv   WASH_merged.csv\n",
            "CACC_merged.csv  GRC_merged.csv   PRGX_merged.csv  WLFC_merged.csv\n",
            "CB_merged.csv    HD_merged.csv    RDN_merged.csv   WMK_merged.csv\n",
            "CCNE_merged.csv  HIBB_merged.csv  RF_merged.csv    WSBC_merged.csv\n",
            "CDNS_merged.csv  HII_merged.csv   RHI_merged.csv   WTBA_merged.csv\n",
            "CDW_merged.csv   HLIT_merged.csv  RL_merged.csv    XLNX_merged.csv\n",
            "CFR_merged.csv   HOLX_merged.csv  ROCK_merged.csv\n"
          ],
          "name": "stdout"
        }
      ]
    },
    {
      "cell_type": "code",
      "metadata": {
        "id": "pBlxz8VirDSX",
        "colab_type": "code",
        "colab": {}
      },
      "source": [
        " df_final_1=pd.DataFrame(columns=['year',\t'Company'\t,'NetIncomeLoss'\t'y_pred'\t,'Embedding1',\t'Embedding7','t-1Embedding1a','t-2Embedding1a','t-1Embedding7','t-2Embedding7'])\n",
        " for filename in os.listdir():\n",
        "     if filename.endswith(\".csv\"):\n",
        " \n",
        "         df_struc=pd.read_csv(filename)\n",
        "         \n",
        "         df_struc['t-1Embedding1a']='default'\n",
        "         df_struc['t-2Embedding1a']='default'\n",
        "         df_struc['t-1Embedding7']='default'\n",
        "         df_struc['t-2Embedding7']='default'\n",
        "         \n",
        "         if len(df_struc.index)>=3:\n",
        "           #print(df_struc[(df_struc['year'])=='2012']['Embedding1'])\n",
        "           for i, row in df_struc.iterrows():\n",
        " \n",
        "            \n",
        "\n",
        "              if (row['year']==2013):\n",
        "                df_struc.at[i,'t-1Embedding1a'] = df_struc.loc[df_struc['year'] == 2012]['Embedding1']\n",
        "                df_struc.at[i,'t-2Embedding1a'] = df_struc.loc[df_struc['year'] == 2011]['Embedding1']\n",
        "                df_struc.at[i,'t-1Embedding7'] = df_struc.loc[df_struc['year'] == 2012]['Embedding7']\n",
        "                df_struc.at[i,'t-2Embedding7'] = df_struc.loc[df_struc['year'] == 2011]['Embedding7']\n",
        "              if (row['year']==2014):\n",
        "                df_struc.at[i,'t-1Embedding1a'] = df_struc.loc[df_struc['year'] == 2013]['Embedding1']\n",
        "                df_struc.at[i,'t-2Embedding1a'] = df_struc.loc[df_struc['year'] == 2012]['Embedding1']\n",
        "                df_struc.at[i,'t-1Embedding7'] = df_struc.loc[df_struc['year'] == 2013]['Embedding7']\n",
        "                df_struc.at[i,'t-2Embedding7'] = df_struc.loc[df_struc['year'] == 2012]['Embedding7']\n",
        "              if (row['year']==2015):\n",
        "                df_struc.at[i,'t-1Embedding1a'] = df_struc.loc[df_struc['year'] == 2014]['Embedding1']\n",
        "                df_struc.at[i,'t-2Embedding1a'] = df_struc.loc[df_struc['year'] == 2013]['Embedding1']\n",
        "                df_struc.at[i,'t-1Embedding7'] = df_struc.loc[df_struc['year'] == 2014]['Embedding7']\n",
        "                df_struc.at[i,'t-2Embedding7'] = df_struc.loc[df_struc['year'] == 2013]['Embedding7']\n",
        "              if (row['year']==2016):\n",
        "                df_struc.at[i,'t-1Embedding1a'] = df_struc.loc[df_struc['year'] == 2015]['Embedding1']\n",
        "                df_struc.at[i,'t-2Embedding1a'] = df_struc.loc[df_struc['year'] == 2014]['Embedding1']\n",
        "                df_struc.at[i,'t-1Embedding7'] = df_struc.loc[df_struc['year'] == 2015]['Embedding7']\n",
        "                df_struc.at[i,'t-2Embedding7'] = df_struc.loc[df_struc['year'] == 2014]['Embedding7']\n",
        "              \n",
        "              df_final_1=pd.concat([df_final_1,df_struc])  \n",
        "          #  if (df_struc['year']=2014):\n",
        "          #     df_struc.at[i,'t-1Embedding1a'] = df_struc[str(df_struc['year'])=='2013']['Embedding1']\n",
        "          #     df_struc.at[i,'t-2Embedding1a'] = df_struc[str(df_struc['year'])=='2012']['Embedding1']\n",
        "          #     df_struc.at[i,'t-1Embedding7'] = df_struc[str(df_struc['year'])=='2013']['Embedding7']\n",
        "          #     df_struc.at[i,'t-2Embedding7'] = df_struc[str(df_struc['year'])=='2012']['Embedding7']\n",
        "          # if (df_struc['year']=2015):\n",
        "          #     df_struc.at[i,'t-1Embedding1a'] = df_struc[str(df_struc['year'])=='2014']['Embedding1']\n",
        "          #     df_struc.at[i,'t-2Embedding1a'] = df_struc[str(df_struc['year'])=='2013']['Embedding1']\n",
        "          #     df_struc.at[i,'t-1Embedding7'] = df_struc[str(df_struc['year'])=='2014']['Embedding7']\n",
        "          #     df_struc.at[i,'t-2Embedding7'] = df_struc[str(df_struc['year'])=='2013']['Embedding7']\n",
        "           \n",
        "        \n",
        "\n",
        "           \n",
        "# print(pd_final)\n",
        "print(df)\n",
        "\n",
        "      "
      ],
      "execution_count": 0,
      "outputs": []
    },
    {
      "cell_type": "code",
      "metadata": {
        "id": "R4Tk5cjYQ69L",
        "colab_type": "code",
        "colab": {}
      },
      "source": [
        " class Net(torch.nn.Module):\n",
        "    def __init__(self, n_feature, n_hidden, n_output):\n",
        "        super(Net, self).__init__()\n",
        "        self.hidden = torch.nn.Linear(n_feature, n_hidden)   # hidden layer\n",
        "        self.predict = torch.nn.Linear(n_hidden, n_output)   # output layer\n",
        "\n",
        "    def forward(self, x):\n",
        "        x=x.view(3072, -1)\n",
        "        x = F.relu(self.hidden(x))      # activation function for hidden layer\n",
        "        x = self.predict(x)             # linear output\n",
        "        return x\n",
        "\n",
        "net = Net(n_feature=3072, n_hidden=3072, n_output=1)     # flat input of 4*768\n",
        "# print(net)  # net architecture\n",
        "optimizer = torch.optim.SGD(net.parameters(), lr=0.2)  #learning rate=0.2\n",
        "loss_func = torch.nn.MSELoss()  # this is for regression mean squared loss\n"
      ],
      "execution_count": 0,
      "outputs": []
    },
    {
      "cell_type": "code",
      "metadata": {
        "id": "EnJdYKvonBAC",
        "colab_type": "code",
        "colab": {}
      },
      "source": [
        "##Train the network\n",
        "for t in range(Num_of_epoch):\n",
        "  for i in no_of_rows_in_train:\n",
        "   # x=input row from csv\n",
        "    \n",
        "    prediction = net(x.float())     # input x and predict based on x\n",
        "\n",
        "    loss = loss_func(prediction,x.float())     # must be (1. nn output, 2. target)\n",
        "\n",
        "    optimizer.zero_grad()   # clear gradients for next train\n",
        "    loss.backward()         # backpropagation, compute gradients\n",
        "    optimizer.step()        # apply gradients\n",
        "    "
      ],
      "execution_count": 0,
      "outputs": []
    },
    {
      "cell_type": "code",
      "metadata": {
        "id": "pdS7L4hCnFv1",
        "colab_type": "code",
        "colab": {}
      },
      "source": [
        "for i in no_of_rows_in_test:\n",
        "\n",
        "  prediction=net(x.float())\n",
        "  #Append prediction in file\n",
        "  #print(loss_func(prediction,y))\n"
      ],
      "execution_count": 0,
      "outputs": []
    }
  ]
}