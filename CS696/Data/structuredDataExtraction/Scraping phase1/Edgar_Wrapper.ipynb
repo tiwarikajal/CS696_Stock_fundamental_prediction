{
 "cells": [
  {
   "cell_type": "code",
   "execution_count": null,
   "metadata": {
    "colab": {
     "base_uri": "https://localhost:8080/",
     "height": 339
    },
    "colab_type": "code",
    "executionInfo": {
     "elapsed": 826,
     "status": "error",
     "timestamp": 1583963265828,
     "user": {
      "displayName": "Kajal Tiwari",
      "photoUrl": "",
      "userId": "10754930475480331535"
     },
     "user_tz": 240
    },
    "id": "bP1TfYlAkS-Z",
    "outputId": "f53486c8-04cb-4718-ae8a-200d5d6197ed"
   },
   "outputs": [],
   "source": [
    "import numpy as np\n",
    "import pandas as pd\n",
    "import sys\n",
    "import csv\n",
    "import xlrd\n",
    "from IPython.core.interactiveshell import InteractiveShell\n",
    "InteractiveShell.ast_node_interactivity = \"all\""
   ]
  },
  {
   "cell_type": "code",
   "execution_count": null,
   "metadata": {
    "colab": {},
    "colab_type": "code",
    "id": "CwZsQwvQkS-h"
   },
   "outputs": [],
   "source": [
    "sys.path.insert(0, r\"C:\\Umass spring 20\\696\\KT\\CS696\")"
   ]
  },
  {
   "cell_type": "code",
   "execution_count": null,
   "metadata": {
    "colab": {},
    "colab_type": "code",
    "id": "Fxzwu8YIkS-l",
    "outputId": "4e4f9274-c374-4930-f930-1bf1526f5ebd"
   },
   "outputs": [],
   "source": [
    "from edgar.stock import Stock\n",
    "wb = xlrd.open_workbook('ticker_lists.xlsx')\n",
    "sheet = wb.sheet_by_index(0)\n",
    "stock_list=[]\n",
    "for i in range(5,2956):\n",
    "    stock_list.append(sheet.cell_value(i,0))"
   ]
  },
  {
   "cell_type": "code",
   "execution_count": null,
   "metadata": {
    "colab": {},
    "colab_type": "code",
    "id": "8mbBmePUkS-r",
    "outputId": "da338fa3-ca56-46c7-8d92-b416255c4653"
   },
   "outputs": [],
   "source": [
    "\n",
    "with open('Data_2018.csv', mode='w' ,newline='') as file:\n",
    "  file_writer = csv.writer(file, delimiter=',', quotechar='\"', quoting=csv.QUOTE_MINIMAL)\n",
    "  file_writer.writerow([\"year\",'Company',\"CIK\", \"Revenue\", \"NetIncomeLoss\",\"Payments to acquire property\"])\n",
    "\n",
    "            \n"
   ]
  },
  {
   "cell_type": "code",
   "execution_count": null,
   "metadata": {
    "colab": {},
    "colab_type": "code",
    "id": "oE8KA78GkS-x",
    "scrolled": false
   },
   "outputs": [],
   "source": [
    "revenue=['us-gaap_SalesRevenueNet','us-gaap_Revenues','us-gaap:Revenues','us-gaap:SalesRevenueNet','us-gaap:RevenueFromContractWithCustomerExcludingAssessedTax']\n",
    "netinc=['us-gaap:NetIncomeLoss','us-gaap_NetIncomeLoss','us-gaap:NetIncomeLoss']\n",
    "rnd=['us-gaap:ResearchAndDevelopmentExpenseExcludingAcquiredInProcessCost','us-gaap_ResearchAndDevelopmentExpense']\n",
    "prop=['us-gaap_PaymentsToAcquirePropertyPlantAndEquipment','us-gaap_PropertyPlantAndEquipmentNet','us-gaap_PaymentsToAcquireProductiveAssets']\n"
   ]
  },
  {
   "cell_type": "code",
   "execution_count": null,
   "metadata": {
    "colab": {},
    "colab_type": "code",
    "id": "pdeRXNpakS-1",
    "scrolled": false
   },
   "outputs": [],
   "source": [
    "cik_not_found=[]\n",
    "year_not_found=[]\n",
    "income_statements_error=[]\n",
    "balance_sheets_error=[]\n",
    "cash_flows_error=[]\n",
    "\n",
    "for y in range(2019,2020):\n",
    "    for k in stock_list:\n",
    "        \n",
    "        try:\n",
    "            stock = Stock(k)\n",
    "        except:\n",
    "            cik_not_found.append(k)\n",
    "            continue\n",
    "        period = 'annual'\n",
    "\n",
    "        try:\n",
    "            filing = stock.get_filing('annual',y,1)\n",
    "        except:\n",
    "            year_not_found.append([k,y])\n",
    "\n",
    "        try:\n",
    "          income_statements = filing.get_income_statements()\n",
    "          newdict_income_statements = income_statements.reports[0]\n",
    "        except:\n",
    "          income_statements_error.append(k)\n",
    "        try:\n",
    "          balance_sheets = filing.get_balance_sheets()\n",
    "          newdict_balance_sheets = balance_sheets.reports[0]\n",
    "        \n",
    "        \n",
    "\n",
    "       \n",
    "        #print(type(income_statements),type(cash_flows))\n",
    "        \n",
    "            \n",
    "        except:\n",
    "            \n",
    "\n",
    "            balance_sheets_error.append(k)\n",
    "        try:\n",
    "            cash_flows = filing.get_cash_flows()\n",
    "            newdict_cash_flows = cash_flows.reports[0]\n",
    "        except:\n",
    "            cash_flows_error.append(k)\n",
    "#         print(\"\\n\\n\",income_statements)\n",
    "#         print(\"\\n\\n\",cash_flows)\n",
    "        #print(newdict_balance_sheets.map.keys())\n",
    "        with open('Data_2018_3k.csv', mode='a',newline='') as file:\n",
    "            file_writer = csv.writer(file, delimiter=',', quotechar='\"', quoting=csv.QUOTE_MINIMAL)\n",
    "        \n",
    "            if income_statements:\n",
    "                    print(income_statements)\n",
    "                    print(newdict_income_statements.map.keys())\n",
    "                    rev=0\n",
    "                    rnd='tag not found'\n",
    "                    for i in revenue:\n",
    "                          if i in newdict_income_statements.map.keys():\n",
    "                              \n",
    "                              rev=newdict_income_statements.map[i].value\n",
    "                          \n",
    "\n",
    "                    for m in newdict_income_statements.map.keys():\n",
    "                          if m in rnd:\n",
    "                              rnd=newdict_income_statements.map[m].value\n",
    "                          \n",
    "                      \n",
    "                        \n",
    "              \n",
    "            else:\n",
    "                rev='Income statement not found'\n",
    "                rnd='Income statement not found'\n",
    "            if cash_flows:\n",
    "                    netincome=0\n",
    "                    paymentProp='tag not found'\n",
    "                    for j in netinc:\n",
    "                        if j in newdict_cash_flows.map.keys():\n",
    "                        #print(i)\n",
    "                            netincome=newdict_cash_flows.map[j].value\n",
    "                       \n",
    "\n",
    "              \n",
    "                    for p in prop:\n",
    "                        if p in newdict_cash_flows.map.keys():\n",
    "                            paymentProp=newdict_cash_flows.map[p].value\n",
    "                       \n",
    "                            \n",
    "                        \n",
    "                      \n",
    "               \n",
    "            else:\n",
    "                netincome='cash flow not found'\n",
    "                paymentProp='cash flow not found'\n",
    "\n",
    "            file_writer.writerow([y-1,k,stock.cik, rev,netincome,paymentProp])"
   ]
  },
  {
   "cell_type": "code",
   "execution_count": null,
   "metadata": {
    "colab": {},
    "colab_type": "code",
    "id": "SJdOdolKkS_O",
    "outputId": "7eda8128-3280-4a5c-8e8e-683f919bb888"
   },
   "outputs": [],
   "source": [
    "f=open(\"Error_log_2018.txt\",\"w\")\n",
    "f.write(\"\\nCIK not found \\n\")\n",
    "f.write(str(cik_not_found))\n",
    "f.write(\"\\nYEAR not found \\n\")\n",
    "f.write(str(year_not_found))\n",
    "f.write(\"\\nIncome Statement Not found \\n\")\n",
    "f.write(str(income_statements_error))\n",
    "f.write(\"\\nBalance sheet not found \\n\")\n",
    "f.write(str(balance_sheets_error))\n",
    "f.write(\"\\nCash flow not found \\n\")\n",
    "f.write(str(cash_flows_error))"
   ]
  }
 ],
 "metadata": {
  "colab": {
   "name": "parsing_sec_filings.ipynb",
   "provenance": []
  },
  "kernelspec": {
   "display_name": "Python 3",
   "language": "python",
   "name": "python3"
  },
  "language_info": {
   "codemirror_mode": {
    "name": "ipython",
    "version": 3
   },
   "file_extension": ".py",
   "mimetype": "text/x-python",
   "name": "python",
   "nbconvert_exporter": "python",
   "pygments_lexer": "ipython3",
   "version": "3.6.10"
  }
 },
 "nbformat": 4,
 "nbformat_minor": 1
}
