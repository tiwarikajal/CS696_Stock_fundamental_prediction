{
 "cells": [
  {
   "cell_type": "code",
   "execution_count": 49,
   "metadata": {},
   "outputs": [],
   "source": [
    "import csv\n",
    "import pandas as pd"
   ]
  },
  {
   "cell_type": "code",
   "execution_count": 50,
   "metadata": {
    "scrolled": true
   },
   "outputs": [],
   "source": [
    "df=pd.read_csv(\"Data_2011_3k.csv\")"
   ]
  },
  {
   "cell_type": "code",
   "execution_count": 51,
   "metadata": {},
   "outputs": [
    {
     "data": {
      "text/html": [
       "<div>\n",
       "<style scoped>\n",
       "    .dataframe tbody tr th:only-of-type {\n",
       "        vertical-align: middle;\n",
       "    }\n",
       "\n",
       "    .dataframe tbody tr th {\n",
       "        vertical-align: top;\n",
       "    }\n",
       "\n",
       "    .dataframe thead th {\n",
       "        text-align: right;\n",
       "    }\n",
       "</style>\n",
       "<table border=\"1\" class=\"dataframe\">\n",
       "  <thead>\n",
       "    <tr style=\"text-align: right;\">\n",
       "      <th></th>\n",
       "      <th>year</th>\n",
       "      <th>Company</th>\n",
       "      <th>CIK</th>\n",
       "      <th>Revenue</th>\n",
       "      <th>NetIncomeLoss</th>\n",
       "      <th>Payments to acquire property</th>\n",
       "    </tr>\n",
       "  </thead>\n",
       "  <tbody>\n",
       "    <tr>\n",
       "      <th>0</th>\n",
       "      <td>2011</td>\n",
       "      <td>AAXN</td>\n",
       "      <td>1069183</td>\n",
       "      <td>Income statement not found</td>\n",
       "      <td>cash flow not found</td>\n",
       "      <td>cash flow not found</td>\n",
       "    </tr>\n",
       "    <tr>\n",
       "      <th>1</th>\n",
       "      <td>2011</td>\n",
       "      <td>AIR</td>\n",
       "      <td>1750</td>\n",
       "      <td>Income statement not found</td>\n",
       "      <td>cash flow not found</td>\n",
       "      <td>cash flow not found</td>\n",
       "    </tr>\n",
       "    <tr>\n",
       "      <th>2</th>\n",
       "      <td>2011</td>\n",
       "      <td>AJRD</td>\n",
       "      <td>40888</td>\n",
       "      <td>0</td>\n",
       "      <td>2.9</td>\n",
       "      <td>-21.1</td>\n",
       "    </tr>\n",
       "    <tr>\n",
       "      <th>3</th>\n",
       "      <td>2011</td>\n",
       "      <td>ARNC</td>\n",
       "      <td>4281</td>\n",
       "      <td>Income statement not found</td>\n",
       "      <td>cash flow not found</td>\n",
       "      <td>cash flow not found</td>\n",
       "    </tr>\n",
       "    <tr>\n",
       "      <th>4</th>\n",
       "      <td>2011</td>\n",
       "      <td>ATRO</td>\n",
       "      <td>8063</td>\n",
       "      <td>0</td>\n",
       "      <td>21591.0</td>\n",
       "      <td>-14281.0</td>\n",
       "    </tr>\n",
       "  </tbody>\n",
       "</table>\n",
       "</div>"
      ],
      "text/plain": [
       "   year Company      CIK                     Revenue        NetIncomeLoss  \\\n",
       "0  2011    AAXN  1069183  Income statement not found  cash flow not found   \n",
       "1  2011     AIR     1750  Income statement not found  cash flow not found   \n",
       "2  2011    AJRD    40888                           0                  2.9   \n",
       "3  2011    ARNC     4281  Income statement not found  cash flow not found   \n",
       "4  2011    ATRO     8063                           0              21591.0   \n",
       "\n",
       "  Payments to acquire property  \n",
       "0          cash flow not found  \n",
       "1          cash flow not found  \n",
       "2                        -21.1  \n",
       "3          cash flow not found  \n",
       "4                     -14281.0  "
      ]
     },
     "execution_count": 51,
     "metadata": {},
     "output_type": "execute_result"
    }
   ],
   "source": [
    "df.head()"
   ]
  },
  {
   "cell_type": "code",
   "execution_count": 52,
   "metadata": {},
   "outputs": [],
   "source": [
    "df_rev=df[df['Revenue']!='0']\n",
    "df_rev=df_rev[df_rev['Revenue']!='Income statement not found']\n",
    "df_rev.drop('NetIncomeLoss',inplace=True,axis=1)\n",
    "df_rev.drop('Payments to acquire property',inplace=True,axis=1)\n",
    "df_rev.drop_duplicates(subset =\"Revenue\", \n",
    "                     keep = 'first', inplace = True) \n",
    "df_rev.to_csv(\"Clean_Rev_3k_2011.csv\",index = False, header=True)"
   ]
  },
  {
   "cell_type": "code",
   "execution_count": 53,
   "metadata": {},
   "outputs": [],
   "source": [
    "df_inc=df[df['NetIncomeLoss']!='0']\n",
    "df_inc=df_inc[df_inc['NetIncomeLoss']!='cash flow not found']\n",
    "df_inc.drop('Revenue',inplace=True,axis=1)\n",
    "df_inc.drop('Payments to acquire property',inplace=True,axis=1)\n",
    "df_inc.drop_duplicates(subset =\"NetIncomeLoss\", \n",
    "                     keep = 'first', inplace = True) \n",
    "df_inc.to_csv(\"Clean_NetIncomeLoss_3k_2011.csv\",index = False, header=True)"
   ]
  },
  {
   "cell_type": "code",
   "execution_count": 54,
   "metadata": {},
   "outputs": [],
   "source": [
    "df_pay=df[df['Payments to acquire property']!='tag not found']\n",
    "df_pay=df_pay[df_pay['Payments to acquire property']!='cash flow not found']\n",
    "df_pay.drop('Revenue',inplace=True,axis=1)\n",
    "df_pay.drop('NetIncomeLoss',inplace=True,axis=1)\n",
    "df_pay.drop_duplicates(subset =\"Payments to acquire property\", \n",
    "                     keep = 'first', inplace = True) \n",
    "df_pay.to_csv(\"Clean_Payments_3k_2011.csv\",index = False, header=True)"
   ]
  },
  {
   "cell_type": "code",
   "execution_count": null,
   "metadata": {},
   "outputs": [],
   "source": []
  },
  {
   "cell_type": "code",
   "execution_count": null,
   "metadata": {},
   "outputs": [],
   "source": []
  }
 ],
 "metadata": {
  "kernelspec": {
   "display_name": "Python 3",
   "language": "python",
   "name": "python3"
  },
  "language_info": {
   "codemirror_mode": {
    "name": "ipython",
    "version": 3
   },
   "file_extension": ".py",
   "mimetype": "text/x-python",
   "name": "python",
   "nbconvert_exporter": "python",
   "pygments_lexer": "ipython3",
   "version": "3.6.10"
  }
 },
 "nbformat": 4,
 "nbformat_minor": 4
}
