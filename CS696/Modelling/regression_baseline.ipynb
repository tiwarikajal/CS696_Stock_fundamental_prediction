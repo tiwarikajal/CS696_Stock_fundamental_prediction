{
 "cells": [
  {
   "cell_type": "code",
   "execution_count": 1,
   "metadata": {},
   "outputs": [],
   "source": [
    "import numpy as np\n",
    "import pandas as pd\n",
    "import glob\n",
    "import matplotlib.pyplot as plt\n",
    "from sklearn.metrics import r2_score\n",
    "from sklearn import linear_model\n",
    "from sklearn.ensemble import RandomForestClassifier\n",
    "\n",
    "import warnings\n",
    "warnings.filterwarnings('ignore')"
   ]
  },
  {
   "cell_type": "code",
   "execution_count": 2,
   "metadata": {},
   "outputs": [],
   "source": [
    "class DataPreProcessing():\n",
    "\n",
    "    def __init__(self,var,source_path,destination_path,window,train_period,test_period,time_column,ind_column):\n",
    "        #Defining class parameters\n",
    "        self.var = var\n",
    "        self.source_path = source_path\n",
    "        self.destination_path = destination_path\n",
    "        self.window = window\n",
    "        self.train_period = train_period\n",
    "        self.test_period = test_period\n",
    "        self.time_column = time_column\n",
    "        self.ind_column = ind_column\n",
    "\n",
    "    #Converting data from given year wise file format to batch wise csv for model input.\n",
    "    def convert_data(self):\n",
    "        df_2011=pd.read_csv(self.source_path+'/Data_2011.csv')\n",
    "        df_2012=pd.read_csv(self.source_path+'/Data_2012.csv')\n",
    "        df_2013=pd.read_csv(self.source_path+'/Data_2013.csv')\n",
    "        df_2014=pd.read_csv(self.source_path+'/Data_2014.csv')\n",
    "        df_2015=pd.read_csv(self.source_path+'/Data_2015.csv')\n",
    "        df_2016=pd.read_csv(self.source_path+'/Data_2016.csv')\n",
    "        df_2017=pd.read_csv(self.source_path+'/Data_2017.csv')\n",
    "        df_2018=pd.read_csv(self.source_path+'/Data_2018.csv')\n",
    "        ticker_list = df_2018['Company'].values\n",
    "        for i in ticker_list:\n",
    "            df=pd.DataFrame()\n",
    "            df=df.append(df_2011[df_2011['Company']==i])\n",
    "            df=df.append(df_2012[df_2012['Company']==i])\n",
    "            df=df.append(df_2013[df_2013['Company']==i])\n",
    "            df=df.append(df_2014[df_2014['Company']==i])\n",
    "            df=df.append(df_2015[df_2015['Company']==i])\n",
    "            df=df.append(df_2016[df_2016['Company']==i])\n",
    "            df=df.append(df_2017[df_2017['Company']==i])\n",
    "            df=df.append(df_2018[df_2018['Company']==i])\n",
    "            df=df.to_csv(self.destination_path+'/'+i+'.csv',index = False)\n",
    "            \n",
    "    def imputation(self,agg,df,var):\n",
    "        data = df.copy()\n",
    "        if agg=='mean':\n",
    "            return data[~pd.to_numeric(data[var], errors='coerce').isnull()][var].astype(float).mean()\n",
    "        elif agg=='median':\n",
    "            return data[~pd.to_numeric(data[var], errors='coerce').isnull()][var].astype(float).median()\n",
    "        elif agg=='min':\n",
    "            return data[~pd.to_numeric(data[var], errors='coerce').isnull()][var].astype(float).min()\n",
    "        elif agg=='max':\n",
    "            return data[~pd.to_numeric(data[var], errors='coerce').isnull()][var].astype(float).max()\n",
    "        elif agg=='zero':\n",
    "            return 0\n",
    "\n",
    "    #Loading data and converting into format desired for regression.\n",
    "    def load_data(self):\n",
    "#         self.convert_data()\n",
    "        all_files = glob.glob(self.destination_path+\"/*.csv\")\n",
    "        train = []\n",
    "        test = []\n",
    "        frame1 = pd.DataFrame()\n",
    "        frame2 = pd.DataFrame()\n",
    "        for filename in all_files:\n",
    "            time_column = self.time_column\n",
    "            ind_column = self.ind_column\n",
    "            data = pd.read_csv(filename)[[time_column,ind_column,self.var]]\n",
    "            data[time_column] = data[time_column].astype(str)\n",
    "            data[time_column] = data[time_column].str.extract(r'(\\d{4})',expand=True)\n",
    "            data[time_column].dropna(how='any',inplace=True)\n",
    "            data[time_column] = data[time_column].astype(int)\n",
    "           \n",
    "            \n",
    "            #Including YoY values instead of actual numbers.\n",
    "#             data[var] = (data[var].abs() - data[var].shift(1).abs())/ (data[var])\n",
    "#             df.replace([np.inf, -np.inf], np.nan).dropna(axis=1,inplace=True)\n",
    "#             data.dropna(inplace=True)\n",
    "            \n",
    "            data['impute'] = self.imputation('mean',data,self.var)\n",
    "            for i in range(self.window):\n",
    "                data[self.var+'_t-'+str(i+1)] = data[self.var].shift(i+1)\n",
    "                data[self.var+'_t-'+str(i+1)+'_impute']=data['impute']*pd.to_numeric(data[self.var+'_t-'+str(i+1)], errors='coerce').isnull().astype(int)\n",
    "                data[self.var+'_t-'+str(i+1)][pd.to_numeric(data[self.var+'_t-'+str(i+1)], errors='coerce').isnull()] = 0\n",
    "            data.drop(['impute'],axis=1,inplace=True)\n",
    "            data.dropna(inplace=True)\n",
    "            \n",
    "            \n",
    "            mask_train = (data[time_column] >= self.train_period[0]) & (data[time_column] <= self.train_period[1])\n",
    "            mask_test = (data[time_column] >= self.test_period[0]) & (data[time_column] <= self.test_period[1])\n",
    "            train.append(data.loc[mask_train])\n",
    "            test.append(data.loc[mask_test])\n",
    "        if len(train)>0:\n",
    "            frame1 = pd.concat(train, axis=0, ignore_index=True)\n",
    "        if len(test) >0:\n",
    "            frame2 = pd.concat(test, axis=0, ignore_index=True)\n",
    "        return frame1,frame2\n"
   ]
  },
  {
   "cell_type": "code",
   "execution_count": 3,
   "metadata": {},
   "outputs": [],
   "source": [
    "class RegressionBaseline():\n",
    "    #Defining default value of window to 2.\n",
    "\n",
    "    def __init__(self,window,train_data,test_data,var,time_column,ind_column):\n",
    "        #Defining class parameters.\n",
    "        self.window = window\n",
    "        self.train = train_data\n",
    "        self.test = test_data\n",
    "        self.var = var\n",
    "        self.time_column = time_column\n",
    "        self.ind_column = ind_column\n",
    "\n",
    "    def fit(self):\n",
    "        time_column = self.time_column\n",
    "        ind_column = self.ind_column\n",
    "        reg = linear_model.LinearRegression()\n",
    "        \n",
    "        \n",
    "        \n",
    "        #Using the four variables as input to regression, so removing other vars from train data.\n",
    "        X = self.train.drop([time_column,self.var,ind_column],axis=1)\n",
    "        #Using the Revenue variable from training as y for the regression model.\n",
    "        \n",
    "        from statsmodels.api import OLS\n",
    "        print(OLS(self.train[self.var],X).fit().summary())\n",
    "        \n",
    "        \n",
    "        reg.fit(X, self.train[self.var])\n",
    "        print('Regression coefficients',reg.coef_)\n",
    "        print('Regression intercept',reg.intercept_)\n",
    "        return reg\n",
    "\n",
    "    def predict(self,model,kind):\n",
    "        time_column = self.time_column\n",
    "        ind_column = self.ind_column\n",
    "        df=pd.DataFrame(columns=['y_pred',self.var])\n",
    "        #Using the predict function on the test data\n",
    "        if kind=='test':\n",
    "            X = self.test.drop([time_column,self.var,ind_column],axis=1)\n",
    "            df = self.test[[time_column,ind_column,self.var]].copy()\n",
    "            df['y_pred'] = model.predict(X)\n",
    "        elif kind =='train':\n",
    "            X = self.train.drop([time_column,self.var,ind_column],axis=1)\n",
    "            df = self.train[[time_column,ind_column,self.var]].copy()\n",
    "            df['y_pred'] = model.predict(X)\n",
    "        return df\n"
   ]
  },
  {
   "cell_type": "markdown",
   "metadata": {},
   "source": [
    "**Just Change these attributes for re-running the model.**"
   ]
  },
  {
   "cell_type": "code",
   "execution_count": 14,
   "metadata": {},
   "outputs": [],
   "source": [
    "#Don't change source path\n",
    "source_path = '/mnt/nfs/scratch1/dpariyani/data/structured' #Read files from this directory\n",
    "\n",
    "#Just mention a directory with company wise seperate csv files in it.\n",
    "\n",
    "destination_path = '/mnt/nfs/scratch1/dpariyani/xml_data/final_data_scaled/NewXMLData/CompanyWiseData_revenue2/Scaled'\n",
    "# destination_path = '/mnt/nfs/scratch1/dpariyani/data/structured/structured_data_scaled_revenue' #Write files to this directory\n",
    "# destination_path = '/mnt/nfs/scratch1/dpariyani/xml_data/input_links/CompanyWiseData_payment'\n",
    "\n",
    "#Don't change these values\n",
    "window = 2 #Window size for regression\n",
    "train_period = [2011,2016] #Training data size for each company\n",
    "test_period = [2017,2018] #Test data size for each company\n",
    "\n",
    "\n",
    "#Mention the variable in your data here.\n",
    "var  = 'Revenue'\n",
    "# var  = 'NetIncomeLoss' #Variable under consideration. Need to train 5 models for 5 vars.\n",
    "# var = 'PaymentsToAcquireProperty'\n",
    "# var = 'value_usd'\n",
    "\n",
    "#Mention the time column name and indicator column name here in your data.\n",
    "time_column = 'year'\n",
    "ind_column = 'Company'\n"
   ]
  },
  {
   "cell_type": "code",
   "execution_count": 15,
   "metadata": {},
   "outputs": [
    {
     "name": "stdout",
     "output_type": "stream",
     "text": [
      "                                 OLS Regression Results                                \n",
      "=======================================================================================\n",
      "Dep. Variable:                Revenue   R-squared (uncentered):                   0.129\n",
      "Model:                            OLS   Adj. R-squared (uncentered):              0.129\n",
      "Method:                 Least Squares   F-statistic:                              704.8\n",
      "Date:                Fri, 01 May 2020   Prob (F-statistic):                        0.00\n",
      "Time:                        11:24:31   Log-Likelihood:                          36260.\n",
      "No. Observations:               18991   AIC:                                 -7.251e+04\n",
      "Df Residuals:                   18987   BIC:                                 -7.248e+04\n",
      "Df Model:                           4                                                  \n",
      "Covariance Type:            nonrobust                                                  \n",
      "======================================================================================\n",
      "                         coef    std err          t      P>|t|      [0.025      0.975]\n",
      "--------------------------------------------------------------------------------------\n",
      "Revenue_t-1            0.1602      0.004     40.435      0.000       0.152       0.168\n",
      "Revenue_t-1_impute     0.3939      0.037     10.720      0.000       0.322       0.466\n",
      "Revenue_t-2            0.1270      0.004     32.598      0.000       0.119       0.135\n",
      "Revenue_t-2_impute    -0.0534      0.025     -2.132      0.033      -0.103      -0.004\n",
      "==============================================================================\n",
      "Omnibus:                       79.235   Durbin-Watson:                   1.610\n",
      "Prob(Omnibus):                  0.000   Jarque-Bera (JB):               92.317\n",
      "Skew:                           0.101   Prob(JB):                     8.98e-21\n",
      "Kurtosis:                       3.275   Cond. No.                         11.2\n",
      "==============================================================================\n",
      "\n",
      "Warnings:\n",
      "[1] Standard Errors assume that the covariance matrix of the errors is correctly specified.\n",
      "Regression coefficients [0.05812276 0.19026511 0.02995466 0.00503355]\n",
      "Regression intercept 0.01919555595699711\n",
      "Average Test SMAPE: 37.7269355533577 %\n",
      "Average Test RMSE: 3.281934e-02\n",
      "R2 score Test : -3.816642e-01\n",
      "Average Train SMAPE: 52.526177967617684 %\n",
      "Average Train RMSE: 3.167574e-02\n",
      "R2 score Train : 1.794533e-02\n"
     ]
    }
   ],
   "source": [
    "\n",
    "prep = DataPreProcessing(var,source_path,destination_path,window,train_period,test_period,time_column,ind_column)\n",
    "\n",
    "#Loading the processed data, ready for modelling.\n",
    "train,test = prep.load_data()\n",
    "\n",
    "#Removing the null values left after preprocessing, as some companies don't have even a single time point available.\n",
    "train_data = train[~pd.to_numeric(train[var], errors='coerce').isnull()]\n",
    "test_data = test[~pd.to_numeric(test[var], errors='coerce').isnull()]\n",
    "\n",
    "train_data = train_data[~train_data.isin([np.nan, np.inf, -np.inf]).any(1)]\n",
    "test_data = test_data[~test_data.isin([np.nan, np.inf, -np.inf]).any(1)]\n",
    "\n",
    "train_data = train_data[train_data[var].between(train_data[var].quantile(.05), train_data[var].quantile(.95))]\n",
    "test_data = test_data[test_data[var].between(test_data[var].quantile(.05), test_data[var].quantile(.95))]\n",
    "\n",
    "#Calling the regression module.\n",
    "reg = RegressionBaseline(window,train_data,test_data,var,time_column,ind_column)\n",
    "\n",
    "model = reg.fit()\n",
    "final_train = reg.predict(model,'train')\n",
    "final_test = reg.predict(model,'test')\n",
    "final_train.to_csv(destination_path+'/preds_train_'+var+'.csv')\n",
    "final_test.to_csv(destination_path+'/preds_test_'+var+'.csv')\n",
    "\n",
    "# Typecasting, just in case.\n",
    "final_train[var]=final_train[var].astype(float)\n",
    "final_train['y_pred']=final_train['y_pred'].astype(float)\n",
    "final_test[var]=final_test[var].astype(float)\n",
    "final_test['y_pred']=final_test['y_pred'].astype(float)\n",
    "\n",
    "# Evaluation Metrics Test\n",
    "final_test['smape'] = 1*(final_test['y_pred'] - final_test[var]).abs()/(final_test['y_pred'].abs() + final_test[var].abs())\n",
    "final_test['rmse'] = ((final_test.y_pred - final_test[var]) ** 2)\n",
    "print('Average Test SMAPE:',str(final_test[final_test[var]!=0].smape.mean()*100) + ' %')\n",
    "print('Average Test RMSE:',\"{:2e}\".format(final_test.rmse.astype(float).mean()**.5))\n",
    "print('R2 score Test :',\"{:2e}\".format(r2_score(final_test[var], final_test['y_pred'])))\n",
    "final_test['residuals'] = final_test[var] - final_test['y_pred']\n",
    "\n",
    "#Evaluation Metrics Train\n",
    "final_train['smape'] = 1*(final_train['y_pred'] - final_train[var]).abs()/(final_train['y_pred'].abs() + final_train[var].abs())\n",
    "final_train['rmse'] = ((final_train.y_pred - final_train[var]) ** 2)\n",
    "print('Average Train SMAPE:',str(final_train[final_train[var]!=0].smape.mean()*100) + ' %')\n",
    "print('Average Train RMSE:',\"{:2e}\".format(final_train.rmse.astype(float).mean()**.5))\n",
    "print('R2 score Train :',\"{:2e}\".format(r2_score(final_train[var], final_train['y_pred'])))\n",
    "final_train['residuals'] = final_train[var] - final_train['y_pred']"
   ]
  },
  {
   "cell_type": "code",
   "execution_count": 25,
   "metadata": {},
   "outputs": [
    {
     "data": {
      "text/html": [
       "<div>\n",
       "<style scoped>\n",
       "    .dataframe tbody tr th:only-of-type {\n",
       "        vertical-align: middle;\n",
       "    }\n",
       "\n",
       "    .dataframe tbody tr th {\n",
       "        vertical-align: top;\n",
       "    }\n",
       "\n",
       "    .dataframe thead th {\n",
       "        text-align: right;\n",
       "    }\n",
       "</style>\n",
       "<table border=\"1\" class=\"dataframe\">\n",
       "  <thead>\n",
       "    <tr style=\"text-align: right;\">\n",
       "      <th></th>\n",
       "      <th>year</th>\n",
       "      <th>Company</th>\n",
       "      <th>Revenue</th>\n",
       "      <th>Revenue_t-1</th>\n",
       "      <th>Revenue_t-1_impute</th>\n",
       "      <th>Revenue_t-2</th>\n",
       "      <th>Revenue_t-2_impute</th>\n",
       "    </tr>\n",
       "  </thead>\n",
       "  <tbody>\n",
       "    <tr>\n",
       "      <th>38</th>\n",
       "      <td>2012.0</td>\n",
       "      <td>KLAC</td>\n",
       "      <td>0.027333</td>\n",
       "      <td>0.000000</td>\n",
       "      <td>0.024594</td>\n",
       "      <td>0.000000</td>\n",
       "      <td>0.024594</td>\n",
       "    </tr>\n",
       "    <tr>\n",
       "      <th>39</th>\n",
       "      <td>2013.0</td>\n",
       "      <td>KLAC</td>\n",
       "      <td>-0.036053</td>\n",
       "      <td>0.027333</td>\n",
       "      <td>0.000000</td>\n",
       "      <td>0.000000</td>\n",
       "      <td>0.024594</td>\n",
       "    </tr>\n",
       "    <tr>\n",
       "      <th>40</th>\n",
       "      <td>2014.0</td>\n",
       "      <td>KLAC</td>\n",
       "      <td>-0.001818</td>\n",
       "      <td>-0.036053</td>\n",
       "      <td>0.000000</td>\n",
       "      <td>0.027333</td>\n",
       "      <td>0.000000</td>\n",
       "    </tr>\n",
       "    <tr>\n",
       "      <th>41</th>\n",
       "      <td>2015.0</td>\n",
       "      <td>KLAC</td>\n",
       "      <td>-0.007243</td>\n",
       "      <td>-0.001818</td>\n",
       "      <td>0.000000</td>\n",
       "      <td>-0.036053</td>\n",
       "      <td>0.000000</td>\n",
       "    </tr>\n",
       "    <tr>\n",
       "      <th>42</th>\n",
       "      <td>2016.0</td>\n",
       "      <td>KLAC</td>\n",
       "      <td>-0.021793</td>\n",
       "      <td>-0.007243</td>\n",
       "      <td>0.000000</td>\n",
       "      <td>-0.001818</td>\n",
       "      <td>0.000000</td>\n",
       "    </tr>\n",
       "    <tr>\n",
       "      <th>43</th>\n",
       "      <td>2012.0</td>\n",
       "      <td>MORN</td>\n",
       "      <td>0.020848</td>\n",
       "      <td>0.000000</td>\n",
       "      <td>0.038990</td>\n",
       "      <td>0.000000</td>\n",
       "      <td>0.038990</td>\n",
       "    </tr>\n",
       "    <tr>\n",
       "      <th>44</th>\n",
       "      <td>2013.0</td>\n",
       "      <td>MORN</td>\n",
       "      <td>0.029470</td>\n",
       "      <td>0.020848</td>\n",
       "      <td>0.000000</td>\n",
       "      <td>0.000000</td>\n",
       "      <td>0.038990</td>\n",
       "    </tr>\n",
       "    <tr>\n",
       "      <th>45</th>\n",
       "      <td>2014.0</td>\n",
       "      <td>MORN</td>\n",
       "      <td>0.042400</td>\n",
       "      <td>0.029470</td>\n",
       "      <td>0.000000</td>\n",
       "      <td>0.020848</td>\n",
       "      <td>0.000000</td>\n",
       "    </tr>\n",
       "    <tr>\n",
       "      <th>46</th>\n",
       "      <td>2015.0</td>\n",
       "      <td>MORN</td>\n",
       "      <td>0.018529</td>\n",
       "      <td>0.042400</td>\n",
       "      <td>0.000000</td>\n",
       "      <td>0.029470</td>\n",
       "      <td>0.000000</td>\n",
       "    </tr>\n",
       "    <tr>\n",
       "      <th>47</th>\n",
       "      <td>2016.0</td>\n",
       "      <td>MORN</td>\n",
       "      <td>0.006174</td>\n",
       "      <td>0.018529</td>\n",
       "      <td>0.000000</td>\n",
       "      <td>0.042400</td>\n",
       "      <td>0.000000</td>\n",
       "    </tr>\n",
       "    <tr>\n",
       "      <th>48</th>\n",
       "      <td>2012.0</td>\n",
       "      <td>DOW</td>\n",
       "      <td>-0.032756</td>\n",
       "      <td>0.000000</td>\n",
       "      <td>-0.010694</td>\n",
       "      <td>0.000000</td>\n",
       "      <td>-0.010694</td>\n",
       "    </tr>\n",
       "    <tr>\n",
       "      <th>49</th>\n",
       "      <td>2013.0</td>\n",
       "      <td>DOW</td>\n",
       "      <td>-0.002076</td>\n",
       "      <td>-0.032756</td>\n",
       "      <td>-0.000000</td>\n",
       "      <td>0.000000</td>\n",
       "      <td>-0.010694</td>\n",
       "    </tr>\n",
       "    <tr>\n",
       "      <th>50</th>\n",
       "      <td>2014.0</td>\n",
       "      <td>DOW</td>\n",
       "      <td>-0.001368</td>\n",
       "      <td>-0.002076</td>\n",
       "      <td>-0.000000</td>\n",
       "      <td>-0.032756</td>\n",
       "      <td>-0.000000</td>\n",
       "    </tr>\n",
       "    <tr>\n",
       "      <th>51</th>\n",
       "      <td>2015.0</td>\n",
       "      <td>DOW</td>\n",
       "      <td>0.013653</td>\n",
       "      <td>-0.001368</td>\n",
       "      <td>-0.000000</td>\n",
       "      <td>-0.002076</td>\n",
       "      <td>-0.000000</td>\n",
       "    </tr>\n",
       "    <tr>\n",
       "      <th>53</th>\n",
       "      <td>2013.0</td>\n",
       "      <td>EME</td>\n",
       "      <td>-0.001037</td>\n",
       "      <td>0.000000</td>\n",
       "      <td>0.024331</td>\n",
       "      <td>0.000000</td>\n",
       "      <td>0.024331</td>\n",
       "    </tr>\n",
       "    <tr>\n",
       "      <th>54</th>\n",
       "      <td>2014.0</td>\n",
       "      <td>EME</td>\n",
       "      <td>0.007167</td>\n",
       "      <td>-0.001037</td>\n",
       "      <td>0.000000</td>\n",
       "      <td>0.000000</td>\n",
       "      <td>0.024331</td>\n",
       "    </tr>\n",
       "    <tr>\n",
       "      <th>55</th>\n",
       "      <td>2015.0</td>\n",
       "      <td>EME</td>\n",
       "      <td>0.022350</td>\n",
       "      <td>0.007167</td>\n",
       "      <td>0.000000</td>\n",
       "      <td>-0.001037</td>\n",
       "      <td>0.000000</td>\n",
       "    </tr>\n",
       "    <tr>\n",
       "      <th>56</th>\n",
       "      <td>2016.0</td>\n",
       "      <td>EME</td>\n",
       "      <td>0.058359</td>\n",
       "      <td>0.022350</td>\n",
       "      <td>0.000000</td>\n",
       "      <td>0.007167</td>\n",
       "      <td>0.000000</td>\n",
       "    </tr>\n",
       "    <tr>\n",
       "      <th>58</th>\n",
       "      <td>2013.0</td>\n",
       "      <td>MOH</td>\n",
       "      <td>0.044401</td>\n",
       "      <td>0.000000</td>\n",
       "      <td>0.072595</td>\n",
       "      <td>0.000000</td>\n",
       "      <td>0.072595</td>\n",
       "    </tr>\n",
       "    <tr>\n",
       "      <th>64</th>\n",
       "      <td>2014.0</td>\n",
       "      <td>ABG</td>\n",
       "      <td>0.047183</td>\n",
       "      <td>0.613060</td>\n",
       "      <td>-0.000000</td>\n",
       "      <td>-0.525750</td>\n",
       "      <td>-0.000000</td>\n",
       "    </tr>\n",
       "  </tbody>\n",
       "</table>\n",
       "</div>"
      ],
      "text/plain": [
       "      year Company   Revenue  Revenue_t-1  Revenue_t-1_impute  Revenue_t-2  \\\n",
       "38  2012.0    KLAC  0.027333     0.000000            0.024594     0.000000   \n",
       "39  2013.0    KLAC -0.036053     0.027333            0.000000     0.000000   \n",
       "40  2014.0    KLAC -0.001818    -0.036053            0.000000     0.027333   \n",
       "41  2015.0    KLAC -0.007243    -0.001818            0.000000    -0.036053   \n",
       "42  2016.0    KLAC -0.021793    -0.007243            0.000000    -0.001818   \n",
       "43  2012.0    MORN  0.020848     0.000000            0.038990     0.000000   \n",
       "44  2013.0    MORN  0.029470     0.020848            0.000000     0.000000   \n",
       "45  2014.0    MORN  0.042400     0.029470            0.000000     0.020848   \n",
       "46  2015.0    MORN  0.018529     0.042400            0.000000     0.029470   \n",
       "47  2016.0    MORN  0.006174     0.018529            0.000000     0.042400   \n",
       "48  2012.0     DOW -0.032756     0.000000           -0.010694     0.000000   \n",
       "49  2013.0     DOW -0.002076    -0.032756           -0.000000     0.000000   \n",
       "50  2014.0     DOW -0.001368    -0.002076           -0.000000    -0.032756   \n",
       "51  2015.0     DOW  0.013653    -0.001368           -0.000000    -0.002076   \n",
       "53  2013.0     EME -0.001037     0.000000            0.024331     0.000000   \n",
       "54  2014.0     EME  0.007167    -0.001037            0.000000     0.000000   \n",
       "55  2015.0     EME  0.022350     0.007167            0.000000    -0.001037   \n",
       "56  2016.0     EME  0.058359     0.022350            0.000000     0.007167   \n",
       "58  2013.0     MOH  0.044401     0.000000            0.072595     0.000000   \n",
       "64  2014.0     ABG  0.047183     0.613060           -0.000000    -0.525750   \n",
       "\n",
       "    Revenue_t-2_impute  \n",
       "38            0.024594  \n",
       "39            0.024594  \n",
       "40            0.000000  \n",
       "41            0.000000  \n",
       "42            0.000000  \n",
       "43            0.038990  \n",
       "44            0.038990  \n",
       "45            0.000000  \n",
       "46            0.000000  \n",
       "47            0.000000  \n",
       "48           -0.010694  \n",
       "49           -0.010694  \n",
       "50           -0.000000  \n",
       "51           -0.000000  \n",
       "53            0.024331  \n",
       "54            0.024331  \n",
       "55            0.000000  \n",
       "56            0.000000  \n",
       "58            0.072595  \n",
       "64           -0.000000  "
      ]
     },
     "execution_count": 25,
     "metadata": {},
     "output_type": "execute_result"
    }
   ],
   "source": [
    "train_data.head(42).tail(20)"
   ]
  },
  {
   "cell_type": "code",
   "execution_count": null,
   "metadata": {},
   "outputs": [],
   "source": [
    "import pandas as pd\n",
    "import numpy as np\n",
    "from sklearn import datasets, linear_model\n",
    "from sklearn.linear_model import LinearRegression\n",
    "import statsmodels.api as sm\n",
    "from scipy import stats\n",
    "\n",
    "diabetes = datasets.load_diabetes()\n",
    "X = diabetes.data\n",
    "y = diabetes.target\n",
    "\n",
    "X2 = sm.add_constant(X)\n",
    "est = sm.OLS(y, X2)\n",
    "est2 = est.fit()\n",
    "print(est2.summary())"
   ]
  },
  {
   "cell_type": "code",
   "execution_count": 15,
   "metadata": {},
   "outputs": [
    {
     "data": {
      "text/html": [
       "<div>\n",
       "<style scoped>\n",
       "    .dataframe tbody tr th:only-of-type {\n",
       "        vertical-align: middle;\n",
       "    }\n",
       "\n",
       "    .dataframe tbody tr th {\n",
       "        vertical-align: top;\n",
       "    }\n",
       "\n",
       "    .dataframe thead th {\n",
       "        text-align: right;\n",
       "    }\n",
       "</style>\n",
       "<table border=\"1\" class=\"dataframe\">\n",
       "  <thead>\n",
       "    <tr style=\"text-align: right;\">\n",
       "      <th></th>\n",
       "      <th>year</th>\n",
       "      <th>Company</th>\n",
       "      <th>NetIncomeLoss</th>\n",
       "      <th>y_pred</th>\n",
       "      <th>smape</th>\n",
       "      <th>rmse</th>\n",
       "      <th>residuals</th>\n",
       "    </tr>\n",
       "  </thead>\n",
       "  <tbody>\n",
       "    <tr>\n",
       "      <th>0</th>\n",
       "      <td>2017.0</td>\n",
       "      <td>APPS</td>\n",
       "      <td>0.072051</td>\n",
       "      <td>0.253563</td>\n",
       "      <td>0.557443</td>\n",
       "      <td>0.032946</td>\n",
       "      <td>-0.181511</td>\n",
       "    </tr>\n",
       "    <tr>\n",
       "      <th>1</th>\n",
       "      <td>2018.0</td>\n",
       "      <td>APPS</td>\n",
       "      <td>-0.370755</td>\n",
       "      <td>0.195553</td>\n",
       "      <td>1.000000</td>\n",
       "      <td>0.320705</td>\n",
       "      <td>-0.566308</td>\n",
       "    </tr>\n",
       "    <tr>\n",
       "      <th>2</th>\n",
       "      <td>2017.0</td>\n",
       "      <td>IFF</td>\n",
       "      <td>-0.156082</td>\n",
       "      <td>0.028580</td>\n",
       "      <td>1.000000</td>\n",
       "      <td>0.034100</td>\n",
       "      <td>-0.184662</td>\n",
       "    </tr>\n",
       "    <tr>\n",
       "      <th>3</th>\n",
       "      <td>2018.0</td>\n",
       "      <td>IFF</td>\n",
       "      <td>0.065781</td>\n",
       "      <td>0.060695</td>\n",
       "      <td>0.040211</td>\n",
       "      <td>0.000026</td>\n",
       "      <td>0.005086</td>\n",
       "    </tr>\n",
       "    <tr>\n",
       "      <th>4</th>\n",
       "      <td>2017.0</td>\n",
       "      <td>GT</td>\n",
       "      <td>-0.570186</td>\n",
       "      <td>-0.062992</td>\n",
       "      <td>0.801030</td>\n",
       "      <td>0.257246</td>\n",
       "      <td>-0.507195</td>\n",
       "    </tr>\n",
       "  </tbody>\n",
       "</table>\n",
       "</div>"
      ],
      "text/plain": [
       "     year Company  NetIncomeLoss    y_pred     smape      rmse  residuals\n",
       "0  2017.0    APPS       0.072051  0.253563  0.557443  0.032946  -0.181511\n",
       "1  2018.0    APPS      -0.370755  0.195553  1.000000  0.320705  -0.566308\n",
       "2  2017.0     IFF      -0.156082  0.028580  1.000000  0.034100  -0.184662\n",
       "3  2018.0     IFF       0.065781  0.060695  0.040211  0.000026   0.005086\n",
       "4  2017.0      GT      -0.570186 -0.062992  0.801030  0.257246  -0.507195"
      ]
     },
     "execution_count": 15,
     "metadata": {},
     "output_type": "execute_result"
    }
   ],
   "source": [
    "final_test.head()"
   ]
  },
  {
   "cell_type": "code",
   "execution_count": 33,
   "metadata": {},
   "outputs": [
    {
     "data": {
      "text/html": [
       "<div>\n",
       "<style scoped>\n",
       "    .dataframe tbody tr th:only-of-type {\n",
       "        vertical-align: middle;\n",
       "    }\n",
       "\n",
       "    .dataframe tbody tr th {\n",
       "        vertical-align: top;\n",
       "    }\n",
       "\n",
       "    .dataframe thead th {\n",
       "        text-align: right;\n",
       "    }\n",
       "</style>\n",
       "<table border=\"1\" class=\"dataframe\">\n",
       "  <thead>\n",
       "    <tr style=\"text-align: right;\">\n",
       "      <th></th>\n",
       "      <th>year</th>\n",
       "      <th>Company</th>\n",
       "      <th>NetIncomeLoss</th>\n",
       "      <th>y_pred</th>\n",
       "      <th>smape</th>\n",
       "      <th>rmse</th>\n",
       "      <th>residuals</th>\n",
       "    </tr>\n",
       "  </thead>\n",
       "  <tbody>\n",
       "    <tr>\n",
       "      <th>1054</th>\n",
       "      <td>2017.0</td>\n",
       "      <td>ATH</td>\n",
       "      <td>0.274519</td>\n",
       "      <td>0.251014</td>\n",
       "      <td>0.044726</td>\n",
       "      <td>0.000552</td>\n",
       "      <td>0.023505</td>\n",
       "    </tr>\n",
       "    <tr>\n",
       "      <th>2466</th>\n",
       "      <td>2017.0</td>\n",
       "      <td>CLDT</td>\n",
       "      <td>-0.032890</td>\n",
       "      <td>-0.035993</td>\n",
       "      <td>0.045052</td>\n",
       "      <td>0.000010</td>\n",
       "      <td>0.003103</td>\n",
       "    </tr>\n",
       "    <tr>\n",
       "      <th>4644</th>\n",
       "      <td>2017.0</td>\n",
       "      <td>CLDT</td>\n",
       "      <td>-0.032890</td>\n",
       "      <td>-0.035993</td>\n",
       "      <td>0.045052</td>\n",
       "      <td>0.000010</td>\n",
       "      <td>0.003103</td>\n",
       "    </tr>\n",
       "    <tr>\n",
       "      <th>1219</th>\n",
       "      <td>2017.0</td>\n",
       "      <td>BKNG</td>\n",
       "      <td>0.046023</td>\n",
       "      <td>0.041993</td>\n",
       "      <td>0.045794</td>\n",
       "      <td>0.000016</td>\n",
       "      <td>0.004031</td>\n",
       "    </tr>\n",
       "    <tr>\n",
       "      <th>3873</th>\n",
       "      <td>2018.0</td>\n",
       "      <td>URI</td>\n",
       "      <td>-0.102375</td>\n",
       "      <td>-0.093400</td>\n",
       "      <td>0.045843</td>\n",
       "      <td>0.000081</td>\n",
       "      <td>-0.008975</td>\n",
       "    </tr>\n",
       "    <tr>\n",
       "      <th>6051</th>\n",
       "      <td>2018.0</td>\n",
       "      <td>URI</td>\n",
       "      <td>-0.102375</td>\n",
       "      <td>-0.093400</td>\n",
       "      <td>0.045843</td>\n",
       "      <td>0.000081</td>\n",
       "      <td>-0.008975</td>\n",
       "    </tr>\n",
       "    <tr>\n",
       "      <th>5786</th>\n",
       "      <td>2018.0</td>\n",
       "      <td>ON</td>\n",
       "      <td>-0.127460</td>\n",
       "      <td>-0.116242</td>\n",
       "      <td>0.046032</td>\n",
       "      <td>0.000126</td>\n",
       "      <td>-0.011218</td>\n",
       "    </tr>\n",
       "    <tr>\n",
       "      <th>3608</th>\n",
       "      <td>2018.0</td>\n",
       "      <td>ON</td>\n",
       "      <td>-0.127460</td>\n",
       "      <td>-0.116242</td>\n",
       "      <td>0.046032</td>\n",
       "      <td>0.000126</td>\n",
       "      <td>-0.011218</td>\n",
       "    </tr>\n",
       "    <tr>\n",
       "      <th>1613</th>\n",
       "      <td>2017.0</td>\n",
       "      <td>GOOD</td>\n",
       "      <td>0.200000</td>\n",
       "      <td>0.219680</td>\n",
       "      <td>0.046893</td>\n",
       "      <td>0.000387</td>\n",
       "      <td>-0.019680</td>\n",
       "    </tr>\n",
       "    <tr>\n",
       "      <th>461</th>\n",
       "      <td>2017.0</td>\n",
       "      <td>SQ</td>\n",
       "      <td>0.464060</td>\n",
       "      <td>0.509848</td>\n",
       "      <td>0.047015</td>\n",
       "      <td>0.002097</td>\n",
       "      <td>-0.045789</td>\n",
       "    </tr>\n",
       "  </tbody>\n",
       "</table>\n",
       "</div>"
      ],
      "text/plain": [
       "        year Company  NetIncomeLoss    y_pred     smape      rmse  residuals\n",
       "1054  2017.0     ATH       0.274519  0.251014  0.044726  0.000552   0.023505\n",
       "2466  2017.0    CLDT      -0.032890 -0.035993  0.045052  0.000010   0.003103\n",
       "4644  2017.0    CLDT      -0.032890 -0.035993  0.045052  0.000010   0.003103\n",
       "1219  2017.0    BKNG       0.046023  0.041993  0.045794  0.000016   0.004031\n",
       "3873  2018.0     URI      -0.102375 -0.093400  0.045843  0.000081  -0.008975\n",
       "6051  2018.0     URI      -0.102375 -0.093400  0.045843  0.000081  -0.008975\n",
       "5786  2018.0      ON      -0.127460 -0.116242  0.046032  0.000126  -0.011218\n",
       "3608  2018.0      ON      -0.127460 -0.116242  0.046032  0.000126  -0.011218\n",
       "1613  2017.0    GOOD       0.200000  0.219680  0.046893  0.000387  -0.019680\n",
       "461   2017.0      SQ       0.464060  0.509848  0.047015  0.002097  -0.045789"
      ]
     },
     "execution_count": 33,
     "metadata": {},
     "output_type": "execute_result"
    }
   ],
   "source": [
    "final_test.sort_values(['smape'],ascending=True).head(100).tail(10)"
   ]
  },
  {
   "cell_type": "code",
   "execution_count": 22,
   "metadata": {},
   "outputs": [],
   "source": [
    "df = final_train.sort_values(['year'],ascending=True)"
   ]
  },
  {
   "cell_type": "code",
   "execution_count": 24,
   "metadata": {},
   "outputs": [],
   "source": [
    "df2 = final_test.sort_values(['year'],ascending=True)"
   ]
  },
  {
   "cell_type": "code",
   "execution_count": 38,
   "metadata": {},
   "outputs": [],
   "source": [
    "stock='VOYA'"
   ]
  },
  {
   "cell_type": "code",
   "execution_count": 39,
   "metadata": {},
   "outputs": [
    {
     "data": {
      "text/plain": [
       "[<matplotlib.lines.Line2D at 0x2aaae16ec350>]"
      ]
     },
     "execution_count": 39,
     "metadata": {},
     "output_type": "execute_result"
    },
    {
     "data": {
      "image/png": "[encoded data removed]",
      "text/plain": [
       "<Figure size 432x288 with 1 Axes>"
      ]
     },
     "metadata": {
      "needs_background": "light"
     },
     "output_type": "display_data"
    }
   ],
   "source": [
    "plt.plot(df[df['Company']==stock]['year'],df[df['Company']==stock]['NetIncomeLoss'])\n",
    "plt.plot(df2[df2['Company']==stock]['year'],df2[df2['Company']==stock]['NetIncomeLoss'])\n",
    "plt.plot(df2[df2['Company']==stock]['year'],df2[df2['Company']==stock]['y_pred'])"
   ]
  },
  {
   "cell_type": "code",
   "execution_count": 12,
   "metadata": {},
   "outputs": [
    {
     "data": {
      "text/plain": [
       "Text(0, 0.5, '')"
      ]
     },
     "execution_count": 12,
     "metadata": {},
     "output_type": "execute_result"
    },
    {
     "data": {
      "image/png": "[encoded data removed]",
      "text/plain": [
       "<Figure size 432x288 with 1 Axes>"
      ]
     },
     "metadata": {
      "needs_background": "light"
     },
     "output_type": "display_data"
    }
   ],
   "source": [
    "final_train.Revenue.hist(bins=100)\n",
    "plt.title('Residual plots for Revenue')\n",
    "plt.ylabel('')"
   ]
  },
  {
   "cell_type": "code",
   "execution_count": 11,
   "metadata": {},
   "outputs": [
    {
     "data": {
      "text/plain": [
       "Text(0, 0.5, '')"
      ]
     },
     "execution_count": 11,
     "metadata": {},
     "output_type": "execute_result"
    },
    {
     "data": {
      "image/png": "[encoded data removed]",
      "text/plain": [
       "<Figure size 432x288 with 1 Axes>"
      ]
     },
     "metadata": {
      "needs_background": "light"
     },
     "output_type": "display_data"
    }
   ],
   "source": [
    "final_train.y_pred.hist(bins=100)\n",
    "plt.title('Residual plots for Revenue')\n",
    "plt.ylabel('')"
   ]
  },
  {
   "cell_type": "code",
   "execution_count": 13,
   "metadata": {},
   "outputs": [
    {
     "data": {
      "text/plain": [
       "Text(0, 0.5, '')"
      ]
     },
     "execution_count": 13,
     "metadata": {},
     "output_type": "execute_result"
    },
    {
     "data": {
      "image/png": "[encoded data removed]",
      "text/plain": [
       "<Figure size 432x288 with 1 Axes>"
      ]
     },
     "metadata": {
      "needs_background": "light"
     },
     "output_type": "display_data"
    }
   ],
   "source": [
    "final_test.residuals.hist(bins=100)\n",
    "plt.title('Residual plots for Revenue')\n",
    "plt.ylabel('')"
   ]
  },
  {
   "cell_type": "code",
   "execution_count": 15,
   "metadata": {},
   "outputs": [
    {
     "data": {
      "text/plain": [
       "Text(0.5, 1.0, 'Histogram of Actual Revenue')"
      ]
     },
     "execution_count": 15,
     "metadata": {},
     "output_type": "execute_result"
    },
    {
     "data": {
      "image/png": "[encoded data removed]",
      "text/plain": [
       "<Figure size 432x288 with 1 Axes>"
      ]
     },
     "metadata": {
      "needs_background": "light"
     },
     "output_type": "display_data"
    }
   ],
   "source": [
    "final_test.NetIncomeLoss.hist(bins=100)\n",
    "plt.title('Histogram of Actual Revenue')"
   ]
  },
  {
   "cell_type": "code",
   "execution_count": 14,
   "metadata": {},
   "outputs": [
    {
     "data": {
      "text/plain": [
       "Text(0.5, 1.0, 'Histogram of Actual Revenue')"
      ]
     },
     "execution_count": 14,
     "metadata": {},
     "output_type": "execute_result"
    },
    {
     "data": {
      "image/png": "[encoded data removed]",
      "text/plain": [
       "<Figure size 432x288 with 1 Axes>"
      ]
     },
     "metadata": {
      "needs_background": "light"
     },
     "output_type": "display_data"
    }
   ],
   "source": [
    "final_test.y_pred.hist(bins=100)\n",
    "plt.title('Histogram of Actual Revenue')"
   ]
  },
  {
   "cell_type": "code",
   "execution_count": 1,
   "metadata": {},
   "outputs": [
    {
     "ename": "NameError",
     "evalue": "name 'test' is not defined",
     "output_type": "error",
     "traceback": [
      "\u001b[0;31m---------------------------------------------------------------------------\u001b[0m",
      "\u001b[0;31mNameError\u001b[0m                                 Traceback (most recent call last)",
      "\u001b[0;32m<ipython-input-1-71b023b3bbcc>\u001b[0m in \u001b[0;36m<module>\u001b[0;34m\u001b[0m\n\u001b[0;32m----> 1\u001b[0;31m \u001b[0mtest\u001b[0m\u001b[0;34m[\u001b[0m\u001b[0mtest\u001b[0m\u001b[0;34m.\u001b[0m\u001b[0mCompany\u001b[0m\u001b[0;34m==\u001b[0m\u001b[0;34m'MORN'\u001b[0m\u001b[0;34m]\u001b[0m\u001b[0;34m\u001b[0m\u001b[0;34m\u001b[0m\u001b[0m\n\u001b[0m",
      "\u001b[0;31mNameError\u001b[0m: name 'test' is not defined"
     ]
    }
   ],
   "source": [
    "test[test.Company=='MORN']"
   ]
  },
  {
   "cell_type": "code",
   "execution_count": 52,
   "metadata": {},
   "outputs": [
    {
     "data": {
      "text/plain": [
       "array(['MORN', 'SBAC', 'UVE', 'GLUU', 'CPK', 'BGCP', 'ICUI', 'NFLX',\n",
       "       'WCC', 'THG', 'AMKR', 'INSG', 'WRB', 'BG', 'ES', 'ALL', 'LAZ',\n",
       "       'BRO', 'MHO', 'GPS', 'AWR', 'STAA', 'FAF', 'VIVO', 'CVS', 'INCY',\n",
       "       'AMGN', 'CAI', 'WLK', 'HALL', 'BEN', 'NUAN', 'DPZ', 'MTD', 'EIX',\n",
       "       'VSH', 'SAFT', 'CACC', 'OCN', 'MXL', 'VZ', 'UNH', 'FBHS', 'CME',\n",
       "       'XLNX', 'IRBT', 'LPX', 'DLB', 'CENT', 'PDLI', 'CR', 'POOL', 'SANM',\n",
       "       'MRO', 'CMPR', 'FSLR', 'OKE', 'AAWW', 'OII', 'ADS', 'WEX', 'CMI',\n",
       "       'SLG', 'AEL', 'TSLA', 'AMT', 'AVA', 'KAMN', 'VTR', 'AMAT', 'PEG',\n",
       "       'ATRI', 'YUM', 'JBL', 'CERN', 'GHL', 'CCK', 'ORBC', 'TXT', 'WSO',\n",
       "       'BHE', 'ANTM', 'ATSG', 'STLD', 'FTR', 'ACCO', 'D', 'HE', 'MDU',\n",
       "       'WEN', 'PSMT', 'FRPH', 'CTSH', 'DDS', 'RLGY', 'ALB', 'MTG', 'AMSF',\n",
       "       'GHC', 'PCRX', 'UGI', 'FSS', 'AZO', 'INTU', 'CIEN', 'LPLA', 'MAR',\n",
       "       'LVS', 'ANSS', 'OGE', 'TSN', 'HP', 'UNM', 'ADBE', 'CNC', 'ROCK',\n",
       "       'T', 'NWE', 'CTL', 'LH', 'EVR', 'LII', 'KMI', 'WERN', 'OPY', 'ATR',\n",
       "       'UNP', 'MSM', 'VNDA', 'UIS', 'BIIB', 'SCHW', 'QCOM', 'BHLB'],\n",
       "      dtype=object)"
      ]
     },
     "execution_count": 52,
     "metadata": {},
     "output_type": "execute_result"
    }
   ],
   "source": [
    "train.Company.unique()"
   ]
  },
  {
   "cell_type": "code",
   "execution_count": null,
   "metadata": {},
   "outputs": [],
   "source": []
  }
 ],
 "metadata": {
  "kernelspec": {
   "display_name": "Python 3",
   "language": "python",
   "name": "python3"
  },
  "language_info": {
   "codemirror_mode": {
    "name": "ipython",
    "version": 3
   },
   "file_extension": ".py",
   "mimetype": "text/x-python",
   "name": "python",
   "nbconvert_exporter": "python",
   "pygments_lexer": "ipython3",
   "version": "3.6.10"
  }
 },
 "nbformat": 4,
 "nbformat_minor": 4
}
