{
  "nbformat": 4,
  "nbformat_minor": 0,
  "metadata": {
    "kernelspec": {
      "display_name": "Python 3",
      "language": "python",
      "name": "python3"
    },
    "language_info": {
      "codemirror_mode": {
        "name": "ipython",
        "version": 3
      },
      "file_extension": ".py",
      "mimetype": "text/x-python",
      "name": "python",
      "nbconvert_exporter": "python",
      "pygments_lexer": "ipython3",
      "version": "3.7.4"
    },
    "colab": {
      "name": "parsing_sec_filings_final.ipynb",
      "provenance": [],
      "collapsed_sections": [],
      "machine_shape": "hm"
    }
  },
  "cells": [
    {
      "cell_type": "code",
      "metadata": {
        "id": "GSr049KXJcaz",
        "colab_type": "code",
        "colab": {}
      },
      "source": [
        "import numpy as np\n",
        "import pandas as pd\n",
        "import sys\n",
        "import csv\n",
        "import xlrd\n",
        "from IPython.core.interactiveshell import InteractiveShell\n",
        "InteractiveShell.ast_node_interactivity = \"all\""
      ],
      "execution_count": 0,
      "outputs": []
    },
    {
      "cell_type": "code",
      "metadata": {
        "id": "9fYoUHlh2-DA",
        "colab_type": "code",
        "outputId": "c72ff6c6-6bed-4341-b643-1e1e4cf2517e",
        "colab": {
          "base_uri": "https://localhost:8080/",
          "height": 35
        }
      },
      "source": [
        "from google.colab import drive\n",
        "drive.mount('/content/drive/')"
      ],
      "execution_count": 0,
      "outputs": [
        {
          "output_type": "stream",
          "text": [
            "Drive already mounted at /content/drive/; to attempt to forcibly remount, call drive.mount(\"/content/drive/\", force_remount=True).\n"
          ],
          "name": "stdout"
        }
      ]
    },
    {
      "cell_type": "code",
      "metadata": {
        "id": "WD4H2GS33URR",
        "colab_type": "code",
        "outputId": "8855f9ba-8451-44cb-ca15-93a756c30d5d",
        "colab": {
          "base_uri": "https://localhost:8080/",
          "height": 35
        }
      },
      "source": [
        "cd /content/drive/'My Drive'/696/KT/CS696/cs696_scraping/structured"
      ],
      "execution_count": 0,
      "outputs": [
        {
          "output_type": "stream",
          "text": [
            "/content/drive/My Drive/696/KT/CS696/cs696_scraping/structured\n"
          ],
          "name": "stdout"
        }
      ]
    },
    {
      "cell_type": "code",
      "metadata": {
        "id": "Q3MZFb3-JcbG",
        "colab_type": "code",
        "outputId": "0f237a03-1d08-4eaf-cb71-66485b5b0b19",
        "colab": {
          "base_uri": "https://localhost:8080/",
          "height": 35
        }
      },
      "source": [
        "cd /content/drive/'My Drive'/696/KT/CS696\n"
      ],
      "execution_count": 0,
      "outputs": [
        {
          "output_type": "stream",
          "text": [
            "/content/drive/My Drive/696/KT/CS696\n"
          ],
          "name": "stdout"
        }
      ]
    },
    {
      "cell_type": "code",
      "metadata": {
        "id": "pWHqleOTJcbR",
        "colab_type": "code",
        "colab": {}
      },
      "source": [
        "from edgar.stock import Stock\n",
        "wb = xlrd.open_workbook('ticker_lists.xlsx')\n",
        "sheet = wb.sheet_by_index(0) \n",
        "stock_list=[]\n",
        "for i in range(5,2956):\n",
        "    stock_list.append(sheet.cell_value(i,0))"
      ],
      "execution_count": 0,
      "outputs": []
    },
    {
      "cell_type": "code",
      "metadata": {
        "id": "cJyx3Ejmcl4K",
        "colab_type": "code",
        "outputId": "418d9486-a257-4903-975b-0349aadaff7b",
        "colab": {
          "base_uri": "https://localhost:8080/",
          "height": 35
        }
      },
      "source": [
        "stock_list[-1:]\n",
        "len(stock_list)"
      ],
      "execution_count": 0,
      "outputs": [
        {
          "output_type": "execute_result",
          "data": {
            "text/plain": [
              "['WIFI']"
            ]
          },
          "metadata": {
            "tags": []
          },
          "execution_count": 13
        },
        {
          "output_type": "execute_result",
          "data": {
            "text/plain": [
              "2951"
            ]
          },
          "metadata": {
            "tags": []
          },
          "execution_count": 13
        }
      ]
    },
    {
      "cell_type": "code",
      "metadata": {
        "scrolled": true,
        "id": "-F4K95oPJcbZ",
        "colab_type": "code",
        "outputId": "d6a60201-105e-4d47-af7f-cd64e1d7ba71",
        "colab": {
          "base_uri": "https://localhost:8080/",
          "height": 35
        }
      },
      "source": [
        "\n",
        "with open('Data.csv', mode='w') as file:\n",
        "  file_writer = csv.writer(file, delimiter=',', quotechar='\"', quoting=csv.QUOTE_MINIMAL)\n",
        "  file_writer.writerow([\"year\",'Company',\"CIK\", \"Revenue\", \"NetIncomeLoss\",\"Payments to acquire property\"])\n",
        "\n",
        "            \n"
      ],
      "execution_count": 0,
      "outputs": [
        {
          "output_type": "execute_result",
          "data": {
            "text/plain": [
              "69"
            ]
          },
          "metadata": {
            "tags": []
          },
          "execution_count": 14
        }
      ]
    },
    {
      "cell_type": "code",
      "metadata": {
        "id": "riFzTHmIpeDq",
        "colab_type": "code",
        "colab": {}
      },
      "source": [
        "\n",
        "revenue=['us-gaap_SalesRevenueNet','us-gaap_Revenues','us-gaap:Revenues','us-gaap:SalesRevenueNet','us-gaap_InvestmentBankingRevenue','us-gaap:RevenueFromContractWithCustomerExcludingAssessedTax']\n",
        "netinc=['us-gaap:NetIncomeLoss','us-gaap_NetIncomeLoss','us-gaap:NetIncomeLoss','us-gaap:IncomeLossFromContinuingOperations','us-gaap:OperatingIncomeLoss']\n",
        "rnd=['us-gaap:ResearchAndDevelopmentExpenseExcludingAcquiredInProcessCost','us-gaap_ResearchAndDevelopmentExpense']\n",
        "prop=['us-gaap_PaymentsToAcquirePropertyPlantAndEquipment','us-gaap_PropertyPlantAndEquipmentNet','us-gaap_PaymentsToAcquireProductiveAssets']\n"
      ],
      "execution_count": 0,
      "outputs": []
    },
    {
      "cell_type": "code",
      "metadata": {
        "id": "BWMNU4-9Jcbp",
        "colab_type": "code",
        "outputId": "b46b4db6-f620-4246-85d9-9dde3451f682",
        "colab": {
          "base_uri": "https://localhost:8080/",
          "height": 1000
        }
      },
      "source": [
        "cik_not_found=[]\n",
        "year_not_found=[]\n",
        "income_statements_error=[]\n",
        "balance_sheets_error=[]\n",
        "cash_flows_error=[]\n",
        "\n",
        "for y in range(2018,2019):\n",
        "    for k in stock_list:\n",
        "        \n",
        "        try:\n",
        "            stock = Stock(k)\n",
        "        except:\n",
        "            cik_not_found.append(k)\n",
        "            continue\n",
        "        period = 'annual'\n",
        "\n",
        "        try:\n",
        "            filing = stock.get_filing('annual',y,1)\n",
        "        except:\n",
        "            year_not_found.append([k,y])\n",
        "\n",
        "        try:\n",
        "          income_statements = filing.get_income_statements()\n",
        "          newdict_income_statements = income_statements.reports[0]\n",
        "        except:\n",
        "          income_statements_error.append(k)\n",
        "        try:\n",
        "          balance_sheets = filing.get_balance_sheets()\n",
        "          newdict_balance_sheets = balance_sheets.reports[0]\n",
        "        \n",
        "        \n",
        "\n",
        "       \n",
        "        #print(type(income_statements),type(cash_flows))\n",
        "        \n",
        "            \n",
        "        \n",
        "            \n",
        "        except: \n",
        "            balance_sheets_error.append(k)\n",
        "        try:\n",
        "            cash_flows = filing.get_cash_flows()\n",
        "            newdict_cash_flows = cash_flows.reports[0]\n",
        "        except:\n",
        "            cash_flows_error.append(k)\n",
        "#         print(\"\\n\\n\",income_statements)\n",
        "#         print(\"\\n\\n\",cash_flows)\n",
        "        #print(newdict_balance_sheets.map.keys())\n",
        "        with open('Data.csv', mode='a') as file:\n",
        "            file_writer = csv.writer(file, delimiter=',', quotechar='\"', quoting=csv.QUOTE_MINIMAL)\n",
        "        \n",
        "            if income_statements:\n",
        "                    print(income_statements)\n",
        "                    print(newdict_income_statements.map.keys())\n",
        "                    rev=0\n",
        "                    rnd='tag not found'\n",
        "                    for i in revenue:\n",
        "                          if i in newdict_income_statements.map.keys():\n",
        "                              \n",
        "                              rev=newdict_income_statements.map[i].value\n",
        "                          \n",
        "\n",
        "                    for m in newdict_income_statements.map.keys():\n",
        "                          if m in rnd:\n",
        "                              rnd=newdict_income_statements.map[m].value\n",
        "                          \n",
        "                      \n",
        "                        \n",
        "              \n",
        "            else:\n",
        "                rev='Income statement not found'\n",
        "                rnd='Income statement not found'\n",
        "            if cash_flows:\n",
        "                    netincome=0\n",
        "                    paymentProp='tag not found'\n",
        "                    for j in netinc:\n",
        "                        if j in newdict_cash_flows.map.keys():\n",
        "                        #print(i)\n",
        "                            netincome=newdict_cash_flows.map[j].value\n",
        "                       \n",
        "\n",
        "              \n",
        "                    for p in prop:\n",
        "                        if p in newdict_cash_flows.map.keys():\n",
        "                            paymentProp=newdict_cash_flows.map[p].value\n",
        "                       \n",
        "                            \n",
        "                        \n",
        "                      \n",
        "               \n",
        "            else:\n",
        "                netincome='cash flow not found'\n",
        "                paymentProp='cash flow not found'\n",
        "\n",
        "            file_writer.writerow([y,k,stock.cik, rev,netincome,paymentProp])"
      ],
      "execution_count": 0,
      "outputs": [
        {
          "output_type": "stream",
          "text": [
            "Processing SGML at https://www.sec.gov/Archives/edgar/data/1486957/0001486957-18-000007.txt\n",
            "<report instance=\"bwxt-20171231.xml\">\n",
            "<isdefault>false</isdefault>\n",
            "<hasembeddedreports>false</hasembeddedreports>\n",
            "<htmlfilename>R4.htm</htmlfilename>\n",
            "<longname>1002000 - Statement - Consolidated Statements of Income</longname>\n",
            "<reporttype>Sheet</reporttype>\n",
            "<role>http://www.bwxt.com/role/ConsolidatedStatementsOfIncome</role>\n",
            "<shortname>Consolidated Statements of Income</shortname>\n",
            "<menucategory>Statements</menucategory>\n",
            "<position>4</position>\n",
            "</report>\n",
            "could not find anything for ShortName statement of income\n",
            "could not find anything for ShortName consolidated statements of operations\n",
            "could not find anything for ShortName consolidated statement of earnings\n",
            "could not find anything for ShortName condensed consolidated statements of income (unaudited)\n",
            "could not find anything for ShortName condensed consolidated statements of income\n",
            "could not find anything for ShortName condensed consolidated statements of operations (unaudited)\n",
            "could not find anything for ShortName condensed consolidated statements of operations\n",
            "could not find anything for ShortName condensed consolidated statement of earnings (unaudited)\n",
            "could not find anything for ShortName condensed consolidated statement of earnings\n",
            "could not find anything for ShortName condensed statements of income\n",
            "could not find anything for ShortName condensed statements of operations\n",
            "could not find anything for ShortName condensed statements of operations and comprehensive loss\n",
            "Getting financial data for consolidated statements of income (filename: R4.htm)\n",
            "<report instance=\"bwxt-20171231.xml\">\n",
            "<isdefault>false</isdefault>\n",
            "<hasembeddedreports>false</hasembeddedreports>\n",
            "<htmlfilename>R2.htm</htmlfilename>\n",
            "<longname>1001000 - Statement - Consolidated Balance Sheets</longname>\n",
            "<reporttype>Sheet</reporttype>\n",
            "<role>http://www.bwxt.com/role/ConsolidatedBalanceSheets</role>\n",
            "<shortname>Consolidated Balance Sheets</shortname>\n",
            "<menucategory>Statements</menucategory>\n",
            "<position>2</position>\n",
            "</report>\n",
            "could not find anything for ShortName consolidated statement of financial position\n",
            "could not find anything for ShortName condensed consolidated statement of financial position (current period unaudited)\n",
            "could not find anything for ShortName condensed consolidated statement of financial position (unaudited)\n",
            "could not find anything for ShortName condensed consolidated statement of financial position\n",
            "could not find anything for ShortName condensed consolidated balance sheets (current period unaudited)\n",
            "could not find anything for ShortName condensed consolidated balance sheets (unaudited)\n",
            "could not find anything for ShortName condensed consolidated balance sheets\n",
            "could not find anything for ShortName condensed balance sheets\n",
            "Getting financial data for consolidated balance sheets (filename: R2.htm)\n",
            "<report instance=\"bwxt-20171231.xml\">\n",
            "<isdefault>false</isdefault>\n",
            "<hasembeddedreports>false</hasembeddedreports>\n",
            "<htmlfilename>R9.htm</htmlfilename>\n",
            "<longname>1005000 - Statement - Consolidated Statements of Cash Flows</longname>\n",
            "<reporttype>Sheet</reporttype>\n",
            "<role>http://www.bwxt.com/role/ConsolidatedStatementsOfCashFlows</role>\n",
            "<shortname>Consolidated Statements of Cash Flows</shortname>\n",
            "<menucategory>Statements</menucategory>\n",
            "<position>9</position>\n",
            "</report>\n",
            "could not find anything for ShortName condensed consolidated statements of cash flows (unaudited)\n",
            "could not find anything for ShortName condensed consolidated statements of cash flows\n",
            "could not find anything for ShortName condensed statements of cash flows\n",
            "Getting financial data for consolidated statements of cash flows (filename: R9.htm)\n",
            "{'company': 'BWXT', 'date_filed': datetime.datetime(2018, 2, 27, 0, 0), 'reports': [{'date': datetime.datetime(2017, 12, 31, 0, 0), 'months': 12, 'map': {'us-gaap_Revenues': {'label': 'Revenues', 'value': 1687738000.0}, 'us-gaap_CostOfRevenue': {'label': 'Cost of operations', 'value': 1170862000.0}, 'us-gaap_ResearchAndDevelopmentExpense': {'label': 'Research and development costs', 'value': 7190000.0}, 'us-gaap_GainLossOnDispositionOfAssets': {'label': 'Losses (gains) on asset disposals and impairments, net', 'value': -194000.0}, 'us-gaap_SellingGeneralAndAdministrativeExpense': {'label': 'Selling, general and administrative expenses', 'value': 214607000.0}, 'us-gaap_LossContingencyLossInPeriod': {'label': 'mPower framework agreement', 'value': 0.0}, 'bwxt_IncomeRelatedToLitigationProceeds': {'label': 'Income related to litigation proceeds', 'value': 0.0}, 'us-gaap_RestructuringCharges': {'label': 'Special charges for restructuring activities', 'value': 0.0}, 'us-gaap_CostsIncurredDevelopmentCosts': {'label': 'Costs to spin-off the Power Generation business', 'value': 0.0}, 'us-gaap_CostsAndExpenses': {'label': 'Total Costs and Expenses', 'value': 1392465000.0}, 'us-gaap_IncomeLossFromEquityMethodInvestments': {'label': 'Equity in Income of Investees', 'value': 13612000.0}, 'us-gaap_OperatingIncomeLoss': {'label': 'Operating Income', 'value': 308885000.0}, 'us-gaap_InvestmentIncomeInterest': {'label': 'Interest income', 'value': 1405000.0}, 'us-gaap_InterestExpense': {'label': 'Interest expense', 'value': -14879000.0}, 'bwxt_OtherIncomeExpenseNet': {'label': 'Other – net', 'value': 369000.0}, 'us-gaap_OtherNonoperatingIncomeExpense': {'label': 'Total Other Income (Expense)', 'value': -13105000.0}, 'us-gaap_IncomeLossFromContinuingOperationsBeforeIncomeTaxesExtraordinaryItemsNoncontrollingInterest': {'label': 'Total before tax', 'value': 295780000.0}, 'us-gaap_IncomeTaxExpenseBenefit': {'label': 'Provision for Income Taxes', 'value': 147415000.0}, 'us-gaap_IncomeLossFromContinuingOperationsIncludingPortionAttributableToNoncontrollingInterest': {'label': 'Income from continuing operations before noncontrolling interest', 'value': 148365000.0}, 'us-gaap_IncomeLossFromDiscontinuedOperationsNetOfTax': {'label': 'Income (loss) from discontinued operations, net of tax', 'value': 0.0}, 'us-gaap_ProfitLoss': {'label': 'Net Income', 'value': 148365000.0}, 'us-gaap_NetIncomeLossAttributableToNoncontrollingInterest': {'label': 'Net (Income) Loss Attributable to Noncontrolling Interest', 'value': -521000.0}, 'us-gaap_NetIncomeLoss': {'label': 'Net Income Attributable to BWX Technologies, Inc.', 'value': 147844000.0}, 'us-gaap_IncomeLossFromContinuingOperations': {'label': 'Income from continuing operations, net of tax', 'value': 147844000.0}, 'us-gaap_IncomeLossFromDiscontinuedOperationsNetOfTaxAttributableToReportingEntity': {'label': 'Income (loss) from discontinued operations, net of tax', 'value': 0.0}, 'us-gaap_IncomeLossFromContinuingOperationsPerBasicShare': {'label': 'Income from continuing operations (USD per share)', 'value': 1490.0}, 'us-gaap_IncomeLossFromDiscontinuedOperationsNetOfTaxPerBasicShare': {'label': 'Income (loss) from discontinued operations (USD per share)', 'value': 0.0}, 'us-gaap_EarningsPerShareBasic': {'label': 'Net income attributable to BWX Technologies, Inc. (USD per share)', 'value': 1.49}, 'us-gaap_IncomeLossFromContinuingOperationsPerDilutedShare': {'label': 'Income from continuing operations (USD per share)', 'value': 1470.0}, 'us-gaap_IncomeLossFromDiscontinuedOperationsNetOfTaxPerDilutedShare': {'label': 'Income (loss) from discontinued operations (USD per share)', 'value': 0.0}, 'us-gaap_EarningsPerShareDiluted': {'label': 'Net income attributable to BWX Technologies, Inc. (USD per share)', 'value': 1.47}, 'us-gaap_WeightedAverageNumberOfSharesOutstandingBasic': {'label': 'Basic (in shares)', 'value': 99334472.0}, 'us-gaap_WeightedAverageNumberOfDilutedSharesOutstanding': {'label': 'Diluted (in shares)', 'value': 100369190.0}}}, {'date': datetime.datetime(2016, 12, 31, 0, 0), 'months': 12, 'map': {'us-gaap_Revenues': {'label': 'Revenues', 'value': 1550573000.0}, 'us-gaap_CostOfRevenue': {'label': 'Cost of operations', 'value': 1074529000.0}, 'us-gaap_ResearchAndDevelopmentExpense': {'label': 'Research and development costs', 'value': 6407000.0}, 'us-gaap_GainLossOnDispositionOfAssets': {'label': 'Losses (gains) on asset disposals and impairments, net', 'value': -43000.0}, 'us-gaap_SellingGeneralAndAdministrativeExpense': {'label': 'Selling, general and administrative expenses', 'value': 216486000.0}, 'us-gaap_LossContingencyLossInPeriod': {'label': 'mPower framework agreement', 'value': 30000000.0}, 'bwxt_IncomeRelatedToLitigationProceeds': {'label': 'Income related to litigation proceeds', 'value': 0.0}, 'us-gaap_RestructuringCharges': {'label': 'Special charges for restructuring activities', 'value': 0.0}, 'us-gaap_CostsIncurredDevelopmentCosts': {'label': 'Costs to spin-off the Power Generation business', 'value': 0.0}, 'us-gaap_CostsAndExpenses': {'label': 'Total Costs and Expenses', 'value': 1327379000.0}, 'us-gaap_IncomeLossFromEquityMethodInvestments': {'label': 'Equity in Income of Investees', 'value': 16069000.0}, 'us-gaap_OperatingIncomeLoss': {'label': 'Operating Income', 'value': 239263000.0}, 'us-gaap_InvestmentIncomeInterest': {'label': 'Interest income', 'value': 651000.0}, 'us-gaap_InterestExpense': {'label': 'Interest expense', 'value': -8393000.0}, 'bwxt_OtherIncomeExpenseNet': {'label': 'Other – net', 'value': 25747000.0}, 'us-gaap_OtherNonoperatingIncomeExpense': {'label': 'Total Other Income (Expense)', 'value': 18005000.0}, 'us-gaap_IncomeLossFromContinuingOperationsBeforeIncomeTaxesExtraordinaryItemsNoncontrollingInterest': {'label': 'Total before tax', 'value': 257268000.0}, 'us-gaap_IncomeTaxExpenseBenefit': {'label': 'Provision for Income Taxes', 'value': 73656000.0}, 'us-gaap_IncomeLossFromContinuingOperationsIncludingPortionAttributableToNoncontrollingInterest': {'label': 'Income from continuing operations before noncontrolling interest', 'value': 183612000.0}, 'us-gaap_IncomeLossFromDiscontinuedOperationsNetOfTax': {'label': 'Income (loss) from discontinued operations, net of tax', 'value': 0.0}, 'us-gaap_ProfitLoss': {'label': 'Net Income', 'value': 183612000.0}, 'us-gaap_NetIncomeLossAttributableToNoncontrollingInterest': {'label': 'Net (Income) Loss Attributable to Noncontrolling Interest', 'value': -555000.0}, 'us-gaap_NetIncomeLoss': {'label': 'Net Income Attributable to BWX Technologies, Inc.', 'value': 183057000.0}, 'us-gaap_IncomeLossFromContinuingOperations': {'label': 'Income from continuing operations, net of tax', 'value': 183057000.0}, 'us-gaap_IncomeLossFromDiscontinuedOperationsNetOfTaxAttributableToReportingEntity': {'label': 'Income (loss) from discontinued operations, net of tax', 'value': 0.0}, 'us-gaap_IncomeLossFromContinuingOperationsPerBasicShare': {'label': 'Income from continuing operations (USD per share)', 'value': 1790.0}, 'us-gaap_IncomeLossFromDiscontinuedOperationsNetOfTaxPerBasicShare': {'label': 'Income (loss) from discontinued operations (USD per share)', 'value': 0.0}, 'us-gaap_EarningsPerShareBasic': {'label': 'Net income attributable to BWX Technologies, Inc. (USD per share)', 'value': 1.79}, 'us-gaap_IncomeLossFromContinuingOperationsPerDilutedShare': {'label': 'Income from continuing operations (USD per share)', 'value': 1760.0}, 'us-gaap_IncomeLossFromDiscontinuedOperationsNetOfTaxPerDilutedShare': {'label': 'Income (loss) from discontinued operations (USD per share)', 'value': 0.0}, 'us-gaap_EarningsPerShareDiluted': {'label': 'Net income attributable to BWX Technologies, Inc. (USD per share)', 'value': 1.76}, 'us-gaap_WeightedAverageNumberOfSharesOutstandingBasic': {'label': 'Basic (in shares)', 'value': 102471788.0}, 'us-gaap_WeightedAverageNumberOfDilutedSharesOutstanding': {'label': 'Diluted (in shares)', 'value': 103840738.0}}}, {'date': datetime.datetime(2015, 12, 31, 0, 0), 'months': 12, 'map': {'us-gaap_Revenues': {'label': 'Revenues', 'value': 1415529000.0}, 'us-gaap_CostOfRevenue': {'label': 'Cost of operations', 'value': 1027437000.0}, 'us-gaap_ResearchAndDevelopmentExpense': {'label': 'Research and development costs', 'value': 10537000.0}, 'us-gaap_GainLossOnDispositionOfAssets': {'label': 'Losses (gains) on asset disposals and impairments, net', 'value': 382000.0}, 'us-gaap_SellingGeneralAndAdministrativeExpense': {'label': 'Selling, general and administrative expenses', 'value': 207761000.0}, 'us-gaap_LossContingencyLossInPeriod': {'label': 'mPower framework agreement', 'value': 0.0}, 'bwxt_IncomeRelatedToLitigationProceeds': {'label': 'Income related to litigation proceeds', 'value': -65728000.0}, 'us-gaap_RestructuringCharges': {'label': 'Special charges for restructuring activities', 'value': 16608000.0}, 'us-gaap_CostsIncurredDevelopmentCosts': {'label': 'Costs to spin-off the Power Generation business', 'value': 25987000.0}, 'us-gaap_CostsAndExpenses': {'label': 'Total Costs and Expenses', 'value': 1222984000.0}, 'us-gaap_IncomeLossFromEquityMethodInvestments': {'label': 'Equity in Income of Investees', 'value': 13396000.0}, 'us-gaap_OperatingIncomeLoss': {'label': 'Operating Income', 'value': 205941000.0}, 'us-gaap_InvestmentIncomeInterest': {'label': 'Interest income', 'value': 30331000.0}, 'us-gaap_InterestExpense': {'label': 'Interest expense', 'value': -10181000.0}, 'bwxt_OtherIncomeExpenseNet': {'label': 'Other – net', 'value': -5026000.0}, 'us-gaap_OtherNonoperatingIncomeExpense': {'label': 'Total Other Income (Expense)', 'value': 15124000.0}, 'us-gaap_IncomeLossFromContinuingOperationsBeforeIncomeTaxesExtraordinaryItemsNoncontrollingInterest': {'label': 'Total before tax', 'value': 221065000.0}, 'us-gaap_IncomeTaxExpenseBenefit': {'label': 'Provision for Income Taxes', 'value': 80416000.0}, 'us-gaap_IncomeLossFromContinuingOperationsIncludingPortionAttributableToNoncontrollingInterest': {'label': 'Income from continuing operations before noncontrolling interest', 'value': 140649000.0}, 'us-gaap_IncomeLossFromDiscontinuedOperationsNetOfTax': {'label': 'Income (loss) from discontinued operations, net of tax', 'value': -9203000.0}, 'us-gaap_ProfitLoss': {'label': 'Net Income', 'value': 131446000.0}, 'us-gaap_NetIncomeLossAttributableToNoncontrollingInterest': {'label': 'Net (Income) Loss Attributable to Noncontrolling Interest', 'value': 19000.0}, 'us-gaap_NetIncomeLoss': {'label': 'Net Income Attributable to BWX Technologies, Inc.', 'value': 131465000.0}, 'us-gaap_IncomeLossFromContinuingOperations': {'label': 'Income from continuing operations, net of tax', 'value': 140774000.0}, 'us-gaap_IncomeLossFromDiscontinuedOperationsNetOfTaxAttributableToReportingEntity': {'label': 'Income (loss) from discontinued operations, net of tax', 'value': -9309000.0}, 'us-gaap_IncomeLossFromContinuingOperationsPerBasicShare': {'label': 'Income from continuing operations (USD per share)', 'value': 1320.0}, 'us-gaap_IncomeLossFromDiscontinuedOperationsNetOfTaxPerBasicShare': {'label': 'Income (loss) from discontinued operations (USD per share)', 'value': -90.0}, 'us-gaap_EarningsPerShareBasic': {'label': 'Net income attributable to BWX Technologies, Inc. (USD per share)', 'value': 1.23}, 'us-gaap_IncomeLossFromContinuingOperationsPerDilutedShare': {'label': 'Income from continuing operations (USD per share)', 'value': 1310.0}, 'us-gaap_IncomeLossFromDiscontinuedOperationsNetOfTaxPerDilutedShare': {'label': 'Income (loss) from discontinued operations (USD per share)', 'value': -90.0}, 'us-gaap_EarningsPerShareDiluted': {'label': 'Net income attributable to BWX Technologies, Inc. (USD per share)', 'value': 1.22}, 'us-gaap_WeightedAverageNumberOfSharesOutstandingBasic': {'label': 'Basic (in shares)', 'value': 106703145.0}, 'us-gaap_WeightedAverageNumberOfDilutedSharesOutstanding': {'label': 'Diluted (in shares)', 'value': 107583022.0}}}]}\n",
            "dict_keys(['us-gaap_Revenues', 'us-gaap_CostOfRevenue', 'us-gaap_ResearchAndDevelopmentExpense', 'us-gaap_GainLossOnDispositionOfAssets', 'us-gaap_SellingGeneralAndAdministrativeExpense', 'us-gaap_LossContingencyLossInPeriod', 'bwxt_IncomeRelatedToLitigationProceeds', 'us-gaap_RestructuringCharges', 'us-gaap_CostsIncurredDevelopmentCosts', 'us-gaap_CostsAndExpenses', 'us-gaap_IncomeLossFromEquityMethodInvestments', 'us-gaap_OperatingIncomeLoss', 'us-gaap_InvestmentIncomeInterest', 'us-gaap_InterestExpense', 'bwxt_OtherIncomeExpenseNet', 'us-gaap_OtherNonoperatingIncomeExpense', 'us-gaap_IncomeLossFromContinuingOperationsBeforeIncomeTaxesExtraordinaryItemsNoncontrollingInterest', 'us-gaap_IncomeTaxExpenseBenefit', 'us-gaap_IncomeLossFromContinuingOperationsIncludingPortionAttributableToNoncontrollingInterest', 'us-gaap_IncomeLossFromDiscontinuedOperationsNetOfTax', 'us-gaap_ProfitLoss', 'us-gaap_NetIncomeLossAttributableToNoncontrollingInterest', 'us-gaap_NetIncomeLoss', 'us-gaap_IncomeLossFromContinuingOperations', 'us-gaap_IncomeLossFromDiscontinuedOperationsNetOfTaxAttributableToReportingEntity', 'us-gaap_IncomeLossFromContinuingOperationsPerBasicShare', 'us-gaap_IncomeLossFromDiscontinuedOperationsNetOfTaxPerBasicShare', 'us-gaap_EarningsPerShareBasic', 'us-gaap_IncomeLossFromContinuingOperationsPerDilutedShare', 'us-gaap_IncomeLossFromDiscontinuedOperationsNetOfTaxPerDilutedShare', 'us-gaap_EarningsPerShareDiluted', 'us-gaap_WeightedAverageNumberOfSharesOutstandingBasic', 'us-gaap_WeightedAverageNumberOfDilutedSharesOutstanding'])\n"
          ],
          "name": "stdout"
        },
        {
          "output_type": "execute_result",
          "data": {
            "text/plain": [
              "46"
            ]
          },
          "metadata": {
            "tags": []
          },
          "execution_count": 16
        },
        {
          "output_type": "stream",
          "text": [
            "cik for CUB is 26076\n",
            "getting ['10-K', '10-K/A'] filing info from https://www.sec.gov/Archives/edgar/full-index/2018/QTR1/master.idx\n",
            "No annual filing info found for year=2018 quarter=1. Finding latest.\n",
            "getting ['10-K', '10-K/A'] filing info from https://www.sec.gov/Archives/edgar/full-index/2018/QTR1/master.idx\n",
            "Will do a final attempt to find filing info from last year\n",
            "getting ['10-K', '10-K/A'] filing info from https://www.sec.gov/Archives/edgar/full-index/2017/QTR4/master.idx\n",
            "Processing SGML at https://www.sec.gov/Archives/edgar/data/26076/0001558370-17-009028.txt\n",
            "could not find anything for ShortName consolidated statements of income\n",
            "could not find anything for ShortName statement of income\n",
            "<report instance=\"cub-20170930.xml\">\n",
            "<isdefault>false</isdefault>\n",
            "<hasembeddedreports>false</hasembeddedreports>\n",
            "<htmlfilename>R2.htm</htmlfilename>\n",
            "<longname>00100 - Statement - CONSOLIDATED STATEMENTS OF OPERATIONS</longname>\n",
            "<reporttype>Sheet</reporttype>\n",
            "<role>http://www.cubic.com/role/StatementConsolidatedStatementsOfOperations</role>\n",
            "<shortname>CONSOLIDATED STATEMENTS OF OPERATIONS</shortname>\n",
            "<menucategory>Statements</menucategory>\n",
            "<position>2</position>\n",
            "</report>\n",
            "could not find anything for ShortName consolidated statement of earnings\n",
            "could not find anything for ShortName condensed consolidated statements of income (unaudited)\n",
            "could not find anything for ShortName condensed consolidated statements of income\n",
            "could not find anything for ShortName condensed consolidated statements of operations (unaudited)\n",
            "could not find anything for ShortName condensed consolidated statements of operations\n",
            "could not find anything for ShortName condensed consolidated statement of earnings (unaudited)\n",
            "could not find anything for ShortName condensed consolidated statement of earnings\n",
            "could not find anything for ShortName condensed statements of income\n",
            "could not find anything for ShortName condensed statements of operations\n",
            "could not find anything for ShortName condensed statements of operations and comprehensive loss\n",
            "Getting financial data for consolidated statements of operations (filename: R2.htm)\n",
            "Warning:  (from us-gaap_DefinedBenefitPlanRecognizedNetGainLossDueToSettlements1) is not numeric even after removing special characters () - ignoring\n",
            "<report instance=\"cub-20170930.xml\">\n",
            "<isdefault>false</isdefault>\n",
            "<hasembeddedreports>false</hasembeddedreports>\n",
            "<htmlfilename>R4.htm</htmlfilename>\n",
            "<longname>00300 - Statement - CONSOLIDATED BALANCE SHEETS</longname>\n",
            "<reporttype>Sheet</reporttype>\n",
            "<role>http://www.cubic.com/role/StatementConsolidatedBalanceSheets</role>\n",
            "<shortname>CONSOLIDATED BALANCE SHEETS</shortname>\n",
            "<menucategory>Statements</menucategory>\n",
            "<position>4</position>\n",
            "</report>\n",
            "could not find anything for ShortName consolidated statement of financial position\n",
            "could not find anything for ShortName condensed consolidated statement of financial position (current period unaudited)\n",
            "could not find anything for ShortName condensed consolidated statement of financial position (unaudited)\n",
            "could not find anything for ShortName condensed consolidated statement of financial position\n",
            "could not find anything for ShortName condensed consolidated balance sheets (current period unaudited)\n",
            "could not find anything for ShortName condensed consolidated balance sheets (unaudited)\n",
            "could not find anything for ShortName condensed consolidated balance sheets\n",
            "could not find anything for ShortName condensed balance sheets\n",
            "Getting financial data for consolidated balance sheets (filename: R4.htm)\n",
            "<report instance=\"cub-20170930.xml\">\n",
            "<isdefault>false</isdefault>\n",
            "<hasembeddedreports>false</hasembeddedreports>\n",
            "<htmlfilename>R6.htm</htmlfilename>\n",
            "<longname>00400 - Statement - CONSOLIDATED STATEMENTS OF CASH FLOWS</longname>\n",
            "<reporttype>Sheet</reporttype>\n",
            "<role>http://www.cubic.com/role/StatementConsolidatedStatementsOfCashFlows</role>\n",
            "<shortname>CONSOLIDATED STATEMENTS OF CASH FLOWS</shortname>\n",
            "<menucategory>Statements</menucategory>\n",
            "<position>6</position>\n",
            "</report>\n",
            "could not find anything for ShortName condensed consolidated statements of cash flows (unaudited)\n",
            "could not find anything for ShortName condensed consolidated statements of cash flows\n",
            "could not find anything for ShortName condensed statements of cash flows\n",
            "Getting financial data for consolidated statements of cash flows (filename: R6.htm)\n",
            "Warning:  (from us-gaap_GainLossOnDispositionOfAssets1) is not numeric even after removing special characters () - ignoring\n",
            "Warning:  (from us-gaap_GainLossOnDispositionOfAssets1) is not numeric even after removing special characters () - ignoring\n",
            "Warning:  (from us-gaap_ProceedsFromSaleOfPropertyPlantAndEquipment) is not numeric even after removing special characters () - ignoring\n",
            "Warning:  (from us-gaap_ProceedsFromSaleOfPropertyPlantAndEquipment) is not numeric even after removing special characters () - ignoring\n",
            "Warning:  (from cub_PaymentsToAcquireNonMarketableSecurities) is not numeric even after removing special characters () - ignoring\n",
            "Warning:  (from cub_PaymentsToAcquireNonMarketableSecurities) is not numeric even after removing special characters () - ignoring\n",
            "Warning:  (from us-gaap_PaymentsOfDebtIssuanceCosts) is not numeric even after removing special characters () - ignoring\n",
            "Warning:  (from us-gaap_ProceedsFromIssuanceOfSharesUnderIncentiveAndShareBasedCompensationPlans) is not numeric even after removing special characters () - ignoring\n",
            "Warning:  (from us-gaap_ProceedsFromIssuanceOfSharesUnderIncentiveAndShareBasedCompensationPlans) is not numeric even after removing special characters () - ignoring\n",
            "Warning:  (from cub_PaymentsOfContingentConsiderationRelatedToAcquisitionOfBusinesses) is not numeric even after removing special characters () - ignoring\n",
            "Warning:  (from us-gaap_NoncashOrPartNoncashAcquisitionValueOfLiabilitiesAssumed1) is not numeric even after removing special characters () - ignoring\n",
            "Warning:  (from us-gaap_NoncashOrPartNoncashAcquisitionValueOfLiabilitiesAssumed1) is not numeric even after removing special characters () - ignoring\n",
            "Warning:  (from us-gaap_NoncashOrPartNoncashAcquisitionValueOfLiabilitiesAssumed1) is not numeric even after removing special characters () - ignoring\n",
            "Warning:  (from us-gaap_NoncashOrPartNoncashAcquisitionValueOfLiabilitiesAssumed1) is not numeric even after removing special characters () - ignoring\n",
            "Warning:  (from us-gaap_NoncashOrPartNoncashAcquisitionValueOfLiabilitiesAssumed1) is not numeric even after removing special characters () - ignoring\n",
            "Warning:  (from us-gaap_NoncashOrPartNoncashAcquisitionValueOfLiabilitiesAssumed1) is not numeric even after removing special characters () - ignoring\n",
            "Warning:  (from us-gaap_NoncashOrPartNoncashAcquisitionValueOfLiabilitiesAssumed1) is not numeric even after removing special characters () - ignoring\n",
            "{'company': 'CUB', 'date_filed': datetime.datetime(2017, 11, 20, 0, 0), 'reports': [{'date': datetime.datetime(2017, 9, 30, 0, 0), 'months': 12, 'map': {'us-gaap_SalesRevenueGoodsNet': {'label': 'Products', 'value': 681559000.0}, 'us-gaap_SalesRevenueServicesNet': {'label': 'Services', 'value': 804302000.0}, 'us-gaap_SalesRevenueNet': {'label': 'Total net sales', 'value': 1485861000.0}, 'us-gaap_CostOfGoodsSold': {'label': 'Products', 'value': 473670000.0}, 'us-gaap_CostOfServices': {'label': 'Services', 'value': 648472000.0}, 'us-gaap_SellingGeneralAndAdministrativeExpense': {'label': 'Selling, general and administrative expenses', 'value': 258088000.0}, 'us-gaap_ResearchAndDevelopmentExpense': {'label': 'Research and development', 'value': 52652000.0}, 'us-gaap_AmortizationOfIntangibleAssets': {'label': 'Amortization of purchased intangibles', 'value': 32997000.0}, 'us-gaap_RestructuringCharges': {'label': 'Restructuring costs', 'value': 2468000.0}, 'us-gaap_CostsAndExpenses': {'label': 'Total costs and expenses', 'value': 1468347000.0}, 'us-gaap_OperatingIncomeLoss': {'label': 'Operating income', 'value': 17514000.0}, 'us-gaap_InvestmentIncomeInterestAndDividend': {'label': 'Interest and dividend income', 'value': 994000.0}, 'us-gaap_InterestExpenseDebt': {'label': 'Interest expense', 'value': -15027000.0}, 'us-gaap_OtherNonoperatingIncomeExpense': {'label': 'Other income (expense), net', 'value': 369000.0}, 'us-gaap_IncomeLossFromContinuingOperationsBeforeIncomeTaxesMinorityInterestAndIncomeLossFromEquityMethodInvestments': {'label': 'Income (loss) before income taxes', 'value': 3850000.0}, 'us-gaap_IncomeTaxExpenseBenefit': {'label': 'Income tax provision (benefit)', 'value': 15059000.0}, 'us-gaap_ProfitLoss': {'label': 'Net income (loss)', 'value': -11209000.0}, 'us-gaap_NetIncomeLoss': {'label': 'Net income (loss) attributable to Cubic', 'value': -11209000.0}, 'us-gaap_EarningsPerShareBasic': {'label': 'Basic (in dollars per share)', 'value': -0.41}, 'us-gaap_EarningsPerShareDiluted': {'label': 'Diluted (in dollars per share)', 'value': -0.41}, 'us-gaap_WeightedAverageNumberOfSharesOutstandingBasic': {'label': 'Basic (in shares)', 'value': 27106000.0}, 'us-gaap_WeightedAverageNumberOfDilutedSharesOutstanding': {'label': 'Diluted (in shares)', 'value': 27106000.0}}}, {'date': datetime.datetime(2016, 9, 30, 0, 0), 'months': 12, 'map': {'us-gaap_SalesRevenueGoodsNet': {'label': 'Products', 'value': 661904000.0}, 'us-gaap_SalesRevenueServicesNet': {'label': 'Services', 'value': 799761000.0}, 'us-gaap_SalesRevenueNet': {'label': 'Total net sales', 'value': 1461665000.0}, 'us-gaap_CostOfGoodsSold': {'label': 'Products', 'value': 473444000.0}, 'us-gaap_CostOfServices': {'label': 'Services', 'value': 643462000.0}, 'us-gaap_SellingGeneralAndAdministrativeExpense': {'label': 'Selling, general and administrative expenses', 'value': 269593000.0}, 'us-gaap_ResearchAndDevelopmentExpense': {'label': 'Research and development', 'value': 31976000.0}, 'us-gaap_AmortizationOfIntangibleAssets': {'label': 'Amortization of purchased intangibles', 'value': 34120000.0}, 'us-gaap_RestructuringCharges': {'label': 'Restructuring costs', 'value': 1852000.0}, 'us-gaap_CostsAndExpenses': {'label': 'Total costs and expenses', 'value': 1454447000.0}, 'us-gaap_OperatingIncomeLoss': {'label': 'Operating income', 'value': 7218000.0}, 'us-gaap_InvestmentIncomeInterestAndDividend': {'label': 'Interest and dividend income', 'value': 1476000.0}, 'us-gaap_InterestExpenseDebt': {'label': 'Interest expense', 'value': -11199000.0}, 'us-gaap_DefinedBenefitPlanRecognizedNetGainLossDueToSettlements1': {'label': 'Pension settlement loss', 'value': -2671000.0}, 'us-gaap_OtherNonoperatingIncomeExpense': {'label': 'Other income (expense), net', 'value': -2301000.0}, 'us-gaap_IncomeLossFromContinuingOperationsBeforeIncomeTaxesMinorityInterestAndIncomeLossFromEquityMethodInvestments': {'label': 'Income (loss) before income taxes', 'value': -7477000.0}, 'us-gaap_IncomeTaxExpenseBenefit': {'label': 'Income tax provision (benefit)', 'value': -9212000.0}, 'us-gaap_ProfitLoss': {'label': 'Net income (loss)', 'value': 1735000.0}, 'us-gaap_NetIncomeLoss': {'label': 'Net income (loss) attributable to Cubic', 'value': 1735000.0}, 'us-gaap_EarningsPerShareBasic': {'label': 'Basic (in dollars per share)', 'value': 0.06}, 'us-gaap_EarningsPerShareDiluted': {'label': 'Diluted (in dollars per share)', 'value': 0.06}, 'us-gaap_WeightedAverageNumberOfSharesOutstandingBasic': {'label': 'Basic (in shares)', 'value': 26976000.0}, 'us-gaap_WeightedAverageNumberOfDilutedSharesOutstanding': {'label': 'Diluted (in shares)', 'value': 27040000.0}}}, {'date': datetime.datetime(2015, 9, 30, 0, 0), 'months': 12, 'map': {'us-gaap_SalesRevenueGoodsNet': {'label': 'Products', 'value': 607226000.0}, 'us-gaap_SalesRevenueServicesNet': {'label': 'Services', 'value': 823819000.0}, 'us-gaap_SalesRevenueNet': {'label': 'Total net sales', 'value': 1431045000.0}, 'us-gaap_CostOfGoodsSold': {'label': 'Products', 'value': 451295000.0}, 'us-gaap_CostOfServices': {'label': 'Services', 'value': 640031000.0}, 'us-gaap_SellingGeneralAndAdministrativeExpense': {'label': 'Selling, general and administrative expenses', 'value': 212518000.0}, 'us-gaap_ResearchAndDevelopmentExpense': {'label': 'Research and development', 'value': 17992000.0}, 'us-gaap_AmortizationOfIntangibleAssets': {'label': 'Amortization of purchased intangibles', 'value': 27550000.0}, 'us-gaap_RestructuringCharges': {'label': 'Restructuring costs', 'value': 6272000.0}, 'us-gaap_CostsAndExpenses': {'label': 'Total costs and expenses', 'value': 1355658000.0}, 'us-gaap_OperatingIncomeLoss': {'label': 'Operating income', 'value': 75387000.0}, 'us-gaap_InvestmentIncomeInterestAndDividend': {'label': 'Interest and dividend income', 'value': 1809000.0}, 'us-gaap_InterestExpenseDebt': {'label': 'Interest expense', 'value': -4400000.0}, 'us-gaap_OtherNonoperatingIncomeExpense': {'label': 'Other income (expense), net', 'value': -885000.0}, 'us-gaap_IncomeLossFromContinuingOperationsBeforeIncomeTaxesMinorityInterestAndIncomeLossFromEquityMethodInvestments': {'label': 'Income (loss) before income taxes', 'value': 71911000.0}, 'us-gaap_IncomeTaxExpenseBenefit': {'label': 'Income tax provision (benefit)', 'value': 48997000.0}, 'us-gaap_ProfitLoss': {'label': 'Net income (loss)', 'value': 22914000.0}, 'us-gaap_NetIncomeLossAttributableToNoncontrollingInterest': {'label': 'Less noncontrolling interest in income of VIE', 'value': 29000.0}, 'us-gaap_NetIncomeLoss': {'label': 'Net income (loss) attributable to Cubic', 'value': 22885000.0}, 'us-gaap_EarningsPerShareBasic': {'label': 'Basic (in dollars per share)', 'value': 0.85}, 'us-gaap_EarningsPerShareDiluted': {'label': 'Diluted (in dollars per share)', 'value': 0.85}, 'us-gaap_WeightedAverageNumberOfSharesOutstandingBasic': {'label': 'Basic (in shares)', 'value': 26872000.0}, 'us-gaap_WeightedAverageNumberOfDilutedSharesOutstanding': {'label': 'Diluted (in shares)', 'value': 26938000.0}}}]}\n",
            "dict_keys(['us-gaap_SalesRevenueGoodsNet', 'us-gaap_SalesRevenueServicesNet', 'us-gaap_SalesRevenueNet', 'us-gaap_CostOfGoodsSold', 'us-gaap_CostOfServices', 'us-gaap_SellingGeneralAndAdministrativeExpense', 'us-gaap_ResearchAndDevelopmentExpense', 'us-gaap_AmortizationOfIntangibleAssets', 'us-gaap_RestructuringCharges', 'us-gaap_CostsAndExpenses', 'us-gaap_OperatingIncomeLoss', 'us-gaap_InvestmentIncomeInterestAndDividend', 'us-gaap_InterestExpenseDebt', 'us-gaap_OtherNonoperatingIncomeExpense', 'us-gaap_IncomeLossFromContinuingOperationsBeforeIncomeTaxesMinorityInterestAndIncomeLossFromEquityMethodInvestments', 'us-gaap_IncomeTaxExpenseBenefit', 'us-gaap_ProfitLoss', 'us-gaap_NetIncomeLoss', 'us-gaap_EarningsPerShareBasic', 'us-gaap_EarningsPerShareDiluted', 'us-gaap_WeightedAverageNumberOfSharesOutstandingBasic', 'us-gaap_WeightedAverageNumberOfDilutedSharesOutstanding'])\n"
          ],
          "name": "stdout"
        },
        {
          "output_type": "execute_result",
          "data": {
            "text/plain": [
              "43"
            ]
          },
          "metadata": {
            "tags": []
          },
          "execution_count": 16
        },
        {
          "output_type": "stream",
          "text": [
            "cik for CW is 26324\n",
            "getting ['10-K', '10-K/A'] filing info from https://www.sec.gov/Archives/edgar/full-index/2018/QTR1/master.idx\n",
            "Processing SGML at https://www.sec.gov/Archives/edgar/data/26324/0000026324-18-000003.txt\n",
            "could not find anything for ShortName consolidated statements of income\n",
            "could not find anything for ShortName statement of income\n",
            "could not find anything for ShortName consolidated statements of operations\n",
            "could not find anything for ShortName consolidated statement of earnings\n",
            "could not find anything for ShortName condensed consolidated statements of income (unaudited)\n",
            "could not find anything for ShortName condensed consolidated statements of income\n",
            "could not find anything for ShortName condensed consolidated statements of operations (unaudited)\n",
            "could not find anything for ShortName condensed consolidated statements of operations\n",
            "could not find anything for ShortName condensed consolidated statement of earnings (unaudited)\n",
            "could not find anything for ShortName condensed consolidated statement of earnings\n",
            "could not find anything for ShortName condensed statements of income\n",
            "could not find anything for ShortName condensed statements of operations\n",
            "could not find anything for ShortName condensed statements of operations and comprehensive loss\n",
            "No financial documents could be found. Likely need to             update constants in edgar.filing.Statements.\n",
            "could not find anything for ShortName consolidated balance sheets\n",
            "could not find anything for ShortName consolidated statement of financial position\n",
            "could not find anything for ShortName condensed consolidated statement of financial position (current period unaudited)\n",
            "could not find anything for ShortName condensed consolidated statement of financial position (unaudited)\n",
            "could not find anything for ShortName condensed consolidated statement of financial position\n",
            "could not find anything for ShortName condensed consolidated balance sheets (current period unaudited)\n",
            "could not find anything for ShortName condensed consolidated balance sheets (unaudited)\n",
            "could not find anything for ShortName condensed consolidated balance sheets\n",
            "could not find anything for ShortName condensed balance sheets\n",
            "No financial documents could be found. Likely need to             update constants in edgar.filing.Statements.\n",
            "<report instance=\"cw-20171231.xml\">\n",
            "<isdefault>false</isdefault>\n",
            "<hasembeddedreports>false</hasembeddedreports>\n",
            "<htmlfilename>R7.htm</htmlfilename>\n",
            "<longname>1007000 - Statement - CONSOLIDATED STATEMENTS OF CASH FLOWS</longname>\n",
            "<reporttype>Sheet</reporttype>\n",
            "<role>http://www.curtisswright.com/role/ConsolidatedStatementsOfCashFlows</role>\n",
            "<shortname>CONSOLIDATED STATEMENTS OF CASH FLOWS</shortname>\n",
            "<menucategory>Statements</menucategory>\n",
            "<position>7</position>\n",
            "</report>\n",
            "could not find anything for ShortName condensed consolidated statements of cash flows (unaudited)\n",
            "could not find anything for ShortName condensed consolidated statements of cash flows\n",
            "could not find anything for ShortName condensed statements of cash flows\n",
            "Getting financial data for consolidated statements of cash flows (filename: R7.htm)\n"
          ],
          "name": "stdout"
        },
        {
          "output_type": "execute_result",
          "data": {
            "text/plain": [
              "56"
            ]
          },
          "metadata": {
            "tags": []
          },
          "execution_count": 16
        },
        {
          "output_type": "stream",
          "text": [
            "cik for DCO is 30305\n",
            "getting ['10-K', '10-K/A'] filing info from https://www.sec.gov/Archives/edgar/full-index/2018/QTR1/master.idx\n",
            "Processing SGML at https://www.sec.gov/Archives/edgar/data/30305/0001628280-18-002505.txt\n",
            "could not find anything for ShortName consolidated statements of income\n",
            "could not find anything for ShortName statement of income\n",
            "<report instance=\"dco-20171231.xml\">\n",
            "<isdefault>false</isdefault>\n",
            "<hasembeddedreports>false</hasembeddedreports>\n",
            "<htmlfilename>R4.htm</htmlfilename>\n",
            "<longname>1002000 - Statement - Consolidated Statements of Operations</longname>\n",
            "<reporttype>Sheet</reporttype>\n",
            "<role>http://www.ducommun.com/role/ConsolidatedStatementsOfOperations</role>\n",
            "<shortname>Consolidated Statements of Operations</shortname>\n",
            "<menucategory>Statements</menucategory>\n",
            "<position>4</position>\n",
            "</report>\n",
            "could not find anything for ShortName consolidated statement of earnings\n",
            "could not find anything for ShortName condensed consolidated statements of income (unaudited)\n",
            "could not find anything for ShortName condensed consolidated statements of income\n",
            "could not find anything for ShortName condensed consolidated statements of operations (unaudited)\n",
            "could not find anything for ShortName condensed consolidated statements of operations\n",
            "could not find anything for ShortName condensed consolidated statement of earnings (unaudited)\n",
            "could not find anything for ShortName condensed consolidated statement of earnings\n",
            "could not find anything for ShortName condensed statements of income\n",
            "could not find anything for ShortName condensed statements of operations\n",
            "could not find anything for ShortName condensed statements of operations and comprehensive loss\n",
            "Getting financial data for consolidated statements of operations (filename: R4.htm)\n",
            "<report instance=\"dco-20171231.xml\">\n",
            "<isdefault>false</isdefault>\n",
            "<hasembeddedreports>false</hasembeddedreports>\n",
            "<htmlfilename>R2.htm</htmlfilename>\n",
            "<longname>1001000 - Statement - Consolidated Balance Sheets</longname>\n",
            "<reporttype>Sheet</reporttype>\n",
            "<role>http://www.ducommun.com/role/ConsolidatedBalanceSheets</role>\n",
            "<shortname>Consolidated Balance Sheets</shortname>\n",
            "<menucategory>Statements</menucategory>\n",
            "<position>2</position>\n",
            "</report>\n",
            "could not find anything for ShortName consolidated statement of financial position\n",
            "could not find anything for ShortName condensed consolidated statement of financial position (current period unaudited)\n",
            "could not find anything for ShortName condensed consolidated statement of financial position (unaudited)\n",
            "could not find anything for ShortName condensed consolidated statement of financial position\n",
            "could not find anything for ShortName condensed consolidated balance sheets (current period unaudited)\n",
            "could not find anything for ShortName condensed consolidated balance sheets (unaudited)\n",
            "could not find anything for ShortName condensed consolidated balance sheets\n",
            "could not find anything for ShortName condensed balance sheets\n",
            "Getting financial data for consolidated balance sheets (filename: R2.htm)\n",
            "<report instance=\"dco-20171231.xml\">\n",
            "<isdefault>false</isdefault>\n",
            "<hasembeddedreports>false</hasembeddedreports>\n",
            "<htmlfilename>R8.htm</htmlfilename>\n",
            "<longname>1005000 - Statement - Consolidated Statements of Cash Flows</longname>\n",
            "<reporttype>Sheet</reporttype>\n",
            "<role>http://www.ducommun.com/role/ConsolidatedStatementsOfCashFlows</role>\n",
            "<shortname>Consolidated Statements of Cash Flows</shortname>\n",
            "<menucategory>Statements</menucategory>\n",
            "<position>8</position>\n",
            "</report>\n",
            "could not find anything for ShortName condensed consolidated statements of cash flows (unaudited)\n",
            "could not find anything for ShortName condensed consolidated statements of cash flows\n",
            "could not find anything for ShortName condensed statements of cash flows\n",
            "Getting financial data for consolidated statements of cash flows (filename: R8.htm)\n",
            "{'company': 'DCO', 'date_filed': datetime.datetime(2018, 2, 28, 0, 0), 'reports': [{'date': datetime.datetime(2017, 12, 31, 0, 0), 'months': 12, 'map': {'us-gaap_SalesRevenueNet': {'label': 'Net Revenues', 'value': 558183000.0}, 'us-gaap_CostOfGoodsSold': {'label': 'Cost of Sales', 'value': 455363000.0}, 'us-gaap_GrossProfit': {'label': 'Gross Profit', 'value': 102820000.0}, 'us-gaap_SellingGeneralAndAdministrativeExpense': {'label': 'Selling, General and Administrative Expenses', 'value': 79435000.0}, 'us-gaap_GoodwillImpairmentLoss': {'label': 'Goodwill Impairment', 'value': 0.0}, 'us-gaap_ImpairmentOfIntangibleAssetsExcludingGoodwill': {'label': 'Intangible Asset Impairment', 'value': 0.0}, 'us-gaap_RestructuringCharges': {'label': 'Restructuring Charges', 'value': 8360000.0}, 'us-gaap_OperatingIncomeLoss': {'label': 'Operating Income (Loss)', 'value': 15025000.0}, 'us-gaap_InterestIncomeExpenseNet': {'label': 'Interest Expense', 'value': -8261000.0}, 'us-gaap_GainLossOnSaleOfBusiness': {'label': 'Gain on Divestitures, Net', 'value': 0.0}, 'us-gaap_GainsLossesOnExtinguishmentOfDebt': {'label': 'Loss on Extinguishment of Debt', 'value': 0.0}, 'us-gaap_OtherIncome': {'label': 'Other Income, Net', 'value': 845000.0}, 'us-gaap_IncomeLossFromContinuingOperationsBeforeIncomeTaxesMinorityInterestAndIncomeLossFromEquityMethodInvestments': {'label': 'Income (Loss) Before Taxes', 'value': 7609000.0}, 'us-gaap_IncomeTaxExpenseBenefit': {'label': 'Income Tax (Benefit) Expense', 'value': -12468000.0}, 'us-gaap_NetIncomeLoss': {'label': 'Net Income (Loss)', 'value': 20077000.0}, 'us-gaap_EarningsPerShareBasic': {'label': 'Basic earnings (loss) per share (in dollars per share)', 'value': 1.78}, 'us-gaap_EarningsPerShareDiluted': {'label': 'Diluted earnings (loss) per share (in dollars per share)', 'value': 1.74}, 'us-gaap_WeightedAverageNumberOfSharesOutstandingBasic': {'label': 'Basic (in shares)', 'value': 11290000.0}, 'us-gaap_WeightedAverageNumberOfDilutedSharesOutstanding': {'label': 'Diluted (in shares)', 'value': 11558000.0}}}, {'date': datetime.datetime(2016, 12, 31, 0, 0), 'months': 12, 'map': {'us-gaap_SalesRevenueNet': {'label': 'Net Revenues', 'value': 550642000.0}, 'us-gaap_CostOfGoodsSold': {'label': 'Cost of Sales', 'value': 444449000.0}, 'us-gaap_GrossProfit': {'label': 'Gross Profit', 'value': 106193000.0}, 'us-gaap_SellingGeneralAndAdministrativeExpense': {'label': 'Selling, General and Administrative Expenses', 'value': 77443000.0}, 'us-gaap_GoodwillImpairmentLoss': {'label': 'Goodwill Impairment', 'value': 0.0}, 'us-gaap_ImpairmentOfIntangibleAssetsExcludingGoodwill': {'label': 'Intangible Asset Impairment', 'value': 0.0}, 'us-gaap_RestructuringCharges': {'label': 'Restructuring Charges', 'value': 182000.0}, 'us-gaap_OperatingIncomeLoss': {'label': 'Operating Income (Loss)', 'value': 28568000.0}, 'us-gaap_InterestIncomeExpenseNet': {'label': 'Interest Expense', 'value': -8274000.0}, 'us-gaap_GainLossOnSaleOfBusiness': {'label': 'Gain on Divestitures, Net', 'value': 17604000.0}, 'us-gaap_GainsLossesOnExtinguishmentOfDebt': {'label': 'Loss on Extinguishment of Debt', 'value': 0.0}, 'us-gaap_OtherIncome': {'label': 'Other Income, Net', 'value': 215000.0}, 'us-gaap_IncomeLossFromContinuingOperationsBeforeIncomeTaxesMinorityInterestAndIncomeLossFromEquityMethodInvestments': {'label': 'Income (Loss) Before Taxes', 'value': 38113000.0}, 'us-gaap_IncomeTaxExpenseBenefit': {'label': 'Income Tax (Benefit) Expense', 'value': 12852000.0}, 'us-gaap_NetIncomeLoss': {'label': 'Net Income (Loss)', 'value': 25261000.0}, 'us-gaap_EarningsPerShareBasic': {'label': 'Basic earnings (loss) per share (in dollars per share)', 'value': 2.27}, 'us-gaap_EarningsPerShareDiluted': {'label': 'Diluted earnings (loss) per share (in dollars per share)', 'value': 2.24}, 'us-gaap_WeightedAverageNumberOfSharesOutstandingBasic': {'label': 'Basic (in shares)', 'value': 11151000.0}, 'us-gaap_WeightedAverageNumberOfDilutedSharesOutstanding': {'label': 'Diluted (in shares)', 'value': 11299000.0}}}, {'date': datetime.datetime(2015, 12, 31, 0, 0), 'months': 12, 'map': {'us-gaap_SalesRevenueNet': {'label': 'Net Revenues', 'value': 666011000.0}, 'us-gaap_CostOfGoodsSold': {'label': 'Cost of Sales', 'value': 565219000.0}, 'us-gaap_GrossProfit': {'label': 'Gross Profit', 'value': 100792000.0}, 'us-gaap_SellingGeneralAndAdministrativeExpense': {'label': 'Selling, General and Administrative Expenses', 'value': 83796000.0}, 'us-gaap_GoodwillImpairmentLoss': {'label': 'Goodwill Impairment', 'value': 57243000.0}, 'us-gaap_ImpairmentOfIntangibleAssetsExcludingGoodwill': {'label': 'Intangible Asset Impairment', 'value': 32937000.0}, 'us-gaap_RestructuringCharges': {'label': 'Restructuring Charges', 'value': 2125000.0}, 'us-gaap_OperatingIncomeLoss': {'label': 'Operating Income (Loss)', 'value': -75309000.0}, 'us-gaap_InterestIncomeExpenseNet': {'label': 'Interest Expense', 'value': -18709000.0}, 'us-gaap_GainLossOnSaleOfBusiness': {'label': 'Gain on Divestitures, Net', 'value': 0.0}, 'us-gaap_GainsLossesOnExtinguishmentOfDebt': {'label': 'Loss on Extinguishment of Debt', 'value': -14720000.0}, 'us-gaap_OtherIncome': {'label': 'Other Income, Net', 'value': 2148000.0}, 'us-gaap_IncomeLossFromContinuingOperationsBeforeIncomeTaxesMinorityInterestAndIncomeLossFromEquityMethodInvestments': {'label': 'Income (Loss) Before Taxes', 'value': -106590000.0}, 'us-gaap_IncomeTaxExpenseBenefit': {'label': 'Income Tax (Benefit) Expense', 'value': -31711000.0}, 'us-gaap_NetIncomeLoss': {'label': 'Net Income (Loss)', 'value': -74879000.0}, 'us-gaap_EarningsPerShareBasic': {'label': 'Basic earnings (loss) per share (in dollars per share)', 'value': -6.78}, 'us-gaap_EarningsPerShareDiluted': {'label': 'Diluted earnings (loss) per share (in dollars per share)', 'value': -6.78}, 'us-gaap_WeightedAverageNumberOfSharesOutstandingBasic': {'label': 'Basic (in shares)', 'value': 11047000.0}, 'us-gaap_WeightedAverageNumberOfDilutedSharesOutstanding': {'label': 'Diluted (in shares)', 'value': 11047000.0}}}]}\n",
            "dict_keys(['us-gaap_SalesRevenueNet', 'us-gaap_CostOfGoodsSold', 'us-gaap_GrossProfit', 'us-gaap_SellingGeneralAndAdministrativeExpense', 'us-gaap_GoodwillImpairmentLoss', 'us-gaap_ImpairmentOfIntangibleAssetsExcludingGoodwill', 'us-gaap_RestructuringCharges', 'us-gaap_OperatingIncomeLoss', 'us-gaap_InterestIncomeExpenseNet', 'us-gaap_GainLossOnSaleOfBusiness', 'us-gaap_GainsLossesOnExtinguishmentOfDebt', 'us-gaap_OtherIncome', 'us-gaap_IncomeLossFromContinuingOperationsBeforeIncomeTaxesMinorityInterestAndIncomeLossFromEquityMethodInvestments', 'us-gaap_IncomeTaxExpenseBenefit', 'us-gaap_NetIncomeLoss', 'us-gaap_EarningsPerShareBasic', 'us-gaap_EarningsPerShareDiluted', 'us-gaap_WeightedAverageNumberOfSharesOutstandingBasic', 'us-gaap_WeightedAverageNumberOfDilutedSharesOutstanding'])\n"
          ],
          "name": "stdout"
        },
        {
          "output_type": "execute_result",
          "data": {
            "text/plain": [
              "51"
            ]
          },
          "metadata": {
            "tags": []
          },
          "execution_count": 16
        },
        {
          "output_type": "stream",
          "text": [
            "cik for GD is 40533\n",
            "getting ['10-K', '10-K/A'] filing info from https://www.sec.gov/Archives/edgar/full-index/2018/QTR1/master.idx\n",
            "Processing SGML at https://www.sec.gov/Archives/edgar/data/40533/0000040533-18-000008.txt\n",
            "could not find anything for ShortName consolidated statements of income\n",
            "could not find anything for ShortName statement of income\n",
            "could not find anything for ShortName consolidated statements of operations\n",
            "could not find anything for ShortName consolidated statement of earnings\n",
            "could not find anything for ShortName condensed consolidated statements of income (unaudited)\n",
            "could not find anything for ShortName condensed consolidated statements of income\n",
            "could not find anything for ShortName condensed consolidated statements of operations (unaudited)\n",
            "could not find anything for ShortName condensed consolidated statements of operations\n",
            "could not find anything for ShortName condensed consolidated statement of earnings (unaudited)\n",
            "could not find anything for ShortName condensed consolidated statement of earnings\n",
            "could not find anything for ShortName condensed statements of income\n",
            "could not find anything for ShortName condensed statements of operations\n",
            "could not find anything for ShortName condensed statements of operations and comprehensive loss\n",
            "No financial documents could be found. Likely need to             update constants in edgar.filing.Statements.\n",
            "<report instance=\"gd-20171231.xml\">\n",
            "<isdefault>false</isdefault>\n",
            "<hasembeddedreports>false</hasembeddedreports>\n",
            "<htmlfilename>R5.htm</htmlfilename>\n",
            "<longname>1004000 - Statement - Consolidated Balance Sheets</longname>\n",
            "<reporttype>Sheet</reporttype>\n",
            "<role>http://www.generaldynamics.com/role/ConsolidatedBalanceSheets</role>\n",
            "<shortname>Consolidated Balance Sheets</shortname>\n",
            "<menucategory>Statements</menucategory>\n",
            "<position>5</position>\n",
            "</report>\n",
            "could not find anything for ShortName consolidated statement of financial position\n",
            "could not find anything for ShortName condensed consolidated statement of financial position (current period unaudited)\n",
            "could not find anything for ShortName condensed consolidated statement of financial position (unaudited)\n",
            "could not find anything for ShortName condensed consolidated statement of financial position\n",
            "could not find anything for ShortName condensed consolidated balance sheets (current period unaudited)\n",
            "could not find anything for ShortName condensed consolidated balance sheets (unaudited)\n",
            "could not find anything for ShortName condensed consolidated balance sheets\n",
            "could not find anything for ShortName condensed balance sheets\n",
            "Getting financial data for consolidated balance sheets (filename: R5.htm)\n",
            "Warning:  (from us-gaap_AccountsReceivableNetCurrent) is not numeric even after removing special characters () - ignoring\n",
            "Warning:  (from us-gaap_AccountsReceivableNetCurrent) is not numeric even after removing special characters () - ignoring\n",
            "Warning:  (from us-gaap_UnbilledReceivablesCurrent) is not numeric even after removing special characters () - ignoring\n",
            "Warning:  (from us-gaap_UnbilledReceivablesCurrent) is not numeric even after removing special characters () - ignoring\n",
            "Warning:  (from us-gaap_InventoryNet) is not numeric even after removing special characters () - ignoring\n",
            "Warning:  (from us-gaap_InventoryNet) is not numeric even after removing special characters () - ignoring\n",
            "Warning:  (from us-gaap_OtherAssetsCurrent) is not numeric even after removing special characters () - ignoring\n",
            "Warning:  (from us-gaap_OtherAssetsCurrent) is not numeric even after removing special characters () - ignoring\n",
            "Warning:  (from us-gaap_AssetsCurrent) is not numeric even after removing special characters () - ignoring\n",
            "Warning:  (from us-gaap_AssetsCurrent) is not numeric even after removing special characters () - ignoring\n",
            "Warning:  (from us-gaap_PropertyPlantAndEquipmentNet) is not numeric even after removing special characters () - ignoring\n",
            "Warning:  (from us-gaap_PropertyPlantAndEquipmentNet) is not numeric even after removing special characters () - ignoring\n",
            "Warning:  (from us-gaap_FiniteLivedIntangibleAssetsNet) is not numeric even after removing special characters () - ignoring\n",
            "Warning:  (from us-gaap_FiniteLivedIntangibleAssetsNet) is not numeric even after removing special characters () - ignoring\n",
            "Warning:  (from us-gaap_Goodwill) is not numeric even after removing special characters () - ignoring\n",
            "Warning:  (from us-gaap_OtherAssetsNoncurrent) is not numeric even after removing special characters () - ignoring\n",
            "Warning:  (from us-gaap_OtherAssetsNoncurrent) is not numeric even after removing special characters () - ignoring\n",
            "Warning:  (from us-gaap_AssetsNoncurrent) is not numeric even after removing special characters () - ignoring\n",
            "Warning:  (from us-gaap_AssetsNoncurrent) is not numeric even after removing special characters () - ignoring\n",
            "Warning:  (from us-gaap_Assets) is not numeric even after removing special characters () - ignoring\n",
            "Warning:  (from us-gaap_DebtCurrent) is not numeric even after removing special characters () - ignoring\n",
            "Warning:  (from us-gaap_DebtCurrent) is not numeric even after removing special characters () - ignoring\n",
            "Warning:  (from us-gaap_AccountsPayableCurrent) is not numeric even after removing special characters () - ignoring\n",
            "Warning:  (from us-gaap_AccountsPayableCurrent) is not numeric even after removing special characters () - ignoring\n",
            "Warning:  (from us-gaap_CustomerAdvancesAndDepositsCurrent) is not numeric even after removing special characters () - ignoring\n",
            "Warning:  (from us-gaap_CustomerAdvancesAndDepositsCurrent) is not numeric even after removing special characters () - ignoring\n",
            "Warning:  (from us-gaap_OtherLiabilitiesCurrent) is not numeric even after removing special characters () - ignoring\n",
            "Warning:  (from us-gaap_OtherLiabilitiesCurrent) is not numeric even after removing special characters () - ignoring\n",
            "Warning:  (from us-gaap_LiabilitiesCurrent) is not numeric even after removing special characters () - ignoring\n",
            "Warning:  (from us-gaap_LiabilitiesCurrent) is not numeric even after removing special characters () - ignoring\n",
            "Warning:  (from us-gaap_LongTermDebtNoncurrent) is not numeric even after removing special characters () - ignoring\n",
            "Warning:  (from us-gaap_LongTermDebtNoncurrent) is not numeric even after removing special characters () - ignoring\n",
            "Warning:  (from us-gaap_OtherLiabilitiesNoncurrent) is not numeric even after removing special characters () - ignoring\n",
            "Warning:  (from us-gaap_OtherLiabilitiesNoncurrent) is not numeric even after removing special characters () - ignoring\n",
            "Warning:  (from us-gaap_LiabilitiesNoncurrent) is not numeric even after removing special characters () - ignoring\n",
            "Warning:  (from us-gaap_LiabilitiesNoncurrent) is not numeric even after removing special characters () - ignoring\n",
            "Warning:  (from us-gaap_CommonStockValue) is not numeric even after removing special characters () - ignoring\n",
            "Warning:  (from us-gaap_CommonStockValue) is not numeric even after removing special characters () - ignoring\n",
            "Warning:  (from us-gaap_AdditionalPaidInCapital) is not numeric even after removing special characters () - ignoring\n",
            "Warning:  (from us-gaap_AdditionalPaidInCapital) is not numeric even after removing special characters () - ignoring\n",
            "Warning:  (from us-gaap_RetainedEarningsAccumulatedDeficit) is not numeric even after removing special characters () - ignoring\n",
            "Warning:  (from us-gaap_RetainedEarningsAccumulatedDeficit) is not numeric even after removing special characters () - ignoring\n",
            "Warning:  (from us-gaap_TreasuryStockValue) is not numeric even after removing special characters () - ignoring\n",
            "Warning:  (from us-gaap_TreasuryStockValue) is not numeric even after removing special characters () - ignoring\n",
            "Warning:  (from us-gaap_LiabilitiesAndStockholdersEquity) is not numeric even after removing special characters () - ignoring\n",
            "Warning:  (from us-gaap_LiabilitiesAndStockholdersEquity) is not numeric even after removing special characters () - ignoring\n",
            "<report instance=\"gd-20171231.xml\">\n",
            "<isdefault>false</isdefault>\n",
            "<hasembeddedreports>false</hasembeddedreports>\n",
            "<htmlfilename>R6.htm</htmlfilename>\n",
            "<longname>1005000 - Statement - Consolidated Statements of Cash Flows</longname>\n",
            "<reporttype>Sheet</reporttype>\n",
            "<role>http://www.generaldynamics.com/role/ConsolidatedStatementsOfCashFlows</role>\n",
            "<shortname>Consolidated Statements of Cash Flows</shortname>\n",
            "<menucategory>Statements</menucategory>\n",
            "<position>6</position>\n",
            "</report>\n",
            "could not find anything for ShortName condensed consolidated statements of cash flows (unaudited)\n",
            "could not find anything for ShortName condensed consolidated statements of cash flows\n",
            "could not find anything for ShortName condensed statements of cash flows\n",
            "Getting financial data for consolidated statements of cash flows (filename: R6.htm)\n"
          ],
          "name": "stdout"
        },
        {
          "output_type": "execute_result",
          "data": {
            "text/plain": [
              "68"
            ]
          },
          "metadata": {
            "tags": []
          },
          "execution_count": 16
        },
        {
          "output_type": "stream",
          "text": [
            "cik for HEI is 46619\n",
            "getting ['10-K', '10-K/A'] filing info from https://www.sec.gov/Archives/edgar/full-index/2018/QTR1/master.idx\n",
            "No annual filing info found for year=2018 quarter=1. Finding latest.\n",
            "getting ['10-K', '10-K/A'] filing info from https://www.sec.gov/Archives/edgar/full-index/2018/QTR1/master.idx\n",
            "Will do a final attempt to find filing info from last year\n",
            "getting ['10-K', '10-K/A'] filing info from https://www.sec.gov/Archives/edgar/full-index/2017/QTR4/master.idx\n",
            "Processing SGML at https://www.sec.gov/Archives/edgar/data/46619/0000046619-17-000085.txt\n",
            "could not find anything for ShortName consolidated statements of income\n",
            "could not find anything for ShortName statement of income\n",
            "<report instance=\"hei-20171031.xml\">\n",
            "<isdefault>false</isdefault>\n",
            "<hasembeddedreports>false</hasembeddedreports>\n",
            "<htmlfilename>R4.htm</htmlfilename>\n",
            "<longname>1002000 - Statement - CONSOLIDATED STATEMENTS OF OPERATIONS</longname>\n",
            "<reporttype>Sheet</reporttype>\n",
            "<role>http://www.heico.com/role/ConsolidatedStatementsOfOperations</role>\n",
            "<shortname>CONSOLIDATED STATEMENTS OF OPERATIONS</shortname>\n",
            "<menucategory>Statements</menucategory>\n",
            "<position>4</position>\n",
            "</report>\n",
            "could not find anything for ShortName consolidated statement of earnings\n",
            "could not find anything for ShortName condensed consolidated statements of income (unaudited)\n",
            "could not find anything for ShortName condensed consolidated statements of income\n",
            "could not find anything for ShortName condensed consolidated statements of operations (unaudited)\n",
            "could not find anything for ShortName condensed consolidated statements of operations\n",
            "could not find anything for ShortName condensed consolidated statement of earnings (unaudited)\n",
            "could not find anything for ShortName condensed consolidated statement of earnings\n",
            "could not find anything for ShortName condensed statements of income\n",
            "could not find anything for ShortName condensed statements of operations\n",
            "could not find anything for ShortName condensed statements of operations and comprehensive loss\n",
            "Getting financial data for consolidated statements of operations (filename: R4.htm)\n",
            "<report instance=\"hei-20171031.xml\">\n",
            "<isdefault>false</isdefault>\n",
            "<hasembeddedreports>false</hasembeddedreports>\n",
            "<htmlfilename>R2.htm</htmlfilename>\n",
            "<longname>1001000 - Statement - CONSOLIDATED BALANCE SHEETS</longname>\n",
            "<reporttype>Sheet</reporttype>\n",
            "<role>http://www.heico.com/role/ConsolidatedBalanceSheets</role>\n",
            "<shortname>CONSOLIDATED BALANCE SHEETS</shortname>\n",
            "<menucategory>Statements</menucategory>\n",
            "<position>2</position>\n",
            "</report>\n",
            "could not find anything for ShortName consolidated statement of financial position\n",
            "could not find anything for ShortName condensed consolidated statement of financial position (current period unaudited)\n",
            "could not find anything for ShortName condensed consolidated statement of financial position (unaudited)\n",
            "could not find anything for ShortName condensed consolidated statement of financial position\n",
            "could not find anything for ShortName condensed consolidated balance sheets (current period unaudited)\n",
            "could not find anything for ShortName condensed consolidated balance sheets (unaudited)\n",
            "could not find anything for ShortName condensed consolidated balance sheets\n",
            "could not find anything for ShortName condensed balance sheets\n",
            "Getting financial data for consolidated balance sheets (filename: R2.htm)\n",
            "<report instance=\"hei-20171031.xml\">\n",
            "<isdefault>false</isdefault>\n",
            "<hasembeddedreports>false</hasembeddedreports>\n",
            "<htmlfilename>R8.htm</htmlfilename>\n",
            "<longname>1005000 - Statement - CONSOLIDATED STATEMENTS OF CASH FLOWS</longname>\n",
            "<reporttype>Sheet</reporttype>\n",
            "<role>http://www.heico.com/role/ConsolidatedStatementsOfCashFlows</role>\n",
            "<shortname>CONSOLIDATED STATEMENTS OF CASH FLOWS</shortname>\n",
            "<menucategory>Statements</menucategory>\n",
            "<position>8</position>\n",
            "</report>\n",
            "could not find anything for ShortName condensed consolidated statements of cash flows (unaudited)\n",
            "could not find anything for ShortName condensed consolidated statements of cash flows\n",
            "could not find anything for ShortName condensed statements of cash flows\n",
            "Getting financial data for consolidated statements of cash flows (filename: R8.htm)\n",
            "Warning:  (from hei_PaymentofContingentConsiderationinExcessofAcquisitionDateValue) is not numeric even after removing special characters () - ignoring\n",
            "Warning:  (from hei_PaymentofContingentConsideration) is not numeric even after removing special characters () - ignoring\n",
            "Warning:  (from us-gaap_PaymentsOfDebtIssuanceCosts) is not numeric even after removing special characters () - ignoring\n",
            "Warning:  (from us-gaap_PaymentsOfDebtIssuanceCosts) is not numeric even after removing special characters () - ignoring\n",
            "{'company': 'HEI', 'date_filed': datetime.datetime(2017, 12, 21, 0, 0), 'reports': [{'date': datetime.datetime(2017, 10, 31, 0, 0), 'months': 12, 'map': {'us-gaap_SalesRevenueNet': {'label': 'Net sales', 'value': 1524813000.0}, 'us-gaap_CostOfRevenue': {'label': 'Cost of sales', 'value': 950088000.0}, 'us-gaap_SellingGeneralAndAdministrativeExpense': {'label': 'Selling, general and administrative expenses', 'value': 268067000.0}, 'us-gaap_CostsAndExpenses': {'label': 'Total operating costs and expenses', 'value': 1218155000.0}, 'us-gaap_OperatingIncomeLoss': {'label': 'Operating income', 'value': 306658000.0}, 'us-gaap_InterestExpenseDebt': {'label': 'Interest expense', 'value': -9790000.0}, 'us-gaap_OtherNonoperatingIncomeExpense': {'label': 'Other income', 'value': 1092000.0}, 'us-gaap_IncomeLossFromContinuingOperationsBeforeIncomeTaxesMinorityInterestAndIncomeLossFromEquityMethodInvestments': {'label': 'Income before taxes and noncontrolling interests', 'value': 297960000.0}, 'us-gaap_IncomeTaxExpenseBenefit': {'label': 'Income tax expense', 'value': 90300000.0}, 'us-gaap_ProfitLoss': {'label': 'Net income from consolidated operations', 'value': 207660000.0}, 'us-gaap_NetIncomeLossAttributableToNoncontrollingInterest': {'label': 'Less: Net income attributable to noncontrolling interests', 'value': 21675000.0}, 'us-gaap_NetIncomeLoss': {'label': 'Net income attributable to HEICO', 'value': 185985000.0}, 'us-gaap_EarningsPerShareBasic': {'label': 'Basic (in dollars per share)', 'value': 2.21}, 'us-gaap_EarningsPerShareDiluted': {'label': 'Diluted (in dollars per share)', 'value': 2.14}, 'us-gaap_WeightedAverageNumberOfSharesOutstandingBasic': {'label': 'Basic (in shares)', 'value': 84290000.0}, 'us-gaap_WeightedAverageNumberOfDilutedSharesOutstanding': {'label': 'Diluted (in shares)', 'value': 86776000.0}}}, {'date': datetime.datetime(2016, 10, 31, 0, 0), 'months': 12, 'map': {'us-gaap_SalesRevenueNet': {'label': 'Net sales', 'value': 1376258000.0}, 'us-gaap_CostOfRevenue': {'label': 'Cost of sales', 'value': 860766000.0}, 'us-gaap_SellingGeneralAndAdministrativeExpense': {'label': 'Selling, general and administrative expenses', 'value': 250147000.0}, 'us-gaap_CostsAndExpenses': {'label': 'Total operating costs and expenses', 'value': 1110913000.0}, 'us-gaap_OperatingIncomeLoss': {'label': 'Operating income', 'value': 265345000.0}, 'us-gaap_InterestExpenseDebt': {'label': 'Interest expense', 'value': -8272000.0}, 'us-gaap_OtherNonoperatingIncomeExpense': {'label': 'Other income', 'value': -23000.0}, 'us-gaap_IncomeLossFromContinuingOperationsBeforeIncomeTaxesMinorityInterestAndIncomeLossFromEquityMethodInvestments': {'label': 'Income before taxes and noncontrolling interests', 'value': 257050000.0}, 'us-gaap_IncomeTaxExpenseBenefit': {'label': 'Income tax expense', 'value': 80900000.0}, 'us-gaap_ProfitLoss': {'label': 'Net income from consolidated operations', 'value': 176150000.0}, 'us-gaap_NetIncomeLossAttributableToNoncontrollingInterest': {'label': 'Less: Net income attributable to noncontrolling interests', 'value': 19958000.0}, 'us-gaap_NetIncomeLoss': {'label': 'Net income attributable to HEICO', 'value': 156192000.0}, 'us-gaap_EarningsPerShareBasic': {'label': 'Basic (in dollars per share)', 'value': 1.86}, 'us-gaap_EarningsPerShareDiluted': {'label': 'Diluted (in dollars per share)', 'value': 1.83}, 'us-gaap_WeightedAverageNumberOfSharesOutstandingBasic': {'label': 'Basic (in shares)', 'value': 83807000.0}, 'us-gaap_WeightedAverageNumberOfDilutedSharesOutstanding': {'label': 'Diluted (in shares)', 'value': 85213000.0}}}, {'date': datetime.datetime(2015, 10, 31, 0, 0), 'months': 12, 'map': {'us-gaap_SalesRevenueNet': {'label': 'Net sales', 'value': 1188648000.0}, 'us-gaap_CostOfRevenue': {'label': 'Cost of sales', 'value': 754469000.0}, 'us-gaap_SellingGeneralAndAdministrativeExpense': {'label': 'Selling, general and administrative expenses', 'value': 204523000.0}, 'us-gaap_CostsAndExpenses': {'label': 'Total operating costs and expenses', 'value': 958992000.0}, 'us-gaap_OperatingIncomeLoss': {'label': 'Operating income', 'value': 229656000.0}, 'us-gaap_InterestExpenseDebt': {'label': 'Interest expense', 'value': -4626000.0}, 'us-gaap_OtherNonoperatingIncomeExpense': {'label': 'Other income', 'value': -66000.0}, 'us-gaap_IncomeLossFromContinuingOperationsBeforeIncomeTaxesMinorityInterestAndIncomeLossFromEquityMethodInvestments': {'label': 'Income before taxes and noncontrolling interests', 'value': 224964000.0}, 'us-gaap_IncomeTaxExpenseBenefit': {'label': 'Income tax expense', 'value': 71400000.0}, 'us-gaap_ProfitLoss': {'label': 'Net income from consolidated operations', 'value': 153564000.0}, 'us-gaap_NetIncomeLossAttributableToNoncontrollingInterest': {'label': 'Less: Net income attributable to noncontrolling interests', 'value': 20200000.0}, 'us-gaap_NetIncomeLoss': {'label': 'Net income attributable to HEICO', 'value': 133364000.0}, 'us-gaap_EarningsPerShareBasic': {'label': 'Basic (in dollars per share)', 'value': 1.6}, 'us-gaap_EarningsPerShareDiluted': {'label': 'Diluted (in dollars per share)', 'value': 1.57}, 'us-gaap_WeightedAverageNumberOfSharesOutstandingBasic': {'label': 'Basic (in shares)', 'value': 83425000.0}, 'us-gaap_WeightedAverageNumberOfDilutedSharesOutstanding': {'label': 'Diluted (in shares)', 'value': 84764000.0}}}]}\n",
            "dict_keys(['us-gaap_SalesRevenueNet', 'us-gaap_CostOfRevenue', 'us-gaap_SellingGeneralAndAdministrativeExpense', 'us-gaap_CostsAndExpenses', 'us-gaap_OperatingIncomeLoss', 'us-gaap_InterestExpenseDebt', 'us-gaap_OtherNonoperatingIncomeExpense', 'us-gaap_IncomeLossFromContinuingOperationsBeforeIncomeTaxesMinorityInterestAndIncomeLossFromEquityMethodInvestments', 'us-gaap_IncomeTaxExpenseBenefit', 'us-gaap_ProfitLoss', 'us-gaap_NetIncomeLossAttributableToNoncontrollingInterest', 'us-gaap_NetIncomeLoss', 'us-gaap_EarningsPerShareBasic', 'us-gaap_EarningsPerShareDiluted', 'us-gaap_WeightedAverageNumberOfSharesOutstandingBasic', 'us-gaap_WeightedAverageNumberOfDilutedSharesOutstanding'])\n"
          ],
          "name": "stdout"
        },
        {
          "output_type": "execute_result",
          "data": {
            "text/plain": [
              "43"
            ]
          },
          "metadata": {
            "tags": []
          },
          "execution_count": 16
        },
        {
          "output_type": "stream",
          "text": [
            "cik for HII is 1501585\n",
            "getting ['10-K', '10-K/A'] filing info from https://www.sec.gov/Archives/edgar/full-index/2018/QTR1/master.idx\n",
            "Processing SGML at https://www.sec.gov/Archives/edgar/data/1501585/0001501585-18-000006.txt\n",
            "could not find anything for ShortName consolidated statements of income\n",
            "could not find anything for ShortName statement of income\n",
            "could not find anything for ShortName consolidated statements of operations\n",
            "could not find anything for ShortName consolidated statement of earnings\n",
            "could not find anything for ShortName condensed consolidated statements of income (unaudited)\n",
            "could not find anything for ShortName condensed consolidated statements of income\n",
            "could not find anything for ShortName condensed consolidated statements of operations (unaudited)\n",
            "could not find anything for ShortName condensed consolidated statements of operations\n",
            "could not find anything for ShortName condensed consolidated statement of earnings (unaudited)\n",
            "could not find anything for ShortName condensed consolidated statement of earnings\n",
            "could not find anything for ShortName condensed statements of income\n",
            "could not find anything for ShortName condensed statements of operations\n",
            "could not find anything for ShortName condensed statements of operations and comprehensive loss\n",
            "No financial documents could be found. Likely need to             update constants in edgar.filing.Statements.\n",
            "could not find anything for ShortName consolidated balance sheets\n",
            "could not find anything for ShortName consolidated statement of financial position\n",
            "could not find anything for ShortName condensed consolidated statement of financial position (current period unaudited)\n",
            "could not find anything for ShortName condensed consolidated statement of financial position (unaudited)\n",
            "could not find anything for ShortName condensed consolidated statement of financial position\n",
            "could not find anything for ShortName condensed consolidated balance sheets (current period unaudited)\n",
            "could not find anything for ShortName condensed consolidated balance sheets (unaudited)\n",
            "could not find anything for ShortName condensed consolidated balance sheets\n",
            "could not find anything for ShortName condensed balance sheets\n",
            "No financial documents could be found. Likely need to             update constants in edgar.filing.Statements.\n",
            "<report instance=\"hii-20171231.xml\">\n",
            "<isdefault>false</isdefault>\n",
            "<hasembeddedreports>false</hasembeddedreports>\n",
            "<htmlfilename>R5.htm</htmlfilename>\n",
            "<longname>1003000 - Statement - Consolidated Statements of Cash Flows</longname>\n",
            "<reporttype>Sheet</reporttype>\n",
            "<role>http://www.huntingtoningalls.com/role/ConsolidatedStatementsOfCashFlows</role>\n",
            "<shortname>Consolidated Statements of Cash Flows</shortname>\n",
            "<menucategory>Statements</menucategory>\n",
            "<position>5</position>\n",
            "</report>\n",
            "could not find anything for ShortName condensed consolidated statements of cash flows (unaudited)\n",
            "could not find anything for ShortName condensed consolidated statements of cash flows\n",
            "could not find anything for ShortName condensed statements of cash flows\n",
            "Getting financial data for consolidated statements of cash flows (filename: R5.htm)\n",
            "Warning:  (from us-gaap_ProvisionForDoubtfulAccounts) is not numeric even after removing special characters () - ignoring\n",
            "Warning:  (from us-gaap_ProvisionForDoubtfulAccounts) is not numeric even after removing special characters () - ignoring\n",
            "Warning:  (from us-gaap_GainsLossesOnExtinguishmentOfDebt) is not numeric even after removing special characters () - ignoring\n",
            "Warning:  (from hii_Grantproceedsforcapitalexpenditures) is not numeric even after removing special characters () - ignoring\n",
            "Warning:  (from hii_Grantproceedsforcapitalexpenditures) is not numeric even after removing special characters () - ignoring\n",
            "Warning:  (from us-gaap_ProceedsFromIssuanceOfLongTermDebt) is not numeric even after removing special characters () - ignoring\n",
            "Warning:  (from us-gaap_RepaymentsOfLongTermDebt) is not numeric even after removing special characters () - ignoring\n",
            "Warning:  (from us-gaap_PaymentsOfDebtIssuanceCosts) is not numeric even after removing special characters () - ignoring\n",
            "Warning:  (from us-gaap_PaymentsOfDebtExtinguishmentCosts) is not numeric even after removing special characters () - ignoring\n",
            "Warning:  (from hii_ReceiptofProperty) is not numeric even after removing special characters () - ignoring\n"
          ],
          "name": "stdout"
        },
        {
          "output_type": "execute_result",
          "data": {
            "text/plain": [
              "70"
            ]
          },
          "metadata": {
            "tags": []
          },
          "execution_count": 16
        },
        {
          "output_type": "stream",
          "text": [
            "cik for HXL is 717605\n",
            "getting ['10-K', '10-K/A'] filing info from https://www.sec.gov/Archives/edgar/full-index/2018/QTR1/master.idx\n",
            "Processing SGML at https://www.sec.gov/Archives/edgar/data/717605/0001564590-18-001551.txt\n",
            "could not find anything for ShortName consolidated statements of income\n",
            "could not find anything for ShortName statement of income\n",
            "<report instance=\"hxl-20171231.xml\">\n",
            "<isdefault>false</isdefault>\n",
            "<hasembeddedreports>false</hasembeddedreports>\n",
            "<htmlfilename>R4.htm</htmlfilename>\n",
            "<longname>100030 - Statement - Consolidated Statements of Operations</longname>\n",
            "<reporttype>Sheet</reporttype>\n",
            "<role>http://www.hexcel.com/20171231/taxonomy/role/StatementConsolidatedStatementsOfOperations</role>\n",
            "<shortname>Consolidated Statements of Operations</shortname>\n",
            "<menucategory>Statements</menucategory>\n",
            "<position>4</position>\n",
            "</report>\n",
            "could not find anything for ShortName consolidated statement of earnings\n",
            "could not find anything for ShortName condensed consolidated statements of income (unaudited)\n",
            "could not find anything for ShortName condensed consolidated statements of income\n",
            "could not find anything for ShortName condensed consolidated statements of operations (unaudited)\n",
            "could not find anything for ShortName condensed consolidated statements of operations\n",
            "could not find anything for ShortName condensed consolidated statement of earnings (unaudited)\n",
            "could not find anything for ShortName condensed consolidated statement of earnings\n",
            "could not find anything for ShortName condensed statements of income\n",
            "could not find anything for ShortName condensed statements of operations\n",
            "could not find anything for ShortName condensed statements of operations and comprehensive loss\n",
            "Getting financial data for consolidated statements of operations (filename: R4.htm)\n",
            "Warning:  (from us-gaap_NonoperatingIncomeExpense) is not numeric even after removing special characters () - ignoring\n",
            "could not find anything for ShortName consolidated balance sheets\n",
            "could not find anything for ShortName consolidated statement of financial position\n",
            "could not find anything for ShortName condensed consolidated statement of financial position (current period unaudited)\n",
            "could not find anything for ShortName condensed consolidated statement of financial position (unaudited)\n",
            "could not find anything for ShortName condensed consolidated statement of financial position\n",
            "could not find anything for ShortName condensed consolidated balance sheets (current period unaudited)\n",
            "could not find anything for ShortName condensed consolidated balance sheets (unaudited)\n",
            "could not find anything for ShortName condensed consolidated balance sheets\n",
            "<report instance=\"hxl-20171231.xml\">\n",
            "<isdefault>false</isdefault>\n",
            "<hasembeddedreports>false</hasembeddedreports>\n",
            "<htmlfilename>R2.htm</htmlfilename>\n",
            "<longname>100010 - Statement - Condensed Balance Sheets</longname>\n",
            "<reporttype>Sheet</reporttype>\n",
            "<role>http://www.hexcel.com/20171231/taxonomy/role/StatementCondensedBalanceSheets</role>\n",
            "<shortname>Condensed Balance Sheets</shortname>\n",
            "<menucategory>Statements</menucategory>\n",
            "<position>2</position>\n",
            "</report>\n",
            "Getting financial data for condensed balance sheets (filename: R2.htm)\n",
            "<report instance=\"hxl-20171231.xml\">\n",
            "<isdefault>false</isdefault>\n",
            "<hasembeddedreports>false</hasembeddedreports>\n",
            "<htmlfilename>R7.htm</htmlfilename>\n",
            "<longname>100060 - Statement - Consolidated Statements of Cash Flows</longname>\n",
            "<reporttype>Sheet</reporttype>\n",
            "<role>http://www.hexcel.com/20171231/taxonomy/role/StatementConsolidatedStatementsOfCashFlows</role>\n",
            "<shortname>Consolidated Statements of Cash Flows</shortname>\n",
            "<menucategory>Statements</menucategory>\n",
            "<position>7</position>\n",
            "</report>\n",
            "could not find anything for ShortName condensed consolidated statements of cash flows (unaudited)\n",
            "could not find anything for ShortName condensed consolidated statements of cash flows\n",
            "could not find anything for ShortName condensed statements of cash flows\n",
            "Getting financial data for consolidated statements of cash flows (filename: R7.htm)\n",
            "Warning:  (from us-gaap_PaymentsToAcquireBusinessesAndInterestInAffiliates) is not numeric even after removing special characters () - ignoring\n",
            "Warning:  (from us-gaap_ProceedsFromIssuanceOfSeniorLongTermDebt) is not numeric even after removing special characters () - ignoring\n",
            "Warning:  (from us-gaap_PaymentsOfDebtIssuanceCosts) is not numeric even after removing special characters () - ignoring\n",
            "Warning:  (from us-gaap_PaymentsOfDebtIssuanceCosts) is not numeric even after removing special characters () - ignoring\n",
            "Warning:  (from hxl_ProceedsFromSettlementOfTreasuryLock) is not numeric even after removing special characters () - ignoring\n",
            "Warning:  (from hxl_ProceedsFromSettlementOfTreasuryLock) is not numeric even after removing special characters () - ignoring\n",
            "Warning:  (from us-gaap_ProceedsFromIssuanceOfDebt) is not numeric even after removing special characters () - ignoring\n",
            "Warning:  (from us-gaap_RepaymentsOfDebt) is not numeric even after removing special characters () - ignoring\n",
            "Warning:  (from us-gaap_RepaymentsOfDebt) is not numeric even after removing special characters () - ignoring\n",
            "Warning:  (from us-gaap_ProceedsFromLongTermLinesOfCredit) is not numeric even after removing special characters () - ignoring\n",
            "Warning:  (from us-gaap_RepaymentsOfUnsecuredDebt) is not numeric even after removing special characters () - ignoring\n",
            "{'company': 'HXL', 'date_filed': datetime.datetime(2018, 2, 7, 0, 0), 'reports': [{'date': datetime.datetime(2017, 12, 31, 0, 0), 'months': 12, 'map': {'us-gaap_SalesRevenueGoodsNet': {'label': 'Net sales', 'value': 1973300000.0}, 'us-gaap_CostOfGoodsSold': {'label': 'Cost of sales', 'value': 1421500000.0}, 'us-gaap_GrossProfit': {'label': 'Gross margin', 'value': 551800000.0}, 'us-gaap_SellingGeneralAndAdministrativeExpense': {'label': 'Selling, general and administrative expenses', 'value': 151800000.0}, 'us-gaap_ResearchAndDevelopmentExpense': {'label': 'Research and technology expenses', 'value': 49400000.0}, 'us-gaap_OperatingIncomeLoss': {'label': 'Operating income', 'value': 350600000.0}, 'us-gaap_InterestExpense': {'label': 'Interest expense, net', 'value': 27400000.0}, 'us-gaap_IncomeLossFromContinuingOperationsBeforeIncomeTaxesMinorityInterestAndIncomeLossFromEquityMethodInvestments': {'label': 'Income before income taxes, and equity in earnings of affiliated companies', 'value': 323200000.0}, 'us-gaap_IncomeTaxExpenseBenefit': {'label': 'Provision for income taxes', 'value': 42500000.0}, 'hxl_IncomeLossFromContinuingOperationsBeforeIncomeLossFromEquityMethodInvestments': {'label': 'Income before equity in earnings of affiliated companies', 'value': 280700000.0}, 'us-gaap_IncomeLossFromEquityMethodInvestments': {'label': 'Equity in earnings from affiliated companies', 'value': 3300000.0}, 'us-gaap_NetIncomeLossAvailableToCommonStockholdersBasic': {'label': 'Net income', 'value': 284000000.0}, 'us-gaap_IncomeLossFromContinuingOperationsPerBasicShare': {'label': 'Basic net income per common share:', 'value': 3130000.0}, 'us-gaap_IncomeLossFromContinuingOperationsPerDilutedShare': {'label': 'Diluted net income per common share:', 'value': 3090000.0}, 'us-gaap_WeightedAverageNumberOfSharesOutstandingBasic': {'label': 'Basic', 'value': 90600000.0}, 'us-gaap_WeightedAverageNumberOfDilutedSharesOutstanding': {'label': 'Diluted', 'value': 91900000.0}}}, {'date': datetime.datetime(2016, 12, 31, 0, 0), 'months': 12, 'map': {'us-gaap_SalesRevenueGoodsNet': {'label': 'Net sales', 'value': 2004300000.0}, 'us-gaap_CostOfGoodsSold': {'label': 'Cost of sales', 'value': 1439700000.0}, 'us-gaap_GrossProfit': {'label': 'Gross margin', 'value': 564600000.0}, 'us-gaap_SellingGeneralAndAdministrativeExpense': {'label': 'Selling, general and administrative expenses', 'value': 157600000.0}, 'us-gaap_ResearchAndDevelopmentExpense': {'label': 'Research and technology expenses', 'value': 46900000.0}, 'us-gaap_OperatingIncomeLoss': {'label': 'Operating income', 'value': 360100000.0}, 'us-gaap_InterestExpense': {'label': 'Interest expense, net', 'value': 22100000.0}, 'us-gaap_NonoperatingIncomeExpense': {'label': 'Non-operating expense', 'value': 400000.0}, 'us-gaap_IncomeLossFromContinuingOperationsBeforeIncomeTaxesMinorityInterestAndIncomeLossFromEquityMethodInvestments': {'label': 'Income before income taxes, and equity in earnings of affiliated companies', 'value': 337600000.0}, 'us-gaap_IncomeTaxExpenseBenefit': {'label': 'Provision for income taxes', 'value': 90300000.0}, 'hxl_IncomeLossFromContinuingOperationsBeforeIncomeLossFromEquityMethodInvestments': {'label': 'Income before equity in earnings of affiliated companies', 'value': 247300000.0}, 'us-gaap_IncomeLossFromEquityMethodInvestments': {'label': 'Equity in earnings from affiliated companies', 'value': 2500000.0}, 'us-gaap_NetIncomeLossAvailableToCommonStockholdersBasic': {'label': 'Net income', 'value': 249800000.0}, 'us-gaap_IncomeLossFromContinuingOperationsPerBasicShare': {'label': 'Basic net income per common share:', 'value': 2690000.0}, 'us-gaap_IncomeLossFromContinuingOperationsPerDilutedShare': {'label': 'Diluted net income per common share:', 'value': 2650000.0}, 'us-gaap_WeightedAverageNumberOfSharesOutstandingBasic': {'label': 'Basic', 'value': 92800000.0}, 'us-gaap_WeightedAverageNumberOfDilutedSharesOutstanding': {'label': 'Diluted', 'value': 94200000.0}}}, {'date': datetime.datetime(2015, 12, 31, 0, 0), 'months': 12, 'map': {'us-gaap_SalesRevenueGoodsNet': {'label': 'Net sales', 'value': 1861200000.0}, 'us-gaap_CostOfGoodsSold': {'label': 'Cost of sales', 'value': 1328400000.0}, 'us-gaap_GrossProfit': {'label': 'Gross margin', 'value': 532799999.99999994}, 'us-gaap_SellingGeneralAndAdministrativeExpense': {'label': 'Selling, general and administrative expenses', 'value': 156100000.0}, 'us-gaap_ResearchAndDevelopmentExpense': {'label': 'Research and technology expenses', 'value': 44300000.0}, 'us-gaap_OperatingIncomeLoss': {'label': 'Operating income', 'value': 332400000.0}, 'us-gaap_InterestExpense': {'label': 'Interest expense, net', 'value': 14200000.0}, 'us-gaap_IncomeLossFromContinuingOperationsBeforeIncomeTaxesMinorityInterestAndIncomeLossFromEquityMethodInvestments': {'label': 'Income before income taxes, and equity in earnings of affiliated companies', 'value': 318200000.0}, 'us-gaap_IncomeTaxExpenseBenefit': {'label': 'Provision for income taxes', 'value': 83000000.0}, 'hxl_IncomeLossFromContinuingOperationsBeforeIncomeLossFromEquityMethodInvestments': {'label': 'Income before equity in earnings of affiliated companies', 'value': 235200000.0}, 'us-gaap_IncomeLossFromEquityMethodInvestments': {'label': 'Equity in earnings from affiliated companies', 'value': 2000000.0}, 'us-gaap_NetIncomeLossAvailableToCommonStockholdersBasic': {'label': 'Net income', 'value': 237200000.0}, 'us-gaap_IncomeLossFromContinuingOperationsPerBasicShare': {'label': 'Basic net income per common share:', 'value': 2480000.0}, 'us-gaap_IncomeLossFromContinuingOperationsPerDilutedShare': {'label': 'Diluted net income per common share:', 'value': 2440000.0}, 'us-gaap_WeightedAverageNumberOfSharesOutstandingBasic': {'label': 'Basic', 'value': 95800000.0}, 'us-gaap_WeightedAverageNumberOfDilutedSharesOutstanding': {'label': 'Diluted', 'value': 97200000.0}}}]}\n",
            "dict_keys(['us-gaap_SalesRevenueGoodsNet', 'us-gaap_CostOfGoodsSold', 'us-gaap_GrossProfit', 'us-gaap_SellingGeneralAndAdministrativeExpense', 'us-gaap_ResearchAndDevelopmentExpense', 'us-gaap_OperatingIncomeLoss', 'us-gaap_InterestExpense', 'us-gaap_IncomeLossFromContinuingOperationsBeforeIncomeTaxesMinorityInterestAndIncomeLossFromEquityMethodInvestments', 'us-gaap_IncomeTaxExpenseBenefit', 'hxl_IncomeLossFromContinuingOperationsBeforeIncomeLossFromEquityMethodInvestments', 'us-gaap_IncomeLossFromEquityMethodInvestments', 'us-gaap_NetIncomeLossAvailableToCommonStockholdersBasic', 'us-gaap_IncomeLossFromContinuingOperationsPerBasicShare', 'us-gaap_IncomeLossFromContinuingOperationsPerDilutedShare', 'us-gaap_WeightedAverageNumberOfSharesOutstandingBasic', 'us-gaap_WeightedAverageNumberOfDilutedSharesOutstanding'])\n"
          ],
          "name": "stdout"
        },
        {
          "output_type": "execute_result",
          "data": {
            "text/plain": [
              "34"
            ]
          },
          "metadata": {
            "tags": []
          },
          "execution_count": 16
        },
        {
          "output_type": "stream",
          "text": [
            "cik for KTOS is 1069258\n",
            "getting ['10-K', '10-K/A'] filing info from https://www.sec.gov/Archives/edgar/full-index/2018/QTR1/master.idx\n",
            "Processing SGML at https://www.sec.gov/Archives/edgar/data/1069258/0001069258-18-000006.txt\n",
            "could not find anything for ShortName consolidated statements of income\n",
            "could not find anything for ShortName statement of income\n",
            "could not find anything for ShortName consolidated statements of operations\n",
            "could not find anything for ShortName consolidated statement of earnings\n",
            "could not find anything for ShortName condensed consolidated statements of income (unaudited)\n",
            "could not find anything for ShortName condensed consolidated statements of income\n",
            "could not find anything for ShortName condensed consolidated statements of operations (unaudited)\n",
            "could not find anything for ShortName condensed consolidated statements of operations\n",
            "could not find anything for ShortName condensed consolidated statement of earnings (unaudited)\n",
            "could not find anything for ShortName condensed consolidated statement of earnings\n",
            "could not find anything for ShortName condensed statements of income\n",
            "could not find anything for ShortName condensed statements of operations\n",
            "could not find anything for ShortName condensed statements of operations and comprehensive loss\n",
            "No financial documents could be found. Likely need to             update constants in edgar.filing.Statements.\n",
            "<report instance=\"ktos-20171231.xml\">\n",
            "<isdefault>false</isdefault>\n",
            "<hasembeddedreports>false</hasembeddedreports>\n",
            "<htmlfilename>R2.htm</htmlfilename>\n",
            "<longname>1001000 - Statement - CONSOLIDATED BALANCE SHEETS</longname>\n",
            "<reporttype>Sheet</reporttype>\n",
            "<role>http://www.kratosdefense.com/role/ConsolidatedBalanceSheets</role>\n",
            "<shortname>CONSOLIDATED BALANCE SHEETS</shortname>\n",
            "<menucategory>Statements</menucategory>\n",
            "<position>2</position>\n",
            "</report>\n",
            "could not find anything for ShortName consolidated statement of financial position\n",
            "could not find anything for ShortName condensed consolidated statement of financial position (current period unaudited)\n",
            "could not find anything for ShortName condensed consolidated statement of financial position (unaudited)\n",
            "could not find anything for ShortName condensed consolidated statement of financial position\n",
            "could not find anything for ShortName condensed consolidated balance sheets (current period unaudited)\n",
            "could not find anything for ShortName condensed consolidated balance sheets (unaudited)\n",
            "could not find anything for ShortName condensed consolidated balance sheets\n",
            "could not find anything for ShortName condensed balance sheets\n",
            "Getting financial data for consolidated balance sheets (filename: R2.htm)\n",
            "<report instance=\"ktos-20171231.xml\">\n",
            "<isdefault>false</isdefault>\n",
            "<hasembeddedreports>false</hasembeddedreports>\n",
            "<htmlfilename>R7.htm</htmlfilename>\n",
            "<longname>1004000 - Statement - CONSOLIDATED STATEMENTS OF CASH FLOWS</longname>\n",
            "<reporttype>Sheet</reporttype>\n",
            "<role>http://www.kratosdefense.com/role/ConsolidatedStatementsOfCashFlows</role>\n",
            "<shortname>CONSOLIDATED STATEMENTS OF CASH FLOWS</shortname>\n",
            "<menucategory>Statements</menucategory>\n",
            "<position>7</position>\n",
            "</report>\n",
            "could not find anything for ShortName condensed consolidated statements of cash flows (unaudited)\n",
            "could not find anything for ShortName condensed consolidated statements of cash flows\n",
            "could not find anything for ShortName condensed statements of cash flows\n",
            "Getting financial data for consolidated statements of cash flows (filename: R7.htm)\n"
          ],
          "name": "stdout"
        },
        {
          "output_type": "execute_result",
          "data": {
            "text/plain": [
              "61"
            ]
          },
          "metadata": {
            "tags": []
          },
          "execution_count": 16
        },
        {
          "output_type": "stream",
          "text": [
            "cik for LMT is 936468\n",
            "getting ['10-K', '10-K/A'] filing info from https://www.sec.gov/Archives/edgar/full-index/2018/QTR1/master.idx\n",
            "Processing SGML at https://www.sec.gov/Archives/edgar/data/936468/0000936468-18-000009.txt\n",
            "could not find anything for ShortName consolidated statements of income\n",
            "could not find anything for ShortName statement of income\n",
            "could not find anything for ShortName consolidated statements of operations\n",
            "could not find anything for ShortName consolidated statement of earnings\n",
            "could not find anything for ShortName condensed consolidated statements of income (unaudited)\n",
            "could not find anything for ShortName condensed consolidated statements of income\n",
            "could not find anything for ShortName condensed consolidated statements of operations (unaudited)\n",
            "could not find anything for ShortName condensed consolidated statements of operations\n",
            "could not find anything for ShortName condensed consolidated statement of earnings (unaudited)\n",
            "could not find anything for ShortName condensed consolidated statement of earnings\n",
            "could not find anything for ShortName condensed statements of income\n",
            "could not find anything for ShortName condensed statements of operations\n",
            "could not find anything for ShortName condensed statements of operations and comprehensive loss\n",
            "No financial documents could be found. Likely need to             update constants in edgar.filing.Statements.\n",
            "<report instance=\"lmt-20171231.xml\">\n",
            "<isdefault>false</isdefault>\n",
            "<hasembeddedreports>false</hasembeddedreports>\n",
            "<htmlfilename>R5.htm</htmlfilename>\n",
            "<longname>1003000 - Statement - Consolidated Balance Sheets</longname>\n",
            "<reporttype>Sheet</reporttype>\n",
            "<role>http://www.lockheedmartin.com/role/ConsolidatedBalanceSheets</role>\n",
            "<shortname>Consolidated Balance Sheets</shortname>\n",
            "<menucategory>Statements</menucategory>\n",
            "<position>5</position>\n",
            "</report>\n",
            "could not find anything for ShortName consolidated statement of financial position\n",
            "could not find anything for ShortName condensed consolidated statement of financial position (current period unaudited)\n",
            "could not find anything for ShortName condensed consolidated statement of financial position (unaudited)\n",
            "could not find anything for ShortName condensed consolidated statement of financial position\n",
            "could not find anything for ShortName condensed consolidated balance sheets (current period unaudited)\n",
            "could not find anything for ShortName condensed consolidated balance sheets (unaudited)\n",
            "could not find anything for ShortName condensed consolidated balance sheets\n",
            "could not find anything for ShortName condensed balance sheets\n",
            "Getting financial data for consolidated balance sheets (filename: R5.htm)\n",
            "<report instance=\"lmt-20171231.xml\">\n",
            "<isdefault>false</isdefault>\n",
            "<hasembeddedreports>false</hasembeddedreports>\n",
            "<htmlfilename>R7.htm</htmlfilename>\n",
            "<longname>1004000 - Statement - Consolidated Statements of Cash Flows</longname>\n",
            "<reporttype>Sheet</reporttype>\n",
            "<role>http://www.lockheedmartin.com/role/ConsolidatedStatementsOfCashFlows</role>\n",
            "<shortname>Consolidated Statements of Cash Flows</shortname>\n",
            "<menucategory>Statements</menucategory>\n",
            "<position>7</position>\n",
            "</report>\n",
            "could not find anything for ShortName condensed consolidated statements of cash flows (unaudited)\n",
            "could not find anything for ShortName condensed consolidated statements of cash flows\n",
            "could not find anything for ShortName condensed statements of cash flows\n",
            "Getting financial data for consolidated statements of cash flows (filename: R7.htm)\n"
          ],
          "name": "stdout"
        },
        {
          "output_type": "execute_result",
          "data": {
            "text/plain": [
              "71"
            ]
          },
          "metadata": {
            "tags": []
          },
          "execution_count": 16
        },
        {
          "output_type": "stream",
          "text": [
            "cik for MRCY is 1049521\n",
            "getting ['10-K', '10-K/A'] filing info from https://www.sec.gov/Archives/edgar/full-index/2018/QTR1/master.idx\n",
            "No annual filing info found for year=2018 quarter=1. Finding latest.\n",
            "getting ['10-K', '10-K/A'] filing info from https://www.sec.gov/Archives/edgar/full-index/2018/QTR1/master.idx\n",
            "Will do a final attempt to find filing info from last year\n",
            "getting ['10-K', '10-K/A'] filing info from https://www.sec.gov/Archives/edgar/full-index/2017/QTR4/master.idx\n",
            "getting ['10-K', '10-K/A'] filing info from https://www.sec.gov/Archives/edgar/full-index/2017/QTR3/master.idx\n",
            "Processing SGML at https://www.sec.gov/Archives/edgar/data/1049521/0001049521-17-000048.txt\n",
            "could not find anything for ShortName consolidated statements of income\n",
            "could not find anything for ShortName statement of income\n",
            "could not find anything for ShortName consolidated statements of operations\n",
            "could not find anything for ShortName consolidated statement of earnings\n",
            "could not find anything for ShortName condensed consolidated statements of income (unaudited)\n",
            "could not find anything for ShortName condensed consolidated statements of income\n",
            "could not find anything for ShortName condensed consolidated statements of operations (unaudited)\n",
            "could not find anything for ShortName condensed consolidated statements of operations\n",
            "could not find anything for ShortName condensed consolidated statement of earnings (unaudited)\n",
            "could not find anything for ShortName condensed consolidated statement of earnings\n",
            "could not find anything for ShortName condensed statements of income\n",
            "could not find anything for ShortName condensed statements of operations\n",
            "could not find anything for ShortName condensed statements of operations and comprehensive loss\n",
            "No financial documents could be found. Likely need to             update constants in edgar.filing.Statements.\n",
            "<report instance=\"mrcy-20170630.xml\">\n",
            "<isdefault>false</isdefault>\n",
            "<hasembeddedreports>false</hasembeddedreports>\n",
            "<htmlfilename>R2.htm</htmlfilename>\n",
            "<longname>1001000 - Statement - Consolidated Balance Sheets</longname>\n",
            "<reporttype>Sheet</reporttype>\n",
            "<role>http://www.mrcy.com/role/ConsolidatedBalanceSheets</role>\n",
            "<shortname>Consolidated Balance Sheets</shortname>\n",
            "<menucategory>Statements</menucategory>\n",
            "<position>2</position>\n",
            "</report>\n",
            "could not find anything for ShortName consolidated statement of financial position\n",
            "could not find anything for ShortName condensed consolidated statement of financial position (current period unaudited)\n",
            "could not find anything for ShortName condensed consolidated statement of financial position (unaudited)\n",
            "could not find anything for ShortName condensed consolidated statement of financial position\n",
            "could not find anything for ShortName condensed consolidated balance sheets (current period unaudited)\n",
            "could not find anything for ShortName condensed consolidated balance sheets (unaudited)\n",
            "could not find anything for ShortName condensed consolidated balance sheets\n",
            "could not find anything for ShortName condensed balance sheets\n",
            "Getting financial data for consolidated balance sheets (filename: R2.htm)\n",
            "<report instance=\"mrcy-20170630.xml\">\n",
            "<isdefault>false</isdefault>\n",
            "<hasembeddedreports>false</hasembeddedreports>\n",
            "<htmlfilename>R6.htm</htmlfilename>\n",
            "<longname>1004000 - Statement - Consolidated Statements Of Cash Flows</longname>\n",
            "<reporttype>Sheet</reporttype>\n",
            "<role>http://www.mrcy.com/role/ConsolidatedStatementsOfCashFlows</role>\n",
            "<shortname>Consolidated Statements Of Cash Flows</shortname>\n",
            "<menucategory>Statements</menucategory>\n",
            "<position>6</position>\n",
            "</report>\n",
            "could not find anything for ShortName condensed consolidated statements of cash flows (unaudited)\n",
            "could not find anything for ShortName condensed consolidated statements of cash flows\n",
            "could not find anything for ShortName condensed statements of cash flows\n",
            "Getting financial data for consolidated statements of cash flows (filename: R6.htm)\n"
          ],
          "name": "stdout"
        },
        {
          "output_type": "execute_result",
          "data": {
            "text/plain": [
              "69"
            ]
          },
          "metadata": {
            "tags": []
          },
          "execution_count": 16
        },
        {
          "output_type": "stream",
          "text": [
            "cik for NOC is 1133421\n",
            "getting ['10-K', '10-K/A'] filing info from https://www.sec.gov/Archives/edgar/full-index/2018/QTR1/master.idx\n",
            "Processing SGML at https://www.sec.gov/Archives/edgar/data/1133421/0001133421-18-000005.txt\n",
            "could not find anything for ShortName consolidated statements of income\n",
            "could not find anything for ShortName statement of income\n",
            "could not find anything for ShortName consolidated statements of operations\n",
            "could not find anything for ShortName consolidated statement of earnings\n",
            "could not find anything for ShortName condensed consolidated statements of income (unaudited)\n",
            "could not find anything for ShortName condensed consolidated statements of income\n",
            "could not find anything for ShortName condensed consolidated statements of operations (unaudited)\n",
            "could not find anything for ShortName condensed consolidated statements of operations\n",
            "could not find anything for ShortName condensed consolidated statement of earnings (unaudited)\n",
            "could not find anything for ShortName condensed consolidated statement of earnings\n",
            "could not find anything for ShortName condensed statements of income\n",
            "could not find anything for ShortName condensed statements of operations\n",
            "could not find anything for ShortName condensed statements of operations and comprehensive loss\n",
            "No financial documents could be found. Likely need to             update constants in edgar.filing.Statements.\n",
            "could not find anything for ShortName consolidated balance sheets\n",
            "could not find anything for ShortName consolidated statement of financial position\n",
            "could not find anything for ShortName condensed consolidated statement of financial position (current period unaudited)\n",
            "could not find anything for ShortName condensed consolidated statement of financial position (unaudited)\n",
            "could not find anything for ShortName condensed consolidated statement of financial position\n",
            "could not find anything for ShortName condensed consolidated balance sheets (current period unaudited)\n",
            "could not find anything for ShortName condensed consolidated balance sheets (unaudited)\n",
            "could not find anything for ShortName condensed consolidated balance sheets\n",
            "could not find anything for ShortName condensed balance sheets\n",
            "No financial documents could be found. Likely need to             update constants in edgar.filing.Statements.\n",
            "<report instance=\"noc-20171231.xml\">\n",
            "<isdefault>false</isdefault>\n",
            "<hasembeddedreports>false</hasembeddedreports>\n",
            "<htmlfilename>R6.htm</htmlfilename>\n",
            "<longname>1003000 - Statement - Consolidated Statements of Cash Flows</longname>\n",
            "<reporttype>Sheet</reporttype>\n",
            "<role>http://www.northropgrumman.com/role/ConsolidatedStatementsOfCashFlows</role>\n",
            "<shortname>Consolidated Statements of Cash Flows</shortname>\n",
            "<menucategory>Statements</menucategory>\n",
            "<position>6</position>\n",
            "</report>\n",
            "could not find anything for ShortName condensed consolidated statements of cash flows (unaudited)\n",
            "could not find anything for ShortName condensed consolidated statements of cash flows\n",
            "could not find anything for ShortName condensed statements of cash flows\n",
            "Getting financial data for consolidated statements of cash flows (filename: R6.htm)\n"
          ],
          "name": "stdout"
        },
        {
          "output_type": "execute_result",
          "data": {
            "text/plain": [
              "71"
            ]
          },
          "metadata": {
            "tags": []
          },
          "execution_count": 16
        },
        {
          "output_type": "stream",
          "text": [
            "cik for NPK is 80172\n",
            "getting ['10-K', '10-K/A'] filing info from https://www.sec.gov/Archives/edgar/full-index/2018/QTR1/master.idx\n",
            "Processing SGML at https://www.sec.gov/Archives/edgar/data/80172/0000080172-18-000011.txt\n",
            "could not find anything for ShortName consolidated statements of income\n",
            "could not find anything for ShortName statement of income\n",
            "could not find anything for ShortName consolidated statements of operations\n",
            "could not find anything for ShortName consolidated statement of earnings\n",
            "could not find anything for ShortName condensed consolidated statements of income (unaudited)\n",
            "could not find anything for ShortName condensed consolidated statements of income\n",
            "could not find anything for ShortName condensed consolidated statements of operations (unaudited)\n",
            "could not find anything for ShortName condensed consolidated statements of operations\n",
            "could not find anything for ShortName condensed consolidated statement of earnings (unaudited)\n",
            "could not find anything for ShortName condensed consolidated statement of earnings\n",
            "could not find anything for ShortName condensed statements of income\n",
            "could not find anything for ShortName condensed statements of operations\n",
            "could not find anything for ShortName condensed statements of operations and comprehensive loss\n",
            "No financial documents could be found. Likely need to             update constants in edgar.filing.Statements.\n",
            "could not find anything for ShortName consolidated balance sheets\n",
            "could not find anything for ShortName consolidated statement of financial position\n",
            "could not find anything for ShortName condensed consolidated statement of financial position (current period unaudited)\n",
            "could not find anything for ShortName condensed consolidated statement of financial position (unaudited)\n",
            "could not find anything for ShortName condensed consolidated statement of financial position\n",
            "could not find anything for ShortName condensed consolidated balance sheets (current period unaudited)\n",
            "could not find anything for ShortName condensed consolidated balance sheets (unaudited)\n",
            "<report instance=\"npk-20171231.xml\">\n",
            "<isdefault>false</isdefault>\n",
            "<hasembeddedreports>false</hasembeddedreports>\n",
            "<htmlfilename>R2.htm</htmlfilename>\n",
            "<longname>00100 - Statement - Condensed Consolidated Balance Sheets</longname>\n",
            "<reporttype>Sheet</reporttype>\n",
            "<role>http://www.gopresto.com/2010-09-30/role/StatementCondensedConsolidatedBalanceSheets</role>\n",
            "<shortname>Condensed Consolidated Balance Sheets</shortname>\n",
            "<menucategory>Statements</menucategory>\n",
            "<position>2</position>\n",
            "</report>\n",
            "could not find anything for ShortName condensed balance sheets\n",
            "Getting financial data for condensed consolidated balance sheets (filename: R2.htm)\n",
            "Warning:  (from us-gaap_DeferredTaxAssetsLiabilitiesNetNoncurrent) is not numeric even after removing special characters () - ignoring\n",
            "<report instance=\"npk-20171231.xml\">\n",
            "<isdefault>false</isdefault>\n",
            "<hasembeddedreports>false</hasembeddedreports>\n",
            "<htmlfilename>R5.htm</htmlfilename>\n",
            "<longname>00300 - Statement - Consolidated Statements Of Cash Flows</longname>\n",
            "<reporttype>Sheet</reporttype>\n",
            "<role>http://www.gopresto.com/2010-09-30/role/StatementConsolidatedStatementsOfCashFlows</role>\n",
            "<shortname>Consolidated Statements Of Cash Flows</shortname>\n",
            "<menucategory>Statements</menucategory>\n",
            "<position>5</position>\n",
            "</report>\n",
            "could not find anything for ShortName condensed consolidated statements of cash flows (unaudited)\n",
            "could not find anything for ShortName condensed consolidated statements of cash flows\n",
            "could not find anything for ShortName condensed statements of cash flows\n",
            "Getting financial data for consolidated statements of cash flows (filename: R5.htm)\n"
          ],
          "name": "stdout"
        },
        {
          "output_type": "execute_result",
          "data": {
            "text/plain": [
              "69"
            ]
          },
          "metadata": {
            "tags": []
          },
          "execution_count": 16
        },
        {
          "output_type": "stream",
          "text": [
            "cik for PKE is 76267\n",
            "getting ['10-K', '10-K/A'] filing info from https://www.sec.gov/Archives/edgar/full-index/2018/QTR1/master.idx\n",
            "No annual filing info found for year=2018 quarter=1. Finding latest.\n",
            "getting ['10-K', '10-K/A'] filing info from https://www.sec.gov/Archives/edgar/full-index/2018/QTR1/master.idx\n",
            "Will do a final attempt to find filing info from last year\n",
            "getting ['10-K', '10-K/A'] filing info from https://www.sec.gov/Archives/edgar/full-index/2017/QTR4/master.idx\n",
            "getting ['10-K', '10-K/A'] filing info from https://www.sec.gov/Archives/edgar/full-index/2017/QTR3/master.idx\n",
            "getting ['10-K', '10-K/A'] filing info from https://www.sec.gov/Archives/edgar/full-index/2017/QTR2/master.idx\n",
            "Processing SGML at https://www.sec.gov/Archives/edgar/data/76267/0001437749-17-008941.txt\n",
            "could not find anything for ShortName consolidated statements of income\n",
            "could not find anything for ShortName statement of income\n",
            "<report instance=\"pke-20170226.xml\">\n",
            "<isdefault>false</isdefault>\n",
            "<hasembeddedreports>false</hasembeddedreports>\n",
            "<htmlfilename>R4.htm</htmlfilename>\n",
            "<longname>003 - Statement - Consolidated Statements of Operations</longname>\n",
            "<reporttype>Sheet</reporttype>\n",
            "<role>http://http/20170226/role/statement-consolidated-statements-of-operations</role>\n",
            "<shortname>Consolidated Statements of Operations</shortname>\n",
            "<menucategory>Statements</menucategory>\n",
            "<position>4</position>\n",
            "</report>\n",
            "could not find anything for ShortName consolidated statement of earnings\n",
            "could not find anything for ShortName condensed consolidated statements of income (unaudited)\n",
            "could not find anything for ShortName condensed consolidated statements of income\n",
            "could not find anything for ShortName condensed consolidated statements of operations (unaudited)\n",
            "could not find anything for ShortName condensed consolidated statements of operations\n",
            "could not find anything for ShortName condensed consolidated statement of earnings (unaudited)\n",
            "could not find anything for ShortName condensed consolidated statement of earnings\n",
            "could not find anything for ShortName condensed statements of income\n",
            "could not find anything for ShortName condensed statements of operations\n",
            "could not find anything for ShortName condensed statements of operations and comprehensive loss\n",
            "Getting financial data for consolidated statements of operations (filename: R4.htm)\n",
            "<report instance=\"pke-20170226.xml\">\n",
            "<isdefault>false</isdefault>\n",
            "<hasembeddedreports>false</hasembeddedreports>\n",
            "<htmlfilename>R2.htm</htmlfilename>\n",
            "<longname>001 - Statement - Consolidated Balance Sheets</longname>\n",
            "<reporttype>Sheet</reporttype>\n",
            "<role>http://http/20170226/role/statement-consolidated-balance-sheets</role>\n",
            "<shortname>Consolidated Balance Sheets</shortname>\n",
            "<menucategory>Statements</menucategory>\n",
            "<position>2</position>\n",
            "</report>\n",
            "could not find anything for ShortName consolidated statement of financial position\n",
            "could not find anything for ShortName condensed consolidated statement of financial position (current period unaudited)\n",
            "could not find anything for ShortName condensed consolidated statement of financial position (unaudited)\n",
            "could not find anything for ShortName condensed consolidated statement of financial position\n",
            "could not find anything for ShortName condensed consolidated balance sheets (current period unaudited)\n",
            "could not find anything for ShortName condensed consolidated balance sheets (unaudited)\n",
            "could not find anything for ShortName condensed consolidated balance sheets\n",
            "could not find anything for ShortName condensed balance sheets\n",
            "Getting financial data for consolidated balance sheets (filename: R2.htm)\n",
            "<report instance=\"pke-20170226.xml\">\n",
            "<isdefault>false</isdefault>\n",
            "<hasembeddedreports>false</hasembeddedreports>\n",
            "<htmlfilename>R8.htm</htmlfilename>\n",
            "<longname>007 - Statement - Consolidated Statements of Cash Flows</longname>\n",
            "<reporttype>Sheet</reporttype>\n",
            "<role>http://http/20170226/role/statement-consolidated-statements-of-cash-flows</role>\n",
            "<shortname>Consolidated Statements of Cash Flows</shortname>\n",
            "<menucategory>Statements</menucategory>\n",
            "<position>8</position>\n",
            "</report>\n",
            "could not find anything for ShortName condensed consolidated statements of cash flows (unaudited)\n",
            "could not find anything for ShortName condensed consolidated statements of cash flows\n",
            "could not find anything for ShortName condensed statements of cash flows\n",
            "Getting financial data for consolidated statements of cash flows (filename: R8.htm)\n",
            "Warning:  (from us-gaap_GainLossOnDispositionOfAssets) is not numeric even after removing special characters () - ignoring\n",
            "Warning:  (from us-gaap_ProceedsFromSaleOfPropertyPlantAndEquipment) is not numeric even after removing special characters () - ignoring\n",
            "Warning:  (from us-gaap_ProceedsFromIssuanceOfLongTermDebt) is not numeric even after removing special characters () - ignoring\n",
            "{'company': 'PKE', 'date_filed': datetime.datetime(2017, 5, 12, 0, 0), 'reports': [{'date': datetime.datetime(2017, 2, 26, 0, 0), 'months': 12, 'map': {'us-gaap_SalesRevenueNet': {'label': 'Net sales', 'value': 114609000.0}, 'us-gaap_CostOfGoodsSold': {'label': 'Cost of sales', 'value': 84568000.0}, 'us-gaap_GrossProfit': {'label': 'Gross profit', 'value': 30041000.0}, 'us-gaap_SellingGeneralAndAdministrativeExpense': {'label': 'Selling, general and administrative expenses', 'value': 19739000.0}, 'us-gaap_RestructuringCharges': {'label': 'Restructuring charges (Note 8)', 'value': 313000.0}, 'us-gaap_OperatingIncomeLoss': {'label': 'Earnings from operations', 'value': 9989000.0}, 'us-gaap_InterestExpense': {'label': 'Interest expense (Note 10)', 'value': 1432000.0}, 'us-gaap_InterestAndOtherIncome': {'label': 'Interest and other income', 'value': 1704000.0}, 'us-gaap_IncomeLossFromContinuingOperationsBeforeIncomeTaxesMinorityInterestAndIncomeLossFromEquityMethodInvestments': {'label': 'Earnings before income taxes', 'value': 10261000.0}, 'us-gaap_IncomeTaxExpenseBenefit': {'label': 'Income tax provision (Note 4)', 'value': 978000.0}, 'us-gaap_NetIncomeLoss': {'label': 'Net earnings', 'value': 9283000.0}, 'us-gaap_EarningsPerShareBasic': {'label': 'Basic earnings per share (in dollars per share)', 'value': 0.46}, 'us-gaap_WeightedAverageNumberOfSharesOutstandingBasic': {'label': 'Weighted average common shares outstanding for basic EPS (in shares)', 'value': 20235000.0}, 'us-gaap_EarningsPerShareDiluted': {'label': 'Diluted earnings per share (in dollars per share)', 'value': 0.46}, 'us-gaap_WeightedAverageNumberOfDilutedSharesOutstanding': {'label': 'Diluted weighted average shares (in shares)', 'value': 20239000.0}}}, {'date': datetime.datetime(2016, 2, 28, 0, 0), 'months': 12, 'map': {'us-gaap_SalesRevenueNet': {'label': 'Net sales', 'value': 145855000.0}, 'us-gaap_CostOfGoodsSold': {'label': 'Cost of sales', 'value': 103103000.0}, 'us-gaap_GrossProfit': {'label': 'Gross profit', 'value': 42752000.0}, 'us-gaap_SellingGeneralAndAdministrativeExpense': {'label': 'Selling, general and administrative expenses', 'value': 21211000.0}, 'us-gaap_RestructuringCharges': {'label': 'Restructuring charges (Note 8)', 'value': 535000.0}, 'us-gaap_OperatingIncomeLoss': {'label': 'Earnings from operations', 'value': 21006000.0}, 'us-gaap_InterestExpense': {'label': 'Interest expense (Note 10)', 'value': 1657000.0}, 'us-gaap_InterestAndOtherIncome': {'label': 'Interest and other income', 'value': 1149000.0}, 'us-gaap_IncomeLossFromContinuingOperationsBeforeIncomeTaxesMinorityInterestAndIncomeLossFromEquityMethodInvestments': {'label': 'Earnings before income taxes', 'value': 20498000.0}, 'us-gaap_IncomeTaxExpenseBenefit': {'label': 'Income tax provision (Note 4)', 'value': 2469000.0}, 'us-gaap_NetIncomeLoss': {'label': 'Net earnings', 'value': 18029000.0}, 'us-gaap_EarningsPerShareBasic': {'label': 'Basic earnings per share (in dollars per share)', 'value': 0.89}, 'us-gaap_WeightedAverageNumberOfSharesOutstandingBasic': {'label': 'Weighted average common shares outstanding for basic EPS (in shares)', 'value': 20347000.0}, 'us-gaap_EarningsPerShareDiluted': {'label': 'Diluted earnings per share (in dollars per share)', 'value': 0.89}, 'us-gaap_WeightedAverageNumberOfDilutedSharesOutstanding': {'label': 'Diluted weighted average shares (in shares)', 'value': 20352000.0}}}, {'date': datetime.datetime(2015, 3, 1, 0, 0), 'months': 12, 'map': {'us-gaap_SalesRevenueNet': {'label': 'Net sales', 'value': 162086000.0}, 'us-gaap_CostOfGoodsSold': {'label': 'Cost of sales', 'value': 113133000.0}, 'us-gaap_GrossProfit': {'label': 'Gross profit', 'value': 48953000.0}, 'us-gaap_SellingGeneralAndAdministrativeExpense': {'label': 'Selling, general and administrative expenses', 'value': 24373000.0}, 'us-gaap_RestructuringCharges': {'label': 'Restructuring charges (Note 8)', 'value': 1179000.0}, 'us-gaap_OperatingIncomeLoss': {'label': 'Earnings from operations', 'value': 23401000.0}, 'us-gaap_InterestExpense': {'label': 'Interest expense (Note 10)', 'value': 1438000.0}, 'us-gaap_InterestAndOtherIncome': {'label': 'Interest and other income', 'value': 827000.0}, 'us-gaap_IncomeLossFromContinuingOperationsBeforeIncomeTaxesMinorityInterestAndIncomeLossFromEquityMethodInvestments': {'label': 'Earnings before income taxes', 'value': 22790000.0}, 'us-gaap_IncomeTaxExpenseBenefit': {'label': 'Income tax provision (Note 4)', 'value': 2747000.0}, 'us-gaap_NetIncomeLoss': {'label': 'Net earnings', 'value': 20043000.0}, 'us-gaap_EarningsPerShareBasic': {'label': 'Basic earnings per share (in dollars per share)', 'value': 0.96}, 'us-gaap_WeightedAverageNumberOfSharesOutstandingBasic': {'label': 'Weighted average common shares outstanding for basic EPS (in shares)', 'value': 20912000.0}, 'us-gaap_EarningsPerShareDiluted': {'label': 'Diluted earnings per share (in dollars per share)', 'value': 0.96}, 'us-gaap_WeightedAverageNumberOfDilutedSharesOutstanding': {'label': 'Diluted weighted average shares (in shares)', 'value': 20986000.0}}}]}\n",
            "dict_keys(['us-gaap_SalesRevenueNet', 'us-gaap_CostOfGoodsSold', 'us-gaap_GrossProfit', 'us-gaap_SellingGeneralAndAdministrativeExpense', 'us-gaap_RestructuringCharges', 'us-gaap_OperatingIncomeLoss', 'us-gaap_InterestExpense', 'us-gaap_InterestAndOtherIncome', 'us-gaap_IncomeLossFromContinuingOperationsBeforeIncomeTaxesMinorityInterestAndIncomeLossFromEquityMethodInvestments', 'us-gaap_IncomeTaxExpenseBenefit', 'us-gaap_NetIncomeLoss', 'us-gaap_EarningsPerShareBasic', 'us-gaap_WeightedAverageNumberOfSharesOutstandingBasic', 'us-gaap_EarningsPerShareDiluted', 'us-gaap_WeightedAverageNumberOfDilutedSharesOutstanding'])\n"
          ],
          "name": "stdout"
        },
        {
          "output_type": "execute_result",
          "data": {
            "text/plain": [
              "48"
            ]
          },
          "metadata": {
            "tags": []
          },
          "execution_count": 16
        },
        {
          "output_type": "stream",
          "text": [
            "cik for RTN is 1047122\n",
            "getting ['10-K', '10-K/A'] filing info from https://www.sec.gov/Archives/edgar/full-index/2018/QTR1/master.idx\n"
          ],
          "name": "stdout"
        }
      ]
    },
    {
      "cell_type": "markdown",
      "metadata": {
        "id": "ICj5zx42H6TX",
        "colab_type": "text"
      },
      "source": [
        ""
      ]
    },
    {
      "cell_type": "markdown",
      "metadata": {
        "id": "tQtRnbl-H6P7",
        "colab_type": "text"
      },
      "source": [
        ""
      ]
    },
    {
      "cell_type": "markdown",
      "metadata": {
        "id": "jRMJ72P9H55U",
        "colab_type": "text"
      },
      "source": [
        ""
      ]
    },
    {
      "cell_type": "code",
      "metadata": {
        "id": "UuELGObCe_2i",
        "colab_type": "code",
        "colab": {}
      },
      "source": [
        "# cik_not_found=[]\n",
        "# year_not_found=[]\n",
        "# income_statements_error=[]\n",
        "# balance_sheets_error=[]\n",
        "# cash_flows_error=[]\n",
        "\n",
        "\n",
        "# for y in range(2013,2019):\n",
        "#     for i in stock_list:\n",
        "#       try:\n",
        "#         stock = Stock(i)\n",
        "#       except:\n",
        "#         print(\"Add to symbols\",i)\n",
        "#         cik_not_found.append(i)\n",
        "#         continue\n",
        "\n",
        "#       period = 'annual'\n",
        "#       try:\n",
        "#         filing = stock.get_filing('annual',y,1)\n",
        "#         year_not_found.append(i)\n",
        "#       except:\n",
        "#         continue\n",
        "\n",
        "    \n",
        "#       income_statements = filing.get_income_statements()\n",
        "#       balance_sheets = filing.get_balance_sheets()\n",
        "#       cash_flows = filing.get_cash_flows()\n",
        "#         #print(type(income_statements),type(cash_flows))\n",
        "#       try:\n",
        "#             newdict_income_statements = income_statements.reports[0]\n",
        "#       except:\n",
        "#             income_statements_error.append(i)\n",
        "#       try:\n",
        "#             newdict_balance_sheets = balance_sheets.reports[0]\n",
        "#       except: \n",
        "#             balance_sheets_error.append(i)\n",
        "#       try:\n",
        "#             newdict_cash_flows = cash_flows.reports[0]\n",
        "#       except:\n",
        "#             cash_flows_error.append(i)\n",
        "# #         print(\"\\n\\n\",income_statements)\n",
        "# #         print(\"\\n\\n\",cash_flows)\n",
        "\n",
        "#       with open('Data.csv', mode='a') as file:\n",
        "#             file_writer = csv.writer(file, delimiter=',', quotechar='\"', quoting=csv.QUOTE_MINIMAL)\n",
        "        \n",
        "#             if income_statements: \n",
        "#                 try:\n",
        "#                     rev=newdict_income_statements.map['us-gaap_Revenues'].value\n",
        "                  \n",
        "                \n",
        "#                 except:\n",
        "#                     rev='No gaap_revenues'\n",
        "#                 try:\n",
        "#                   rev=newdict_income_statements.map['us-gaap_SalesRevenueNet'].value\n",
        "#                 except:\n",
        "#                   rev='No gaap_sales/rev'\n",
        "#                 try:\n",
        "#                     rnd=newdict_income_statements.map['us-gaap_ResearchAndDevelopmentExpense'].value\n",
        "#                 except:\n",
        "#                     rnd='N/A'\n",
        "#             else:\n",
        "#                 rev=''\n",
        "#                 rnd=''\n",
        "#             if cash_flows:\n",
        "#                 try:\n",
        "#                     netincome=newdict_cash_flows.map['us-gaap_NetIncomeLoss'].value\n",
        "\n",
        "#                 except:\n",
        "#                     netincome='ERROR'\n",
        "#                 try:\n",
        "#                     paymentProp=newdict_cash_flows.map['us-gaap_PaymentsToAcquirePropertyPlantAndEquipment'].value\n",
        "#                 except:\n",
        "#                     paymentProp='ERROR'\n",
        "#             else:\n",
        "#                 netincome='ERROR'\n",
        "#                 paymentProp='ERROR'\n",
        "\n",
        "#             file_writer.writerow([y,i,stock.cik, rev,netincome, rnd,paymentProp])"
      ],
      "execution_count": 0,
      "outputs": []
    },
    {
      "cell_type": "code",
      "metadata": {
        "id": "gNaOMrgYfkOF",
        "colab_type": "code",
        "colab": {}
      },
      "source": [
        ""
      ],
      "execution_count": 0,
      "outputs": []
    }
  ]
}