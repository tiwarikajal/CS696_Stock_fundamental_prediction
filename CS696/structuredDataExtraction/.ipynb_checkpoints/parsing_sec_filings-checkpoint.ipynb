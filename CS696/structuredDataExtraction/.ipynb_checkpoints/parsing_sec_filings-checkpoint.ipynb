{
 "cells": [
  {
   "cell_type": "code",
   "execution_count": 3,
   "metadata": {},
   "outputs": [],
   "source": [
    "import numpy as np\n",
    "import pandas as pd\n",
    "import xlrd\n",
    "import sys\n",
    "import csv\n",
    "from IPython.core.interactiveshell import InteractiveShell\n",
    "InteractiveShell.ast_node_interactivity = \"all\""
   ]
  },
  {
   "cell_type": "code",
   "execution_count": 4,
   "metadata": {},
   "outputs": [
    {
     "data": {
      "text/plain": [
       "81"
      ]
     },
     "execution_count": 4,
     "metadata": {},
     "output_type": "execute_result"
    }
   ],
   "source": [
    "sys.path.insert(0, r\"C:\\Umass spring 20\\696\\nikitas\\sec-edgar-financials\")\n",
    "from edgar.stock import Stock\n",
    "wb = xlrd.open_workbook('ticker_lists.xlsx')\n",
    "sheet = wb.sheet_by_index(0) \n",
    "stock_list=[]\n",
    "for i in range(11,985):\n",
    "    stock_list.append(sheet.cell_value(i,0))\n",
    "\n",
    "with open('Data.csv', mode='w') as file:\n",
    "            file_writer = csv.writer(file, delimiter=',', quotechar='\"', quoting=csv.QUOTE_MINIMAL)\n",
    "            file_writer.writerow([\"year\",'Company',\"CIK\", \"Revenue\", \"NetIncomeLoss\", \"R&D Expense\",\"Payments to acquire property\"])\n",
    "\n",
    "            \n"
   ]
  },
  {
   "cell_type": "code",
   "execution_count": 8,
   "metadata": {},
   "outputs": [
    {
     "ename": "SyntaxError",
     "evalue": "invalid syntax (<ipython-input-8-60e37c0d1c97>, line 62)",
     "output_type": "error",
     "traceback": [
      "\u001b[1;36m  File \u001b[1;32m\"<ipython-input-8-60e37c0d1c97>\"\u001b[1;36m, line \u001b[1;32m62\u001b[0m\n\u001b[1;33m    try:\u001b[0m\n\u001b[1;37m      ^\u001b[0m\n\u001b[1;31mSyntaxError\u001b[0m\u001b[1;31m:\u001b[0m invalid syntax\n"
     ]
    }
   ],
   "source": [
    "cik_not_found=[]\n",
    "year_not_found=[]\n",
    "income_statements_error=[]\n",
    "balance_sheets_error=[]\n",
    "cash_flows_error=[]\n",
    "\n",
    "\n",
    "for y in range(2013,2014):\n",
    "    for i in stock_list[1]:\n",
    "\n",
    "        try:\n",
    "            stock = Stock(i)\n",
    "        except:\n",
    "            cik_not_found.append(i)\n",
    "            continue\n",
    "        period = 'annual'\n",
    "\n",
    "        try:\n",
    "            filing = stock.get_filing('annual',y,1)\n",
    "        except:\n",
    "            year_not_found.append([i,y])\n",
    "\n",
    "    \n",
    "        income_statements = filing.get_income_statements()\n",
    "        balance_sheets = filing.get_balance_sheets()\n",
    "        cash_flows = filing.get_cash_flows()\n",
    "        #print(type(income_statements),type(cash_flows))\n",
    "        try:\n",
    "            newdict_income_statements = income_statements.reports[0]\n",
    "        except:\n",
    "            income_statements_error.append(i)\n",
    "        try:\n",
    "            newdict_balance_sheets = balance_sheets.reports[0]\n",
    "        except: \n",
    "            balance_sheets_error.append(i)\n",
    "        try:\n",
    "            newdict_cash_flows = cash_flows.reports[0]\n",
    "        except:\n",
    "            cash_flows_error.append(i)\n",
    "#         print(\"\\n\\n\",income_statements)\n",
    "#         print(\"\\n\\n\",cash_flows)\n",
    "\n",
    "        with open('Data.csv', mode='a') as file:\n",
    "            file_writer = csv.writer(file, delimiter=',', quotechar='\"', quoting=csv.QUOTE_MINIMAL)\n",
    "        \n",
    "            if income_statements: \n",
    "                try:\n",
    "                    rev=newdict_income_statements.map['us-gaap_Revenues'].value\n",
    "                \n",
    "                except:\n",
    "                    rev='ERROR'\n",
    "                try:\n",
    "                    rnd=newdict_income_statements.map['us-gaap_ResearchAndDevelopmentExpense'].value\n",
    "                except:\n",
    "                    rnd='ERROR'\n",
    "            else:\n",
    "                rev='ERROR'\n",
    "                rnd='ERROR'\n",
    "            if cash_flows:\n",
    "                try:\n",
    "                    netincome=newdict_cash_flows.map['us-gaap_NetIncomeLoss'].value\n",
    "\n",
    "                except:\n",
    "                    netincome='ERROR'\n",
    "                try:\n",
    "                    paymentProp=newdict_cash_flows.map['us-gaap_PaymentsToAcquirePropertyPlantAndEquipment'].value\n",
    "                except:\n",
    "                    paymentProp='ERROR'\n",
    "            else:\n",
    "                netincome='ERROR'\n",
    "                paymentProp='ERROR'\n",
    "\n",
    "            file_writer.writerow([y,i,stock.cik, rev,netincome, rnd,paymentProp])\n",
    "    \n"
   ]
  },
  {
   "cell_type": "code",
   "execution_count": null,
   "metadata": {},
   "outputs": [],
   "source": []
  }
 ],
 "metadata": {
  "kernelspec": {
   "display_name": "Python 3",
   "language": "python",
   "name": "python3"
  },
  "language_info": {
   "codemirror_mode": {
    "name": "ipython",
    "version": 3
   },
   "file_extension": ".py",
   "mimetype": "text/x-python",
   "name": "python",
   "nbconvert_exporter": "python",
   "pygments_lexer": "ipython3",
   "version": "3.7.4"
  }
 },
 "nbformat": 4,
 "nbformat_minor": 2
}
