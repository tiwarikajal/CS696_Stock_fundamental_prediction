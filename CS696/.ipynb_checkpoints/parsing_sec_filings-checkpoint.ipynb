{
 "cells": [
  {
   "cell_type": "code",
   "execution_count": 3,
   "metadata": {},
   "outputs": [],
   "source": [
    "import numpy as np\n",
    "import pandas as pd\n",
    "import sys\n",
    "\n",
    "from IPython.core.interactiveshell import InteractiveShell\n",
    "InteractiveShell.ast_node_interactivity = \"all\""
   ]
  },
  {
   "cell_type": "code",
   "execution_count": 5,
   "metadata": {},
   "outputs": [
    {
     "name": "stdout",
     "output_type": "stream",
     "text": [
      "['/Users/user/Google Drive/MS_CS_UMass/acads/sem_2/sec-edgar-financials/cs696_scraping', '/Users/user/opt/anaconda3/lib/python37.zip', '/Users/user/opt/anaconda3/lib/python3.7', '/Users/user/opt/anaconda3/lib/python3.7/lib-dynload', '', '/Users/user/opt/anaconda3/lib/python3.7/site-packages', '/Users/user/opt/anaconda3/lib/python3.7/site-packages/aeosa', '/Users/user/opt/anaconda3/lib/python3.7/site-packages/SECEdgar-0.1.2-py3.7.egg', '/Users/user/opt/anaconda3/lib/python3.7/site-packages/configparser-4.0.2-py3.7.egg', '/Users/user/opt/anaconda3/lib/python3.7/site-packages/IPython/extensions', '/Users/user/.ipython']\n"
     ]
    }
   ],
   "source": [
    "sys.path.insert(0, \"/Users/user/Google Drive/MS_CS_UMass/acads/sem_2/sec-edgar-financials\")"
   ]
  },
  {
   "cell_type": "code",
   "execution_count": 6,
   "metadata": {},
   "outputs": [
    {
     "name": "stdout",
     "output_type": "stream",
     "text": [
      "cik for FB is 1326801\n",
      "getting ['10-K', '10-K/A'] filing info from https://www.sec.gov/Archives/edgar/full-index/master.idx\n",
      "Processing SGML at https://www.sec.gov/Archives/edgar/data/1326801/0001326801-20-000013.txt\n",
      "could not find anything for ShortName consolidated statements of operations\n",
      "could not find anything for ShortName consolidated statement of earnings\n",
      "could not find anything for ShortName condensed consolidated statements of income (unaudited)\n",
      "could not find anything for ShortName condensed consolidated statements of income\n",
      "could not find anything for ShortName condensed consolidated statements of operations (unaudited)\n",
      "could not find anything for ShortName condensed consolidated statements of operations\n",
      "could not find anything for ShortName condensed consolidated statement of earnings (unaudited)\n",
      "could not find anything for ShortName condensed consolidated statement of earnings\n",
      "could not find anything for ShortName condensed statements of income\n",
      "could not find anything for ShortName condensed statements of operations\n",
      "could not find anything for ShortName condensed statements of operations and comprehensive loss\n",
      "Getting financial data for consolidated statements of income (filename: R4.htm)\n",
      "could not find anything for ShortName consolidated statement of financial position\n",
      "could not find anything for ShortName condensed consolidated statement of financial position (current period unaudited)\n",
      "could not find anything for ShortName condensed consolidated statement of financial position (unaudited)\n",
      "could not find anything for ShortName condensed consolidated statement of financial position\n",
      "could not find anything for ShortName condensed consolidated balance sheets (current period unaudited)\n",
      "could not find anything for ShortName condensed consolidated balance sheets (unaudited)\n",
      "could not find anything for ShortName condensed consolidated balance sheets\n",
      "could not find anything for ShortName condensed balance sheets\n",
      "Getting financial data for consolidated balance sheets (filename: R2.htm)\n",
      "Warning:  (from fb_PropertyPlantAndEquipmentAndFinanceLeaseRightofUseAssetAfterAccumulatedDepreciationAndAmortization) is not numeric even after removing special characters () - ignoring\n",
      "Warning:  (from us-gaap_OperatingLeaseRightOfUseAsset) is not numeric even after removing special characters () - ignoring\n",
      "Warning:  (from us-gaap_OperatingLeaseLiabilityCurrent) is not numeric even after removing special characters () - ignoring\n",
      "could not find anything for ShortName condensed consolidated statements of cash flows (unaudited)\n",
      "could not find anything for ShortName condensed consolidated statements of cash flows\n",
      "could not find anything for ShortName condensed statements of cash flows\n",
      "Getting financial data for consolidated statements of cash flows (filename: R7.htm)\n"
     ]
    }
   ],
   "source": [
    "from edgar.stock import Stock\n",
    "# stock_list = ['AAPL','AMZN','FB'] \n",
    "stock = Stock('FB')\n",
    "period = 'annual'\n",
    "if period == 'quarterly':\n",
    "    year = 2016\n",
    "    quarter = 1\n",
    "    filing = stock.get_filing(period, year, quarter)\n",
    "else:\n",
    "    filing = stock.get_filing()\n",
    "    \n",
    "income_statements = filing.get_income_statements()\n",
    "balance_sheets = filing.get_balance_sheets()\n",
    "cash_flows = filing.get_cash_flows()\n"
   ]
  },
  {
   "cell_type": "code",
   "execution_count": 7,
   "metadata": {},
   "outputs": [
    {
     "data": {
      "text/plain": [
       "{'company': 'FB', 'date_filed': datetime.datetime(2020, 1, 29, 0, 0), 'reports': [{'date': datetime.datetime(2019, 12, 31, 0, 0), 'months': 12, 'map': {'us-gaap_NetIncomeLoss': {'label': 'Net income', 'value': 18485000000.0}, 'us-gaap_DepreciationDepletionAndAmortization': {'label': 'Depreciation and amortization', 'value': 5741000000.0}, 'us-gaap_ShareBasedCompensation': {'label': 'Share-based compensation', 'value': 4836000000.0}, 'us-gaap_DeferredIncomeTaxExpenseBenefit': {'label': 'Deferred income taxes', 'value': -37000000.0}, 'us-gaap_OtherNoncashIncomeExpense': {'label': 'Other', 'value': 39000000.0}, 'us-gaap_IncreaseDecreaseInAccountsReceivable': {'label': 'Accounts receivable', 'value': -1961000000.0}, 'us-gaap_IncreaseDecreaseInPrepaidDeferredExpenseAndOtherAssets': {'label': 'Prepaid expenses and other current assets', 'value': 47000000.0}, 'us-gaap_IncreaseDecreaseInOtherOperatingAssets': {'label': 'Other assets', 'value': 41000000.0}, 'us-gaap_IncreaseDecreaseInAccountsPayableTrade': {'label': 'Accounts payable', 'value': 113000000.0}, 'us-gaap_IncreaseDecreaseInOtherAccountsPayable': {'label': 'Partners payable', 'value': 348000000.0}, 'us-gaap_IncreaseDecreaseInAccruedLiabilities': {'label': 'Accrued expenses and other current liabilities', 'value': 7300000000.0}, 'us-gaap_IncreaseDecreaseInContractWithCustomerLiability': {'label': 'Deferred revenue and deposits', 'value': 123000000.0}, 'us-gaap_IncreaseDecreaseInOtherNoncurrentLiabilities': {'label': 'Other liabilities', 'value': 1239000000.0}, 'us-gaap_NetCashProvidedByUsedInOperatingActivities': {'label': 'Net cash provided by operating activities', 'value': 36314000000.0}, 'us-gaap_PaymentsToAcquirePropertyPlantAndEquipment': {'label': 'Purchases of property and equipment, net', 'value': -15102000000.0}, 'us-gaap_PaymentsToAcquireMarketableSecurities': {'label': 'Purchases of marketable securities', 'value': -23910000000.0}, 'us-gaap_ProceedsFromSaleOfAvailableForSaleSecuritiesDebt': {'label': 'Sales of marketable securities', 'value': 9565000000.0}, 'us-gaap_ProceedsFromMaturitiesPrepaymentsAndCallsOfAvailableForSaleSecurities': {'label': 'Maturities of marketable securities', 'value': 10152000000.0}, 'fb_PaymentsToAcquireBusinessesNetOfCashAcquiredAndPurchasesOfIntangibleAndOtherAssets': {'label': 'Acquisitions of businesses, net of cash acquired, and purchases of intangible assets', 'value': -508000000.0}, 'us-gaap_PaymentsForProceedsFromOtherInvestingActivities': {'label': 'Other investing activities, net', 'value': -61000000.0}, 'us-gaap_NetCashProvidedByUsedInInvestingActivities': {'label': 'Net cash used in investing activities', 'value': -19864000000.0}, 'us-gaap_PaymentsRelatedToTaxWithholdingForShareBasedCompensation': {'label': 'Taxes paid related to net share settlement of equity awards', 'value': -2337000000.0}, 'us-gaap_PaymentsForRepurchaseOfCommonStock': {'label': 'Repurchases of Class A common stock', 'value': -4202000000.0}, 'us-gaap_FinanceLeasePrincipalPayments': {'label': 'Principal payments on finance leases', 'value': -552000000.0}, 'us-gaap_ProceedsFromRepaymentsOfBankOverdrafts': {'label': 'Net change in overdraft in cash pooling entities', 'value': -223000000.0}, 'us-gaap_ProceedsFromPaymentsForOtherFinancingActivities': {'label': 'Other financing activities, net', 'value': 15000000.0}, 'us-gaap_NetCashProvidedByUsedInFinancingActivities': {'label': 'Net cash used in financing activities', 'value': -7299000000.0}, 'us-gaap_EffectOfExchangeRateOnCashCashEquivalentsRestrictedCashAndRestrictedCashEquivalents': {'label': 'Effect of exchange rate changes on cash, cash equivalents, and restricted cash', 'value': 4000000.0}, 'us-gaap_CashCashEquivalentsRestrictedCashAndRestrictedCashEquivalentsPeriodIncreaseDecreaseIncludingExchangeRateEffect': {'label': 'Net increase (decrease) in cash, cash equivalents, and restricted cash', 'value': 9155000000.0}, 'us-gaap_CashCashEquivalentsRestrictedCashAndRestrictedCashEquivalents': {'label': 'Cash, cash equivalents, and restricted cash at beginning of the period', 'value': 10124000000.0}, 'us-gaap_IncomeTaxesPaidNet': {'label': 'Cash paid for income taxes, net', 'value': 5182000000.0}, 'fb_IncreaseDecreaseInPrepaidsAndLiabilitiesRelatedToPropertyAndEquipmentAdditions': {'label': 'Net change in prepaids and liabilities related to property and equipment', 'value': -153000000.0}, 'us-gaap_CapitalExpendituresIncurredButNotYetPaid': {'label': 'Property and equipment in accounts payable and accrued liabilities', 'value': 1887000000.0}}}, {'date': datetime.datetime(2018, 12, 31, 0, 0), 'months': 12, 'map': {'us-gaap_NetIncomeLoss': {'label': 'Net income', 'value': 22112000000.0}, 'us-gaap_DepreciationDepletionAndAmortization': {'label': 'Depreciation and amortization', 'value': 4315000000.0}, 'us-gaap_ShareBasedCompensation': {'label': 'Share-based compensation', 'value': 4152000000.0}, 'us-gaap_DeferredIncomeTaxExpenseBenefit': {'label': 'Deferred income taxes', 'value': 286000000.0}, 'us-gaap_OtherNoncashIncomeExpense': {'label': 'Other', 'value': -64000000.0}, 'us-gaap_IncreaseDecreaseInAccountsReceivable': {'label': 'Accounts receivable', 'value': -1892000000.0}, 'us-gaap_IncreaseDecreaseInPrepaidDeferredExpenseAndOtherAssets': {'label': 'Prepaid expenses and other current assets', 'value': -690000000.0}, 'us-gaap_IncreaseDecreaseInOtherOperatingAssets': {'label': 'Other assets', 'value': -159000000.0}, 'us-gaap_IncreaseDecreaseInAccountsPayableTrade': {'label': 'Accounts payable', 'value': 221000000.0}, 'us-gaap_IncreaseDecreaseInOtherAccountsPayable': {'label': 'Partners payable', 'value': 157000000.0}, 'us-gaap_IncreaseDecreaseInAccruedLiabilities': {'label': 'Accrued expenses and other current liabilities', 'value': 1417000000.0}, 'us-gaap_IncreaseDecreaseInContractWithCustomerLiability': {'label': 'Deferred revenue and deposits', 'value': 53000000.0}, 'us-gaap_IncreaseDecreaseInOtherNoncurrentLiabilities': {'label': 'Other liabilities', 'value': -634000000.0}, 'us-gaap_NetCashProvidedByUsedInOperatingActivities': {'label': 'Net cash provided by operating activities', 'value': 29274000000.0}, 'us-gaap_PaymentsToAcquirePropertyPlantAndEquipment': {'label': 'Purchases of property and equipment, net', 'value': -13915000000.0}, 'us-gaap_PaymentsToAcquireMarketableSecurities': {'label': 'Purchases of marketable securities', 'value': -14656000000.0}, 'us-gaap_ProceedsFromSaleOfAvailableForSaleSecuritiesDebt': {'label': 'Sales of marketable securities', 'value': 12358000000.0}, 'us-gaap_ProceedsFromMaturitiesPrepaymentsAndCallsOfAvailableForSaleSecurities': {'label': 'Maturities of marketable securities', 'value': 4772000000.0}, 'fb_PaymentsToAcquireBusinessesNetOfCashAcquiredAndPurchasesOfIntangibleAndOtherAssets': {'label': 'Acquisitions of businesses, net of cash acquired, and purchases of intangible assets', 'value': -137000000.0}, 'us-gaap_PaymentsForProceedsFromOtherInvestingActivities': {'label': 'Other investing activities, net', 'value': -25000000.0}, 'us-gaap_NetCashProvidedByUsedInInvestingActivities': {'label': 'Net cash used in investing activities', 'value': -11603000000.0}, 'us-gaap_PaymentsRelatedToTaxWithholdingForShareBasedCompensation': {'label': 'Taxes paid related to net share settlement of equity awards', 'value': -3208000000.0}, 'us-gaap_PaymentsForRepurchaseOfCommonStock': {'label': 'Repurchases of Class A common stock', 'value': -12879000000.0}, 'us-gaap_FinanceLeasePrincipalPayments': {'label': 'Principal payments on finance leases', 'value': 0.0}, 'us-gaap_ProceedsFromRepaymentsOfBankOverdrafts': {'label': 'Net change in overdraft in cash pooling entities', 'value': 500000000.0}, 'us-gaap_ProceedsFromPaymentsForOtherFinancingActivities': {'label': 'Other financing activities, net', 'value': 15000000.0}, 'us-gaap_NetCashProvidedByUsedInFinancingActivities': {'label': 'Net cash used in financing activities', 'value': -15572000000.0}, 'us-gaap_EffectOfExchangeRateOnCashCashEquivalentsRestrictedCashAndRestrictedCashEquivalents': {'label': 'Effect of exchange rate changes on cash, cash equivalents, and restricted cash', 'value': -179000000.0}, 'us-gaap_CashCashEquivalentsRestrictedCashAndRestrictedCashEquivalentsPeriodIncreaseDecreaseIncludingExchangeRateEffect': {'label': 'Net increase (decrease) in cash, cash equivalents, and restricted cash', 'value': 1920000000.0}, 'us-gaap_CashCashEquivalentsRestrictedCashAndRestrictedCashEquivalents': {'label': 'Cash, cash equivalents, and restricted cash at beginning of the period', 'value': 8204000000.0}, 'us-gaap_IncomeTaxesPaidNet': {'label': 'Cash paid for income taxes, net', 'value': 3762000000.0}, 'fb_IncreaseDecreaseInPrepaidsAndLiabilitiesRelatedToPropertyAndEquipmentAdditions': {'label': 'Net change in prepaids and liabilities related to property and equipment', 'value': 918000000.0}, 'us-gaap_CapitalExpendituresIncurredButNotYetPaid': {'label': 'Property and equipment in accounts payable and accrued liabilities', 'value': 1955000000.0}}}, {'date': datetime.datetime(2017, 12, 31, 0, 0), 'months': 12, 'map': {'us-gaap_NetIncomeLoss': {'label': 'Net income', 'value': 15934000000.0}, 'us-gaap_DepreciationDepletionAndAmortization': {'label': 'Depreciation and amortization', 'value': 3025000000.0}, 'us-gaap_ShareBasedCompensation': {'label': 'Share-based compensation', 'value': 3723000000.0}, 'us-gaap_DeferredIncomeTaxExpenseBenefit': {'label': 'Deferred income taxes', 'value': -377000000.0}, 'us-gaap_OtherNoncashIncomeExpense': {'label': 'Other', 'value': 24000000.0}, 'us-gaap_IncreaseDecreaseInAccountsReceivable': {'label': 'Accounts receivable', 'value': -1609000000.0}, 'us-gaap_IncreaseDecreaseInPrepaidDeferredExpenseAndOtherAssets': {'label': 'Prepaid expenses and other current assets', 'value': -192000000.0}, 'us-gaap_IncreaseDecreaseInOtherOperatingAssets': {'label': 'Other assets', 'value': 154000000.0}, 'us-gaap_IncreaseDecreaseInAccountsPayableTrade': {'label': 'Accounts payable', 'value': 43000000.0}, 'us-gaap_IncreaseDecreaseInOtherAccountsPayable': {'label': 'Partners payable', 'value': 95000000.0}, 'us-gaap_IncreaseDecreaseInAccruedLiabilities': {'label': 'Accrued expenses and other current liabilities', 'value': 309000000.0}, 'us-gaap_IncreaseDecreaseInContractWithCustomerLiability': {'label': 'Deferred revenue and deposits', 'value': 4000000.0}, 'us-gaap_IncreaseDecreaseInOtherNoncurrentLiabilities': {'label': 'Other liabilities', 'value': 3083000000.0}, 'us-gaap_NetCashProvidedByUsedInOperatingActivities': {'label': 'Net cash provided by operating activities', 'value': 24216000000.0}, 'us-gaap_PaymentsToAcquirePropertyPlantAndEquipment': {'label': 'Purchases of property and equipment, net', 'value': -6733000000.0}, 'us-gaap_PaymentsToAcquireMarketableSecurities': {'label': 'Purchases of marketable securities', 'value': -25682000000.0}, 'us-gaap_ProceedsFromSaleOfAvailableForSaleSecuritiesDebt': {'label': 'Sales of marketable securities', 'value': 9444000000.0}, 'us-gaap_ProceedsFromMaturitiesPrepaymentsAndCallsOfAvailableForSaleSecurities': {'label': 'Maturities of marketable securities', 'value': 2988000000.0}, 'fb_PaymentsToAcquireBusinessesNetOfCashAcquiredAndPurchasesOfIntangibleAndOtherAssets': {'label': 'Acquisitions of businesses, net of cash acquired, and purchases of intangible assets', 'value': -122000000.0}, 'us-gaap_PaymentsForProceedsFromOtherInvestingActivities': {'label': 'Other investing activities, net', 'value': -13000000.0}, 'us-gaap_NetCashProvidedByUsedInInvestingActivities': {'label': 'Net cash used in investing activities', 'value': -20118000000.0}, 'us-gaap_PaymentsRelatedToTaxWithholdingForShareBasedCompensation': {'label': 'Taxes paid related to net share settlement of equity awards', 'value': -3246000000.0}, 'us-gaap_PaymentsForRepurchaseOfCommonStock': {'label': 'Repurchases of Class A common stock', 'value': -1976000000.0}, 'us-gaap_FinanceLeasePrincipalPayments': {'label': 'Principal payments on finance leases', 'value': 0.0}, 'us-gaap_ProceedsFromRepaymentsOfBankOverdrafts': {'label': 'Net change in overdraft in cash pooling entities', 'value': 0.0}, 'us-gaap_ProceedsFromPaymentsForOtherFinancingActivities': {'label': 'Other financing activities, net', 'value': -13000000.0}, 'us-gaap_NetCashProvidedByUsedInFinancingActivities': {'label': 'Net cash used in financing activities', 'value': -5235000000.0}, 'us-gaap_EffectOfExchangeRateOnCashCashEquivalentsRestrictedCashAndRestrictedCashEquivalents': {'label': 'Effect of exchange rate changes on cash, cash equivalents, and restricted cash', 'value': 232000000.0}, 'us-gaap_CashCashEquivalentsRestrictedCashAndRestrictedCashEquivalentsPeriodIncreaseDecreaseIncludingExchangeRateEffect': {'label': 'Net increase (decrease) in cash, cash equivalents, and restricted cash', 'value': -905000000.0}, 'us-gaap_CashCashEquivalentsRestrictedCashAndRestrictedCashEquivalents': {'label': 'Cash, cash equivalents, and restricted cash at beginning of the period', 'value': 9109000000.0}, 'us-gaap_IncomeTaxesPaidNet': {'label': 'Cash paid for income taxes, net', 'value': 2117000000.0}, 'fb_IncreaseDecreaseInPrepaidsAndLiabilitiesRelatedToPropertyAndEquipmentAdditions': {'label': 'Net change in prepaids and liabilities related to property and equipment', 'value': 495000000.0}, 'us-gaap_CapitalExpendituresIncurredButNotYetPaid': {'label': 'Property and equipment in accounts payable and accrued liabilities', 'value': 882000000.0}}}]}"
      ]
     },
     "execution_count": 7,
     "metadata": {},
     "output_type": "execute_result"
    }
   ],
   "source": [
    "cash_flows"
   ]
  },
  {
   "cell_type": "code",
   "execution_count": null,
   "metadata": {},
   "outputs": [],
   "source": [
    "revenue\n",
    "net income\n",
    "operating incomes\n"
   ]
  },
  {
   "cell_type": "code",
   "execution_count": 64,
   "metadata": {},
   "outputs": [
    {
     "data": {
      "text/plain": [
       "datetime.datetime(2019, 9, 28, 0, 0)"
      ]
     },
     "execution_count": 64,
     "metadata": {},
     "output_type": "execute_result"
    }
   ],
   "source": [
    "newdict_income_statements = income_statements.reports[0]\n",
    "newdict_balance_sheets = balance_sheets.reports[0]\n",
    "newdict_cash_flows = cash_flows.reports[0]"
   ]
  },
  {
   "cell_type": "code",
   "execution_count": 55,
   "metadata": {},
   "outputs": [
    {
     "data": {
      "text/html": [
       "<div>\n",
       "<style scoped>\n",
       "    .dataframe tbody tr th:only-of-type {\n",
       "        vertical-align: middle;\n",
       "    }\n",
       "\n",
       "    .dataframe tbody tr th {\n",
       "        vertical-align: top;\n",
       "    }\n",
       "\n",
       "    .dataframe thead th {\n",
       "        text-align: right;\n",
       "    }\n",
       "</style>\n",
       "<table border=\"1\" class=\"dataframe\">\n",
       "  <thead>\n",
       "    <tr style=\"text-align: right;\">\n",
       "      <th></th>\n",
       "      <th>0</th>\n",
       "    </tr>\n",
       "  </thead>\n",
       "  <tbody>\n",
       "    <tr>\n",
       "      <td>0</td>\n",
       "      <td>us-gaap_CashCashEquivalentsRestrictedCashAndRe...</td>\n",
       "    </tr>\n",
       "    <tr>\n",
       "      <td>1</td>\n",
       "      <td>us-gaap_NetIncomeLoss</td>\n",
       "    </tr>\n",
       "    <tr>\n",
       "      <td>2</td>\n",
       "      <td>us-gaap_DepreciationDepletionAndAmortization</td>\n",
       "    </tr>\n",
       "    <tr>\n",
       "      <td>3</td>\n",
       "      <td>us-gaap_ShareBasedCompensation</td>\n",
       "    </tr>\n",
       "    <tr>\n",
       "      <td>4</td>\n",
       "      <td>us-gaap_DeferredIncomeTaxExpenseBenefit</td>\n",
       "    </tr>\n",
       "  </tbody>\n",
       "</table>\n",
       "</div>"
      ],
      "text/plain": [
       "                                                   0\n",
       "0  us-gaap_CashCashEquivalentsRestrictedCashAndRe...\n",
       "1                              us-gaap_NetIncomeLoss\n",
       "2       us-gaap_DepreciationDepletionAndAmortization\n",
       "3                     us-gaap_ShareBasedCompensation\n",
       "4            us-gaap_DeferredIncomeTaxExpenseBenefit"
      ]
     },
     "execution_count": 55,
     "metadata": {},
     "output_type": "execute_result"
    }
   ],
   "source": [
    "import pandas as pd\n",
    "a = pd.DataFrame(newdict_income_statements.map.keys())\n"
   ]
  },
  {
   "cell_type": "code",
   "execution_count": 113,
   "metadata": {},
   "outputs": [
    {
     "name": "stdout",
     "output_type": "stream",
     "text": [
      "us-gaap_RevenueFromContractWithCustomerExcludingAssessedTax\n",
      "us-gaap_CostOfRevenue\n",
      "us-gaap_ResearchAndDevelopmentExpense\n",
      "us-gaap_SellingAndMarketingExpense\n",
      "us-gaap_GeneralAndAdministrativeExpense\n",
      "us-gaap_CostsAndExpenses\n",
      "us-gaap_OperatingIncomeLoss\n",
      "us-gaap_NonoperatingIncomeExpense\n",
      "us-gaap_IncomeLossFromContinuingOperationsBeforeIncomeTaxesExtraordinaryItemsNoncontrollingInterest\n",
      "us-gaap_IncomeTaxExpenseBenefit\n",
      "us-gaap_NetIncomeLoss\n",
      "us-gaap_UndistributedEarningsLossAllocatedToParticipatingSecuritiesBasic\n",
      "us-gaap_NetIncomeLossAvailableToCommonStockholdersBasic\n",
      "us-gaap_EarningsPerShareBasic\n",
      "us-gaap_EarningsPerShareDiluted\n",
      "us-gaap_WeightedAverageNumberOfSharesOutstandingBasic\n",
      "us-gaap_WeightedAverageNumberOfDilutedSharesOutstanding\n",
      "us-gaap_AllocatedShareBasedCompensationExpense\n"
     ]
    }
   ],
   "source": [
    "for i in newdict_income_statements.map.keys():\n",
    "    print(i)\n",
    "for i in newdict_income_statements.map.values():\n",
    "    print(i.label)\n",
    "    print(i.value)"
   ]
  },
  {
   "cell_type": "code",
   "execution_count": 98,
   "metadata": {},
   "outputs": [
    {
     "data": {
      "text/plain": [
       "{'company': 'AMZN', 'date_filed': datetime.datetime(2020, 1, 30, 0, 0), 'reports': [{'date': datetime.datetime(2019, 12, 31, 0, 0), 'months': 12, 'map': {'us-gaap_CashCashEquivalentsRestrictedCashAndRestrictedCashEquivalents': {'label': 'CASH, CASH EQUIVALENTS, AND RESTRICTED CASH, BEGINNING OF PERIOD', 'value': 32173000000.0}, 'us-gaap_NetIncomeLoss': {'label': 'Net income', 'value': 11588000000.0}, 'us-gaap_DepreciationDepletionAndAmortization': {'label': 'Depreciation and amortization of property and equipment and capitalized content costs, operating lease assets, and other', 'value': 21789000000.0}, 'us-gaap_ShareBasedCompensation': {'label': 'Stock-based compensation', 'value': 6864000000.0}, 'us-gaap_OtherOperatingActivitiesCashFlowStatement': {'label': 'Other operating expense (income), net', 'value': 164000000.0}, 'us-gaap_OtherNoncashIncomeExpense': {'label': 'Other expense (income), net', 'value': -249000000.0}, 'us-gaap_DeferredIncomeTaxExpenseBenefit': {'label': 'Deferred income taxes', 'value': 796000000.0}, 'us-gaap_IncreaseDecreaseInInventories': {'label': 'Inventories', 'value': -3278000000.0}, 'us-gaap_IncreaseDecreaseInAccountsReceivableAndOtherOperatingAssets': {'label': 'Accounts receivable, net and other', 'value': -7681000000.0}, 'us-gaap_IncreaseDecreaseInAccountsPayable': {'label': 'Accounts payable', 'value': 8193000000.0}, 'us-gaap_IncreaseDecreaseInAccruedLiabilitiesAndOtherOperatingLiabilities': {'label': 'Accrued expenses and other', 'value': -1383000000.0}, 'us-gaap_IncreaseDecreaseInContractWithCustomerLiability': {'label': 'Unearned revenue', 'value': 1711000000.0}, 'us-gaap_NetCashProvidedByUsedInOperatingActivities': {'label': 'Net cash provided by (used in) operating activities', 'value': 38514000000.0}, 'us-gaap_PaymentsToAcquireProductiveAssets': {'label': 'Purchases of property and equipment', 'value': -16861000000.0}, 'amzn_ProceedsFromRebatesOnPurchasesOfProductiveAssets': {'label': 'Proceeds from property and equipment sales and incentives', 'value': 4172000000.0}, 'us-gaap_PaymentsToAcquireBusinessesNetOfCashAcquired': {'label': 'Acquisitions, net of cash acquired, and other', 'value': -2461000000.0}, 'us-gaap_ProceedsFromSaleAndMaturityOfMarketableSecurities': {'label': 'Sales and maturities of marketable securities', 'value': 22681000000.0}, 'us-gaap_PaymentsToAcquireMarketableSecurities': {'label': 'Purchases of marketable securities', 'value': -31812000000.0}, 'us-gaap_NetCashProvidedByUsedInInvestingActivities': {'label': 'Net cash provided by (used in) investing activities', 'value': -24281000000.0}, 'us-gaap_ProceedsFromIssuanceOfLongTermDebt': {'label': 'Proceeds from long-term debt and other', 'value': 2273000000.0}, 'us-gaap_RepaymentsOfDebt': {'label': 'Repayments of long-term debt and other', 'value': -2684000000.0}, 'us-gaap_FinanceLeasePrincipalPayments': {'label': 'Principal repayments of finance leases', 'value': -9628000000.0}, 'amzn_RepaymentsOfLongTermFinancingObligations': {'label': 'Principal repayments of financing obligations', 'value': -27000000.0}, 'us-gaap_NetCashProvidedByUsedInFinancingActivities': {'label': 'Net cash provided by (used in) financing activities', 'value': -10066000000.0}, 'us-gaap_EffectOfExchangeRateOnCashAndCashEquivalents': {'label': 'Foreign currency effect on cash, cash equivalents, and restricted cash', 'value': 70000000.0}, 'us-gaap_CashCashEquivalentsRestrictedCashAndRestrictedCashEquivalentsPeriodIncreaseDecreaseIncludingExchangeRateEffect': {'label': 'Net increase (decrease) in cash, cash equivalents, and restricted cash', 'value': 4237000000.0}, 'amzn_InterestPaidOnLongTermDebt': {'label': 'Cash paid for interest on long-term debt', 'value': 875000000.0}, 'us-gaap_OperatingLeasePayments': {'label': 'Cash paid for operating leases', 'value': 3361000000.0}, 'us-gaap_FinanceLeaseInterestPaymentOnLiability': {'label': 'Cash paid for interest on finance leases', 'value': 647000000.0}, 'amzn_InterestPaidFinancingObligations': {'label': 'Cash paid for interest on financing obligations', 'value': 39000000.0}, 'us-gaap_IncomeTaxesPaidNet': {'label': 'Cash paid for income taxes, net of refunds', 'value': 881000000.0}, 'us-gaap_RightOfUseAssetObtainedInExchangeForOperatingLeaseLiability': {'label': 'Assets acquired under operating leases', 'value': 7870000000.0}, 'us-gaap_RightOfUseAssetObtainedInExchangeForFinanceLeaseLiability': {'label': 'Property and equipment acquired under finance leases', 'value': 13723000000.0}, 'amzn_PropertyandEquipmentObtainedinExchangeforFinancingObligations': {'label': 'Property and equipment acquired under build-to-suit arrangements', 'value': 1362000000.0}}}, {'date': datetime.datetime(2018, 12, 31, 0, 0), 'months': 12, 'map': {'us-gaap_CashCashEquivalentsRestrictedCashAndRestrictedCashEquivalents': {'label': 'CASH, CASH EQUIVALENTS, AND RESTRICTED CASH, BEGINNING OF PERIOD', 'value': 21856000000.0}, 'us-gaap_NetIncomeLoss': {'label': 'Net income', 'value': 10073000000.0}, 'us-gaap_DepreciationDepletionAndAmortization': {'label': 'Depreciation and amortization of property and equipment and capitalized content costs, operating lease assets, and other', 'value': 15341000000.0}, 'us-gaap_ShareBasedCompensation': {'label': 'Stock-based compensation', 'value': 5418000000.0}, 'us-gaap_OtherOperatingActivitiesCashFlowStatement': {'label': 'Other operating expense (income), net', 'value': 274000000.0}, 'us-gaap_OtherNoncashIncomeExpense': {'label': 'Other expense (income), net', 'value': 219000000.0}, 'us-gaap_DeferredIncomeTaxExpenseBenefit': {'label': 'Deferred income taxes', 'value': 441000000.0}, 'us-gaap_IncreaseDecreaseInInventories': {'label': 'Inventories', 'value': -1314000000.0}, 'us-gaap_IncreaseDecreaseInAccountsReceivableAndOtherOperatingAssets': {'label': 'Accounts receivable, net and other', 'value': -4615000000.0}, 'us-gaap_IncreaseDecreaseInAccountsPayable': {'label': 'Accounts payable', 'value': 3263000000.0}, 'us-gaap_IncreaseDecreaseInAccruedLiabilitiesAndOtherOperatingLiabilities': {'label': 'Accrued expenses and other', 'value': 472000000.0}, 'us-gaap_IncreaseDecreaseInContractWithCustomerLiability': {'label': 'Unearned revenue', 'value': 1151000000.0}, 'us-gaap_NetCashProvidedByUsedInOperatingActivities': {'label': 'Net cash provided by (used in) operating activities', 'value': 30723000000.0}, 'us-gaap_PaymentsToAcquireProductiveAssets': {'label': 'Purchases of property and equipment', 'value': -13427000000.0}, 'amzn_ProceedsFromRebatesOnPurchasesOfProductiveAssets': {'label': 'Proceeds from property and equipment sales and incentives', 'value': 2104000000.0}, 'us-gaap_PaymentsToAcquireBusinessesNetOfCashAcquired': {'label': 'Acquisitions, net of cash acquired, and other', 'value': -2186000000.0}, 'us-gaap_ProceedsFromSaleAndMaturityOfMarketableSecurities': {'label': 'Sales and maturities of marketable securities', 'value': 8240000000.0}, 'us-gaap_PaymentsToAcquireMarketableSecurities': {'label': 'Purchases of marketable securities', 'value': -7100000000.0}, 'us-gaap_NetCashProvidedByUsedInInvestingActivities': {'label': 'Net cash provided by (used in) investing activities', 'value': -12369000000.0}, 'us-gaap_ProceedsFromIssuanceOfLongTermDebt': {'label': 'Proceeds from long-term debt and other', 'value': 768000000.0}, 'us-gaap_RepaymentsOfDebt': {'label': 'Repayments of long-term debt and other', 'value': -668000000.0}, 'us-gaap_FinanceLeasePrincipalPayments': {'label': 'Principal repayments of finance leases', 'value': -7449000000.0}, 'amzn_RepaymentsOfLongTermFinancingObligations': {'label': 'Principal repayments of financing obligations', 'value': -337000000.0}, 'us-gaap_NetCashProvidedByUsedInFinancingActivities': {'label': 'Net cash provided by (used in) financing activities', 'value': -7686000000.0}, 'us-gaap_EffectOfExchangeRateOnCashAndCashEquivalents': {'label': 'Foreign currency effect on cash, cash equivalents, and restricted cash', 'value': -351000000.0}, 'us-gaap_CashCashEquivalentsRestrictedCashAndRestrictedCashEquivalentsPeriodIncreaseDecreaseIncludingExchangeRateEffect': {'label': 'Net increase (decrease) in cash, cash equivalents, and restricted cash', 'value': 10317000000.0}, 'amzn_InterestPaidOnLongTermDebt': {'label': 'Cash paid for interest on long-term debt', 'value': 854000000.0}, 'us-gaap_OperatingLeasePayments': {'label': 'Cash paid for operating leases', 'value': 0.0}, 'amzn_InterestPaidOnCapitalLeaseObligations': {'label': 'Cash paid for interest on capital leases', 'value': 381000000.0}, 'amzn_InterestPaidFinancingObligations': {'label': 'Cash paid for interest on financing obligations', 'value': 194000000.0}, 'us-gaap_IncomeTaxesPaidNet': {'label': 'Cash paid for income taxes, net of refunds', 'value': -1184000000.0}, 'us-gaap_RightOfUseAssetObtainedInExchangeForOperatingLeaseLiability': {'label': 'Assets acquired under operating leases', 'value': 0.0}, 'us-gaap_CapitalLeaseObligationsIncurred': {'label': 'Property and equipment acquired under capital leases', 'value': 10615000000.0}, 'amzn_PropertyandEquipmentObtainedinExchangeforFinancingObligations': {'label': 'Property and equipment acquired under build-to-suit arrangements', 'value': 3641000000.0}}}, {'date': datetime.datetime(2017, 12, 31, 0, 0), 'months': 12, 'map': {'us-gaap_CashCashEquivalentsRestrictedCashAndRestrictedCashEquivalents': {'label': 'CASH, CASH EQUIVALENTS, AND RESTRICTED CASH, BEGINNING OF PERIOD', 'value': 19934000000.0}, 'us-gaap_NetIncomeLoss': {'label': 'Net income', 'value': 3033000000.0}, 'us-gaap_DepreciationDepletionAndAmortization': {'label': 'Depreciation and amortization of property and equipment and capitalized content costs, operating lease assets, and other', 'value': 11478000000.0}, 'us-gaap_ShareBasedCompensation': {'label': 'Stock-based compensation', 'value': 4215000000.0}, 'us-gaap_OtherOperatingActivitiesCashFlowStatement': {'label': 'Other operating expense (income), net', 'value': 202000000.0}, 'us-gaap_OtherNoncashIncomeExpense': {'label': 'Other expense (income), net', 'value': -292000000.0}, 'us-gaap_DeferredIncomeTaxExpenseBenefit': {'label': 'Deferred income taxes', 'value': -29000000.0}, 'us-gaap_IncreaseDecreaseInInventories': {'label': 'Inventories', 'value': -3583000000.0}, 'us-gaap_IncreaseDecreaseInAccountsReceivableAndOtherOperatingAssets': {'label': 'Accounts receivable, net and other', 'value': -4780000000.0}, 'us-gaap_IncreaseDecreaseInAccountsPayable': {'label': 'Accounts payable', 'value': 7100000000.0}, 'us-gaap_IncreaseDecreaseInAccruedLiabilitiesAndOtherOperatingLiabilities': {'label': 'Accrued expenses and other', 'value': 283000000.0}, 'us-gaap_IncreaseDecreaseInContractWithCustomerLiability': {'label': 'Unearned revenue', 'value': 738000000.0}, 'us-gaap_NetCashProvidedByUsedInOperatingActivities': {'label': 'Net cash provided by (used in) operating activities', 'value': 18365000000.0}, 'us-gaap_PaymentsToAcquireProductiveAssets': {'label': 'Purchases of property and equipment', 'value': -11955000000.0}, 'amzn_ProceedsFromRebatesOnPurchasesOfProductiveAssets': {'label': 'Proceeds from property and equipment sales and incentives', 'value': 1897000000.0}, 'us-gaap_PaymentsToAcquireBusinessesNetOfCashAcquired': {'label': 'Acquisitions, net of cash acquired, and other', 'value': -13972000000.0}, 'us-gaap_ProceedsFromSaleAndMaturityOfMarketableSecurities': {'label': 'Sales and maturities of marketable securities', 'value': 9677000000.0}, 'us-gaap_PaymentsToAcquireMarketableSecurities': {'label': 'Purchases of marketable securities', 'value': -12731000000.0}, 'us-gaap_NetCashProvidedByUsedInInvestingActivities': {'label': 'Net cash provided by (used in) investing activities', 'value': -27084000000.0}, 'us-gaap_ProceedsFromIssuanceOfLongTermDebt': {'label': 'Proceeds from long-term debt and other', 'value': 16228000000.0}, 'us-gaap_RepaymentsOfDebt': {'label': 'Repayments of long-term debt and other', 'value': -1301000000.0}, 'us-gaap_FinanceLeasePrincipalPayments': {'label': 'Principal repayments of finance leases', 'value': -4799000000.0}, 'amzn_RepaymentsOfLongTermFinancingObligations': {'label': 'Principal repayments of financing obligations', 'value': -200000000.0}, 'us-gaap_NetCashProvidedByUsedInFinancingActivities': {'label': 'Net cash provided by (used in) financing activities', 'value': 9928000000.0}, 'us-gaap_EffectOfExchangeRateOnCashAndCashEquivalents': {'label': 'Foreign currency effect on cash, cash equivalents, and restricted cash', 'value': 713000000.0}, 'us-gaap_CashCashEquivalentsRestrictedCashAndRestrictedCashEquivalentsPeriodIncreaseDecreaseIncludingExchangeRateEffect': {'label': 'Net increase (decrease) in cash, cash equivalents, and restricted cash', 'value': 1922000000.0}, 'amzn_InterestPaidOnLongTermDebt': {'label': 'Cash paid for interest on long-term debt', 'value': 328000000.0}, 'us-gaap_OperatingLeasePayments': {'label': 'Cash paid for operating leases', 'value': 0.0}, 'amzn_InterestPaidOnCapitalLeaseObligations': {'label': 'Cash paid for interest on capital leases', 'value': 200000000.0}, 'amzn_InterestPaidFinancingObligations': {'label': 'Cash paid for interest on financing obligations', 'value': 119000000.0}, 'us-gaap_IncomeTaxesPaidNet': {'label': 'Cash paid for income taxes, net of refunds', 'value': -957000000.0}, 'us-gaap_RightOfUseAssetObtainedInExchangeForOperatingLeaseLiability': {'label': 'Assets acquired under operating leases', 'value': 0.0}, 'us-gaap_CapitalLeaseObligationsIncurred': {'label': 'Property and equipment acquired under capital leases', 'value': 9637000000.0}, 'amzn_PropertyandEquipmentObtainedinExchangeforFinancingObligations': {'label': 'Property and equipment acquired under build-to-suit arrangements', 'value': 3541000000.0}}}]}"
      ]
     },
     "execution_count": 98,
     "metadata": {},
     "output_type": "execute_result"
    }
   ],
   "source": [
    "cash_flows"
   ]
  },
  {
   "cell_type": "code",
   "execution_count": 94,
   "metadata": {},
   "outputs": [
    {
     "data": {
      "text/plain": [
       "{'date': datetime.datetime(2018, 12, 31, 0, 0), 'months': 12, 'map': {'us-gaap_CashCashEquivalentsRestrictedCashAndRestrictedCashEquivalents': {'label': 'CASH, CASH EQUIVALENTS, AND RESTRICTED CASH, BEGINNING OF PERIOD', 'value': 21856000000.0}, 'us-gaap_NetIncomeLoss': {'label': 'Net income', 'value': 10073000000.0}, 'us-gaap_DepreciationDepletionAndAmortization': {'label': 'Depreciation and amortization of property and equipment and capitalized content costs, operating lease assets, and other', 'value': 15341000000.0}, 'us-gaap_ShareBasedCompensation': {'label': 'Stock-based compensation', 'value': 5418000000.0}, 'us-gaap_OtherOperatingActivitiesCashFlowStatement': {'label': 'Other operating expense (income), net', 'value': 274000000.0}, 'us-gaap_OtherNoncashIncomeExpense': {'label': 'Other expense (income), net', 'value': 219000000.0}, 'us-gaap_DeferredIncomeTaxExpenseBenefit': {'label': 'Deferred income taxes', 'value': 441000000.0}, 'us-gaap_IncreaseDecreaseInInventories': {'label': 'Inventories', 'value': -1314000000.0}, 'us-gaap_IncreaseDecreaseInAccountsReceivableAndOtherOperatingAssets': {'label': 'Accounts receivable, net and other', 'value': -4615000000.0}, 'us-gaap_IncreaseDecreaseInAccountsPayable': {'label': 'Accounts payable', 'value': 3263000000.0}, 'us-gaap_IncreaseDecreaseInAccruedLiabilitiesAndOtherOperatingLiabilities': {'label': 'Accrued expenses and other', 'value': 472000000.0}, 'us-gaap_IncreaseDecreaseInContractWithCustomerLiability': {'label': 'Unearned revenue', 'value': 1151000000.0}, 'us-gaap_NetCashProvidedByUsedInOperatingActivities': {'label': 'Net cash provided by (used in) operating activities', 'value': 30723000000.0}, 'us-gaap_PaymentsToAcquireProductiveAssets': {'label': 'Purchases of property and equipment', 'value': -13427000000.0}, 'amzn_ProceedsFromRebatesOnPurchasesOfProductiveAssets': {'label': 'Proceeds from property and equipment sales and incentives', 'value': 2104000000.0}, 'us-gaap_PaymentsToAcquireBusinessesNetOfCashAcquired': {'label': 'Acquisitions, net of cash acquired, and other', 'value': -2186000000.0}, 'us-gaap_ProceedsFromSaleAndMaturityOfMarketableSecurities': {'label': 'Sales and maturities of marketable securities', 'value': 8240000000.0}, 'us-gaap_PaymentsToAcquireMarketableSecurities': {'label': 'Purchases of marketable securities', 'value': -7100000000.0}, 'us-gaap_NetCashProvidedByUsedInInvestingActivities': {'label': 'Net cash provided by (used in) investing activities', 'value': -12369000000.0}, 'us-gaap_ProceedsFromIssuanceOfLongTermDebt': {'label': 'Proceeds from long-term debt and other', 'value': 768000000.0}, 'us-gaap_RepaymentsOfDebt': {'label': 'Repayments of long-term debt and other', 'value': -668000000.0}, 'us-gaap_FinanceLeasePrincipalPayments': {'label': 'Principal repayments of finance leases', 'value': -7449000000.0}, 'amzn_RepaymentsOfLongTermFinancingObligations': {'label': 'Principal repayments of financing obligations', 'value': -337000000.0}, 'us-gaap_NetCashProvidedByUsedInFinancingActivities': {'label': 'Net cash provided by (used in) financing activities', 'value': -7686000000.0}, 'us-gaap_EffectOfExchangeRateOnCashAndCashEquivalents': {'label': 'Foreign currency effect on cash, cash equivalents, and restricted cash', 'value': -351000000.0}, 'us-gaap_CashCashEquivalentsRestrictedCashAndRestrictedCashEquivalentsPeriodIncreaseDecreaseIncludingExchangeRateEffect': {'label': 'Net increase (decrease) in cash, cash equivalents, and restricted cash', 'value': 10317000000.0}, 'amzn_InterestPaidOnLongTermDebt': {'label': 'Cash paid for interest on long-term debt', 'value': 854000000.0}, 'us-gaap_OperatingLeasePayments': {'label': 'Cash paid for operating leases', 'value': 0.0}, 'amzn_InterestPaidOnCapitalLeaseObligations': {'label': 'Cash paid for interest on capital leases', 'value': 381000000.0}, 'amzn_InterestPaidFinancingObligations': {'label': 'Cash paid for interest on financing obligations', 'value': 194000000.0}, 'us-gaap_IncomeTaxesPaidNet': {'label': 'Cash paid for income taxes, net of refunds', 'value': -1184000000.0}, 'us-gaap_RightOfUseAssetObtainedInExchangeForOperatingLeaseLiability': {'label': 'Assets acquired under operating leases', 'value': 0.0}, 'us-gaap_CapitalLeaseObligationsIncurred': {'label': 'Property and equipment acquired under capital leases', 'value': 10615000000.0}, 'amzn_PropertyandEquipmentObtainedinExchangeforFinancingObligations': {'label': 'Property and equipment acquired under build-to-suit arrangements', 'value': 3641000000.0}}}"
      ]
     },
     "execution_count": 94,
     "metadata": {},
     "output_type": "execute_result"
    }
   ],
   "source": [
    "cash_flows.reports[1]"
   ]
  },
  {
   "cell_type": "code",
   "execution_count": 116,
   "metadata": {},
   "outputs": [
    {
     "data": {
      "text/plain": [
       "{'date': datetime.datetime(2019, 12, 31, 0, 0), 'months': 12, 'map': {'us-gaap_NetIncomeLoss': {'label': 'Net income', 'value': 18485000000.0}, 'us-gaap_DepreciationDepletionAndAmortization': {'label': 'Depreciation and amortization', 'value': 5741000000.0}, 'us-gaap_ShareBasedCompensation': {'label': 'Share-based compensation', 'value': 4836000000.0}, 'us-gaap_DeferredIncomeTaxExpenseBenefit': {'label': 'Deferred income taxes', 'value': -37000000.0}, 'us-gaap_OtherNoncashIncomeExpense': {'label': 'Other', 'value': 39000000.0}, 'us-gaap_IncreaseDecreaseInAccountsReceivable': {'label': 'Accounts receivable', 'value': -1961000000.0}, 'us-gaap_IncreaseDecreaseInPrepaidDeferredExpenseAndOtherAssets': {'label': 'Prepaid expenses and other current assets', 'value': 47000000.0}, 'us-gaap_IncreaseDecreaseInOtherOperatingAssets': {'label': 'Other assets', 'value': 41000000.0}, 'us-gaap_IncreaseDecreaseInAccountsPayableTrade': {'label': 'Accounts payable', 'value': 113000000.0}, 'us-gaap_IncreaseDecreaseInOtherAccountsPayable': {'label': 'Partners payable', 'value': 348000000.0}, 'us-gaap_IncreaseDecreaseInAccruedLiabilities': {'label': 'Accrued expenses and other current liabilities', 'value': 7300000000.0}, 'us-gaap_IncreaseDecreaseInContractWithCustomerLiability': {'label': 'Deferred revenue and deposits', 'value': 123000000.0}, 'us-gaap_IncreaseDecreaseInOtherNoncurrentLiabilities': {'label': 'Other liabilities', 'value': 1239000000.0}, 'us-gaap_NetCashProvidedByUsedInOperatingActivities': {'label': 'Net cash provided by operating activities', 'value': 36314000000.0}, 'us-gaap_PaymentsToAcquirePropertyPlantAndEquipment': {'label': 'Purchases of property and equipment, net', 'value': -15102000000.0}, 'us-gaap_PaymentsToAcquireMarketableSecurities': {'label': 'Purchases of marketable securities', 'value': -23910000000.0}, 'us-gaap_ProceedsFromSaleOfAvailableForSaleSecuritiesDebt': {'label': 'Sales of marketable securities', 'value': 9565000000.0}, 'us-gaap_ProceedsFromMaturitiesPrepaymentsAndCallsOfAvailableForSaleSecurities': {'label': 'Maturities of marketable securities', 'value': 10152000000.0}, 'fb_PaymentsToAcquireBusinessesNetOfCashAcquiredAndPurchasesOfIntangibleAndOtherAssets': {'label': 'Acquisitions of businesses, net of cash acquired, and purchases of intangible assets', 'value': -508000000.0}, 'us-gaap_PaymentsForProceedsFromOtherInvestingActivities': {'label': 'Other investing activities, net', 'value': -61000000.0}, 'us-gaap_NetCashProvidedByUsedInInvestingActivities': {'label': 'Net cash used in investing activities', 'value': -19864000000.0}, 'us-gaap_PaymentsRelatedToTaxWithholdingForShareBasedCompensation': {'label': 'Taxes paid related to net share settlement of equity awards', 'value': -2337000000.0}, 'us-gaap_PaymentsForRepurchaseOfCommonStock': {'label': 'Repurchases of Class A common stock', 'value': -4202000000.0}, 'us-gaap_FinanceLeasePrincipalPayments': {'label': 'Principal payments on finance leases', 'value': -552000000.0}, 'us-gaap_ProceedsFromRepaymentsOfBankOverdrafts': {'label': 'Net change in overdraft in cash pooling entities', 'value': -223000000.0}, 'us-gaap_ProceedsFromPaymentsForOtherFinancingActivities': {'label': 'Other financing activities, net', 'value': 15000000.0}, 'us-gaap_NetCashProvidedByUsedInFinancingActivities': {'label': 'Net cash used in financing activities', 'value': -7299000000.0}, 'us-gaap_EffectOfExchangeRateOnCashCashEquivalentsRestrictedCashAndRestrictedCashEquivalents': {'label': 'Effect of exchange rate changes on cash, cash equivalents, and restricted cash', 'value': 4000000.0}, 'us-gaap_CashCashEquivalentsRestrictedCashAndRestrictedCashEquivalentsPeriodIncreaseDecreaseIncludingExchangeRateEffect': {'label': 'Net increase (decrease) in cash, cash equivalents, and restricted cash', 'value': 9155000000.0}, 'us-gaap_CashCashEquivalentsRestrictedCashAndRestrictedCashEquivalents': {'label': 'Cash, cash equivalents, and restricted cash at beginning of the period', 'value': 10124000000.0}, 'us-gaap_IncomeTaxesPaidNet': {'label': 'Cash paid for income taxes, net', 'value': 5182000000.0}, 'fb_IncreaseDecreaseInPrepaidsAndLiabilitiesRelatedToPropertyAndEquipmentAdditions': {'label': 'Net change in prepaids and liabilities related to property and equipment', 'value': -153000000.0}, 'us-gaap_CapitalExpendituresIncurredButNotYetPaid': {'label': 'Property and equipment in accounts payable and accrued liabilities', 'value': 1887000000.0}}}"
      ]
     },
     "execution_count": 116,
     "metadata": {},
     "output_type": "execute_result"
    }
   ],
   "source": [
    "cash_flows.reports[0]"
   ]
  },
  {
   "cell_type": "code",
   "execution_count": 39,
   "metadata": {},
   "outputs": [
    {
     "data": {
      "text/plain": [
       "datetime.datetime(2018, 9, 29, 0, 0)"
      ]
     },
     "execution_count": 39,
     "metadata": {},
     "output_type": "execute_result"
    }
   ],
   "source": [
    "cash_flows.reports[1].date"
   ]
  },
  {
   "cell_type": "code",
   "execution_count": 37,
   "metadata": {},
   "outputs": [
    {
     "data": {
      "text/plain": [
       "{'label': 'Cash, cash equivalents and restricted cash, beginning balances', 'value': 20289000000.0}"
      ]
     },
     "execution_count": 37,
     "metadata": {},
     "output_type": "execute_result"
    }
   ],
   "source": [
    "cash_flows.reports[1].map['us-gaap_CashCashEquivalentsRestrictedCashAndRestrictedCashEquivalents']\n"
   ]
  },
  {
   "cell_type": "code",
   "execution_count": 38,
   "metadata": {},
   "outputs": [
    {
     "data": {
      "text/plain": [
       "{'label': 'Cash paid for interest', 'value': 3022000000.0}"
      ]
     },
     "execution_count": 38,
     "metadata": {},
     "output_type": "execute_result"
    }
   ],
   "source": [
    "cash_flows.reports[1].map['us-gaap_InterestPaidNet']"
   ]
  },
  {
   "cell_type": "code",
   "execution_count": 74,
   "metadata": {
    "scrolled": false
   },
   "outputs": [
    {
     "data": {
      "text/plain": [
       "{'company': 'AAPL', 'date_filed': datetime.datetime(2019, 10, 30, 0, 0), 'reports': [{'date': datetime.datetime(2019, 9, 28, 0, 0), 'months': 12, 'map': {'us-gaap_CashCashEquivalentsRestrictedCashAndRestrictedCashEquivalents': {'label': 'Cash, cash equivalents and restricted cash, beginning balances', 'value': 25913000000.0}, 'us-gaap_NetIncomeLoss': {'label': 'Net income', 'value': 55256000000.0}, 'us-gaap_DepreciationDepletionAndAmortization': {'label': 'Depreciation and amortization', 'value': 12547000000.0}, 'us-gaap_ShareBasedCompensation': {'label': 'Share-based compensation expense', 'value': 6068000000.0}, 'us-gaap_DeferredIncomeTaxExpenseBenefit': {'label': 'Deferred income tax expense/(benefit)', 'value': -340000000.0}, 'us-gaap_OtherNoncashIncomeExpense': {'label': 'Other', 'value': -652000000.0}, 'us-gaap_IncreaseDecreaseInAccountsReceivable': {'label': 'Accounts receivable, net', 'value': 245000000.0}, 'us-gaap_IncreaseDecreaseInInventories': {'label': 'Inventories', 'value': -289000000.0}, 'us-gaap_IncreaseDecreaseInOtherReceivables': {'label': 'Vendor non-trade receivables', 'value': 2931000000.0}, 'us-gaap_IncreaseDecreaseInOtherOperatingAssets': {'label': 'Other current and non-current assets', 'value': 873000000.0}, 'us-gaap_IncreaseDecreaseInAccountsPayable': {'label': 'Accounts payable', 'value': -1923000000.0}, 'us-gaap_IncreaseDecreaseInContractWithCustomerLiability': {'label': 'Deferred revenue', 'value': -625000000.0}, 'us-gaap_IncreaseDecreaseInOtherOperatingLiabilities': {'label': 'Other current and non-current liabilities', 'value': -4700000000.0}, 'us-gaap_NetCashProvidedByUsedInOperatingActivities': {'label': 'Cash generated by operating activities', 'value': 69391000000.0}, 'us-gaap_PaymentsToAcquireAvailableForSaleSecuritiesDebt': {'label': 'Purchases of marketable securities', 'value': -39630000000.0}, 'us-gaap_ProceedsFromMaturitiesPrepaymentsAndCallsOfAvailableForSaleSecurities': {'label': 'Proceeds from maturities of marketable securities', 'value': 40102000000.0}, 'us-gaap_ProceedsFromSaleOfAvailableForSaleSecuritiesDebt': {'label': 'Proceeds from sales of marketable securities', 'value': 56988000000.0}, 'us-gaap_PaymentsToAcquirePropertyPlantAndEquipment': {'label': 'Payments for acquisition of property, plant and equipment', 'value': -10495000000.0}, 'us-gaap_PaymentsToAcquireBusinessesNetOfCashAcquired': {'label': 'Payments made in connection with business acquisitions, net', 'value': -624000000.0}, 'us-gaap_PaymentsToAcquireOtherInvestments': {'label': 'Purchases of non-marketable securities', 'value': -1001000000.0}, 'us-gaap_ProceedsFromSaleAndMaturityOfOtherInvestments': {'label': 'Proceeds from non-marketable securities', 'value': 1634000000.0}, 'us-gaap_PaymentsForProceedsFromOtherInvestingActivities': {'label': 'Other', 'value': -1078000000.0}, 'us-gaap_NetCashProvidedByUsedInInvestingActivities': {'label': 'Cash generated by/(used in) investing activities', 'value': 45896000000.0}, 'us-gaap_ProceedsFromIssuanceOfCommonStock': {'label': 'Proceeds from issuance of common stock', 'value': 781000000.0}, 'us-gaap_PaymentsRelatedToTaxWithholdingForShareBasedCompensation': {'label': 'Payments for taxes related to net share settlement of equity awards', 'value': -2817000000.0}, 'us-gaap_PaymentsOfDividends': {'label': 'Payments for dividends and dividend equivalents', 'value': 14119000000.0}, 'us-gaap_PaymentsForRepurchaseOfCommonStock': {'label': 'Repurchases of common stock', 'value': -66897000000.0}, 'us-gaap_ProceedsFromIssuanceOfLongTermDebt': {'label': 'Proceeds from issuance of term debt, net', 'value': 6963000000.0}, 'us-gaap_RepaymentsOfLongTermDebt': {'label': 'Repayments of term debt', 'value': -8805000000.0}, 'us-gaap_ProceedsFromRepaymentsOfCommercialPaper': {'label': 'Proceeds from/(Repayments of) commercial paper, net', 'value': -5977000000.0}, 'us-gaap_ProceedsFromPaymentsForOtherFinancingActivities': {'label': 'Other', 'value': -105000000.0}, 'us-gaap_NetCashProvidedByUsedInFinancingActivities': {'label': 'Cash used in financing activities', 'value': -90976000000.0}, 'us-gaap_CashCashEquivalentsRestrictedCashAndRestrictedCashEquivalentsPeriodIncreaseDecreaseIncludingExchangeRateEffect': {'label': 'Increase/(Decrease) in cash, cash equivalents and restricted cash', 'value': 24311000000.0}, 'us-gaap_IncomeTaxesPaidNet': {'label': 'Cash paid for income taxes, net', 'value': 15263000000.0}, 'us-gaap_InterestPaidNet': {'label': 'Cash paid for interest', 'value': 3423000000.0}}}, {'date': datetime.datetime(2018, 9, 29, 0, 0), 'months': 12, 'map': {'us-gaap_CashCashEquivalentsRestrictedCashAndRestrictedCashEquivalents': {'label': 'Cash, cash equivalents and restricted cash, beginning balances', 'value': 20289000000.0}, 'us-gaap_NetIncomeLoss': {'label': 'Net income', 'value': 59531000000.0}, 'us-gaap_DepreciationDepletionAndAmortization': {'label': 'Depreciation and amortization', 'value': 10903000000.0}, 'us-gaap_ShareBasedCompensation': {'label': 'Share-based compensation expense', 'value': 5340000000.0}, 'us-gaap_DeferredIncomeTaxExpenseBenefit': {'label': 'Deferred income tax expense/(benefit)', 'value': -32590000000.0}, 'us-gaap_OtherNoncashIncomeExpense': {'label': 'Other', 'value': -444000000.0}, 'us-gaap_IncreaseDecreaseInAccountsReceivable': {'label': 'Accounts receivable, net', 'value': -5322000000.0}, 'us-gaap_IncreaseDecreaseInInventories': {'label': 'Inventories', 'value': 828000000.0}, 'us-gaap_IncreaseDecreaseInOtherReceivables': {'label': 'Vendor non-trade receivables', 'value': -8010000000.0}, 'us-gaap_IncreaseDecreaseInOtherOperatingAssets': {'label': 'Other current and non-current assets', 'value': -423000000.0}, 'us-gaap_IncreaseDecreaseInAccountsPayable': {'label': 'Accounts payable', 'value': 9175000000.0}, 'us-gaap_IncreaseDecreaseInContractWithCustomerLiability': {'label': 'Deferred revenue', 'value': -3000000.0}, 'us-gaap_IncreaseDecreaseInOtherOperatingLiabilities': {'label': 'Other current and non-current liabilities', 'value': 38449000000.0}, 'us-gaap_NetCashProvidedByUsedInOperatingActivities': {'label': 'Cash generated by operating activities', 'value': 77434000000.0}, 'us-gaap_PaymentsToAcquireAvailableForSaleSecuritiesDebt': {'label': 'Purchases of marketable securities', 'value': -71356000000.0}, 'us-gaap_ProceedsFromMaturitiesPrepaymentsAndCallsOfAvailableForSaleSecurities': {'label': 'Proceeds from maturities of marketable securities', 'value': 55881000000.0}, 'us-gaap_ProceedsFromSaleOfAvailableForSaleSecuritiesDebt': {'label': 'Proceeds from sales of marketable securities', 'value': 47838000000.0}, 'us-gaap_PaymentsToAcquirePropertyPlantAndEquipment': {'label': 'Payments for acquisition of property, plant and equipment', 'value': -13313000000.0}, 'us-gaap_PaymentsToAcquireBusinessesNetOfCashAcquired': {'label': 'Payments made in connection with business acquisitions, net', 'value': -721000000.0}, 'us-gaap_PaymentsToAcquireOtherInvestments': {'label': 'Purchases of non-marketable securities', 'value': -1871000000.0}, 'us-gaap_ProceedsFromSaleAndMaturityOfOtherInvestments': {'label': 'Proceeds from non-marketable securities', 'value': 353000000.0}, 'us-gaap_PaymentsForProceedsFromOtherInvestingActivities': {'label': 'Other', 'value': -745000000.0}, 'us-gaap_NetCashProvidedByUsedInInvestingActivities': {'label': 'Cash generated by/(used in) investing activities', 'value': 16066000000.0}, 'us-gaap_ProceedsFromIssuanceOfCommonStock': {'label': 'Proceeds from issuance of common stock', 'value': 669000000.0}, 'us-gaap_PaymentsRelatedToTaxWithholdingForShareBasedCompensation': {'label': 'Payments for taxes related to net share settlement of equity awards', 'value': -2527000000.0}, 'us-gaap_PaymentsOfDividends': {'label': 'Payments for dividends and dividend equivalents', 'value': 13712000000.0}, 'us-gaap_PaymentsForRepurchaseOfCommonStock': {'label': 'Repurchases of common stock', 'value': -72738000000.0}, 'us-gaap_ProceedsFromIssuanceOfLongTermDebt': {'label': 'Proceeds from issuance of term debt, net', 'value': 6969000000.0}, 'us-gaap_RepaymentsOfLongTermDebt': {'label': 'Repayments of term debt', 'value': -6500000000.0}, 'us-gaap_ProceedsFromRepaymentsOfCommercialPaper': {'label': 'Proceeds from/(Repayments of) commercial paper, net', 'value': -37000000.0}, 'us-gaap_ProceedsFromPaymentsForOtherFinancingActivities': {'label': 'Other', 'value': 0.0}, 'us-gaap_NetCashProvidedByUsedInFinancingActivities': {'label': 'Cash used in financing activities', 'value': -87876000000.0}, 'us-gaap_CashCashEquivalentsRestrictedCashAndRestrictedCashEquivalentsPeriodIncreaseDecreaseIncludingExchangeRateEffect': {'label': 'Increase/(Decrease) in cash, cash equivalents and restricted cash', 'value': 5624000000.0}, 'us-gaap_IncomeTaxesPaidNet': {'label': 'Cash paid for income taxes, net', 'value': 10417000000.0}, 'us-gaap_InterestPaidNet': {'label': 'Cash paid for interest', 'value': 3022000000.0}}}, {'date': datetime.datetime(2017, 9, 30, 0, 0), 'months': 12, 'map': {'us-gaap_CashCashEquivalentsRestrictedCashAndRestrictedCashEquivalents': {'label': 'Cash, cash equivalents and restricted cash, beginning balances', 'value': 20484000000.0}, 'us-gaap_NetIncomeLoss': {'label': 'Net income', 'value': 48351000000.0}, 'us-gaap_DepreciationDepletionAndAmortization': {'label': 'Depreciation and amortization', 'value': 10157000000.0}, 'us-gaap_ShareBasedCompensation': {'label': 'Share-based compensation expense', 'value': 4840000000.0}, 'us-gaap_DeferredIncomeTaxExpenseBenefit': {'label': 'Deferred income tax expense/(benefit)', 'value': 5966000000.0}, 'us-gaap_OtherNoncashIncomeExpense': {'label': 'Other', 'value': -166000000.0}, 'us-gaap_IncreaseDecreaseInAccountsReceivable': {'label': 'Accounts receivable, net', 'value': -2093000000.0}, 'us-gaap_IncreaseDecreaseInInventories': {'label': 'Inventories', 'value': -2723000000.0}, 'us-gaap_IncreaseDecreaseInOtherReceivables': {'label': 'Vendor non-trade receivables', 'value': -4254000000.0}, 'us-gaap_IncreaseDecreaseInOtherOperatingAssets': {'label': 'Other current and non-current assets', 'value': -5318000000.0}, 'us-gaap_IncreaseDecreaseInAccountsPayable': {'label': 'Accounts payable', 'value': 8966000000.0}, 'us-gaap_IncreaseDecreaseInContractWithCustomerLiability': {'label': 'Deferred revenue', 'value': -593000000.0}, 'us-gaap_IncreaseDecreaseInOtherOperatingLiabilities': {'label': 'Other current and non-current liabilities', 'value': 1092000000.0}, 'us-gaap_NetCashProvidedByUsedInOperatingActivities': {'label': 'Cash generated by operating activities', 'value': 64225000000.0}, 'us-gaap_PaymentsToAcquireAvailableForSaleSecuritiesDebt': {'label': 'Purchases of marketable securities', 'value': -159486000000.0}, 'us-gaap_ProceedsFromMaturitiesPrepaymentsAndCallsOfAvailableForSaleSecurities': {'label': 'Proceeds from maturities of marketable securities', 'value': 31775000000.0}, 'us-gaap_ProceedsFromSaleOfAvailableForSaleSecuritiesDebt': {'label': 'Proceeds from sales of marketable securities', 'value': 94564000000.0}, 'us-gaap_PaymentsToAcquirePropertyPlantAndEquipment': {'label': 'Payments for acquisition of property, plant and equipment', 'value': -12451000000.0}, 'us-gaap_PaymentsToAcquireBusinessesNetOfCashAcquired': {'label': 'Payments made in connection with business acquisitions, net', 'value': -329000000.0}, 'us-gaap_PaymentsToAcquireOtherInvestments': {'label': 'Purchases of non-marketable securities', 'value': -521000000.0}, 'us-gaap_ProceedsFromSaleAndMaturityOfOtherInvestments': {'label': 'Proceeds from non-marketable securities', 'value': 126000000.0}, 'us-gaap_PaymentsForProceedsFromOtherInvestingActivities': {'label': 'Other', 'value': -124000000.0}, 'us-gaap_NetCashProvidedByUsedInInvestingActivities': {'label': 'Cash generated by/(used in) investing activities', 'value': -46446000000.0}, 'us-gaap_ProceedsFromIssuanceOfCommonStock': {'label': 'Proceeds from issuance of common stock', 'value': 555000000.0}, 'us-gaap_PaymentsRelatedToTaxWithholdingForShareBasedCompensation': {'label': 'Payments for taxes related to net share settlement of equity awards', 'value': -1874000000.0}, 'us-gaap_PaymentsOfDividends': {'label': 'Payments for dividends and dividend equivalents', 'value': 12769000000.0}, 'us-gaap_PaymentsForRepurchaseOfCommonStock': {'label': 'Repurchases of common stock', 'value': -32900000000.0}, 'us-gaap_ProceedsFromIssuanceOfLongTermDebt': {'label': 'Proceeds from issuance of term debt, net', 'value': 28662000000.0}, 'us-gaap_RepaymentsOfLongTermDebt': {'label': 'Repayments of term debt', 'value': -3500000000.0}, 'us-gaap_ProceedsFromRepaymentsOfCommercialPaper': {'label': 'Proceeds from/(Repayments of) commercial paper, net', 'value': 3852000000.0}, 'us-gaap_ProceedsFromPaymentsForOtherFinancingActivities': {'label': 'Other', 'value': 0.0}, 'us-gaap_NetCashProvidedByUsedInFinancingActivities': {'label': 'Cash used in financing activities', 'value': -17974000000.0}, 'us-gaap_CashCashEquivalentsRestrictedCashAndRestrictedCashEquivalentsPeriodIncreaseDecreaseIncludingExchangeRateEffect': {'label': 'Increase/(Decrease) in cash, cash equivalents and restricted cash', 'value': -195000000.0}, 'us-gaap_IncomeTaxesPaidNet': {'label': 'Cash paid for income taxes, net', 'value': 11591000000.0}, 'us-gaap_InterestPaidNet': {'label': 'Cash paid for interest', 'value': 2092000000.0}}}]}"
      ]
     },
     "execution_count": 74,
     "metadata": {},
     "output_type": "execute_result"
    }
   ],
   "source": [
    "cash_flows"
   ]
  },
  {
   "cell_type": "code",
   "execution_count": 21,
   "metadata": {},
   "outputs": [
    {
     "data": {
      "text/plain": [
       "{'date': datetime.datetime(2017, 9, 30, 0, 0), 'months': 12, 'map': {'us-gaap_CashCashEquivalentsRestrictedCashAndRestrictedCashEquivalents': {'label': 'Cash, cash equivalents and restricted cash, beginning balances', 'value': 20484000000.0}, 'us-gaap_NetIncomeLoss': {'label': 'Net income', 'value': 48351000000.0}, 'us-gaap_DepreciationDepletionAndAmortization': {'label': 'Depreciation and amortization', 'value': 10157000000.0}, 'us-gaap_ShareBasedCompensation': {'label': 'Share-based compensation expense', 'value': 4840000000.0}, 'us-gaap_DeferredIncomeTaxExpenseBenefit': {'label': 'Deferred income tax expense/(benefit)', 'value': 5966000000.0}, 'us-gaap_OtherNoncashIncomeExpense': {'label': 'Other', 'value': -166000000.0}, 'us-gaap_IncreaseDecreaseInAccountsReceivable': {'label': 'Accounts receivable, net', 'value': -2093000000.0}, 'us-gaap_IncreaseDecreaseInInventories': {'label': 'Inventories', 'value': -2723000000.0}, 'us-gaap_IncreaseDecreaseInOtherReceivables': {'label': 'Vendor non-trade receivables', 'value': -4254000000.0}, 'us-gaap_IncreaseDecreaseInOtherOperatingAssets': {'label': 'Other current and non-current assets', 'value': -5318000000.0}, 'us-gaap_IncreaseDecreaseInAccountsPayable': {'label': 'Accounts payable', 'value': 8966000000.0}, 'us-gaap_IncreaseDecreaseInContractWithCustomerLiability': {'label': 'Deferred revenue', 'value': -593000000.0}, 'us-gaap_IncreaseDecreaseInOtherOperatingLiabilities': {'label': 'Other current and non-current liabilities', 'value': 1092000000.0}, 'us-gaap_NetCashProvidedByUsedInOperatingActivities': {'label': 'Cash generated by operating activities', 'value': 64225000000.0}, 'us-gaap_PaymentsToAcquireAvailableForSaleSecuritiesDebt': {'label': 'Purchases of marketable securities', 'value': -159486000000.0}, 'us-gaap_ProceedsFromMaturitiesPrepaymentsAndCallsOfAvailableForSaleSecurities': {'label': 'Proceeds from maturities of marketable securities', 'value': 31775000000.0}, 'us-gaap_ProceedsFromSaleOfAvailableForSaleSecuritiesDebt': {'label': 'Proceeds from sales of marketable securities', 'value': 94564000000.0}, 'us-gaap_PaymentsToAcquirePropertyPlantAndEquipment': {'label': 'Payments for acquisition of property, plant and equipment', 'value': -12451000000.0}, 'us-gaap_PaymentsToAcquireBusinessesNetOfCashAcquired': {'label': 'Payments made in connection with business acquisitions, net', 'value': -329000000.0}, 'us-gaap_PaymentsToAcquireOtherInvestments': {'label': 'Purchases of non-marketable securities', 'value': -521000000.0}, 'us-gaap_ProceedsFromSaleAndMaturityOfOtherInvestments': {'label': 'Proceeds from non-marketable securities', 'value': 126000000.0}, 'us-gaap_PaymentsForProceedsFromOtherInvestingActivities': {'label': 'Other', 'value': -124000000.0}, 'us-gaap_NetCashProvidedByUsedInInvestingActivities': {'label': 'Cash generated by/(used in) investing activities', 'value': -46446000000.0}, 'us-gaap_ProceedsFromIssuanceOfCommonStock': {'label': 'Proceeds from issuance of common stock', 'value': 555000000.0}, 'us-gaap_PaymentsRelatedToTaxWithholdingForShareBasedCompensation': {'label': 'Payments for taxes related to net share settlement of equity awards', 'value': -1874000000.0}, 'us-gaap_PaymentsOfDividends': {'label': 'Payments for dividends and dividend equivalents', 'value': 12769000000.0}, 'us-gaap_PaymentsForRepurchaseOfCommonStock': {'label': 'Repurchases of common stock', 'value': -32900000000.0}, 'us-gaap_ProceedsFromIssuanceOfLongTermDebt': {'label': 'Proceeds from issuance of term debt, net', 'value': 28662000000.0}, 'us-gaap_RepaymentsOfLongTermDebt': {'label': 'Repayments of term debt', 'value': -3500000000.0}, 'us-gaap_ProceedsFromRepaymentsOfCommercialPaper': {'label': 'Proceeds from/(Repayments of) commercial paper, net', 'value': 3852000000.0}, 'us-gaap_ProceedsFromPaymentsForOtherFinancingActivities': {'label': 'Other', 'value': 0.0}, 'us-gaap_NetCashProvidedByUsedInFinancingActivities': {'label': 'Cash used in financing activities', 'value': -17974000000.0}, 'us-gaap_CashCashEquivalentsRestrictedCashAndRestrictedCashEquivalentsPeriodIncreaseDecreaseIncludingExchangeRateEffect': {'label': 'Increase/(Decrease) in cash, cash equivalents and restricted cash', 'value': -195000000.0}, 'us-gaap_IncomeTaxesPaidNet': {'label': 'Cash paid for income taxes, net', 'value': 11591000000.0}, 'us-gaap_InterestPaidNet': {'label': 'Cash paid for interest', 'value': 2092000000.0}}}"
      ]
     },
     "execution_count": 21,
     "metadata": {},
     "output_type": "execute_result"
    }
   ],
   "source": [
    "cash_flows.reports[2]"
   ]
  },
  {
   "cell_type": "code",
   "execution_count": null,
   "metadata": {},
   "outputs": [],
   "source": []
  }
 ],
 "metadata": {
  "kernelspec": {
   "display_name": "Python 3",
   "language": "python",
   "name": "python3"
  },
  "language_info": {
   "codemirror_mode": {
    "name": "ipython",
    "version": 3
   },
   "file_extension": ".py",
   "mimetype": "text/x-python",
   "name": "python",
   "nbconvert_exporter": "python",
   "pygments_lexer": "ipython3",
   "version": "3.7.4"
  }
 },
 "nbformat": 4,
 "nbformat_minor": 2
}
