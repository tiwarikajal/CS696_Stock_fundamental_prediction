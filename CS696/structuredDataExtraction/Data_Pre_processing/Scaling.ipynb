{
 "cells": [
  {
   "cell_type": "code",
   "execution_count": 1,
   "metadata": {},
   "outputs": [],
   "source": [
    "import os\n",
    "import pandas as pd\n",
    "# CONVERT EMBEDDING pickle TO INCLUDE T-1 and T-2 VALUES\n",
    "out_path=r'.\\\\data_rev\\\\'\n",
    "final_path=r'C:\\\\Umass spring 20\\\\696\\KT\\\\CS696\\\\CS696\\\\structuredDataExtraction\\\\Data_Pre_processing\\\\Scaled_rev\\\\with2015\\\\'\n",
    "for filename in os.listdir(out_path): \n",
    "    df=pd.DataFrame()  \n",
    "    if filename.endswith(\".csv\"):  \n",
    "    \n",
    "        df=pd.read_csv(out_path+filename) \n",
    "        df.drop([\"BaselineOutput\"],axis=1, inplace=True)\n",
    "        df=df.sort_values(by='year') \n",
    "        if len(df.index)>2: \n",
    "          #print(filename)  \n",
    "          #print(df['embeddings1a'])\n",
    "          #temp11=temp17=temp21=temp27=pd.DataFrame()\n",
    "          temp1=pd.DataFrame()\n",
    "          temp1=df['Revenue'].shift(1)\n",
    "#           temp17=df['embeddings7'].shift(1)\n",
    "#           temp21=df['embeddings1a'].shift(2)\n",
    "#           temp27=df['embeddings7'].shift(2)\n",
    "          df['t-1Revenue']=temp1\n",
    "#           df['t-1embedding7b']=temp17\n",
    "#           df['t-2embedding1a']=temp21\n",
    "#           df['t-2embedding7b']=temp27\n",
    "          df.dropna(subset = [\"t-1Revenue\"], inplace=True)\n",
    "          for i,r in df.iterrows():\n",
    "            \n",
    "            df.loc[i,'Revenue']=((r['Revenue'])-(r['t-1Revenue']))/(abs(r['Revenue'])+abs(r['t-1Revenue']))\n",
    "          #df['NetIncomeLoss']=df['NetIncomeLoss']-df['t-1NetIncomeLoss']/(df['NetIncomeLoss'].abs()+df['t-1NetIncomeLoss'].abs())\n",
    "          #print(df)\n",
    "          df.drop([\"t-1Revenue\"],axis=1, inplace=True)\n",
    "          #print(df)\n",
    "          #df = df[df.year != 2015]\n",
    "          df.to_csv(final_path+filename,index=False,header=True)\n",
    "          \n",
    "         # print(df['t-2embedding1a'])\n",
    "        \n",
    "        "
   ]
  },
  {
   "cell_type": "code",
   "execution_count": null,
   "metadata": {},
   "outputs": [],
   "source": []
  }
 ],
 "metadata": {
  "kernelspec": {
   "display_name": "Python 3",
   "language": "python",
   "name": "python3"
  },
  "language_info": {
   "codemirror_mode": {
    "name": "ipython",
    "version": 3
   },
   "file_extension": ".py",
   "mimetype": "text/x-python",
   "name": "python",
   "nbconvert_exporter": "python",
   "pygments_lexer": "ipython3",
   "version": "3.6.10"
  }
 },
 "nbformat": 4,
 "nbformat_minor": 4
}
