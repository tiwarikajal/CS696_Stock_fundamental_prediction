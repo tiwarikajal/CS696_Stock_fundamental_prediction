{
 "cells": [
  {
   "cell_type": "code",
   "execution_count": 310,
   "metadata": {},
   "outputs": [],
   "source": [
    "# Import requests to retrive Web Urls example HTML. TXT \n",
    "import requests\n",
    "\n",
    "# Import BeautifulSoup\n",
    "from bs4 import BeautifulSoup\n",
    "\n",
    "# import re module for REGEXes\n",
    "import re\n",
    "\n",
    "# import pandas\n",
    "import pandas as pd\n",
    "from sec_edgar_downloader import Downloader\n",
    "import utils\n",
    "import os\n",
    "newPath = downloadPath + \"sec_edgar_filings\"\n",
    "downloadPath = \"./\"\n",
    "dl = Downloader(downloadPath)"
   ]
  },
  {
   "cell_type": "code",
   "execution_count": 517,
   "metadata": {},
   "outputs": [],
   "source": [
    "# ticker = \"ADBE\"\n",
    "# ticker = 'TSLA' ## \"0001564590-15-001031.txt\" Exception case\n",
    "\n",
    "# ticker = \"GE\" ## Exception https://www.sec.gov/Archives/edgar/data/40545/000004054515000030/ge10k2014.htm\n",
    "\n",
    "# ticker = \"COF\" ## done\n",
    "# ticker = \"LHX\" ## done\n",
    "# ticker = \"ICE\" # regex change done\n",
    "# ticker = \"DE\" # regex change\n",
    "# ticker = \"AON\" # https://www.sec.gov/Archives/edgar/data/315293/000162828017001652/0001628280-17-001652-index.htm \n",
    "# this onwards otherwise, table of the contents at the end \n",
    "# ticker = \"NSC\"\n",
    "# ticker = \"NOC\" Exception for year 2019, 2020 \n",
    "# ticker = \"GPN\" # done\n",
    "# ticker = \"VRTX\" # done\n",
    "# tiker = \"CL\" # exception handle for cases in year 2011, 2010 filings iteam and 1a in different tags\n",
    "# ticker = \"MS\" # exception for filings after and including 2018, no item 1a format but Risk Factors format\n",
    "# ticker = \"PNC\" # exception for years below 2015, working for 2015, iteam 1 a in seperate tags\n",
    "# ticker = \"TFC\" # Look for item 2 if item b start is smaller than the iteam a start\n",
    "# ticker = \"CAT\"\n",
    "# ticker = \"RJF\"\n",
    "# ticker = \"HST\" # item 4 after item 1a\n",
    "# ticker = \"MKTX\" #item 2 after item 1a\n",
    "# ticker = \"VAR\" # exception only for year 2013 item 1a in different tags\n",
    "# ticker = \"EXAS\"\n",
    "# ticker = \"IT\" # exception for year 2012, item 1a different tags\n",
    "# ticker = \"INCY\" \n",
    "# ticker = \"TTWO\"\n",
    "# ticker = \"HP\"\n",
    "# ticker = \"AR\"\n",
    "# ticker = \"USM\" # Exception can't extract for year 2016 and onwards\n",
    "ticker = \"IAA\""
   ]
  },
  {
   "cell_type": "code",
   "execution_count": 518,
   "metadata": {},
   "outputs": [],
   "source": [
    "utils.downloadFilings(dl, ticker)\n",
    "companyFilingsPath = os.path.join(newPath, ticker, \"10-K\")\n",
    "companyFilings = [(os.path.join(companyFilingsPath, f), f) for f in os.listdir(companyFilingsPath)]\n",
    "filingPath = companyFilings[0][0]\n",
    "# f = open(filingPath,'r')\n",
    "# f = open(os.path.join(companyFilingsPath, \"0000821130-16-000050.txt\"))\n",
    "# raw_10k = f.read()\n",
    "# f.close()"
   ]
  },
  {
   "cell_type": "code",
   "execution_count": null,
   "metadata": {},
   "outputs": [],
   "source": [
    "print(raw_10k[0:1300])"
   ]
  },
  {
   "cell_type": "code",
   "execution_count": 513,
   "metadata": {},
   "outputs": [],
   "source": [
    "# Regex to find <DOCUMENT> tags\n",
    "doc_start_pattern = re.compile(r'<DOCUMENT>')\n",
    "doc_end_pattern = re.compile(r'</DOCUMENT>')\n",
    "# Regex to find <TYPE> tag prceeding any characters, terminating at new line\n",
    "type_pattern = re.compile(r'<TYPE>[^\\n]+')"
   ]
  },
  {
   "cell_type": "code",
   "execution_count": 514,
   "metadata": {},
   "outputs": [],
   "source": [
    "# Create 3 lists with the span idices for each regex\n",
    "\n",
    "### There are many <Document> Tags in this text file, each as specific exhibit like 10-K, EX-10.17 etc\n",
    "### First filter will give us document tag start <end> and document tag end's <start> \n",
    "### We will use this to later grab content in between these tags\n",
    "doc_start_is = [x.end() for x in doc_start_pattern.finditer(raw_10k)]\n",
    "doc_end_is = [x.start() for x in doc_end_pattern.finditer(raw_10k)]\n",
    "\n",
    "### Type filter is interesting, it looks for <TYPE> with Not flag as new line, ie terminare there, with + sign\n",
    "### to look for any char afterwards until new line \\n. This will give us <TYPE> followed Section Name like '10-K'\n",
    "### Once we have have this, it returns String Array, below line will with find content after <TYPE> ie, '10-K' \n",
    "### as section names\n",
    "doc_types = [x[len('<TYPE>'):] for x in type_pattern.findall(raw_10k)]\n",
    "# doc_types"
   ]
  },
  {
   "cell_type": "code",
   "execution_count": 515,
   "metadata": {},
   "outputs": [
    {
     "name": "stdout",
     "output_type": "stream",
     "text": [
      "dict_keys(['10-K'])\n"
     ]
    }
   ],
   "source": [
    "document = {}\n",
    "\n",
    "# Create a loop to go through each section type and save only the 10-K section in the dictionary\n",
    "for doc_type, doc_start, doc_end in zip(doc_types, doc_start_is, doc_end_is):\n",
    "    if doc_type == '10-K'and doc_type not in document.keys():\n",
    "        document[doc_type] = raw_10k[doc_start:doc_end]\n",
    "print(document.keys())"
   ]
  },
  {
   "cell_type": "code",
   "execution_count": 184,
   "metadata": {},
   "outputs": [
    {
     "data": {
      "text/plain": [
       "'\\n<TYPE>10-K\\n<SEQUENCE>1\\n<FILENAME>a2233505z10-k.htm\\n<DESCRIPTION>10-K\\n<TEXT>\\n<HTML>\\n<HEAD>\\n</HEAD>\\n<BODY BGCOLOR=\"#FFFFFF\" LINK=BLUE  VLINK=PURPLE>\\n<BR>\\n<P><FONT SIZE=3 >\\nUse these links to rapidly review the document<BR>\\n<A HREF=\"#bg14602_table_of_contents\">  TABLE OF CONTENTS</A> <BR>\\n<A HREF=\"#ci14602_item_15._exhibits_and_financial_statement_schedules.\">  ITEM 15. EXHIBITS AND FINANCIAL STATEMENT SCHEDULES.</A><BR></font>\\n</P>\\n\\n<P style=\"font-family:times;\"><FONT SIZE=2>\\n\\n<!-- COMMAND=ADD_BA'"
      ]
     },
     "execution_count": 184,
     "metadata": {},
     "output_type": "execute_result"
    }
   ],
   "source": [
    "document['10-K'][0:500]"
   ]
  },
  {
   "cell_type": "code",
   "execution_count": null,
   "metadata": {},
   "outputs": [],
   "source": [
    "document['10-K']"
   ]
  },
  {
   "cell_type": "code",
   "execution_count": 516,
   "metadata": {},
   "outputs": [
    {
     "name": "stdout",
     "output_type": "stream",
     "text": [
      "<re.Match object; span=(137037, 137046), match='>Item 1A.'>\n",
      "<re.Match object; span=(138047, 138056), match='>Item 1B.'>\n",
      "<re.Match object; span=(139070, 139078), match='>Item 2.'>\n",
      "<re.Match object; span=(141077, 141085), match='>Item 4.'>\n",
      "<re.Match object; span=(147196, 147204), match='>Item 6.'>\n",
      "<re.Match object; span=(148210, 148218), match='>Item 7.'>\n",
      "<re.Match object; span=(149287, 149296), match='>Item 7A.'>\n",
      "<re.Match object; span=(150345, 150353), match='>Item 8.'>\n"
     ]
    }
   ],
   "source": [
    "# >ITEM&#160;1&#160;(B).&#160;&#160;&#160;&#160;\n",
    "# Write the regex\n",
    "regex = re.compile(r'(>(\\s|&#160;|&nbsp;)*item(\\s|&#160;|&nbsp;)*(1(\\s|&nbsp;|&#160;|&#160;\\(|\\(|)*a|6|1(\\s|&nbsp;|&#160;|&#160;\\(|\\(|)*b|7(\\s|&nbsp;|&#160;|&#160;\\(|\\(|)*a|7|8|2|4)\\.{0,1})', re.I)\n",
    "\n",
    "# Use finditer to math the regex\n",
    "matches = regex.finditer(document['10-K'])\n",
    "\n",
    "# Write a for loop to print the matches\n",
    "for match in matches:\n",
    "    print(match)"
   ]
  },
  {
   "cell_type": "code",
   "execution_count": 504,
   "metadata": {},
   "outputs": [
    {
     "data": {
      "text/html": [
       "<div>\n",
       "<style scoped>\n",
       "    .dataframe tbody tr th:only-of-type {\n",
       "        vertical-align: middle;\n",
       "    }\n",
       "\n",
       "    .dataframe tbody tr th {\n",
       "        vertical-align: top;\n",
       "    }\n",
       "\n",
       "    .dataframe thead th {\n",
       "        text-align: right;\n",
       "    }\n",
       "</style>\n",
       "<table border=\"1\" class=\"dataframe\">\n",
       "  <thead>\n",
       "    <tr style=\"text-align: right;\">\n",
       "      <th></th>\n",
       "      <th>item</th>\n",
       "      <th>start</th>\n",
       "      <th>end</th>\n",
       "    </tr>\n",
       "  </thead>\n",
       "  <tbody>\n",
       "    <tr>\n",
       "      <td>0</td>\n",
       "      <td>&gt;item&amp;nbsp;1a.</td>\n",
       "      <td>19031</td>\n",
       "      <td>19045</td>\n",
       "    </tr>\n",
       "    <tr>\n",
       "      <td>1</td>\n",
       "      <td>&gt;item&amp;nbsp;1b.</td>\n",
       "      <td>19898</td>\n",
       "      <td>19912</td>\n",
       "    </tr>\n",
       "    <tr>\n",
       "      <td>2</td>\n",
       "      <td>&gt;item&amp;nbsp;4.</td>\n",
       "      <td>21671</td>\n",
       "      <td>21684</td>\n",
       "    </tr>\n",
       "    <tr>\n",
       "      <td>3</td>\n",
       "      <td>&gt;item&amp;nbsp;6.</td>\n",
       "      <td>24130</td>\n",
       "      <td>24143</td>\n",
       "    </tr>\n",
       "    <tr>\n",
       "      <td>4</td>\n",
       "      <td>&gt;item&amp;nbsp;7.</td>\n",
       "      <td>25033</td>\n",
       "      <td>25046</td>\n",
       "    </tr>\n",
       "    <tr>\n",
       "      <td>5</td>\n",
       "      <td>&gt;item&amp;nbsp;7a.</td>\n",
       "      <td>26016</td>\n",
       "      <td>26030</td>\n",
       "    </tr>\n",
       "    <tr>\n",
       "      <td>6</td>\n",
       "      <td>&gt;item&amp;nbsp;8.</td>\n",
       "      <td>26984</td>\n",
       "      <td>26997</td>\n",
       "    </tr>\n",
       "    <tr>\n",
       "      <td>7</td>\n",
       "      <td>&gt;  item&amp;nbsp;1a.</td>\n",
       "      <td>483779</td>\n",
       "      <td>483795</td>\n",
       "    </tr>\n",
       "    <tr>\n",
       "      <td>8</td>\n",
       "      <td>&gt;  item&amp;nbsp;1b.</td>\n",
       "      <td>589463</td>\n",
       "      <td>589479</td>\n",
       "    </tr>\n",
       "    <tr>\n",
       "      <td>9</td>\n",
       "      <td>&gt;  item&amp;nbsp;4.</td>\n",
       "      <td>591507</td>\n",
       "      <td>591522</td>\n",
       "    </tr>\n",
       "    <tr>\n",
       "      <td>10</td>\n",
       "      <td>&gt;  item&amp;nbsp;6.</td>\n",
       "      <td>603912</td>\n",
       "      <td>603927</td>\n",
       "    </tr>\n",
       "    <tr>\n",
       "      <td>11</td>\n",
       "      <td>&gt;  item&amp;nbsp;7.</td>\n",
       "      <td>820202</td>\n",
       "      <td>820217</td>\n",
       "    </tr>\n",
       "    <tr>\n",
       "      <td>12</td>\n",
       "      <td>&gt;  item&amp;nbsp;7a.</td>\n",
       "      <td>1182940</td>\n",
       "      <td>1182956</td>\n",
       "    </tr>\n",
       "    <tr>\n",
       "      <td>13</td>\n",
       "      <td>&gt;  item&amp;nbsp;8.</td>\n",
       "      <td>1194975</td>\n",
       "      <td>1194990</td>\n",
       "    </tr>\n",
       "  </tbody>\n",
       "</table>\n",
       "</div>"
      ],
      "text/plain": [
       "                item    start      end\n",
       "0     >item&nbsp;1a.    19031    19045\n",
       "1     >item&nbsp;1b.    19898    19912\n",
       "2      >item&nbsp;4.    21671    21684\n",
       "3      >item&nbsp;6.    24130    24143\n",
       "4      >item&nbsp;7.    25033    25046\n",
       "5     >item&nbsp;7a.    26016    26030\n",
       "6      >item&nbsp;8.    26984    26997\n",
       "7   >  item&nbsp;1a.   483779   483795\n",
       "8   >  item&nbsp;1b.   589463   589479\n",
       "9    >  item&nbsp;4.   591507   591522\n",
       "10   >  item&nbsp;6.   603912   603927\n",
       "11   >  item&nbsp;7.   820202   820217\n",
       "12  >  item&nbsp;7a.  1182940  1182956\n",
       "13   >  item&nbsp;8.  1194975  1194990"
      ]
     },
     "execution_count": 504,
     "metadata": {},
     "output_type": "execute_result"
    }
   ],
   "source": [
    "# Matches\n",
    "matches = regex.finditer(document['10-K'])\n",
    "\n",
    "# Create the dataframe\n",
    "test_df = pd.DataFrame([(x.group(), x.start(), x.end()) for x in matches])\n",
    "\n",
    "test_df.columns = ['item', 'start', 'end']\n",
    "test_df['item'] = test_df.item.str.lower()\n",
    "\n",
    "# Display the dataframe\n",
    "test_df"
   ]
  },
  {
   "cell_type": "code",
   "execution_count": 505,
   "metadata": {},
   "outputs": [
    {
     "data": {
      "text/html": [
       "<div>\n",
       "<style scoped>\n",
       "    .dataframe tbody tr th:only-of-type {\n",
       "        vertical-align: middle;\n",
       "    }\n",
       "\n",
       "    .dataframe tbody tr th {\n",
       "        vertical-align: top;\n",
       "    }\n",
       "\n",
       "    .dataframe thead th {\n",
       "        text-align: right;\n",
       "    }\n",
       "</style>\n",
       "<table border=\"1\" class=\"dataframe\">\n",
       "  <thead>\n",
       "    <tr style=\"text-align: right;\">\n",
       "      <th></th>\n",
       "      <th>item</th>\n",
       "      <th>start</th>\n",
       "      <th>end</th>\n",
       "    </tr>\n",
       "  </thead>\n",
       "  <tbody>\n",
       "    <tr>\n",
       "      <td>0</td>\n",
       "      <td>item1a</td>\n",
       "      <td>19031</td>\n",
       "      <td>19045</td>\n",
       "    </tr>\n",
       "    <tr>\n",
       "      <td>1</td>\n",
       "      <td>item1b</td>\n",
       "      <td>19898</td>\n",
       "      <td>19912</td>\n",
       "    </tr>\n",
       "    <tr>\n",
       "      <td>2</td>\n",
       "      <td>item4</td>\n",
       "      <td>21671</td>\n",
       "      <td>21684</td>\n",
       "    </tr>\n",
       "    <tr>\n",
       "      <td>3</td>\n",
       "      <td>item6</td>\n",
       "      <td>24130</td>\n",
       "      <td>24143</td>\n",
       "    </tr>\n",
       "    <tr>\n",
       "      <td>4</td>\n",
       "      <td>item7</td>\n",
       "      <td>25033</td>\n",
       "      <td>25046</td>\n",
       "    </tr>\n",
       "    <tr>\n",
       "      <td>5</td>\n",
       "      <td>item7a</td>\n",
       "      <td>26016</td>\n",
       "      <td>26030</td>\n",
       "    </tr>\n",
       "    <tr>\n",
       "      <td>6</td>\n",
       "      <td>item8</td>\n",
       "      <td>26984</td>\n",
       "      <td>26997</td>\n",
       "    </tr>\n",
       "    <tr>\n",
       "      <td>7</td>\n",
       "      <td>item1a</td>\n",
       "      <td>483779</td>\n",
       "      <td>483795</td>\n",
       "    </tr>\n",
       "    <tr>\n",
       "      <td>8</td>\n",
       "      <td>item1b</td>\n",
       "      <td>589463</td>\n",
       "      <td>589479</td>\n",
       "    </tr>\n",
       "    <tr>\n",
       "      <td>9</td>\n",
       "      <td>item4</td>\n",
       "      <td>591507</td>\n",
       "      <td>591522</td>\n",
       "    </tr>\n",
       "    <tr>\n",
       "      <td>10</td>\n",
       "      <td>item6</td>\n",
       "      <td>603912</td>\n",
       "      <td>603927</td>\n",
       "    </tr>\n",
       "    <tr>\n",
       "      <td>11</td>\n",
       "      <td>item7</td>\n",
       "      <td>820202</td>\n",
       "      <td>820217</td>\n",
       "    </tr>\n",
       "    <tr>\n",
       "      <td>12</td>\n",
       "      <td>item7a</td>\n",
       "      <td>1182940</td>\n",
       "      <td>1182956</td>\n",
       "    </tr>\n",
       "    <tr>\n",
       "      <td>13</td>\n",
       "      <td>item8</td>\n",
       "      <td>1194975</td>\n",
       "      <td>1194990</td>\n",
       "    </tr>\n",
       "  </tbody>\n",
       "</table>\n",
       "</div>"
      ],
      "text/plain": [
       "      item    start      end\n",
       "0   item1a    19031    19045\n",
       "1   item1b    19898    19912\n",
       "2    item4    21671    21684\n",
       "3    item6    24130    24143\n",
       "4    item7    25033    25046\n",
       "5   item7a    26016    26030\n",
       "6    item8    26984    26997\n",
       "7   item1a   483779   483795\n",
       "8   item1b   589463   589479\n",
       "9    item4   591507   591522\n",
       "10   item6   603912   603927\n",
       "11   item7   820202   820217\n",
       "12  item7a  1182940  1182956\n",
       "13   item8  1194975  1194990"
      ]
     },
     "execution_count": 505,
     "metadata": {},
     "output_type": "execute_result"
    }
   ],
   "source": [
    "# Get rid of unnesesary charcters from the dataframe\n",
    "test_df.replace('&#160;ris',' ',regex=True,inplace=True)\n",
    "test_df.replace('&#160;unresolve',' ',regex=True,inplace=True)\n",
    "test_df.replace('&#160;',' ',regex=True,inplace=True)\n",
    "test_df.replace('&nbsp;',' ',regex=True,inplace=True)\n",
    "test_df.replace(' ','',regex=True,inplace=True)\n",
    "test_df.replace('\\.','',regex=True,inplace=True)\n",
    "test_df.replace('>','',regex=True,inplace=True)\n",
    "test_df.replace('\\n','',regex=True,inplace=True)\n",
    "test_df.replace('\\(','',regex=True,inplace=True)\n",
    "\n",
    "# display the dataframe\n",
    "test_df"
   ]
  },
  {
   "cell_type": "code",
   "execution_count": 506,
   "metadata": {},
   "outputs": [],
   "source": [
    "def customsort(x):\n",
    "    if len(x)>1:\n",
    "        x = x.values\n",
    "        x.sort()\n",
    "        return x[1]\n",
    "    else:\n",
    "        return x[0]\n",
    "def customsort2(x):\n",
    "    x = x.values\n",
    "    x.sort()\n",
    "    return x[0]\n",
    "#     print(\"left\")"
   ]
  },
  {
   "cell_type": "code",
   "execution_count": 507,
   "metadata": {},
   "outputs": [
    {
     "data": {
      "text/html": [
       "<div>\n",
       "<style scoped>\n",
       "    .dataframe tbody tr th:only-of-type {\n",
       "        vertical-align: middle;\n",
       "    }\n",
       "\n",
       "    .dataframe tbody tr th {\n",
       "        vertical-align: top;\n",
       "    }\n",
       "\n",
       "    .dataframe thead th {\n",
       "        text-align: right;\n",
       "    }\n",
       "</style>\n",
       "<table border=\"1\" class=\"dataframe\">\n",
       "  <thead>\n",
       "    <tr style=\"text-align: right;\">\n",
       "      <th></th>\n",
       "      <th>start</th>\n",
       "      <th>end</th>\n",
       "    </tr>\n",
       "    <tr>\n",
       "      <th>item</th>\n",
       "      <th></th>\n",
       "      <th></th>\n",
       "    </tr>\n",
       "  </thead>\n",
       "  <tbody>\n",
       "    <tr>\n",
       "      <td>item1a</td>\n",
       "      <td>483779</td>\n",
       "      <td>483795</td>\n",
       "    </tr>\n",
       "    <tr>\n",
       "      <td>item1b</td>\n",
       "      <td>589463</td>\n",
       "      <td>589479</td>\n",
       "    </tr>\n",
       "    <tr>\n",
       "      <td>item4</td>\n",
       "      <td>591507</td>\n",
       "      <td>591522</td>\n",
       "    </tr>\n",
       "    <tr>\n",
       "      <td>item6</td>\n",
       "      <td>603912</td>\n",
       "      <td>603927</td>\n",
       "    </tr>\n",
       "    <tr>\n",
       "      <td>item7</td>\n",
       "      <td>820202</td>\n",
       "      <td>820217</td>\n",
       "    </tr>\n",
       "    <tr>\n",
       "      <td>item7a</td>\n",
       "      <td>1182940</td>\n",
       "      <td>1182956</td>\n",
       "    </tr>\n",
       "    <tr>\n",
       "      <td>item8</td>\n",
       "      <td>1194975</td>\n",
       "      <td>1194990</td>\n",
       "    </tr>\n",
       "  </tbody>\n",
       "</table>\n",
       "</div>"
      ],
      "text/plain": [
       "          start      end\n",
       "item                    \n",
       "item1a   483779   483795\n",
       "item1b   589463   589479\n",
       "item4    591507   591522\n",
       "item6    603912   603927\n",
       "item7    820202   820217\n",
       "item7a  1182940  1182956\n",
       "item8   1194975  1194990"
      ]
     },
     "execution_count": 507,
     "metadata": {},
     "output_type": "execute_result"
    }
   ],
   "source": [
    "pos_dat = test_df.groupby(['item']).agg({'start': customsort, 'end': 'max'})\n",
    "# pos_dat.set_index('item', inplace=True)\n",
    "list(pos_dat.index)\n",
    "pos_dat"
   ]
  },
  {
   "cell_type": "code",
   "execution_count": 508,
   "metadata": {},
   "outputs": [],
   "source": [
    "# Get Item 1a\n",
    "item_1a_raw = document['10-K'][pos_dat['start'].loc['item1a']:pos_dat['end'].loc['item1b']]\n",
    "# item_1a_raw = document['10-K'][pos_dat['start'].loc['item1a']:pos_dat['end'].loc['item2']]\n",
    "\n",
    "# Get Item 7\n",
    "# item_7_raw = document['10-K'][pos_dat['start'].loc['item7']:pos_dat['start'].loc['item7a']]\n",
    "\n",
    "# item_6_raw = document['10-K'][pos_dat['start'].loc['item6']:pos_dat['start'].loc['item7']]\n",
    "\n",
    "# Get Item 7a\n",
    "# item_7a_raw = document['10-K'][pos_dat['start'].loc['item7a']:pos_dat['start'].loc['item8']]"
   ]
  },
  {
   "cell_type": "code",
   "execution_count": 86,
   "metadata": {},
   "outputs": [
    {
     "data": {
      "text/plain": [
       "'>Item 1A.</div>\\n</td>\\n<td style=\"BORDER-BOTTOM: #000000 0.5pt dotted; WIDTH: 2.62%; FONT-FAMILY: Arial; VERTICAL-ALIGN: bottom\">&#160;</td>\\n<td style=\"BORDER-BOTTOM: #000000 0.5pt dotted; WIDTH: 44.87%; VERTICAL-ALIGN: bottom\">\\n<div style=\"TEXT-ALIGN: left; LINE-HEIGHT: 12pt; FONT-FAMILY: Arial; COLOR: #000000; FONT-SIZE: 8pt\">Risk Factors</div>\\n</td>\\n<td style=\"BORDER-BOTTOM: #000000 0.5pt dotted; WIDTH: 20%; FONT-FAMILY: Arial; VERTICAL-ALIGN: bottom\">&#160;</td>\\n<td style=\"BORDER-BOTTOM: #000000 0.5pt dotted; WIDTH: 20%; VERTICAL-ALIGN: bottom\">\\n<div style=\"TEXT-ALIGN: center; LINE-HEIGHT: 12pt; FONT-FAMILY: Arial; COLOR: #000000; FONT-SIZE: 8pt\">112-117</div>\\n</td>\\n</tr>\\n\\n<tr>\\n<td style=\"WIDTH: 12.66%; VERTICAL-ALIGN: bottom; BORDER-TOP: #000000 0.5pt dotted\">\\n<div style=\"TEXT-ALIGN: left; LINE-HEIGHT: 9.1pt; FONT-FAMILY: \\'Times New Roman\\'; FONT-SIZE: 8pt\">&#160;</div>\\n\\n<div style=\"TEXT-ALIGN: left; LINE-HEIGHT: 9.1pt; FONT-FAMILY: Arial; FONT-SIZE: 8pt\">Item 1B.'"
      ]
     },
     "execution_count": 86,
     "metadata": {},
     "output_type": "execute_result"
    }
   ],
   "source": [
    "item_1a_raw"
   ]
  },
  {
   "cell_type": "code",
   "execution_count": null,
   "metadata": {},
   "outputs": [],
   "source": [
    "item_6_raw[0:1000]"
   ]
  },
  {
   "cell_type": "code",
   "execution_count": 509,
   "metadata": {},
   "outputs": [],
   "source": [
    "### First convert the raw text we have to exrtacted to BeautifulSoup object \n",
    "item_1a_content = BeautifulSoup(item_1a_raw, \"lxml\")\n",
    "# item_6_content = BeautifulSoup(item_6_raw, 'lxml')\n",
    "# item_7_content = BeautifulSoup(item_7_raw, 'lxml')"
   ]
  },
  {
   "cell_type": "code",
   "execution_count": 410,
   "metadata": {},
   "outputs": [
    {
     "name": "stdout",
     "output_type": "stream",
     "text": [
      ">Item 1A.Risk FactorsPages 46-53Item 1B.\n"
     ]
    }
   ],
   "source": [
    "# print(item_1a_content.get_text())"
   ]
  },
  {
   "cell_type": "code",
   "execution_count": 510,
   "metadata": {},
   "outputs": [
    {
     "name": "stdout",
     "output_type": "stream",
     "text": [
      "> item 1a.  risk factors       our business involves a high degree of risk. if any of the following risks, or any risk described elsewhere in this annual report on form 10-k, actually occur, our business, financial condition or results of operations could suffer. additional risks not presently known to us or which we currently consider immaterial also may adversely affect our company.  natural gas, ngl and oil prices are volatile. a substantial or extended decline in commodity prices may adversely affect our business, financial condition or results of operations and our ability to meet our capital expenditure obligations and financial commitments.      the prices we receive for our natural gas, ngl and oil production heavily influence our revenue, profitability, access to capital and future rate of growth. natural gas, ngls and oil are commodities and, therefore, their prices are subject to wide fluctuations in response to relatively minor changes in supply and demand. historically, the commodities market has been volatile. this market will likely continue to be volatile in the future. the prices we receive for our production, and the levels of our production, depend on numerous factors beyond our control. these factors include the following:  worldwide and regional economic conditions impacting the global supply and demand for natural gas, ngls and oil;  the price and quantity of imports of foreign natural gas, including liquefied natural gas;  political conditions in or affecting other producing countries, including conflicts in the middle east, africa, south america and russia; the level of global exploration and production; the level of global inventories; prevailing prices on local price indexes in the areas in which we operate;  localized and global supply and demand fundamentals and transportation availability;  weather conditions; technological advances affecting energy consumption; the price and availability of alternative fuels; and domestic, local and foreign governmental regulation and taxes.      furthermore, the worldwide financial and credit crisis in recent years has reduced the availability of liquidity and credit to fund the continuation and expansion of industrial business operations worldwide resulting in a slowdown in economic activity and recession in parts of the world. this has reduced worldwide demand for energy and resulted in lower natural gas, ngl and oil prices.     lower commodity prices will reduce our cash flows and borrowing ability. we may be unable to obtain needed capital or financing on satisfactory terms, which could lead to a decline in our reserves as existing reserves are depleted. lower commodity prices may also reduce the amount of natural gas, ngls and oil that we can produce economically.     if commodity prices further decrease, a significant portion of our exploitation, development and exploration projects could become uneconomic. this may result in our having to make significant downward adjustments to our estimated proved reserves. as a result, a substantial or extended decline in commodity prices may materially and adversely affect our future business, financial condition, results of operations, liquidity or ability to finance planned capital expenditures. 26   table of contents our exploitation, development and exploration projects require substantial capital expenditures. we may be unable to obtain required capital or financing on satisfactory terms, which could lead to a decline in our natural gas reserves.      the natural gas industry is capital intensive. we make and expect to continue to make substantial capital expenditures for the exploitation, development and acquisition of natural gas reserves. our cash flow used in investing activities related to capital and exploration expenditures was approximately $2.7 billion in 2013. our board of directors has approved a capital budget for 2014 of $2.6 billion and includes $1.8 billion for drilling and completion; $600 million for expansion of midstream facilities, including $200 million for fresh water distribution infrastructure; and $200 million for core leasehold acreage acquisitions. our capital budget excludes acquisitions. we expect to fund these capital expenditures with cash generated by operations, reimbursement for pre-contribution capital expenditures from the proposed master limited partnership, borrowings under our revolving credit facility or capital market transactions. the actual amount and timing of our future capital expenditures may differ materially from our estimates as a result of, among other things, commodity prices, actual drilling results, the availability of drilling rigs and other services and equipment, and regulatory, technological and competitive developments. a reduction in commodity prices from current levels may result in a decrease in our actual capital expenditures, which would negatively impact our ability to grow production. we intend to finance our future capital expenditures primarily through cash flow from operations and through borrowings under our revolving credit facility; however, our financing needs may require us to alter or increase our capitalization substantially through the issuance of debt or equity securities or the sale of assets. the issuance of additional indebtedness would require that a portion of our cash flow from operations be used for the payment of interest and principal on our indebtedness, thereby reducing our ability to use cash flow from operations to fund working capital, capital expenditures and acquisitions.     our cash flow from operations and access to capital are subject to a number of variables, including:  our proved reserves; the level of hydrocarbons we are able to produce from existing wells; the prices at which our production is sold; our ability to acquire, locate and produce new reserves; and our ability to borrow under our revolving credit facility.      if our revenues or the borrowing base under our revolving credit facility decrease as a result of lower natural gas prices, operating difficulties, declines in reserves or for any other reason, we may have limited ability to obtain the capital necessary to sustain our operations at current levels. if additional capital is needed, we may not be able to obtain debt or equity financing on terms acceptable to us, if at all. if cash flow generated by our operations or available borrowings under our revolving credit facility are not sufficient to meet our capital requirements, the failure to obtain additional financing could result in a curtailment of our operations relating to development of our properties, which in turn could lead to a decline in our reserves and production, and could adversely affect our business, financial condition and results of operations.  our ability to complete the proposed initial public offering of our midstream business on the terms currently contemplated, or at all, may result in a reduction in our 2014 capital budget.      we are pursuing an initial public offering of limited partnership interests in an entity that will indirectly own substantially all of our midstream assets. adverse developments in our midstream business may result in our failure to complete the initial public offering, a decrease in the proceeds we 27   table of contents receive from the offering or a decrease in the value of the limited partnership interests we retain upon completion of the offering. potential adverse developments include, but are not limited to:  any development that adversely affects our exploration, development and production operations, financial conditions or market reputation; a shortage of equipment and skilled labor in the appalachian basin, which could reduce equipment availability and increase labor and equipment costs associated with our midstream assets; a change in the jurisdictional characterization of our midstream assets by federal, state or local agencies or a change in policy by those agencies resulting in increased regulation of such assets; increased regulation of hydraulic fracturing that results in reductions or delays in natural gas, ngl and oil production;  restrictions on our ability to obtain water or changes in wastewater disposal requirements;  the incurrence by our midstream business of significant liability under, or costs and expenditures to comply with, environmental and worker health and safety regulations; and climate change laws and regulations restricting emissions of \"greenhouse gases.\"  in addition, general market conditions, including the market for yield securities, may impact our ability to complete the initial public offering on the terms currently contemplated, or at all. our inability to complete the initial public offering on the terms currently contemplated, or at all, may result in a reduction in our 2014 capital budget.  drilling for and producing natural gas are high risk activities with many uncertainties that could adversely affect our business, financial condition or results of operations.      our future financial condition and results of operations will depend on the success of our exploitation, development and acquisition activities, which are subject to numerous risks beyond our control, including the risk that drilling will not result in commercially viable natural gas production. our decisions to purchase, explore, develop or otherwise exploit prospects or properties will depend in part on the evaluation of data obtained through geophysical and geological analyses, production data and engineering studies, the results of which are often inconclusive or subject to varying interpretations. for a discussion of the uncertainty involved in these processes, see \"reserve estimates depend on many assumptions that may turn out to be inaccurate. any material inaccuracies in our reserve estimates or underlying assumptions will materially affect the quantities and present value of our reserves.\" in addition, our cost of drilling, completing and operating wells is often uncertain before drilling commences.     further, many factors may curtail, delay or cancel our scheduled drilling projects, including the following:  delays imposed by or resulting from compliance with regulatory requirements;  pressure or irregularities in geological formations; shortages of or delays in obtaining equipment and qualified personnel or in obtaining water for hydraulic fracturing activities; equipment failures or accidents; adverse weather conditions, such as blizzards, tornados, hurricanes and ice storms;  issues related to compliance with environmental regulations;  28   table of contents  environmental hazards, such as natural gas leaks, oil spills, pipeline and tank ruptures, encountering naturally occurring radioactive materials, and unauthorized discharges of brine, well stimulation and completion fluids, toxic gases or other pollutants into the surface and subsurface environment;  declines in natural gas prices; limited availability of financing at acceptable terms; title problems; and limitations in the market for natural gas.  we may not be able to generate sufficient cash to service all of our indebtedness and may be forced to take other actions to satisfy our obligations under our indebtedness, which may not be successful.      our ability to make scheduled payments on or to refinance our indebtedness obligations, including our revolving credit facility, our $260 million of 7.25% senior notes due 2019, $525 million of 6.00% senior notes due 2020, and $1 billion of 5.375% notes due 2021 depends on our financial condition and operating performance, which are subject to prevailing economic and competitive conditions and certain financial, business and other factors beyond our control. we may not be able to maintain a level of cash flows from operating activities sufficient to permit us to pay the principal, premium, if any, and interest on our indebtedness, including the senior notes.     if our cash flows and capital resources are insufficient to fund our debt service obligations, we may be forced to reduce or delay investments and capital expenditures, sell assets, seek additional capital or restructure or refinance our indebtedness, including the senior notes. our ability to restructure or refinance our indebtedness will depend on the condition of the capital markets and our financial condition at such time. any refinancing of our indebtedness could be at higher interest rates and may require us to comply with more onerous covenants, which could further restrict our business operations. the terms of existing or future debt instruments, including the indentures governing our senior notes, may restrict us from adopting some of these alternatives. in addition, any failure to make payments of interest and principal on our outstanding indebtedness on a timely basis would likely result in a reduction of our credit rating, which could harm our ability to incur additional indebtedness. in the absence of sufficient cash flows and capital resources, we could face substantial liquidity problems and might be required to dispose of material assets or operations to meet our debt service and other obligations. our revolving credit facility and the indentures governing our senior notes currently restrict our ability to dispose of assets and our use of the proceeds from such disposition. we may not be able to consummate those dispositions, and the proceeds of any such disposition may not be adequate to meet any debt service obligations then due. these alternative measures may not be successful and may not permit us to meet our scheduled debt service obligations.     the borrowing base under our revolving credit facility is currently $2.0 billion, and lender commitments under our revolving credit facility are $1.5 billion. our next scheduled borrowing base redetermination is expected to occur in april 2014. in the future, we may not be able to access adequate funding under our revolving credit facility as a result of a decrease in our borrowing base due to the issuance of new indebtedness, the outcome of a subsequent semi-annual borrowing base redetermination or an unwillingness or inability on the part of our lending counterparties to meet their funding obligations and the inability of other lenders to provide additional funding to cover the defaulting lender's portion. declines in commodity prices could result in a determination to lower the borrowing base in the future and, in such a case, we could be required to repay any indebtedness in excess of the redetermined borrowing base. as a result, we may be unable to implement our drilling and development plan, make acquisitions or otherwise carry out our business plan, which would have a 29   table of contents material adverse effect on our financial condition and results of operations and impair our ability to service our indebtedness.  we are required to pay fees to our service providers based on minimum volumes regardless of actual volume throughput.      we have various firm transportation and gas processing, gathering and compression service agreements in place, each with minimum volume delivery commitments. as of december 31, 2013, our long-term contractual obligation under these agreements was $3.5 billion. we are obligated to pay fees on minimum volumes to our service providers regardless of actual volume throughput, which could be significant and have a material adverse effect on our results of operations. if these fees on minimum volumes are substantial, we may not be able to generate sufficient cash to cover these obligations, which may require us to reduce or delay our planned investments and capital expenditures or seek alternative means of financing.  restrictions in our existing and future debt agreements could limit our growth and our ability to engage in certain activities.      our revolving credit facility contains a number of significant covenants (in addition to covenants restricting the incurrence of additional indebtedness), including restrictive covenants that may limit our ability to, among other things:  sell assets; make loans to others; make investments; enter into mergers; make certain payments; hedge future production; incur liens; and engage in certain other transactions without the prior consent of the lenders.      the indentures governing our senior notes contain similar restrictive covenants. in addition, our revolving credit facility requires us to maintain certain financial ratios or to reduce our indebtedness if we are unable to comply with such ratios. these restrictions, together with those in the indentures governing our senior notes, may also limit our ability to obtain future financings to withstand a future downturn in our business or the economy in general, or to otherwise conduct necessary corporate activities. we may also be prevented from taking advantage of business opportunities that arise because of the limitations that the restrictive covenants under the indentures governing our senior notes and our revolving credit facility impose on us.     our revolving credit facility limits the amounts we can borrow up to a borrowing base amount, which the lenders, in their sole discretion, determine on a semi-annual basis based upon projected revenues from the natural gas properties securing our loan. the lenders can unilaterally adjust the borrowing base and the borrowings permitted to be outstanding under our revolving credit facility. any increase in the borrowing base requires the consent of the lenders holding 100% of the commitments. if the requisite number of lenders do not agree to an increase, then the borrowing base will be the lowest borrowing base acceptable to such lenders. outstanding borrowings in excess of the borrowing base must be repaid, or we must pledge other natural gas properties as additional collateral after applicable grace periods. we do not currently have any substantial unpledged properties, and we may not have the financial resources in the future to make mandatory principal prepayments required under 30   table of contents our revolving credit facility. the borrowing base under our revolving credit facility is currently $2.0 billion and lender commitments are $1.5 billion. our next scheduled borrowing base redetermination is expected to occur in april 2014.     a breach of any covenant in our revolving credit facility would result in a default under that agreement after any applicable grace periods. a default, if not waived, could result in acceleration of the indebtedness outstanding under the facility and in a default with respect to, and an acceleration of, the indebtedness outstanding under other debt agreements. the accelerated indebtedness would become immediately due and payable. if that occurs, we may not be able to make all of the required payments or borrow sufficient funds to refinance such indebtedness. even if new financing were available at that time, it may not be on terms that are acceptable to us.  currently, we receive significant incremental cash flows as a result of our hedging activity. to the extent we are unable to obtain future hedges at effective prices consistent with those we have received to date and natural gas prices do not improve, our cash flows may be adversely impacted. additionally, if development drilling costs increase significantly in the future, our hedged revenues may not be sufficient to cover our costs.      to achieve more predictable cash flows and reduce our exposure to downward price fluctuations, as of december 31, 2013, we had entered into a number of hedge contracts for approximately 1.255 tcfe of our projected natural gas and oil production through december 31, 2019. we are currently realizing a significant benefit from these hedge positions. for example, for the years ended december 31, 2012 and 2013, we received approximately $271 million and $164 million, respectively, in revenues from cash settled derivatives pursuant to our hedges, which represented approximately 30% and 13%, respectively, of our total revenues (including revenues from discontinued operations) for such periods. many of the hedge agreements that resulted in these realized gains for the years ended december 31, 2012 and 2013 were executed at times when spot and future prices were higher than prices that we are currently able to obtain in the futures market, and the price at which we have been able to hedge future production has decreased as a result. therefore, we expect that this benefit will decline materially over the life of the hedges, which cover decreasing volumes at declining prices through december 2019. if we are unable to enter into new hedge contracts in the future at favorable pricing and for a sufficient amount of our production, our financial condition and results of operations could be materially adversely affected.     additionally, since we hedge a significant part of our estimated future production, we have fixed a significant part of our future revenue stream. for example, for the years ended december 31, 2012 and 2013, approximately 81% of our estimated future production (including production from discontinued operations) was covered by our hedge contracts. if development drilling costs increase significantly because of inflation, increased demand for oilfield services, increased costs to comply with regulations governing our industry or other factors, future hedged revenues may not be sufficient to cover our costs.  in certain circumstances we may have to make cash payments under our hedging arrangements and these payments could be significant.      if natural gas or oil prices exceed the price at which we have hedged our commodities, we will be obligated to make cash payments to our hedge counterparties.which could, in certain circumstances, be significant. as of december 31, 2013, we had entered into hedging contracts through december 31, 2019 covering a total of approximately 1.255 tcfe of our projected natural gas and oil production at a weighted average price of $4.61 per mcfe. if we have to post cash collateral to meet our obligations under such arrangements, our cash otherwise available for use in our operations would be reduced. 31   table of contents reserve estimates depend on many assumptions that may turn out to be inaccurate. any material inaccuracies in our reserve estimates or underlying assumptions will materially affect the quantities and present value of our reserves.      the process of estimating natural gas and oil reserves is complex. it requires interpretations of available technical data and many assumptions, including assumptions relating to current and future economic conditions and commodity prices. any significant inaccuracies in these interpretations or assumptions could materially affect our estimated quantities and present value of our reserves.     in order to prepare our estimates, we must project production rates and timing of development expenditures. we must also analyze available geological, geophysical, production and engineering data. the extent, quality and reliability of this data can vary.     the process also requires economic assumptions about matters such as natural gas prices, drilling and operating expenses, capital expenditures, taxes and availability of funds.     actual future production, natural gas prices, revenues, taxes, development expenditures, operating expenses and quantities of recoverable natural gas reserves will vary from our estimates. any significant variance could materially affect the estimated quantities and present value of our reserves. in addition, we may adjust our reserve estimates to reflect production history, results of exploration and development, existing commodity prices and other factors, many of which are beyond our control.     you should not assume that the present value of future net revenues from our reserves is the current market value of our estimated natural gas reserves. we generally base the estimated discounted future net cash flows from our reserves on prices and costs on the date of the estimate. actual future prices and costs may differ materially from those used in the present value estimate.  our identified potential well locations are scheduled out over many years, making them susceptible to uncertainties that could materially alter the occurrence or timing of their drilling. in addition, we may not be able to raise the substantial amount of capital that would be necessary to drill our potential well locations.      our management team has specifically identified and scheduled certain well locations as an estimation of our future multi-year drilling activities on our existing acreage. these well locations represent a significant part of our growth strategy. our ability to drill and develop these locations depends on a number of uncertainties, including natural gas and oil prices, the availability and cost of capital, drilling and production costs, availability of drilling services and equipment, drilling results, lease expirations, gathering system and pipeline transportation constraints, access to and availability of water sourcing and distribution systems, regulatory approvals and other factors. because of these uncertain factors, we do not know if the numerous potential well locations we have identified will ever be drilled or if we will be able to produce natural gas or oil from these or any other potential well locations. in addition, unless production is established within the spacing units covering the undeveloped acres on which some of the potential locations are obtained, the leases for such acreage will expire. as such, our actual drilling activities may materially differ from those presently identified.     as of december 31, 2013, we had 4,778 identified potential horizontal well locations. as a result of the limitations described above, we may be unable to drill many of our potential well locations. in addition, we will require significant additional capital over a prolonged period in order to pursue the development of these locations, and we may not be able to raise or generate the capital required to do so. any drilling activities we are able to conduct on these potential locations may not be successful or result in our ability to add additional proved reserves to our overall proved reserves or may result in a downward revision of our estimated proved reserves, which could have a material adverse effect on our future business and results of operations. for more information on our identified potential well 32   table of contents locations, see \"item 1. business and propertiesour properties and operationsestimated proved reservesidentification of potential well locations.\"  approximately 92% of our net leasehold acreage is undeveloped, and that acreage may not ultimately be developed or become commercially productive, which could cause us to lose rights under our leases as well as have a material adverse effect on our oil and natural gas reserves and future production and, therefore, our future cash flow and income.      approximately 92% of our net leasehold acreage is undeveloped, or acreage on which wells have not been drilled or completed to a point that would permit the production of commercial quantities of oil and natural gas regardless of whether such acreage contains proved reserves. in addition, approximately 49% and 80% of our natural gas leases related to our marcellus and utica acreage, respectively, require us to drill wells that are commercially productive, and if we are unsuccessful in drilling such wells, we could lose our rights under such leases. our future oil and natural gas reserves and production and, therefore, our future cash flow and income are highly dependent on successfully developing our undeveloped leasehold acreage.  our producing properties are concentrated in the appalachian basin, making us vulnerable to risks associated with operating in one major geographic area.      our producing properties are geographically concentrated in the appalachian basin in west virginia, ohio and pennsylvania. at december 31, 2013, all of our total estimated proved reserves were attributable to properties located in this area. as a result of this concentration, we may be disproportionately exposed to the impact of regional supply and demand factors, delays or interruptions of production from wells in this area caused by governmental regulation, processing or transportation capacity constraints, market limitations, water shortages or other drought related conditions or interruption of the processing or transportation of oil, natural gas or ngls.  insufficient processing or takeaway capacity in the appalachian basin could cause significant fluctuations in our realized natural gas and ngl prices.      the appalachian basin natural gas and ngl business environment has historically been characterized by periods during which production has surpassed local processing and takeaway capacity, resulting in substantial discounts in the price received. although additional appalachian basin takeaway capacity has been added in 2012 and 2013, we do not believe the existing and expected capacity will be sufficient to keep pace with the increased production caused by accelerated drilling in the area. for example, in the past we have experienced capacity constraints in the marcellus shale due to delays in the completion of third-party gathering and compression infrastructure.     if we are unable to secure additional gathering, compression and processing capacity and long-term firm takeaway capacity on major pipelines that are in existence or currently under construction in our core operating area to accommodate our growing production and to manage basis differentials, it could have a material adverse effect on our financial condition and results of operations.  we may incur losses as a result of title defects in the properties in which we invest.      it is our practice in acquiring oil and gas leases or interests not to incur the expense of retaining lawyers to examine the title to the mineral interest at the time of acquisition. rather, we rely upon the judgment of oil and gas lease brokers or landmen who perform the fieldwork in examining records in the appropriate governmental office before attempting to acquire a lease in a specific mineral interest. leases in the appalachian basin are particularly vulnerable to title deficiencies due the long history of land ownership in the area, resulting in extensive and complex chains of title. additionally, there are claims against us alleging that certain acquired leases that are held by production are invalid due to 33   table of contents production from the producing horizons being insufficient to hold title to the formation rights that we have purchased. the existence of a material title deficiency can render a lease worthless and can adversely affect our results of operations and financial condition. while we do typically obtain title opinions prior to commencing drilling operations on a lease or in a unit, the failure of title may not be discovered until after a well is drilled, in which case we may lose the lease and the right to produce all or a portion of the minerals under the property.  the development of our estimated proved undeveloped reserves may take longer and may require higher levels of capital expenditures than we currently anticipate. therefore, our estimated proved undeveloped reserves may not be ultimately developed or produced.      at december 31, 2013, 73% of our total estimated proved reserves were classified as proved undeveloped. our approximately 5.6 tcfe of estimated proved undeveloped reserves will require an estimated $5.3 billion of development capital over the next five years. moreover, the development of probable and possible reserves will require additional capital expenditures and such reserves are less certain to be recovered than proved reserves. development of these undeveloped reserves may take longer and require higher levels of capital expenditures than we currently anticipate. delays in the development of our reserves, increases in costs to drill and develop such reserves, or decreases in commodity prices will reduce the pv-10 value of our estimated proved undeveloped reserves and future net revenues estimated for such reserves and may result in some projects becoming uneconomic. in addition, delays in the development of reserves could cause us to have to reclassify our proved undeveloped reserves as unproved reserves.  if commodity prices decrease to a level such that our future undiscounted cash flows from our properties are less than their carrying value for a significant period of time, we will be required to take write-downs of the carrying values of our properties.      accounting rules require that we periodically review the carrying value of our properties for possible impairment. based on specific market factors and circumstances at the time of prospective impairment reviews, and the continuing evaluation of development plans, production data, economics and other factors, we may be required to write down the carrying value of our properties. a writedown constitutes a non-cash charge to earnings. we may incur impairment charges in the future, which could have a material adverse effect on our results of operations for the periods in which such charges are taken.  unless we replace our reserves with new reserves and develop those reserves, our reserves and production will decline, which would adversely affect our future cash flows and results of operations.      producing natural gas reservoirs generally are characterized by declining production rates that vary depending upon reservoir characteristics and other factors. unless we conduct successful ongoing exploitation, development and exploration activities or continually acquire properties containing proved reserves, our proved reserves will decline as those reserves are produced. our future natural gas reserves and production, and therefore our future cash flow and results of operations, are highly dependent on our success in efficiently developing and exploiting our current reserves and economically finding or acquiring additional recoverable reserves. we may not be able to develop, exploit, find or acquire sufficient additional reserves to replace our current and future production. if we are unable to replace our current and future production, the value of our reserves will decrease, and our business, financial condition and results of operations would be adversely affected.  conservation measures and technological advances could reduce demand for oil and natural gas.      fuel conservation measures, alternative fuel requirements, increasing consumer demand for alternatives to oil and natural gas, technological advances in fuel economy and energy generation 34   table of contents devices could reduce demand for oil and natural gas. the impact of the changing demand for oil and gas services and products may have a material adverse effect on our business, financial condition, results of operations and cash flows.  our derivative activities could result in financial losses or could reduce our earnings.      to achieve more predictable cash flows and reduce our exposure to adverse fluctuations in the prices of natural gas, we enter into derivative instrument contracts for a significant portion of our natural gas production, including fixed-price swaps. as of december 31, 2013, we had entered into hedging contracts through december 31, 2019 covering a total of approximately 1.255 tcfe of our projected natural gas and oil production at a weighted average price of $4.61 per mcfe. accordingly, our earnings may fluctuate significantly as a result of changes in fair value of our derivative instruments.     derivative instruments also expose us to the risk of financial loss in some circumstances, including when:  the counterparty to the derivative instrument defaults on its contractual obligations;  there is an increase in the differential between the underlying price in the derivative instrument and actual prices received; or there are issues with regard to legal enforceability of such instruments.      the use of derivatives may, in some cases, require the posting of cash collateral with counterparties. if we enter into derivative instruments that require cash collateral and commodity prices or interest rates change in a manner adverse to us, our cash otherwise available for use in our operations would be reduced which could limit our ability to make future capital expenditures and make payments on our indebtedness, and which could also limit the size of our borrowing base. future collateral requirements will depend on arrangements with our counterparties, highly volatile oil and natural gas prices and interest rates.     as of december 31, 2013, the estimated fair value of our commodity derivative contracts was approximately $860 million. any default by the counterparties to these derivative contracts when they become due would have a material adverse effect on our financial condition and results of operations. the fair value of our commodity derivative contracts at december 31, 2013 includes the following values by bank counterparty: bnp paribas$197 million; credit suisse$190 million; barclays$147 million; wells fargo$140 million; jp morgan$134 million; citigroup$34 million; deutsche bank$15 million; and toronto dominion bank$3 million. the credit ratings of certain of these banks have been downgraded because of the sovereign debt crisis in europe.     in addition, derivative arrangements could limit the benefit we would receive from increases in the prices for natural gas, which could also have an adverse effect on our financial condition.  our hedging transactions expose us to counterparty credit risk.      our hedging transactions expose us to risk of financial loss if a counterparty fails to perform under a derivative contract. disruptions in the financial markets could lead to sudden decreases in a counterparty's liquidity, which could make them unable to perform under the terms of the derivative contract and we may not be able to realize the benefit of the derivative contract. 35          table of contents  the inability of our significant customers to meet their obligations to us may adversely affect our financial results.      in addition to credit risk related to receivables from commodity derivative contracts, our principal exposures to credit risk are through joint interest receivables ($31 million at december 31, 2013) and the sale of our natural gas production ($97 million in receivables at december 31, 2013), which we market to energy marketing companies, refineries and affiliates. joint interest receivables arise from billing entities who own partial interest in the wells we operate. these entities participate in our wells primarily based on their ownership in leased properties on which we wish to drill. we can do very little to choose who participates in our wells. we are also subject to credit risk due to concentration of our natural gas receivables with several significant customers. the largest purchaser of our natural gas during the twelve months ended december 31, 2013 purchased approximately 30% of our operated production. we do not require our customers to post collateral. the inability or failure of our significant customers to meet their obligations to us or their insolvency or liquidation may adversely affect our financial results.  our operations may be exposed to significant delays, costs and liabilities as a result of environmental and occupational health and safety requirements applicable to our business activities.      we may incur significant delays, costs and liabilities as a result of environmental and occupational health and safety requirements applicable to our exploration, development and production activities. these delays, costs and liabilities could arise under a wide range of federal, regional, state and local laws and regulations relating to protection of the environment and worker health and safety, including regulations and enforcement policies that have tended to become increasingly strict over time resulting in longer waiting periods to receive permits and other regulatory approvals. failure to comply with these laws and regulations may result in the assessment of administrative, civil and criminal penalties, imposition of cleanup and site restoration costs and liens, and, in some instances, issuance of orders or injunctions limiting or requiring discontinuation of certain operations.     for example, in march 2011, we received orders for compliance from federal regulatory agencies, including the epa, relating to certain of our activities in west virginia. the orders allege that certain of our operations at several well sites are in non-compliance with certain environmental regulations, such as unpermitted discharges of fill material into wetlands or waters of the united states that are potentially in violation of the clean water act. we have responded to all pending orders and are actively cooperating with the relevant agencies. no fine or penalty relating to these matters has been proposed at this time, but the company believes that these actions will result in monetary sanctions exceeding $100,000. in addition, we expect to incur additional costs to remediate these well locations in order to bring them into compliance with applicable environmental laws and regulations. we have not, however, been required to suspend our operations at these locations to date and our management team does not expect these matters to have a material adverse effect on our financial condition, results of operations or cash flows.     strict, joint and several liabilities may be imposed under certain environmental laws, which could cause us to become liable for the conduct of others or for consequences of our own actions that were in compliance with all applicable laws at the time those actions were taken. in addition, claims for damages to persons or property, including natural resources, may result from the environmental and worker health and safety impacts of our operations. we have been named from time to time as a defendant in litigation related to such matters. for example, we have been named as the defendant in separate lawsuits in colorado, west virginia and pennsylvania in which the plaintiffs have alleged that our oil and natural gas activities exposed them to hazardous substances and damaged their properties. the plaintiffs have requested unspecified damages and other injunctive or equitable relief. we are not yet able to estimate what our aggregate exposure for monetary or other damages resulting from these or other similar claims might be. also, new laws, regulations or enforcement policies could be more 36   table of contents stringent and impose unforeseen liabilities or significantly increase compliance costs. if we were not able to recover the resulting costs through insurance or increased revenues, our business, financial condition or results of operations could be adversely affected.  we may incur substantial losses and be subject to substantial liability claims as a result of our operations. additionally, we may not be insured for, or our insurance may be inadequate to protect us against, these risks.      we are not insured against all risks. losses and liabilities arising from uninsured and underinsured events could materially and adversely affect our business, financial condition or results of operations.     our natural gas exploration and production activities are subject to all of the operating risks associated with drilling for and producing natural gas, including the possibility of:  environmental hazards, such as uncontrollable releases of oil, natural gas, brine, well fluids, toxic gas or other pollution into the environment, including groundwater, air and shoreline contamination; abnormally pressured formations; mechanical difficulties, such as stuck oilfield drilling and service tools and casing collapse;  fires, explosions and ruptures of pipelines; personal injuries and death; natural disasters; and terrorist attacks targeting natural gas and oil related facilities and infrastructure.      any of these risks could adversely affect our ability to conduct operations or result in substantial loss to us as a result of claims for:  injury or loss of life; damage to and destruction of property, natural resources and equipment;  pollution and other environmental damage; regulatory investigations and penalties; suspension of our operations; and repair and remediation costs.      we may elect not to obtain insurance for any or all of these risks if we believe that the cost of available insurance is excessive relative to the risks presented. in addition, pollution and environmental risks generally are not fully insurable. the occurrence of an event that is not fully covered by insurance could have a material adverse effect on our business, financial condition and results of operations.  we may be limited in our ability to choose gathering operators and processing and fractionation services providers in our areas of operations pursuant to the agreements we will enter into with antero midstream.      pursuant to the gas gathering and compression agreement that we intend to enter into with antero midstream, we will dedicate the gathering and compression of all of our current and future natural gas production in west virginia, ohio and pennsylvania to antero midstream, so long as such production is not otherwise subject to a pre-existing dedication. further, pursuant to the right of first offer that we intend to enter into with antero midstream, antero midstream will have a right to bid to provide certain processing and fractionation services in respect of all of our current and future gas production 37   table of contents (as long as it is not subject to a pre-existing dedication) and will be entitled to provide such services if its bid matches or is more favorable to us than terms proposed by other parties. as a result, we will be limited in our ability to use other gathering operators in west virginia, ohio and pennsylvania, even if such operators are able to offer us more favorable pricing or more efficient service. we will also be limited in our ability to use other processing and fractionation services providers in any area to the extent antero midstream is able to offer a competitive bid.  properties that we decide to drill may not yield natural gas or oil in commercially viable quantities.      properties that we decide to drill that do not yield natural gas or oil in commercially viable quantities will adversely affect our results of operations and financial condition. there is no way to predict in advance of drilling and testing whether any particular prospect will yield natural gas or oil in sufficient quantities to recover drilling or completion costs or to be economically viable. the use of micro-seismic data and other technologies and the study of producing fields in the same area will not enable us to know conclusively prior to drilling whether natural gas or oil will be present or, if present, whether natural gas or oil will be present in commercial quantities. we cannot assure you that the analogies we draw from available data from other wells, more fully explored prospects or producing fields will be applicable to our drilling prospects. further, our drilling operations may be curtailed, delayed or cancelled as a result of numerous factors, including:  unexpected drilling conditions; title problems; pressure or lost circulation in formations; equipment failure or accidents; adverse weather conditions; compliance with environmental and other governmental or contractual requirements; and  increase in the cost of, shortages or delays in the availability of, electricity, supplies, materials, drilling or workover rigs, equipment and services.  we may be unable to make attractive acquisitions or successfully integrate acquired businesses, and any inability to do so may disrupt our business and hinder our ability to grow.      in the future we may make acquisitions of businesses that complement or expand our current business. we may not be able to identify attractive acquisition opportunities. even if we do identify attractive acquisition opportunities, we may not be able to complete the acquisition or do so on commercially acceptable terms.     the success of any completed acquisition will depend on our ability to integrate effectively the acquired business into our existing operations. the process of integrating acquired businesses may involve unforeseen difficulties and may require a disproportionate amount of our managerial and financial resources. in addition, possible future acquisitions may be larger and for purchase prices significantly higher than those paid for earlier acquisitions. no assurance can be given that we will be able to identify additional suitable acquisition opportunities, negotiate acceptable terms, obtain financing for acquisitions on acceptable terms or successfully acquire identified targets. our failure to achieve consolidation savings, to integrate the acquired businesses and assets into our existing operations successfully or to minimize any unforeseen operational difficulties could have a material adverse effect on our financial condition and results of operations.     in addition, our revolving credit facility and the indentures governing our senior notes impose certain limitations on our ability to enter into mergers or combination transactions. our revolving credit facility and the indentures governing our senior notes also limit our ability to incur certain indebtedness, which could indirectly limit our ability to engage in acquisitions of businesses. 38   table of contents market conditions or operational impediments may hinder our access to natural gas and oil markets or delay our production.      market conditions or the unavailability of satisfactory natural gas and oil transportation arrangements may hinder our access to natural gas and oil markets or delay our production. the availability of a ready market for our natural gas and oil production depends on a number of factors, including the demand for and supply of natural gas and oil and the proximity of reserves to pipelines and terminal facilities. our ability to market our production depends in substantial part on the availability and capacity of gathering systems, pipelines and processing facilities owned and operated by third parties. our failure to obtain such services on acceptable terms could materially harm our business. we may be required to shut in wells due to lack of a market or inadequacy or unavailability of natural gas and oil pipeline or gathering system capacity. in addition, if natural gas or oil quality specifications for the third-party natural gas or oil pipelines with which we connect change so as to restrict our ability to transport natural gas or oil, our access to natural gas and oil markets could be impeded. if our production becomes shut in for any of these or other reasons, we would be unable to realize revenue from those wells until other arrangements were made to deliver the products to market.  we are subject to complex federal, state, local and other laws and regulations that could adversely affect the cost, manner or feasibility of conducting our operations or expose us to significant liabilities.      our natural gas exploration, production and transportation operations are subject to complex and stringent laws and regulations. in order to conduct our operations in compliance with these laws and regulations, we must obtain and maintain numerous permits, approvals and certificates from various federal, state and local governmental authorities. we may incur substantial costs in order to maintain compliance with these existing laws and regulations. in addition, our costs of compliance may increase if existing laws and regulations are revised or reinterpreted, or if new laws and regulations become applicable to our operations. such costs could have a material adverse effect on our business, financial condition and results of operations.     our business is subject to federal, state and local laws and regulations as interpreted and enforced by governmental authorities possessing jurisdiction over various aspects of the exploration for, and the production and transportation of, natural gas. failure to comply with such laws and regulations, including any evolving interpretation and enforcement by governmental authorities, could have a material adverse effect on our business, financial condition and results of operations.     changes to existing or new regulations may unfavorably impact us, could result in increased operating costs and have a material adverse effect on our financial condition and results of operations. such potential regulations could increase our operating costs, reduce our liquidity, delay or halt our operations or otherwise alter the way we conduct our business, which could in turn have a material adverse effect on our financial condition, results of operations and cash flows.  the unavailability or high cost of additional drilling rigs, equipment, supplies, personnel and oilfield services could adversely affect our ability to execute our exploration and development plans within our budget and on a timely basis.      the demand for qualified and experienced field personnel to drill wells and conduct field operations, geologists, geophysicists, engineers and other professionals in the oil and natural gas industry can fluctuate significantly, often in correlation with natural gas and oil prices, causing periodic shortages. historically, there have been shortages of drilling and workover rigs, pipe and other equipment as demand for rigs and equipment has increased along with the number of wells being drilled. we cannot predict whether these conditions will exist in the future and, if so, what their timing and duration will be. such shortages could delay or cause us to incur significant expenditures that are not provided for in our capital budget, which could have a material adverse effect on our business, financial condition or results of operations. 39   table of contents a change in the jurisdictional characterization of some of our assets by federal, state or local regulatory agencies or a change in policy by those agencies may result in increased regulation of our assets, which may cause our revenues to decline and operating expenses to increase.      section 1(b) of the nga exempts natural gas gathering facilities from regulation by the ferc as a natural gas company under the nga. although the ferc has not made any formal determinations with respect to any of our facilities, we believe that the natural gas pipelines in our gathering systems meet the traditional tests ferc has used to establish a pipeline's status as a gatherer not subject to regulation as a natural gas company. the distinction between ferc-regulated transmission services and federally unregulated gathering services, however, has been the subject of substantial litigation, and the ferc determines whether facilities are gathering facilities on a case-by-case basis, so the classification and regulation of our gathering facilities may be subject to change based on future determinations by ferc, the courts or congress.  should we fail to comply with all applicable ferc administered statutes, rules, regulations and orders, we could be subject to substantial penalties and fines.      under the ep act of 2005, ferc has civil penalty authority under the nga to impose penalties for current violations of up to $1 million per day for each violation and disgorgement of profits associated with any violation. while our systems have not been regulated by ferc as a natural gas company under the nga, ferc has adopted regulations that may subject certain of our otherwise non-ferc jurisdictional facilities to ferc annual reporting requirements. additional rules and legislation pertaining to those and other matters may be considered or adopted by ferc from time to time. failure to comply with those regulations in the future could subject us to civil penalty liability.  climate change laws and regulations restricting emissions of \"greenhouse gases\" could result in increased operating costs and reduced demand for the oil and natural gas that we produce while potential physical effects of climate change could disrupt our production and cause us to incur significant costs in preparing for or responding to those effects.      in response to findings that emissions of carbon dioxide, methane and other ghgs present an endangerment to public health and the environment, the epa has adopted regulations under existing provisions of the federal clean air act that, among other things, establish psd construction and title v operating permit reviews for certain large stationary sources that are potential major sources of ghg emissions. facilities required to obtain psd permits for their ghg emissions also will be required to meet \"best available control technology\" standards that will be established by the states or, in some cases, by the epa on a case-by-case basis. these epa rulemakings could adversely affect our operations and restrict or delay our ability to obtain air permits for new or modified sources. in addition, the epa has adopted rules requiring the monitoring and reporting of ghg emissions from specified onshore and offshore oil and gas production sources in the united states on an annual basis, which include certain of our operations. we are monitoring ghg emissions from our operations in accordance with the ghg emissions reporting rule and believe that our monitoring activities are in substantial compliance with applicable reporting obligations. while congress has from time to time considered legislation to reduce emissions of ghgs, there has not been significant activity in the form of adopted legislation to reduce ghg emissions at the federal level in recent years. in the absence of such federal climate legislation, a number of state and regional efforts have emerged that are aimed at tracking and/or reducing ghg emissions by means of cap and trade programs that typically require major sources of ghg emissions, such as electric power plants, to acquire and surrender emission allowances in return for emitting those ghgs. if congress undertakes comprehensive tax reform in the coming year, it is possible that such reform may include a carbon tax, which could impose additional direct costs on operations and reduce demand for refined products. although it is not possible at this time to predict how legislation or new regulations that may be adopted to address ghg emissions would impact our business, any such future laws and regulations imposing reporting obligations on, or 40   table of contents limiting emissions of ghgs from, our equipment and operations could require us to incur costs to reduce emissions of ghgs associated with our operations. substantial limitations on ghg emissions could also adversely affect demand for the oil and natural gas we produce. finally, it should be noted that some scientists have concluded that increasing concentrations of ghgs in the earth's atmosphere may produce climate changes that have significant physical effects, such as increased frequency and severity of storms, floods and other climatic events; if any such effects were to occur, they could have an adverse effect on our exploration and production operations.  federal, state and local legislative and regulatory initiatives relating to hydraulic fracturing as well as governmental reviews of such activities could result in increased costs and additional operating restrictions or delays in the completion of oil and natural gas wells and adversely affect our production.      hydraulic fracturing is an important and common practice that is used to stimulate production of natural gas and/or oil from dense subsurface rock formations. the hydraulic fracturing process involves the injection of water, sand, and chemicals under pressure into targeted subsurface formations to fracture the surrounding rock and stimulate production. we regularly use hydraulic fracturing as part of our operations. hydraulic fracturing typically is regulated by state oil and natural gas commissions, but the epa has asserted federal regulatory authority pursuant to the federal sdwa over certain hydraulic fracturing activities involving the use of diesel fuels and published draft permitting guidance in may 2012 addressing the performance of such activities using diesel fuels. in november 2011, the epa announced its intent to develop and issue regulations under the toxic substances control act to require companies to disclose information regarding the chemicals used in hydraulic fracturing; however, to date, the agency has not yet taken any action to do so. furthermore, in april 2012, the epa adopted regulations requiring the reduction of volatile organic compound emissions from oil and natural gas production facilities by mandating the use of \"green completions\" for hydraulic fracturing activities. these regulations require the operator to recover rather than vent gas and natural gas liquids that return to the surface during well completion operations. in addition, congress has from time to time considered legislation to provide for federal regulation of hydraulic fracturing under the sdwa and to require disclosure of the chemicals used in the hydraulic fracturing process. at the state level, several states have adopted or are considering legal requirements that could impose more stringent permitting, disclosure, and well construction requirements on hydraulic fracturing activities. local government also may seek to adopt ordinances within their jurisdictions regulating the time, place and manner of drilling activities in general or hydraulic fracturing activities in particular. we believe that we follow applicable standard industry practices and legal requirements for groundwater protection in our hydraulic fracturing activities. nonetheless, if new or more stringent federal, state, or local legal restrictions relating to the hydraulic fracturing process are adopted in areas where we operate, we could incur potentially significant added costs to comply with such requirements, experience delays or curtailment in the pursuit of exploration, development, or production activities, and perhaps even be precluded from drilling wells.     in addition, certain governmental reviews have been conducted or are underway that focus on environmental aspects of hydraulic fracturing practices. the white house council on environmental quality is coordinating an administration-wide review of hydraulic fracturing practices. the epa has commenced a study of the potential environmental effects of hydraulic fracturing on drinking water and groundwater, with a first progress report outlining work currently underway by the agency released in december 2012 and a draft final report drawing conclusions about the potential impacts of hydraulic fracturing on drinking water resources expected to be available for public comment and peer review by late 2014. moreover, the epa is developing effluent limitations for the treatment and discharge of wastewater resulting from hydraulic fracturing activities and plans to propose these standards at some point in 2014. in addition, the u.s. department of the interior published a revised proposed rule in may 2013 that would implement updated requirements for hydraulic fracturing activities on federal 41   table of contents lands, including new requirements relating to public disclosure, well bore integrity and handling of flowback water. other governmental agencies, including the u.s. department of energy, have evaluated or are evaluating various other aspects of hydraulic fracturing. these ongoing or proposed studies could spur initiatives to further regulate hydraulic fracturing under the sdwa or other regulatory mechanisms, and could ultimately make it more difficult or costly for us to perform hydraulic fracturing activities and increase our costs of compliance and doing business.  competition in the natural gas industry is intense, making it more difficult for us to acquire properties, market natural gas and secure trained personnel.      our ability to acquire additional prospects and to find and develop reserves in the future will depend on our ability to evaluate and select suitable properties and to consummate transactions in a highly competitive environment for acquiring properties, marketing natural gas and securing trained personnel. also, there is substantial competition for capital available for investment in the oil and natural gas industry. many of our competitors possess and employ financial, technical and personnel resources substantially greater than ours. those companies may be able to pay more for productive natural gas properties and exploratory prospects and to evaluate, bid for and purchase a greater number of properties and prospects than our financial or personnel resources permit. in addition, other companies may be able to offer better compensation packages to attract and retain qualified personnel than we are able to offer. the cost to attract and retain qualified personnel has increased over the past three years due to competition and may increase substantially in the future. we may not be able to compete successfully in the future in acquiring prospective reserves, developing reserves, marketing hydrocarbons, attracting and retaining quality personnel and raising additional capital, which could have a material adverse effect on our business.  terrorist or cyber-attacks and threats could have a material adverse effect on our business, financial condition or results of operations.      terrorist or cyber-attacks may significantly affect the energy industry, including our operations and those of our customers, as well as general economic conditions, consumer confidence and spending and market liquidity. strategic targets, such as energy-related assets, may be at greater risk of future attacks than other targets in the united states. our insurance may not protect us against such occurrences. consequently, it is possible that any of these occurrences, or a combination of them, could have a material adverse effect on our business, financial condition and results of operations.  the loss of senior management or technical personnel could adversely affect operations.      we depend on the services of our senior management and technical personnel. we do not maintain, nor do we plan to obtain, any insurance against the loss of any of these individuals. the loss of the services of our senior management or technical personnel, including paul m. rady, our chairman and chief executive officer, and glen c. warren, jr., our president and chief financial officer, could have a material adverse effect on our business, financial condition and results of operations.  seasonal weather conditions and regulations related to the protection of wildlife adversely affect our ability to conduct drilling activities in some of the areas where we operate.      natural gas operations in our operating areas can be adversely affected by seasonal weather conditions and regulations designed to protect various wildlife. this limits our ability to operate in those areas and can intensify competition during those months for drilling rigs, oilfield equipment, services, supplies and qualified personnel, which may lead to periodic shortages. these constraints and the resulting shortages or high costs could delay our operations and materially increase our operating and capital costs. 42   table of contents we have been an early entrant into new or emerging plays. as a result, our drilling results in these areas are uncertain, and the value of our undeveloped acreage will decline if drilling results are unsuccessful.      while our costs to acquire undeveloped acreage in new or emerging plays have generally been less than those of later entrants into a developing play, our drilling results in these areas are more uncertain than drilling results in areas that are developed and producing. since new or emerging plays have limited or no production history, we are unable to use past drilling results in those areas to help predict our future drilling results. as a result, our cost of drilling, completing and operating wells in these areas may be higher than initially expected, and the value of our undeveloped acreage will decline if drilling results are unsuccessful.  increases in interest rates could adversely affect our business.      our business and operating results can be harmed by factors such as the availability, terms of and cost of capital, increases in interest rates or a reduction in credit rating. these changes could cause our cost of doing business to increase, limit our ability to pursue acquisition opportunities, reduce cash flow used for drilling and place us at a competitive disadvantage. for example, during 2013, we had estimated average outstanding borrowings under our revolving credit facility of approximately $600 million, and the impact of a 1.0% increase in interest rates on this amount of indebtedness would result in increased interest expense for that period of approximately $6 million and a corresponding decrease in our net income before the effects of income taxes. in addition, an increase in interest rates could result in our failure to complete the proposed initial public offering of our midstream business on the terms currently contemplated, or at all, a decrease in the proceeds we receive from the offering or a decrease in the value of the limited partnership interests we retain upon completion of the offering. recent and continuing disruptions and volatility in the global financial markets may lead to a contraction in credit availability impacting our ability to finance our operations. we require continued access to capital. a significant reduction in cash flows from operations or the availability of credit could materially and adversely affect our ability to achieve our planned growth and operating results.  we may be subject to risks in connection with acquisitions of properties.      the successful acquisition of producing properties requires an assessment of several factors, including:  recoverable reserves; future natural gas prices and their applicable differentials; operating costs; and potential environmental and other liabilities.      the accuracy of these assessments is inherently uncertain. in connection with these assessments, we perform a review of the subject properties that we believe to be generally consistent with industry practices. our review will not reveal all existing or potential problems nor will it permit us to become sufficiently familiar with the properties to fully assess their deficiencies and capabilities. inspections may not always be performed on every well, and environmental problems, such as groundwater contamination, are not necessarily observable even when an inspection is undertaken. even when problems are identified, the seller may be unwilling or unable to provide effective contractual protection against all or part of the problems. we often are not entitled to contractual indemnification for environmental liabilities and acquire properties on an \"as is\" basis. 43   table of contents certain federal income tax deductions currently available with respect to natural gas and oil exploration and development may be eliminated, and additional state taxes on natural gas extraction may be imposed, as a result of future legislation.      the fiscal year 2014 budget proposed by the president of the united states recommends the elimination of certain key u.s. federal income tax incentives currently available to oil and gas exploration and production companies, and legislation has been introduced in congress that would implement many of these proposals. such changes include, but are not limited to, (i) the repeal of the percentage depletion allowance for oil and gas properties; (ii) the elimination of current deductions for intangible drilling and development costs; (iii) the elimination of the deduction for certain u.s. production activities for oil and gas production; and (iv) an extension of the amortization period for certain geological and geophysical expenditures. it is unclear, however, whether any such changes will be enacted or how soon such changes could be effective.     the passage of this legislation or any other similar change in u.s. federal income tax law could eliminate or postpone certain tax deductions that are currently available with respect to natural gas and oil exploration and development, and any such change could negatively affect our financial condition and results of operations.     in december 2013, the ohio state house introduced a proposal to introduce a severance tax on production from horizontally fractured wells at a rate of 1 percent of the net value for the first five years. after that period, the rate would increase to 2 percent for high-producing wells, though the rate decreases to 1 percent when production declines. it is unclear whether this or any similar ohio legislation will be enacted or when such legislation could be made effective.     item 1b.\n"
     ]
    }
   ],
   "source": [
    "import unicodedata\n",
    "text = item_1a_content.get_text()\n",
    "# regex = re.compile(r'item\\s(1a|6|1B|7a|7|8)\\.{0,1}', re.I)\n",
    "text = unicodedata.normalize(\"NFKD\", text)\n",
    "text = text.replace(\"\\n\", \" \")\n",
    "text = text.replace(\"  \", \" \")\n",
    "text = text.lower()\n",
    "print(text)\n",
    "# first = text.find(\"item 1a\")\n",
    "# # print(first)\n",
    "# second = text.find(\"item 1a.\", first+1)\n",
    "# print(text[second:])\n",
    "# matches = regex.finditer(text)\n",
    "# print(text)\n",
    "# text\n",
    "# Write a for loop to print the matches\n",
    "# for match in matches:\n",
    "#     print(match)"
   ]
  },
  {
   "cell_type": "code",
   "execution_count": null,
   "metadata": {},
   "outputs": [],
   "source": [
    "### Our goal is though to remove html tags and see the content\n",
    "### Method get_text() is what we need, \\n\\n is optional, I just added this to read text \n",
    "### more cleanly, it's basically new line character between sections. \n",
    "print(item_7_content.get_text())"
   ]
  },
  {
   "cell_type": "markdown",
   "metadata": {},
   "source": [
    "**Section 2: Numerical Data**"
   ]
  },
  {
   "cell_type": "code",
   "execution_count": null,
   "metadata": {},
   "outputs": [],
   "source": []
  },
  {
   "cell_type": "code",
   "execution_count": null,
   "metadata": {},
   "outputs": [],
   "source": []
  }
 ],
 "metadata": {
  "kernelspec": {
   "display_name": "Python 3",
   "language": "python",
   "name": "python3"
  },
  "language_info": {
   "codemirror_mode": {
    "name": "ipython",
    "version": 3
   },
   "file_extension": ".py",
   "mimetype": "text/x-python",
   "name": "python",
   "nbconvert_exporter": "python",
   "pygments_lexer": "ipython3",
   "version": "3.7.4"
  }
 },
 "nbformat": 4,
 "nbformat_minor": 2
}
