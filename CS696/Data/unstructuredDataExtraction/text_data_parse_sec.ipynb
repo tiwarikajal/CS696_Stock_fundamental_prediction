{
 "cells": [
  {
   "cell_type": "code",
   "execution_count": 1,
   "metadata": {},
   "outputs": [],
   "source": [
    "from pysec import xbrl"
   ]
  },
  {
   "cell_type": "code",
   "execution_count": 46,
   "metadata": {},
   "outputs": [
    {
     "name": "stdout",
     "output_type": "stream",
     "text": [
      "{u'liabilities': 0.0, u'net_cash_flows_financing_continuing': 0.0, u'revenue': 0.0, u'income_tax_expense_benefit': 0.0, u'common_shares_authorized': 0.0, u'income_from_equity_investments': 0.0, u'preferred_stock_dividends': 0.0, u'redeemable_noncontrolling_interest': 0.0, u'extraordary_items_gain_loss': 0.0, u'temporary_equity': 0.0, u'costs_and_expenses': 0.0, u'non_current_assets': 0.0, u'net_cash_flows_discontinued': 0.0, u'net_cash_flows_investing_discontinued': 0.0, u'liabilities_and_equity': 0.0, u'other_operating_income': 0.0, u'operating_income_loss': 0.0, u'income_before_equity_investments': 0.0, u'net_income_parent': 0.0, u'equity': 0.0, u'income_loss': 0.0, u'cost_of_revenue': 0.0, u'operating_expenses': 0.0, u'noncurrent_liabilities': 0.0, u'current_liabilities': 0.0, u'net_cash_flows_investing': 0.0, u'stockholders_equity': 0.0, u'net_income_loss': 0.0, u'net_cash_flows_investing_continuing': 0.0, u'nonoperating_income_loss': 0.0, u'common_shares_outstanding': 0.0, u'net_cash_flows_financing': 0.0, u'net_income_shareholders': 0.0, u'comprehensive_income': 0.0, u'equity_attributable_interest': 0.0, u'commitments_and_contingencies': 0.0, u'comprehensive_income_parent': 0.0, u'net_cash_flows_operating_discontinued': 0.0, u'comprehensive_income_interest': 0.0, u'other_comprehensive_income': 0.0, u'equity_attributable_parent': 0.0, u'assets': 0.0, u'common_shares_issued': 0.0, u'gross_profit': 0.0, u'net_cash_flows_operating_continuing': 0.0, u'current_assets': 0.0, u'interest_and_debt_expense': 0.0, u'net_income_loss_noncontrolling': 0.0, u'net_cash_flows_operating': 0.0}\n"
     ]
    }
   ],
   "source": [
    "from xbrl import XBRLParser, GAAP, GAAPSerializer\n",
    "xbrl_parser = XBRLParser()\n",
    "xbrl = xbrl_parser.parse(file(\"/Users/User/Documents/apty-20180131.xml\"))\n",
    "gaap_obj = xbrl_parser.parseGAAP(xbrl, doc_date=\"20131228\", context=\"current\", ignore_errors=0)\n",
    "serializer = GAAPSerializer()\n",
    "result = serializer.dump(gaap_obj)\n",
    "print(result.data)"
   ]
  },
  {
   "cell_type": "code",
   "execution_count": 12,
   "metadata": {},
   "outputs": [],
   "source": [
    "# Import requests to retrive Web Urls example HTML. TXT \n",
    "import requests\n",
    "\n",
    "# Import BeautifulSoup\n",
    "from bs4 import BeautifulSoup\n",
    "\n",
    "# import re module for REGEXes\n",
    "import re\n",
    "\n",
    "# import pandas\n",
    "import pandas as pd"
   ]
  },
  {
   "cell_type": "code",
   "execution_count": 47,
   "metadata": {},
   "outputs": [],
   "source": [
    "r = requests.get('https://www.sec.gov/Archives/edgar/data/789019/000156459018019062/msft-10k_20180630.htm')\n",
    "# r = requests.get('https://www.sec.gov/Archives/edgar/data/320193/000032019318000145/0000320193-18-000145.txt')\n",
    "raw_10k = r.text"
   ]
  },
  {
   "cell_type": "code",
   "execution_count": 48,
   "metadata": {},
   "outputs": [
    {
     "name": "stdout",
     "output_type": "stream",
     "text": [
      "<DOCUMENT>\n",
      "<TYPE>10-K\n",
      "<SEQUENCE>1\n",
      "<FILENAME>msft-10k_20180630.htm\n",
      "<DESCRIPTION>10-K\n",
      "<TEXT>\n",
      "<!DOCTYPE HTML PUBLIC \"-//W3C//DTD HTML 4.01 Transitional//EN\" \"http://www.w3.org/TR/html4/loose.dtd\">\n",
      "<html>\n",
      "<head>\n",
      "<title>\n",
      "msft-10k_20180630.htm\n",
      "</title>\n",
      "</head>\n",
      "<!-- NG Converter v5.0.18157.137 -->\n",
      "<body>\n",
      "\n",
      "<p style=\"margin-bottom:0pt;margin-top:0pt;text-indent:0%;font-family:Times New Roman;font-size:11pt;\">&nbsp;</p>\n",
      "<p style=\"text-align:center;margin-top:0pt;border-top:Solid 1pt #000000;padding-top:0pt;line-height:1pt;margin-bottom:0pt;text-indent:0%;font-size:1pt;\">&nbsp;</p>\n",
      "<p style=\"text-align:center;margin-bottom:0pt;margin-top:0pt;text-indent:0%;font-weight:bold;font-size:17pt;font-family:Arial;font-style:normal;text-transform:none;font-variant: normal;\">UNITED STATES </p>\n",
      "<p style=\"text-align:center;margin-bottom:0pt;margin-top:0pt;text-indent:0%;font-weight:bold;font-size:17pt;font-family:Arial;font-style:normal;text-transform:none;font-variant: normal;\">SECURITIES AND EXCHANGE COMMISSION </p>\n",
      "<p style=\"text-align:center;margin-bottom:0pt;margin-top:0pt;text-indent:0%;font-weight:bold;font-size:11pt;font-family:Arial;font-style:normal;text-transform:none;font-variant: normal;\">Washington, D.C. 20549 </p>\n",
      "<p style=\"text-align:center;border-bottom:Solid 1pt;padding-bottom:1pt;mar\n"
     ]
    }
   ],
   "source": [
    "print(raw_10k[0:1300])"
   ]
  },
  {
   "cell_type": "code",
   "execution_count": 49,
   "metadata": {},
   "outputs": [],
   "source": [
    "# Regex to find <DOCUMENT> tags\n",
    "doc_start_pattern = re.compile(r'<DOCUMENT>')\n",
    "doc_end_pattern = re.compile(r'</DOCUMENT>')\n",
    "# Regex to find <TYPE> tag prceeding any characters, terminating at new line\n",
    "type_pattern = re.compile(r'<TYPE>[^\\n]+')"
   ]
  },
  {
   "cell_type": "code",
   "execution_count": 50,
   "metadata": {},
   "outputs": [],
   "source": [
    "# Create 3 lists with the span idices for each regex\n",
    "\n",
    "### There are many <Document> Tags in this text file, each as specific exhibit like 10-K, EX-10.17 etc\n",
    "### First filter will give us document tag start <end> and document tag end's <start> \n",
    "### We will use this to later grab content in between these tags\n",
    "doc_start_is = [x.end() for x in doc_start_pattern.finditer(raw_10k)]\n",
    "doc_end_is = [x.start() for x in doc_end_pattern.finditer(raw_10k)]\n",
    "\n",
    "### Type filter is interesting, it looks for <TYPE> with Not flag as new line, ie terminare there, with + sign\n",
    "### to look for any char afterwards until new line \\n. This will give us <TYPE> followed Section Name like '10-K'\n",
    "### Once we have have this, it returns String Array, below line will with find content after <TYPE> ie, '10-K' \n",
    "### as section names\n",
    "doc_types = [x[len('<TYPE>'):] for x in type_pattern.findall(raw_10k)]"
   ]
  },
  {
   "cell_type": "code",
   "execution_count": 51,
   "metadata": {},
   "outputs": [],
   "source": [
    "document = {}\n",
    "\n",
    "# Create a loop to go through each section type and save only the 10-K section in the dictionary\n",
    "for doc_type, doc_start, doc_end in zip(doc_types, doc_start_is, doc_end_is):\n",
    "    if doc_type == '10-K':\n",
    "        document[doc_type] = raw_10k[doc_start:doc_end]"
   ]
  },
  {
   "cell_type": "code",
   "execution_count": 52,
   "metadata": {},
   "outputs": [
    {
     "data": {
      "text/plain": [
       "u'\\n<TYPE>10-K\\n<SEQUENCE>1\\n<FILENAME>msft-10k_20180630.htm\\n<DESCRIPTION>10-K\\n<TEXT>\\n<!DOCTYPE HTML PUBLIC \"-//W3C//DTD HTML 4.01 Transitional//EN\" \"http://www.w3.org/TR/html4/loose.dtd\">\\n<html>\\n<head>\\n<title>\\nmsft-10k_20180630.htm\\n</title>\\n</head>\\n<!-- NG Converter v5.0.18157.137 -->\\n<body>\\n\\n<p style=\"margin-bottom:0pt;margin-top:0pt;text-indent:0%;font-family:Times New Roman;font-size:11pt;\">&nbsp;</p>\\n<p style=\"text-align:center;margin-top:0pt;border-top:Solid 1pt #000000;padding-top:0pt;line-hei'"
      ]
     },
     "execution_count": 52,
     "metadata": {},
     "output_type": "execute_result"
    }
   ],
   "source": [
    "document['10-K'][0:500]"
   ]
  },
  {
   "cell_type": "code",
   "execution_count": 53,
   "metadata": {},
   "outputs": [
    {
     "name": "stdout",
     "output_type": "stream",
     "text": [
      "<_sre.SRE_Match object at 0x1045a2330>\n",
      "<_sre.SRE_Match object at 0x1045a26f0>\n",
      "<_sre.SRE_Match object at 0x1045a2330>\n",
      "<_sre.SRE_Match object at 0x1045a26f0>\n",
      "<_sre.SRE_Match object at 0x1045a2330>\n",
      "<_sre.SRE_Match object at 0x1045a26f0>\n",
      "<_sre.SRE_Match object at 0x1045a2330>\n",
      "<_sre.SRE_Match object at 0x1045a26f0>\n",
      "<_sre.SRE_Match object at 0x1045a2330>\n",
      "<_sre.SRE_Match object at 0x1045a26f0>\n",
      "<_sre.SRE_Match object at 0x1045a2330>\n",
      "<_sre.SRE_Match object at 0x1045a26f0>\n",
      "<_sre.SRE_Match object at 0x1045a2330>\n",
      "<_sre.SRE_Match object at 0x1045a26f0>\n",
      "<_sre.SRE_Match object at 0x1045a2330>\n",
      "<_sre.SRE_Match object at 0x1045a26f0>\n",
      "<_sre.SRE_Match object at 0x1045a2330>\n",
      "<_sre.SRE_Match object at 0x1045a26f0>\n",
      "<_sre.SRE_Match object at 0x1045a2330>\n",
      "<_sre.SRE_Match object at 0x1045a26f0>\n",
      "<_sre.SRE_Match object at 0x1045a2330>\n",
      "<_sre.SRE_Match object at 0x1045a26f0>\n",
      "<_sre.SRE_Match object at 0x1045a2330>\n",
      "<_sre.SRE_Match object at 0x1045a26f0>\n",
      "<_sre.SRE_Match object at 0x1045a2330>\n",
      "<_sre.SRE_Match object at 0x1045a26f0>\n",
      "<_sre.SRE_Match object at 0x1045a2330>\n",
      "<_sre.SRE_Match object at 0x1045a26f0>\n",
      "<_sre.SRE_Match object at 0x1045a2330>\n",
      "<_sre.SRE_Match object at 0x1045a26f0>\n",
      "<_sre.SRE_Match object at 0x1045a2330>\n",
      "<_sre.SRE_Match object at 0x1045a26f0>\n",
      "<_sre.SRE_Match object at 0x1045a2330>\n",
      "<_sre.SRE_Match object at 0x1045a26f0>\n",
      "<_sre.SRE_Match object at 0x1045a2330>\n",
      "<_sre.SRE_Match object at 0x1045a26f0>\n",
      "<_sre.SRE_Match object at 0x1045a2330>\n",
      "<_sre.SRE_Match object at 0x1045a26f0>\n",
      "<_sre.SRE_Match object at 0x1045a2330>\n",
      "<_sre.SRE_Match object at 0x1045a26f0>\n",
      "<_sre.SRE_Match object at 0x1045a2330>\n",
      "<_sre.SRE_Match object at 0x1045a26f0>\n",
      "<_sre.SRE_Match object at 0x1045a2330>\n",
      "<_sre.SRE_Match object at 0x1045a26f0>\n",
      "<_sre.SRE_Match object at 0x1045a2330>\n",
      "<_sre.SRE_Match object at 0x1045a26f0>\n",
      "<_sre.SRE_Match object at 0x1045a2330>\n",
      "<_sre.SRE_Match object at 0x1045a26f0>\n",
      "<_sre.SRE_Match object at 0x1045a2330>\n",
      "<_sre.SRE_Match object at 0x1045a26f0>\n",
      "<_sre.SRE_Match object at 0x1045a2330>\n",
      "<_sre.SRE_Match object at 0x1045a26f0>\n",
      "<_sre.SRE_Match object at 0x1045a2330>\n",
      "<_sre.SRE_Match object at 0x1045a26f0>\n",
      "<_sre.SRE_Match object at 0x1045a2330>\n",
      "<_sre.SRE_Match object at 0x1045a26f0>\n",
      "<_sre.SRE_Match object at 0x1045a2330>\n",
      "<_sre.SRE_Match object at 0x1045a26f0>\n",
      "<_sre.SRE_Match object at 0x1045a2330>\n",
      "<_sre.SRE_Match object at 0x1045a26f0>\n",
      "<_sre.SRE_Match object at 0x1045a2330>\n",
      "<_sre.SRE_Match object at 0x1045a26f0>\n",
      "<_sre.SRE_Match object at 0x1045a2330>\n",
      "<_sre.SRE_Match object at 0x1045a26f0>\n",
      "<_sre.SRE_Match object at 0x1045a2330>\n",
      "<_sre.SRE_Match object at 0x1045a26f0>\n",
      "<_sre.SRE_Match object at 0x1045a2330>\n",
      "<_sre.SRE_Match object at 0x1045a26f0>\n",
      "<_sre.SRE_Match object at 0x1045a2330>\n",
      "<_sre.SRE_Match object at 0x1045a26f0>\n",
      "<_sre.SRE_Match object at 0x1045a2330>\n",
      "<_sre.SRE_Match object at 0x1045a26f0>\n",
      "<_sre.SRE_Match object at 0x1045a2330>\n",
      "<_sre.SRE_Match object at 0x1045a26f0>\n",
      "<_sre.SRE_Match object at 0x1045a2330>\n",
      "<_sre.SRE_Match object at 0x1045a26f0>\n",
      "<_sre.SRE_Match object at 0x1045a2330>\n",
      "<_sre.SRE_Match object at 0x1045a26f0>\n",
      "<_sre.SRE_Match object at 0x1045a2330>\n",
      "<_sre.SRE_Match object at 0x1045a26f0>\n",
      "<_sre.SRE_Match object at 0x1045a2330>\n",
      "<_sre.SRE_Match object at 0x1045a26f0>\n",
      "<_sre.SRE_Match object at 0x1045a2330>\n",
      "<_sre.SRE_Match object at 0x1045a26f0>\n",
      "<_sre.SRE_Match object at 0x1045a2330>\n",
      "<_sre.SRE_Match object at 0x1045a26f0>\n"
     ]
    }
   ],
   "source": [
    "\n",
    "# Write the regex\n",
    "regex = re.compile(r'(>Item(\\s|&#160;|&nbsp;)(1A|6|1B|7A|7|8)\\.{0,1})|(ITEM\\s(1A|6|1B|7A|7|8))')\n",
    "\n",
    "# Use finditer to math the regex\n",
    "matches = regex.finditer(document['10-K'])\n",
    "\n",
    "# Write a for loop to print the matches\n",
    "for match in matches:\n",
    "    print(match)"
   ]
  },
  {
   "cell_type": "code",
   "execution_count": 54,
   "metadata": {},
   "outputs": [
    {
     "data": {
      "text/html": [
       "<div>\n",
       "<style scoped>\n",
       "    .dataframe tbody tr th:only-of-type {\n",
       "        vertical-align: middle;\n",
       "    }\n",
       "\n",
       "    .dataframe tbody tr th {\n",
       "        vertical-align: top;\n",
       "    }\n",
       "\n",
       "    .dataframe thead th {\n",
       "        text-align: right;\n",
       "    }\n",
       "</style>\n",
       "<table border=\"1\" class=\"dataframe\">\n",
       "  <thead>\n",
       "    <tr style=\"text-align: right;\">\n",
       "      <th></th>\n",
       "      <th>item</th>\n",
       "      <th>start</th>\n",
       "      <th>end</th>\n",
       "    </tr>\n",
       "  </thead>\n",
       "  <tbody>\n",
       "    <tr>\n",
       "      <th>0</th>\n",
       "      <td>&gt;item&amp;#160;1a.</td>\n",
       "      <td>31146</td>\n",
       "      <td>31160</td>\n",
       "    </tr>\n",
       "    <tr>\n",
       "      <th>1</th>\n",
       "      <td>&gt;item&amp;#160;1b.</td>\n",
       "      <td>34020</td>\n",
       "      <td>34034</td>\n",
       "    </tr>\n",
       "    <tr>\n",
       "      <th>2</th>\n",
       "      <td>&gt;item&amp;#160;6.</td>\n",
       "      <td>50774</td>\n",
       "      <td>50787</td>\n",
       "    </tr>\n",
       "    <tr>\n",
       "      <th>3</th>\n",
       "      <td>&gt;item&amp;#160;7.</td>\n",
       "      <td>53668</td>\n",
       "      <td>53681</td>\n",
       "    </tr>\n",
       "    <tr>\n",
       "      <th>4</th>\n",
       "      <td>&gt;item&amp;#160;7a.</td>\n",
       "      <td>56640</td>\n",
       "      <td>56654</td>\n",
       "    </tr>\n",
       "  </tbody>\n",
       "</table>\n",
       "</div>"
      ],
      "text/plain": [
       "             item  start    end\n",
       "0  >item&#160;1a.  31146  31160\n",
       "1  >item&#160;1b.  34020  34034\n",
       "2   >item&#160;6.  50774  50787\n",
       "3   >item&#160;7.  53668  53681\n",
       "4  >item&#160;7a.  56640  56654"
      ]
     },
     "execution_count": 54,
     "metadata": {},
     "output_type": "execute_result"
    }
   ],
   "source": [
    "# Matches\n",
    "matches = regex.finditer(document['10-K'])\n",
    "\n",
    "# Create the dataframe\n",
    "test_df = pd.DataFrame([(x.group(), x.start(), x.end()) for x in matches])\n",
    "\n",
    "test_df.columns = ['item', 'start', 'end']\n",
    "test_df['item'] = test_df.item.str.lower()\n",
    "\n",
    "# Display the dataframe\n",
    "test_df.head()"
   ]
  },
  {
   "cell_type": "code",
   "execution_count": 55,
   "metadata": {},
   "outputs": [
    {
     "data": {
      "text/html": [
       "<div>\n",
       "<style scoped>\n",
       "    .dataframe tbody tr th:only-of-type {\n",
       "        vertical-align: middle;\n",
       "    }\n",
       "\n",
       "    .dataframe tbody tr th {\n",
       "        vertical-align: top;\n",
       "    }\n",
       "\n",
       "    .dataframe thead th {\n",
       "        text-align: right;\n",
       "    }\n",
       "</style>\n",
       "<table border=\"1\" class=\"dataframe\">\n",
       "  <thead>\n",
       "    <tr style=\"text-align: right;\">\n",
       "      <th></th>\n",
       "      <th>item</th>\n",
       "      <th>start</th>\n",
       "      <th>end</th>\n",
       "    </tr>\n",
       "  </thead>\n",
       "  <tbody>\n",
       "    <tr>\n",
       "      <th>0</th>\n",
       "      <td>item1a</td>\n",
       "      <td>31146</td>\n",
       "      <td>31160</td>\n",
       "    </tr>\n",
       "    <tr>\n",
       "      <th>1</th>\n",
       "      <td>item1b</td>\n",
       "      <td>34020</td>\n",
       "      <td>34034</td>\n",
       "    </tr>\n",
       "    <tr>\n",
       "      <th>2</th>\n",
       "      <td>item6</td>\n",
       "      <td>50774</td>\n",
       "      <td>50787</td>\n",
       "    </tr>\n",
       "    <tr>\n",
       "      <th>3</th>\n",
       "      <td>item7</td>\n",
       "      <td>53668</td>\n",
       "      <td>53681</td>\n",
       "    </tr>\n",
       "    <tr>\n",
       "      <th>4</th>\n",
       "      <td>item7a</td>\n",
       "      <td>56640</td>\n",
       "      <td>56654</td>\n",
       "    </tr>\n",
       "  </tbody>\n",
       "</table>\n",
       "</div>"
      ],
      "text/plain": [
       "     item  start    end\n",
       "0  item1a  31146  31160\n",
       "1  item1b  34020  34034\n",
       "2   item6  50774  50787\n",
       "3   item7  53668  53681\n",
       "4  item7a  56640  56654"
      ]
     },
     "execution_count": 55,
     "metadata": {},
     "output_type": "execute_result"
    }
   ],
   "source": [
    "# Get rid of unnesesary charcters from the dataframe\n",
    "test_df.replace('&#160;',' ',regex=True,inplace=True)\n",
    "test_df.replace('&nbsp;',' ',regex=True,inplace=True)\n",
    "test_df.replace(' ','',regex=True,inplace=True)\n",
    "test_df.replace('\\.','',regex=True,inplace=True)\n",
    "test_df.replace('>','',regex=True,inplace=True)\n",
    "\n",
    "# display the dataframe\n",
    "test_df.head()"
   ]
  },
  {
   "cell_type": "code",
   "execution_count": 56,
   "metadata": {},
   "outputs": [
    {
     "data": {
      "text/html": [
       "<div>\n",
       "<style scoped>\n",
       "    .dataframe tbody tr th:only-of-type {\n",
       "        vertical-align: middle;\n",
       "    }\n",
       "\n",
       "    .dataframe tbody tr th {\n",
       "        vertical-align: top;\n",
       "    }\n",
       "\n",
       "    .dataframe thead th {\n",
       "        text-align: right;\n",
       "    }\n",
       "</style>\n",
       "<table border=\"1\" class=\"dataframe\">\n",
       "  <thead>\n",
       "    <tr style=\"text-align: right;\">\n",
       "      <th></th>\n",
       "      <th>item</th>\n",
       "      <th>start</th>\n",
       "      <th>end</th>\n",
       "    </tr>\n",
       "  </thead>\n",
       "  <tbody>\n",
       "    <tr>\n",
       "      <th>17</th>\n",
       "      <td>item1a</td>\n",
       "      <td>357212</td>\n",
       "      <td>357220</td>\n",
       "    </tr>\n",
       "    <tr>\n",
       "      <th>18</th>\n",
       "      <td>item1b</td>\n",
       "      <td>364949</td>\n",
       "      <td>364957</td>\n",
       "    </tr>\n",
       "    <tr>\n",
       "      <th>19</th>\n",
       "      <td>item6</td>\n",
       "      <td>539344</td>\n",
       "      <td>539351</td>\n",
       "    </tr>\n",
       "    <tr>\n",
       "      <th>37</th>\n",
       "      <td>item7</td>\n",
       "      <td>1394815</td>\n",
       "      <td>1394822</td>\n",
       "    </tr>\n",
       "    <tr>\n",
       "      <th>38</th>\n",
       "      <td>item7a</td>\n",
       "      <td>1401202</td>\n",
       "      <td>1401210</td>\n",
       "    </tr>\n",
       "    <tr>\n",
       "      <th>85</th>\n",
       "      <td>item8</td>\n",
       "      <td>5883010</td>\n",
       "      <td>5883017</td>\n",
       "    </tr>\n",
       "  </tbody>\n",
       "</table>\n",
       "</div>"
      ],
      "text/plain": [
       "      item    start      end\n",
       "17  item1a   357212   357220\n",
       "18  item1b   364949   364957\n",
       "19   item6   539344   539351\n",
       "37   item7  1394815  1394822\n",
       "38  item7a  1401202  1401210\n",
       "85   item8  5883010  5883017"
      ]
     },
     "execution_count": 56,
     "metadata": {},
     "output_type": "execute_result"
    }
   ],
   "source": [
    "# Drop duplicates\n",
    "pos_dat = test_df.sort_values('start', ascending=True).drop_duplicates(subset=['item'], keep='last')\n",
    "\n",
    "# Display the dataframe\n",
    "pos_dat"
   ]
  },
  {
   "cell_type": "code",
   "execution_count": 57,
   "metadata": {},
   "outputs": [
    {
     "data": {
      "text/html": [
       "<div>\n",
       "<style scoped>\n",
       "    .dataframe tbody tr th:only-of-type {\n",
       "        vertical-align: middle;\n",
       "    }\n",
       "\n",
       "    .dataframe tbody tr th {\n",
       "        vertical-align: top;\n",
       "    }\n",
       "\n",
       "    .dataframe thead th {\n",
       "        text-align: right;\n",
       "    }\n",
       "</style>\n",
       "<table border=\"1\" class=\"dataframe\">\n",
       "  <thead>\n",
       "    <tr style=\"text-align: right;\">\n",
       "      <th></th>\n",
       "      <th>start</th>\n",
       "      <th>end</th>\n",
       "    </tr>\n",
       "    <tr>\n",
       "      <th>item</th>\n",
       "      <th></th>\n",
       "      <th></th>\n",
       "    </tr>\n",
       "  </thead>\n",
       "  <tbody>\n",
       "    <tr>\n",
       "      <th>item1a</th>\n",
       "      <td>357212</td>\n",
       "      <td>357220</td>\n",
       "    </tr>\n",
       "    <tr>\n",
       "      <th>item1b</th>\n",
       "      <td>364949</td>\n",
       "      <td>364957</td>\n",
       "    </tr>\n",
       "    <tr>\n",
       "      <th>item6</th>\n",
       "      <td>539344</td>\n",
       "      <td>539351</td>\n",
       "    </tr>\n",
       "    <tr>\n",
       "      <th>item7</th>\n",
       "      <td>1394815</td>\n",
       "      <td>1394822</td>\n",
       "    </tr>\n",
       "    <tr>\n",
       "      <th>item7a</th>\n",
       "      <td>1401202</td>\n",
       "      <td>1401210</td>\n",
       "    </tr>\n",
       "    <tr>\n",
       "      <th>item8</th>\n",
       "      <td>5883010</td>\n",
       "      <td>5883017</td>\n",
       "    </tr>\n",
       "  </tbody>\n",
       "</table>\n",
       "</div>"
      ],
      "text/plain": [
       "          start      end\n",
       "item                    \n",
       "item1a   357212   357220\n",
       "item1b   364949   364957\n",
       "item6    539344   539351\n",
       "item7   1394815  1394822\n",
       "item7a  1401202  1401210\n",
       "item8   5883010  5883017"
      ]
     },
     "execution_count": 57,
     "metadata": {},
     "output_type": "execute_result"
    }
   ],
   "source": [
    "# Set item as the dataframe index\n",
    "pos_dat.set_index('item', inplace=True)\n",
    "\n",
    "# display the dataframe\n",
    "pos_dat"
   ]
  },
  {
   "cell_type": "code",
   "execution_count": 63,
   "metadata": {},
   "outputs": [],
   "source": [
    "# Get Item 1a\n",
    "item_1a_raw = document['10-K'][pos_dat['start'].loc['item1a']:pos_dat['start'].loc['item1b']]\n",
    "\n",
    "# Get Item 7\n",
    "item_7_raw = document['10-K'][pos_dat['start'].loc['item7']:pos_dat['start'].loc['item7a']]\n",
    "\n",
    "item_6_raw = document['10-K'][pos_dat['start'].loc['item6']:pos_dat['start'].loc['item7']]\n",
    "\n",
    "# Get Item 7a\n",
    "item_7a_raw = document['10-K'][pos_dat['start'].loc['item7a']:pos_dat['start'].loc['item8']]"
   ]
  },
  {
   "cell_type": "code",
   "execution_count": 64,
   "metadata": {},
   "outputs": [
    {
     "data": {
      "text/plain": [
       "u'>Item 6</p>\\n<p style=\"text-align:center;margin-bottom:0pt;margin-top:0pt;text-indent:0%;font-size:9pt;\">&nbsp;</p>\\n<p style=\"text-align:center;margin-bottom:0pt;margin-top:0pt;text-indent:0%;font-weight:bold;font-size:12pt;font-family:Arial;font-style:normal;text-transform:none;font-variant: normal;\"><a name=\"ITEM_6_SELECTED_FINANCIAL_DATA\"></a><font style=\"font-weight:bold;font-size:12pt;font-family:Arial;font-style:normal;text-transform:none;font-variant: normal;\"><a name=\"ITEM_6_SELECTED_FINANCIAL_DATA\"></a>ITEM&#160;6.&#160;SELECTED</font><font style=\"font-weight:bold;font-size:12pt;font-family:Arial;font-style:normal;text-transform:none;font-variant: normal;\"> FINANCIAL DATA </font></p>\\n<p style=\"text-align:center;margin-bottom:0pt;margin-top:9pt;text-indent:0%;font-size:10pt;font-family:Arial;font-weight:normal;font-style:normal;text-transform:none;font-variant: normal;\"><font style=\"text-decoration:underline;\">FINANCIAL HIGHLIGHTS </font></p>\\n<p style=\"margin-bottom:0pt;margin-t'"
      ]
     },
     "execution_count": 64,
     "metadata": {},
     "output_type": "execute_result"
    }
   ],
   "source": [
    "item_6_raw[0:1000]"
   ]
  },
  {
   "cell_type": "code",
   "execution_count": 65,
   "metadata": {},
   "outputs": [],
   "source": [
    "### First convert the raw text we have to exrtacted to BeautifulSoup object \n",
    "item_1a_content = BeautifulSoup(item_1a_raw, 'lxml')\n",
    "item_6_content = BeautifulSoup(item_6_raw, 'lxml')"
   ]
  },
  {
   "cell_type": "code",
   "execution_count": 70,
   "metadata": {},
   "outputs": [
    {
     "name": "stdout",
     "output_type": "stream",
     "text": [
      "<html>\n",
      " <body>\n",
      "  <p>\n",
      "   &gt;Item 7\n",
      "  </p>\n",
      "  <p style=\"text-align:center;margin-bottom:0pt;margin-top:0pt;text-indent:0%;font-size:9pt;\">\n",
      "  </p>\n",
      "  <p style=\"margin-bottom:0pt;margin-top:0pt;text-align:justify;text-indent:0%;font-weight:bold;font-size:10pt;font-family:Arial;font-style:normal;text-transform:none;font-variant: normal;\">\n",
      "   <font style=\"font-weight:bold;font-size:10pt;font-family:Arial;font-style:normal;text-transform:none;font-variant: normal;\">\n",
      "    STATEMENT OF MANAGEMENT’S RESPONSIBILITY FOR\n",
      "   </font>\n",
      "   <font style=\"font-weight:bold;font-size:10pt;font-family:Arial;font-style:normal;text-transform:none;font-variant: normal;\">\n",
      "    FINANCIAL STATEMENTS\n",
      "   </font>\n",
      "  </p>\n",
      "  <p style=\"margin-bottom:0pt;margin-top:9pt;text-align:justify;text-indent:0%;font-size:10pt;font-family:Arial;font-weight:normal;font-style:normal;text-transform:none;font-variant: normal;\">\n",
      "   Management is responsible for the preparation of the consolidated financial statements and related information\n"
     ]
    }
   ],
   "source": [
    "### By just applying .pretiffy() we see that raw text start to look oragnized, as BeautifulSoup\n",
    "### apply indentation according to the HTML Tag tree structure\n",
    "print(item_7_content.prettify()[0:1000])"
   ]
  },
  {
   "cell_type": "code",
   "execution_count": 71,
   "metadata": {},
   "outputs": [
    {
     "name": "stdout",
     "output_type": "stream",
     "text": [
      ">Item 7\n",
      "\n",
      "\n",
      "\n",
      "\n",
      " \n",
      "\n",
      "\n",
      "\n",
      "\n",
      "STATEMENT OF MANAGEMENT’S RESPONSIBILITY FOR\n",
      "\n",
      " FINANCIAL STATEMENTS \n",
      "\n",
      "\n",
      "\n",
      "\n",
      "Management is responsible for the preparation of the consolidated financial statements and related information that are presented in this report. The consolidated financial statements, which include amounts based on management’s estimates and judgments, have been prepared in conformity with accounting principles generally accepted in the United States of America. \n",
      "\n",
      "\n",
      "\n",
      "\n",
      "The Company designs and maintains accounting and internal control systems to provide reasonable assurance at reasonable cost that assets are safeguarded against loss from unauthorized use or disposition, and that the financial records are reliable for preparing consolidated financial statements and maintaining accountability for assets. These systems are augmented by written policies, an organizational structure providing division of responsibilities, careful selection and training of qualified personnel, and a program of internal audits. \n",
      "\n",
      "\n",
      "\n",
      "\n",
      "The Company engaged Deloitte & Touche LLP, an independent registered public accounting firm, to audit and render an opinion on the consolidated financial statements and internal control over financial reporting in accordance with the standards of the Public Company Accounting Oversight Board (United States). \n",
      "\n",
      "\n",
      "\n",
      "\n",
      "The Board of Directors, through its Audit Committee, consisting solely of independent directors of the Company, meets periodically with management, internal auditors, and ou\n"
     ]
    }
   ],
   "source": [
    "### Our goal is though to remove html tags and see the content\n",
    "### Method get_text() is what we need, \\n\\n is optional, I just added this to read text \n",
    "### more cleanly, it's basically new line character between sections. \n",
    "print(item_7_content.get_text(\"\\n\\n\")[0:1500])"
   ]
  },
  {
   "cell_type": "markdown",
   "metadata": {},
   "source": [
    "**Section 2: Numerical Data**"
   ]
  },
  {
   "cell_type": "code",
   "execution_count": 68,
   "metadata": {},
   "outputs": [
    {
     "ename": "ImportError",
     "evalue": "No module named edgar.stock",
     "output_type": "error",
     "traceback": [
      "\u001b[0;31m---------------------------------------------------------------------------\u001b[0m",
      "\u001b[0;31mImportError\u001b[0m                               Traceback (most recent call last)",
      "\u001b[0;32m<ipython-input-68-4300ca046085>\u001b[0m in \u001b[0;36m<module>\u001b[0;34m()\u001b[0m\n\u001b[0;32m----> 1\u001b[0;31m \u001b[0;32mfrom\u001b[0m \u001b[0medgar\u001b[0m\u001b[0;34m.\u001b[0m\u001b[0mstock\u001b[0m \u001b[0;32mimport\u001b[0m \u001b[0mStock\u001b[0m\u001b[0;34m\u001b[0m\u001b[0m\n\u001b[0m\u001b[1;32m      2\u001b[0m \u001b[0mstock\u001b[0m \u001b[0;34m=\u001b[0m \u001b[0mStock\u001b[0m\u001b[0;34m(\u001b[0m\u001b[0;34m'AAPL'\u001b[0m\u001b[0;34m)\u001b[0m\u001b[0;34m\u001b[0m\u001b[0m\n\u001b[1;32m      3\u001b[0m \u001b[0mperiod\u001b[0m \u001b[0;34m=\u001b[0m \u001b[0;34m'quarterly'\u001b[0m\u001b[0;34m\u001b[0m\u001b[0m\n\u001b[1;32m      4\u001b[0m \u001b[0myear\u001b[0m \u001b[0;34m=\u001b[0m \u001b[0;36m2016\u001b[0m\u001b[0;34m\u001b[0m\u001b[0m\n\u001b[1;32m      5\u001b[0m \u001b[0mquarter\u001b[0m \u001b[0;34m=\u001b[0m \u001b[0;36m1\u001b[0m\u001b[0;34m\u001b[0m\u001b[0m\n",
      "\u001b[0;31mImportError\u001b[0m: No module named edgar.stock"
     ]
    }
   ],
   "source": []
  },
  {
   "cell_type": "code",
   "execution_count": null,
   "metadata": {},
   "outputs": [],
   "source": []
  }
 ],
 "metadata": {
  "kernelspec": {
   "display_name": "myenv",
   "language": "python",
   "name": "myenv"
  },
  "language_info": {
   "codemirror_mode": {
    "name": "ipython",
    "version": 2
   },
   "file_extension": ".py",
   "mimetype": "text/x-python",
   "name": "python",
   "nbconvert_exporter": "python",
   "pygments_lexer": "ipython2",
   "version": "2.7.17"
  }
 },
 "nbformat": 4,
 "nbformat_minor": 2
}
