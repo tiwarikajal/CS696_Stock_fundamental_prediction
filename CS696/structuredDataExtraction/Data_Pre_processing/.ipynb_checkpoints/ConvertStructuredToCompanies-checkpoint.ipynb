{
 "cells": [
  {
   "cell_type": "code",
   "execution_count": null,
   "metadata": {},
   "outputs": [],
   "source": [
    "import pandas as pd\n"
   ]
  },
  {
   "cell_type": "code",
   "execution_count": null,
   "metadata": {},
   "outputs": [],
   "source": [
    "df1=pd.read_csv(\"Clean_NetIncomeLoss_3k_2011.csv\")\n",
    "df2=pd.read_csv(\"Clean_NetIncomeLoss_3k_2012.csv\")\n",
    "df3=pd.read_csv(\"Clean_NetIncomeLoss_3k_2013.csv\")\n",
    "df4=pd.read_csv(\"Clean_NetIncomeLoss_3k_2014.csv\")\n",
    "df5=pd.read_csv(\"Clean_NetIncomeLoss_3k_2015.csv\")\n",
    "df6=pd.read_csv(\"Clean_NetIncomeLoss_3k_2016.csv\")\n",
    "df7=pd.read_csv(\"Clean_NetIncomeLoss_3k_2017.csv\")\n",
    "df8=pd.read_csv(\"Clean_NetIncomeLoss_3k_2018.csv\")\n",
    "df9=pd.read_csv(\"Clean_NetIncomeLoss_3k_2019.csv\")"
   ]
  },
  {
   "cell_type": "code",
   "execution_count": null,
   "metadata": {},
   "outputs": [],
   "source": [
    "df_f=pd.concat([df1,df2,df3,df4,df5,df6,df7,df8,df9])"
   ]
  },
  {
   "cell_type": "code",
   "execution_count": null,
   "metadata": {},
   "outputs": [],
   "source": [
    "list='AAXN,AJRD,ATRO,BA,CW,DCO,GD,HII,KTOS,LMT,MRCY,NOC,PKE,SPR,TDG,TXT,CHRW,FWRD,HUBG,XPO,AAL,ALK,DAL,JBLU,DORM,FOXF,LCII,SMP,THO,TSLA,WGO,ABCB,AMNB,BANC,BANR,BCBP,BDGE,BHB,BKU,BMRC,BMTC,BOH,BPOP,BSRR,BUSE,BWFG,CAC,CBU,CCBG,CCNE,CFFI,CFR,CHCO,CHMG,CIVB,CNBKA,COLB,CPF,CSFL,CTBI,CUBI,CVBF,CVCY,CVLY,DCOM,EBTC,EFSC,EGBN,ESXB,EVBN,EWBC,FBIZ,FBNC,FCBC,FCCY,FCF,FCNCA,FDBC,FFBC,FFIC,FFIN,FFWM,FGBI,FIBK,FLIC,FMBH,FMNB,FNB,FRAF,FRME,FSB,FULT,GABC,GBCI,HAFC,HBMD,HBNC,HFWA,HOMB,HOPE,HTBK,HWBK,IBCP,IBTX,INBK,INDB,ISBC,ISTR,JPM,LBAI,LCNB,LKFN,MCBC,MFNC,MFSF,MOFG,MPB,MVBF,NBHC,NBN,NKSH,NWFL,ONB,ORRF,OSBC,OVBC,PB,PBCT,PEBK,PEBO,PFBI,PFIS,PGC,PMBC,PRK,RBCAA,RF,RNST,SBBX,SFST,SHBI,SLCT,SONA,SSB,STBA,TBBK,TCBI,TCBK,TCF,TCFC,THFF,TMP,TRMK,TSC,UBFO,UBSI,UMBF,UNB,UNTY,UVSP,VBTX,VLY,WABC,WAL,WASH,WBS,WSBC,WTBA,WTFC,BREW,MGPI,SAM,STZ,ACAD,ADMS,ADVM,AGIO,ALBO,ALNY,AMGN,ARNA,ATHX,BCRX,BLUE,BMRN,CCXI,CLVS,CNCE,CYTK,DRNA,DVAX,ENTA,EPZM,ESPR,EXEL,FATE,FOLD,GALT,GERN,HALO,INSM,MGNX,MNKD,MRNA,MRTX,MTEM,MYGN,NBIX,NVAX,PBYI,PDLI,PFNX,PGNX,PRTA,PTCT,PTLA,REGN,SAGE,SGEN,SGMO,SPPI,SRNE,SRPT,SVRA,VCEL,VNDA,XLRN,AAON,AMWD,APOG,AWI,BLDR,GFF,JCI,LII,PGTI,ROCK,TREX,AMTD,BCOR,FDS,GS,LPLA,MKTX,MSCI,SCHW,SF,TROW,VALU,VRTS,WETF,WHG,APD,BCPC,FTK,HWKN,IOSP,KRO,LXU,NEU,OLN,OMN,RYAM,SXT,TG,TREC,TSE,ABM,ACCO,ADSW,BRC,BV,CIX,DLX,EBF,HCSG,KAR,KBAL,KNL,MGRC,SCS,UNF,VSEC,AAOI,ADTN,ANET,CAMP,CIEN,COMM,CSCO,DZSI,EXTR,FFIV,HLIT,INFN,INSG,JNPR,KVHI,MSI,NTCT,NTGR,PLT,AMRC,DY,GLDD,IESC,MYRG,NWPX,STRL,TPC,EXP,USCR,VMC,CACC,COF,DFS,FCFS,GDOT,LC,RM,BERY,PKG,CORE,LKQ,APEI,CHGG,CSV,HMHC,LOPE,SERV,STRA,CTL,IRDM,DUK,LNT,NEE,OTTR,PNM,XEL,AMSC,AYI,GNRC,POWL,ST,WIRE,AVT,AVX,AXE,BHE,BMI,CDW,CGNX,CNXN,COHR,CTS,DAKT,FARO,FLIR,FN,GLW,KN,MTSC,NATI,NSIT,NSSC,PAR,PLUS,PLXS,ROG,SANM,SCSC,ZBRA,DO,DRQ,GEOS,HP,NR,RES,SLCA,TDW,ATVI,GLUU,NFLX,TTWO,WWE,ZNGA,CASY,CHEF,RAD,SFM,SPTN,UNFI,VLGEA,WMK,ALCO,FARM,FLO,HSY,JBSS,LANC,POST,SAFM,SENEA,THS,ATO,CPK,NFG,NJR,ABMD,ALGN,ATEC,ATRC,ATRI,BAX,BDX,CERS,CNMD,CRY,CSII,DHR,DXCM,GMED,HOLX,IART,ICUI,ISRG,ITGR,LMAT,NVRO,OFIX,OSUR,PODD,QDEL,RMD,RTIX,SRDX,STAA,SYK,TRXC,VAR,VIVO,ABC,ACHC,ADUS,AMN,ANTM,CAH,ENZ,GEN,HQY,HUM,MOH,PDCO,PRSC,RCM,TVTY,CERN,CSLT,HMSY,HSTM,MDRX,OMCL,VEEV,BJRI,CBRL,CHUY,DENN,DIN,DPZ,EAT,EVRI,FRGI,JACK,LOCO,MAR,NATH,NDLS,PENN,RCL,RRGB,SEAS,SGMS,TAST,VAC,BSET,BZH,ETH,FLXS,GPRO,GRMN,HOFT,IBP,IRBT,KBH,LCUT,MDC,MHO,MTH,NVR,PHM,TOL,TPH,TUP,UEIC,CLX,WDFC,CSL,ROP,AEL,AFL,AGO,AIZ,ALL,AMBC,AMSF,BRO,CB,CIA,CINF,CNA,EHTH,EIG,FNHC,GBLI,GLRE,HCI,HRTG,LNC,MBI,MCY,ORI,PGR,PRA,RGA,THG,UFCS,UNM,UVE,WRB,DHX,FB,QNST,TWTR,TZOO,YELP,AMZN,GRUB,PETS,QUOT,STMP,W,AKAM,BAH,CASS,CSGS,CTSH,EVTC,EXLS,FISV,FLT,G,GTT,HCKT,IT,JKHY,LLNW,PRFT,PRGX,SRT,SYKE,AOBC,BC,CLAR,ELY,ESCA,JOUT,MAT,MPX,PII,RGR,AXDX,FLDM,ILMN,LMNX,MTD,NEO,NSTG,PACB,PKI,TECH,ALG,ALSN,B,BGG,CIR,CR,DCI,DOV,ERII,ESE,FSS,GHM,GRC,HURC,IEX,JBT,LNN,MIDD,MWA,NDSN,NNBR,NPO,PRLB,ROLL,RXN,SWK,SXI,TKR,WAB,WNC,WWD,XYL,ETM,EVC,GTN,HMTV,MCHX,MDP,MSGN,NXST,SCOR,SGA,SIRI,TTGT,CDE,CENX,CMP,GORO,HL,MTRN,ZEUS,AGNC,AI,ANH,CHMI,CIM,CMO,MFA,PMT,RWT,D,NWE,PEG,UTL,WEC,BIG,DDS,DLTR,JCP,JWN,KSS,M,AXAS,CLR,CPE,CRK,DNR,EOG,ESTE,GPOR,KOS,LNG,MRO,MTDR,MUR,NBL,OSG,PARR,QEP,SBOW,SWN,TELL,UNT,WTI,XEC,CLW,GLT,NP,UFS,VRS,EPC,HLF,LFVN,NUS,REV,USNA,AKRX,AMPH,ANIP,BDSI,LLY,NKTR,OMER,PAHC,PCRX,PRGO,PRTK,RVNC,SUPN,TBPH,ZGNX,ASGN,BBSI,CBZ,CSGP,EXPO,FC,FCN,FORR,GPX,HSII,HURN,ICFI,KFRC,KFY,NSP,RHI,TBI,TNET,VRSK,APLE,BRX,CXW,DRH,GEO,GLPI,GNL,GOOD,GTY,LAMR,RESI,RHP,SNR,SRC,UHT,FRPH,MLP,MMI,ARCB,CVTI,HTLD,JBHT,KNX,LSTR,R,RRTS,SAIA,UHAL,ULH,UNP,WERN,ADI,AEIS,AMAT,AMBA,AMD,AOSL,CCMP,CEVA,COHU,CREE,CRUS,DSPG,ENPH,FORM,INTC,IPHI,KLAC,LRCX,LSCC,MCHP,MKSI,MPWR,MRVL,MTSI,MXIM,NPTN,NVDA,OLED,POWI,RMBS,SYNA,TER,TXN,UCTT,XLNX,ACIW,ADBE,ADSK,AGYS,AMSWA,ANSS,ATEN,AZPN,BLKB,BNFT,CDNS,CRM,CSOD,CTXS,CVLT,DMRC,ECOM,EGHT,ENV,EPAY,FEYE,FICO,FIVN,FTNT,HUBS,INTU,LOGM,LPSN,MANH,MODN,MSTR,NUAN,PANW,PCTY,PEGA,PFPT,PRGS,PRO,PTC,QLYS,QTWO,RNG,RP,SNCR,SPSC,SSNC,TDC,TLRA,TNAV,TWOU,TYL,VHC,VMW,VRNS,WK,ZEN,ZIXI,AAN,AAP,ABG,AEO,AN,ASNA,AZO,BKE,BURL,CATO,CHS,CONN,EXPR,FIVE,FL,GNC,GPI,GPS,HD,HIBB,HVT,HZO,LAD,LL,LOW,MNRO,ORLY,RCII,RH,ROST,SAH,SCVL,SIG,SNBR,TCS,TJX,TLYS,TSCO,ULTA,URBN,WSM,ZUMZ,AAPL,IMMR,NTAP,WDC,CRI,CROX,CULP,DLA,HBI,RL,TPR,VNCE,VRA,CASH,CFFN,EBSB,ESNT,FDEF,FSBW,GCBC,HMST,KRNY,MTG,NMIH,NYCB,OCFC,PFS,RDN,TFSL,TRST,WAFD,WD,WNEB,WSBF,AYR,BECN,BMCH,BXC,DNOW,DXPE,FAST,GATX,HEES,LAWS,MRC,MSM,RUSHA,TRNS,URI,WLFC,ARTNA,AWK,MSEX,GOGO,SHEN,SPOK,TMUS'"
   ]
  },
  {
   "cell_type": "code",
   "execution_count": null,
   "metadata": {},
   "outputs": [],
   "source": [
    "ticker_list=list.split(',')\n"
   ]
  },
  {
   "cell_type": "code",
   "execution_count": null,
   "metadata": {},
   "outputs": [],
   "source": [
    "ticker_list"
   ]
  },
  {
   "cell_type": "code",
   "execution_count": null,
   "metadata": {},
   "outputs": [],
   "source": [
    "CompanyPartialData=[]\n"
   ]
  },
  {
   "cell_type": "code",
   "execution_count": null,
   "metadata": {},
   "outputs": [],
   "source": [
    "for i in ticker_list:\n",
    "    df_final = pd.DataFrame(columns=['year','Company','CIK','NetIncomeLoss','BaselineOutput'])\n",
    "    filename7='.\\\\7datapoints\\\\'+ i + '.csv'\n",
    "    filename6='.\\\\6datapoints\\\\'+ i + '.csv'\n",
    "    filename8='.\\\\8datapoints\\\\'+ i + '.csv'\n",
    "    filename5='.\\\\5datapoints\\\\'+ i + '.csv'\n",
    "    filename9='.\\\\9datapoints\\\\'+ i + '.csv'\n",
    "    filename4='.\\\\4datapoints\\\\'+ i + '.csv'\n",
    "#     filename2='C:\\\\Umass spring 20\\\\696\\KT\\\\CS696\\\\cs696_scraping\\\\structured\\\\Data 11-18\\\\Company Wise IncomeLoss\\\\2datapoints\\\\'+ i + '.csv'\n",
    "#     filename1='C:\\\\Umass spring 20\\\\696\\KT\\\\CS696\\\\cs696_scraping\\\\structured\\\\Data 11-18\\\\Company Wise IncomeLoss\\\\1datapoints\\\\'+ i + '.csv'\n",
    "    for index, row in df_f.iterrows():\n",
    "        if row['Company']==i:\n",
    "            df_final=df_final.append(pd.Series([row['year'], row['Company'], row['CIK'], row['NetIncomeLoss'],'NULL'], index=df_final.columns ), ignore_index=True)\n",
    "    if len(df_final.index)==8:\n",
    "        df_final.to_csv(filename8,index = False, header=True)\n",
    "    if len(df_final.index)==7:\n",
    "        df_final.to_csv(filename7,index = False, header=True)\n",
    "    if len(df_final.index)==6:\n",
    "        df_final.to_csv(filename6,index = False, header=True)\n",
    "    if len(df_final.index)==5:\n",
    "        df_final.to_csv(filename5,index = False, header=True)\n",
    "    if len(df_final.index)==9:\n",
    "        df_final.to_csv(filename9,index = False, header=True)\n",
    "    if len(df_final.index)==4:\n",
    "        df_final.to_csv(filename4,index = False, header=True)   \n",
    "#     if len(df_final.index)==2:\n",
    "#         df_final.to_csv(filename2,index = False, header=True)  \n",
    "#     if len(df_final.index)==1:\n",
    "#         df_final.to_csv(filename1,index = False, header=True)  \n",
    "    elif len(df_final.index)<4:\n",
    "        CompanyPartialData.append(i)"
   ]
  },
  {
   "cell_type": "code",
   "execution_count": null,
   "metadata": {},
   "outputs": [],
   "source": [
    "len(CompanyPartialData)\n",
    "len(ticker_list)\n",
    "CompanyPartialData"
   ]
  },
  {
   "cell_type": "code",
   "execution_count": null,
   "metadata": {},
   "outputs": [],
   "source": [
    "# df = pd.DataFrame(columns=['year','Company','CIK','NetIncomeLoss']) \n",
    "# for index, row in df_f.iterrows():\n",
    "#         if row['Company']==ticker_list[2]:\n",
    "#                 #df=df.append(pd.Series([row['Company'], row['Company'], row['CIK'], row['NetIncomeLoss']], index=df.columns ), ignore_index=True)\n",
    "#               df=  df.append({'year':row['year'],'Company':row['Company'],'CIK':row['CIK'],'NetIncomeLoss':row['NetIncomeLoss']},ignore_index=True)"
   ]
  },
  {
   "cell_type": "code",
   "execution_count": null,
   "metadata": {},
   "outputs": [],
   "source": [
    "df1=pd.read_csv(\"Clean_Payments_3k_2011.csv\")\n",
    "df2=pd.read_csv(\"Clean_Payments_3k_2012.csv\")\n",
    "df3=pd.read_csv(\"Clean_Payments_3k_2013.csv\")\n",
    "df4=pd.read_csv(\"Clean_Payments_3k_2014.csv\")\n",
    "df5=pd.read_csv(\"Clean_Payments_3k_2015.csv\")\n",
    "df6=pd.read_csv(\"Clean_Payments_3k_2016.csv\")\n",
    "df7=pd.read_csv(\"Clean_Payments_3k_2017.csv\")\n",
    "df8=pd.read_csv(\"Clean_Payments_3k_2018.csv\")\n",
    "df9=pd.read_csv(\"Clean_Payments_3k_2019.csv\")"
   ]
  },
  {
   "cell_type": "code",
   "execution_count": null,
   "metadata": {},
   "outputs": [],
   "source": [
    "df_f=pd.concat([df1,df2,df3,df4,df5,df6,df7,df8,df9])"
   ]
  },
  {
   "cell_type": "code",
   "execution_count": null,
   "metadata": {},
   "outputs": [],
   "source": [
    "df_f.head()\n"
   ]
  },
  {
   "cell_type": "code",
   "execution_count": null,
   "metadata": {},
   "outputs": [],
   "source": [
    "list='AVAV,BA,BWXT,CUB,DCO,HEI,PKE,RTN,SPR,TDG,TDY,TGI,TXT,AAWW,ATSG,FDX,XPO,AAL,ALGT,ALK,DAL,HA,DORM,FOXF,MOD,SRI,HOG,TSLA,BHLB,COKE,FIZZ,ACAD,ACOR,ADMS,ALXN,AMAG,AMGN,BIIB,BMRN,CHRS,DRNA,DVAX,EBS,EXAS,EXEL,FGEN,FOLD,GILD,HALO,INCY,IONS,IRWD,KPTI,LGND,LJPC,MNKD,NVAX,NVTA,OPK,PDLI,PFNX,PGNX,PRTA,PTCT,SGMO,SPPI,SRNE,UTHR,VCEL,VNDA,VRTX,AMWD,FBHS,JCI,LII,MAS,ROCK,SSD,APAM,ARES,BEN,BGCP,CME,CNS,COWN,EV,EVR,FDS,GHL,ICE,IVZ,LAZ,LM,LPLA,MCO,MKTX,MORN,MSCI,NDAQ,OPY,PZN,RILY,SAMG,SCHW,SEIC,SPGI,VALU,VRTS,WDR,WETF,ADES,ALB,AMRS,CBT,CC,CCF,CE,FF,FMC,FOE,FTK,GRA,HUN,HWKN,IOSP,KRO,KWR,LXU,LYB,MBII,MTX,NEU,OLN,RPM,SCL,SMG,TREC,TSE,VHI,WLK,ACCO,BCO,BV,CIX,CMPR,CPRT,CTAS,CVA,CWST,DLX,EBF,ECOL,HCCI,HSC,KBAL,MATW,MGRC,MINI,PBI,QUAD,RRD,RSG,SCS,SP,SRCL,TILE,TISI,UNF,VSEC,VVI,WM,AAOI,ADTN,ANET,CIEN,CSCO,DGII,HLIT,INFN,INSG,KVHI,MSI,NTCT,NTGR,PLT,VIAV,AEGN,EME,FIX,FLR,GLDD,GVA,NWPX,STRL,SUM,USCR,USLM,CACC,ECPG,ENVA,EZPW,GDOT,LC,RM,ATR,AVY,BERY,CCK,GEF,MYE,SEE,SLGN,SON,UFPT,WRK,CORE,LKQ,POOL,ATGE,CHGG,CLCT,CSV,GHC,HMHC,LRN,VOYA,CBB,CNSL,CTL,FTR,IDT,ORBC,T,VG,VZ,AEP,DUK,EIX,ES,GNE,HE,LNT,NRG,OGE,OTTR,PCG,PNW,PPL,SO,XEL,AMSC,AZZ,ENS,ETN,PLUG,ST,VICR,VSLR,ARW,AVT,AVX,AXE,BHE,CDW,CGNX,CNXN,COHR,DAKT,DLB,FARO,FIT,FLIR,IPGP,ITI,ITRI,JBL,KE,MEI,MTSC,NATI,NOVT,NSIT,OSIS,PAR,PLUS,PLXS,ROG,SANM,SNX,TRMB,VPG,VSH,ZBRA,AROC,BOOM,CKH,DO,DRQ,ERA,FI,GEOS,HAL,HLX,HP,MTRX,NE,NR,OII,OIS,PTEN,RES,RIG,TTI,AMC,ATVI,CNK,DIS,EA,GAIA,GLUU,IMAX,LYV,NFLX,TTWO,WWE,ZNGA,ANDE,CASY,COST,NGVC,PSMT,VLGEA,WMT,BG,BRID,CVGW,DAR,FARM,HAIN,HRL,HSY,THS,TSN,CPK,UGI,ABMD,ABT,ALGN,ANGO,ATEC,ATRI,BAX,BDX,BSX,CFMS,COO,CUTR,DXCM,EW,GMED,HOLX,HSKA,ICUI,IDXX,ISRG,LMAT,LNTH,MDT,MLAB,NEOG,NVCR,OSUR,PODD,RMD,SRDX,STAA,TFX,VIVO,VRAY,WST,XRAY,ZYXI,ABC,ANTM,BKD,CI,CNC,CVS,DGX,ENZ,GEN,HSIC,HUM,LH,MCK,MGLN,MOH,OMI,PINC,PRSC,RDNT,SGRY,UHS,UNH,CERN,HSTM,INOV,MDRX,OMCL,TDOC,VCRA,ARMK,BYD,CAKE,CBRL,CHH,CZR,DENN,DNKN,DPZ,DS,ERI,FRGI,H,HLT,LIND,LOCO,LVS,MAR,MGM,MTN,NCLH,NDLS,PBPB,PENN,PLNT,PZZA,RICK,RRGB,RUTH,SIX,VAC,WEN,WING,WYNN,YUM,FLXS,GPRO,GRBK,GRMN,HELE,IBP,IRBT,KBH,LCUT,LEG,LEN,MHO,NWL,PHM,TPX,TUP,WHR,ZAGG,CENT,CL,CLX,TERP,ACGL,AEL,AFG,AGO,AIG,AIZ,AJG,ALL,AMSF,ANAT,AON,AXS,BRO,CINF,CNA,FAF,FFG,FNHC,GLRE,GNW,HALL,HMN,L,MBI,MCY,MET,NGHC,ORI,PFG,PRI,PRU,RGA,RNR,SAFT,SIGI,STFC,THG,TIPT,TPRE,UNM,UVE,WLTW,WRB,FB,GOOGL,LTRPA,QNST,TRIP,TWTR,YELP,Z,AMZN,ETSY,EXPE,FLWS,GRPN,GRUB,LQDT,OSTK,QUOT,RUBI,STMP,ADS,AKAM,BCOV,CACI,CSGS,CTSH,EEFT,FISV,FLT,GPN,HCKT,IBM,IT,JKHY,LDOS,LLNW,MMS,PRFT,SABR,SYKE,UIS,V,VRTU,WEX,WU,AOBC,BC,ELY,JOUT,MAT,MPX,CDXS,CRL,FLDM,ILMN,MTD,NSTG,PKI,PRAH,WAT,AIMC,AIN,ALG,ASTE,B,BGG,CFX,CIR,CMI,CR,ESE,FELE,FLS,FSS,FSTR,GBX,GHM,GRC,GTLS,RS,SCHN,STLD,SXC,X,ACRE,PMT,STWD,AVA,BKH,CMS,D,DTE,MDU,NWE,PEG,DDS,KSS,M,TGT,AXAS,BTU,CHK,CLNE,CNX,DNR,GDP,GPOR,GPRE,KMI,KOS,LNG,LPI,MRO,MTDR,NBL,NC,OKE,OSG,OXY,PARR,PVAC,PXD,REGI,REX,RRC,SBOW,SD,SM,UNT,WLL,WPX,BCC,CLW,LPX,VRS,HLF,IPAR,NATR,YGYI,AGN,AMPH,BDSI,ENDP,INVA,JAZZ,LCI,LLY,NKTR,PAHC,PCRX,REPH,SUPN,TBPH,WVE,ZGNX,BBSI,CSGP,EXPO,GPX,INWK,KFY,MG,NLSN,NSP,TNET,AHT,AIV,ALEX,AMT,BFS,BRG,BXP,CBL,CMCT,CTT,CUZ,CXP,DEI,DRE,EPR,EQIX,EQR,ESRT,ESS,FSP,GLPI,GNL,GTY,HASI,HR,HST,HTA,INN,IRT,KIM,LSI,LTC,MAC,OFC,PDM,PEI,PSB,REG,RESI,RHP,SBAC,SBRA,SKT,SLG,SRC,STAR,STOR,SUI,UBA,UHT,VER,VTR,WPC,ASPS,FRPH,GRIF,HHC,JOE,RLGY,STRS,TRC,CVTI,KSU,LSTR,MRTN,NSC,PTSI,ULH,UNP,WERN,ACLS,ADI,AEIS,AMAT,AMBA,AMD,AMKR,AXTI,BRKS,CEVA,COHU,CRUS,CY,DIOD,DSPG,ENPH,ENTG,FORM,FSLR,GSIT,INTC,IOTS,IPHI,KLAC,LRCX,LSCC,MCHP,MPWR,MRVL,MTSI,MU,MXL,NVDA,OLED,POWI,QCOM,QRVO,RMBS,SLAB,SMTC,SPWR,SYNA,TXN,UCTT,VECO,XLNX,ACIW,ADBE,ADSK,AGYS,ALRM,AMSWA,ANSS,APPF,ATEN,AZPN,BOX,CSOD,CTXS,CVLT,DMRC,EBIX,ECOM,EGAN,EGHT,ENV,FEYE,FTNT,GWRE,HUBS,INS,INTU,JCOM,LOGM,LPSN,MANH,MOBL,MODN,MSTR,NEWR,NUAN,ORCL,PANW,PCTY,PEGA,PFPT,PRGS,PTC,QLYS,RNG,RPD,RST,SNCR,SNPS,SPLK,TLRA,TNAV,VMW,VRNS,VRNT,WDAY,ZEN,ZIXI,AAP,ABG,AN,AZO,BKE,BURL,CHS,CONN,CRMT,DKS,FIVE,FL,GES,GNC,GPI,GPS,HIBB,HZO,LAD,LB,ODP,ORLY,PLCE,RH,SAH,SNBR,SPWH,TCS,TJX,TLYS,ULTA,URBN,ZUMZ,AAPL,AVID,DBD,NCR,NTAP,PSTG,XRX,CROX,HBI,MOV,NKE,OXM,RL,TPR,VFC,VRA,MMAC,MTG,OCN,PFSI,RDN,WD,UVV,VGR,AL,AYR,BECN,CAI,DNOW,GFN,HEES,HRI,KAMN,MRC,MSM,RUSHA,TITN,TRNS,URI,WCC,WLFC,WSO,MIC,AWR,GOGO,S,SPOK'\n",
    "ticker_list=list.split(',')"
   ]
  },
  {
   "cell_type": "code",
   "execution_count": null,
   "metadata": {},
   "outputs": [],
   "source": [
    "CompanyPartialData_pay=[]"
   ]
  },
  {
   "cell_type": "code",
   "execution_count": null,
   "metadata": {},
   "outputs": [],
   "source": [
    "for i in ticker_list:\n",
    "    df_final = pd.DataFrame(columns=['year','Company','CIK','PaymentsToAcquireProperty','BaselineOutput'])\n",
    "    filename7='C:\\\\Umass spring 20\\\\696\\KT\\\\CS696\\\\cs696_scraping\\\\structured\\\\Data 11-18\\\\Company Wise Payments\\\\7datapoints\\\\'+ i + '.csv'\n",
    "    filename6='C:\\\\Umass spring 20\\\\696\\KT\\\\CS696\\\\cs696_scraping\\\\structured\\\\Data 11-18\\\\Company Wise Payments\\\\6datapoints\\\\'+ i + '.csv'\n",
    "    filename8='C:\\\\Umass spring 20\\\\696\\KT\\\\CS696\\\\cs696_scraping\\\\structured\\\\Data 11-18\\\\Company Wise Payments\\\\8datapoints\\\\'+ i + '.csv'\n",
    "    filename5='C:\\\\Umass spring 20\\\\696\\KT\\\\CS696\\\\cs696_scraping\\\\structured\\\\Data 11-18\\\\Company Wise Payments\\\\5datapoints\\\\'+ i + '.csv'\n",
    "    filename9='C:\\\\Umass spring 20\\\\696\\KT\\\\CS696\\\\cs696_scraping\\\\structured\\\\Data 11-18\\\\Company Wise Payments\\\\9datapoints\\\\'+ i + '.csv'\n",
    "#     filename3='C:\\\\Umass spring 20\\\\696\\KT\\\\CS696\\\\cs696_scraping\\\\structured\\\\Data 11-18\\\\Company Wise IncomeLoss\\\\3datapoints\\\\'+ i + '.csv'\n",
    "#     filename2='C:\\\\Umass spring 20\\\\696\\KT\\\\CS696\\\\cs696_scraping\\\\structured\\\\Data 11-18\\\\Company Wise IncomeLoss\\\\2datapoints\\\\'+ i + '.csv'\n",
    "#     filename1='C:\\\\Umass spring 20\\\\696\\KT\\\\CS696\\\\cs696_scraping\\\\structured\\\\Data 11-18\\\\Company Wise IncomeLoss\\\\1datapoints\\\\'+ i + '.csv'\n",
    "    for index, row in df_f.iterrows():\n",
    "        if row['Company']==i:\n",
    "            df_final=df_final.append(pd.Series([row['year'], row['Company'], row['CIK'], row['Payments to acquire property'],'NULL'], index=df_final.columns ), ignore_index=True)\n",
    "    if len(df_final.index)==8:\n",
    "        df_final.to_csv(filename8,index = False, header=True)\n",
    "    if len(df_final.index)==7:\n",
    "        df_final.to_csv(filename7,index = False, header=True)\n",
    "    if len(df_final.index)==6:\n",
    "        df_final.to_csv(filename6,index = False, header=True)\n",
    "    if len(df_final.index)==5:\n",
    "        df_final.to_csv(filename5,index = False, header=True)\n",
    "    if len(df_final.index)==9:\n",
    "        df_final.to_csv(filename9,index = False, header=True)\n",
    "#     if len(df_final.index)==3:\n",
    "#         df_final.to_csv(filename3,index = False, header=True)   \n",
    "#     if len(df_final.index)==2:\n",
    "#         df_final.to_csv(filename2,index = False, header=True)  \n",
    "#     if len(df_final.index)==1:\n",
    "#         df_final.to_csv(filename1,index = False, header=True)  \n",
    "    else:\n",
    "        CompanyPartialData_pay.append(i)"
   ]
  },
  {
   "cell_type": "code",
   "execution_count": null,
   "metadata": {},
   "outputs": [],
   "source": [
    "df1=pd.read_csv(\"Clean_Rev_3k_2011.csv\")\n",
    "df2=pd.read_csv(\"Clean_Rev_3k_2012.csv\")\n",
    "df3=pd.read_csv(\"Clean_Rev_3k_2013.csv\")\n",
    "df4=pd.read_csv(\"Clean_Rev_3k_2014.csv\")\n",
    "df5=pd.read_csv(\"Clean_Rev_3k_2015.csv\")\n",
    "df6=pd.read_csv(\"Clean_Rev_3k_2016.csv\")\n",
    "df7=pd.read_csv(\"Clean_Rev_3k_2017.csv\")\n",
    "df8=pd.read_csv(\"Clean_Rev_3k_2018.csv\")\n",
    "df9=pd.read_csv(\"Clean_Rev_3k_2019.csv\")\n",
    "df_f=pd.concat([df1,df2,df3,df4,df5,df6,df7,df8,df9])\n",
    "list='AAXN,AJRD,AVAV,BWXT,CUB,CW,DCO,HEI,HII,HXL,LMT,MRCY,NOC,PKE,TDG,TDY,TXT,VEC,AAWW,ATSG,CHRW,ECHO,EXPD,FWRD,HUBG,RLGT,XPO,AAL,ALGT,ALK,HA,JBLU,SKYW,ADNT,AXL,CTB,DORM,FOXF,GT,LCII,MOD,SMP,SRI,THRM,VC,GM,HOG,THO,TSLA,ABCB,ABTX,ACBI,AMNB,AROW,BANR,BDGE,BHB,BHLB,BMRC,BMTC,BOKF,BPOP,BRKL,BUSE,BWFG,CAC,CADE,CARO,CATC,CBSH,CBU,CCBG,CCNE,CFFI,CFG,CFR,CHCO,CHMG,CIVB,CNBKA,CNOB,COLB,CPF,CTBI,CUBI,CVBF,CVLY,CZNC,EBTC,EFSC,EGBN,EQBK,ESQ,EVBN,FBIZ,FBK,FBMS,FBNC,FCBC,FCCY,FCF,FCNCA,FFBC,FFIC,FFIN,FFWM,FGBI,FITB,FMAO,FMBH,FMBI,FMNB,FNB,FNCB,FNLC,FNWB,GABC,GNTY,GSBC,GWB,HAFC,HBAN,HBMD,HBNC,HFWA,HOMB,HONE,HOPE,HTBI,HTH,HTLF,HWBK,IBCP,IBKC,IBTX,INBK,ISBC,ISTR,KEY,LBAI,LCNB,LKFN,LOB,MCBC,MFNC,MFSF,MSBI,MVBF,NBN,NBTB,NRIM,OFG,ONB,ORRF,OVBC,PACW,PB,PBCT,PEBK,PEBO,PFBI,PFIS,PGC,PKBK,PMBC,PPBI,PRK,PUB,RBCAA,RNST,SASR,SBBX,SFNC,SHBI,SIVB,SONA,SSB,STL,SYBT,TBBK,TCBI,TCBK,TCF,THFF,TMP,TRMK,UBFO,UBSI,UMBF,UNB,UVSP,VBTX,VLY,WABC,WASH,WBS,WSBC,WTBA,WTFC,ZION,BREW,COKE,FIZZ,KO,MGPI,MNST,SAM,TAP,ABBV,ACAD,ACOR,ADVM,AGIO,AGLE,AIMT,AKBA,ALBO,ALKS,ALNY,AMAG,AMGN,ANAB,ANIK,ARDX,ARNA,ASMB,ATNX,ATRA,BCRX,BHVN,BIIB,BLUE,BPMC,CALA,CCXI,CHRS,CLVS,CMRX,CNCE,CYTK,DCPH,DRNA,EBS,EDIT,EGRX,ENTA,EXAS,EXEL,FATE,FGEN,FLXN,FOLD,GBT,GILD,HALO,HRTX,ICPT,IMGN,INCY,INSM,IONS,IOVA,IRWD,JNCE,KALV,KDMN,KIN,KPTI,LGND,LJPC,LXRX,MCRB,MDGL,MGNX,MNTA,MRSN,MRTX,MTEM,MYGN,NBIX,NTLA,NTRA,NVAX,OPK,PBYI,PDLI,PGNX,PIRS,PTCT,PTLA,RARX,RDUS,REGN,RGNX,RTRX,RYTM,SAGE,SGMO,SPPI,SPRO,SRNE,SRPT,SVRA,SYRS,TGTX,URGN,UTHR,VCEL,VNDA,VRTX,VYGR,XLRN,AAON,AFI,ALLE,APOG,AWI,CSWI,DOOR,FBHS,GFF,JCI,JELD,LII,MAS,OC,PGTI,ROCK,TREX,UFPI,AMG,AMP,AMTD,APAM,ARES,BCOR,BEN,BGCP,BLK,CBOE,CME,CNS,EVR,GHL,GS,HLNE,ICE,IVZ,JHG,LAZ,LM,LPLA,MC,MCO,MKTX,MORN,NDAQ,NTRS,OPY,PJT,PZN,RJF,SAMG,SCHW,SEIC,SF,SPGI,TROW,VIRT,WDR,WETF,ADES,ALB,APD,ASIX,BCPC,CCF,CE,CF,DD,EMN,FMC,HUN,HWKN,IPI,KRA,KRO,KWR,LXU,LYB,MOS,MTX,NEU,NGVT,OLN,OMN,POL,PQG,RYAM,SMG,SXT,TG,TREC,TROX,TSE,VHI,VVV,WLK,ABM,ACCO,BRC,CECE,CIX,CLH,CMPR,CWST,DLX,EBF,ECOL,HCSG,HSC,KAR,KBAL,KNL,MINI,NL,PICO,ROL,RRD,SCS,SP,SRCL,TISI,UNF,VVI,WM,AAOI,ACIA,ADTN,ANET,CALX,CAMP,CIEN,COMM,CSCO,DGII,DZSI,EXTR,FFIV,HLIT,INFN,INSG,JNPR,KVHI,LITE,MSI,PLT,SATS,VIAV,VSAT,ACM,AEGN,AGX,AMRC,EME,FIX,GLDD,IESC,MTZ,MYRG,NWPX,PWR,STRL,TPC,FRTA,MLM,SUM,USCR,USLM,VMC,AXP,CACC,COF,ELVT,ENVA,EZPW,GDOT,NNI,PRAA,RM,ATR,AVY,BERY,BLL,CCK,GEF,GPK,MYE,PKG,SEE,SLGN,SON,UFPT,CORE,FNKO,GPC,LKQ,POOL,WEYS,BFAM,CHGG,CSV,GHC,HMHC,LAUR,LOPE,LRN,SERV,STRA,ONDK,CBB,CCOI,CNSL,CTL,FTR,IDT,IRDM,OOMA,ORBC,T,VZ,AEP,AGR,EIX,ES,EXC,FE,GNE,HE,IDA,NRG,OGE,OTTR,PCG,POR,PPL,SPKE,XEL,AMOT,ATKR,AYI,AZZ,EMR,ENS,ETN,GNRC,PLUG,POWL,RBC,RUN,ST,TPIC,VICR,VSLR,AVT,AVX,BHE,BMI,CDW,CGNX,COHR,CTS,DAKT,DLB,FARO,FIT,FN,IIVI,IPGP,ITRI,JBL,KE,KEM,LFUS,MTSC,NATI,NOVT,NSSC,OSIS,PLXS,ROG,SANM,SCSC,SNX,TRMB,VSH,ZBRA,AROC,CKH,DO,DRQ,ERA,EXTN,FET,FI,HAL,HLX,HP,ICD,MTRX,NBR,NCSM,NGS,NOV,NR,OII,OIS,PTEN,RES,RIG,RNET,SLCA,SMHI,SOI,TDW,WTTR,ATVI,CNK,DIS,GAIA,GLUU,IMAX,LYV,MCS,NFLX,ROKU,TTWO,ZNGA,CASY,CHEF,KR,NGVC,PFGC,PSMT,RAD,SFM,SPTN,UNFI,USFD,VLGEA,WMK,WMT,ADM,BG,BGS,BRID,CVGW,DAR,FARM,FDP,FLO,HSY,INGR,JBSS,LANC,LMNR,MDLZ,POST,SAFM,SMPL,THS,TR,TSN,ATO,CPK,NFG,NJR,SR,SWX,UGI,ABMD,ALGN,ARAY,ATEC,ATRC,ATRI,ATRS,AXGN,BDX,CFMS,CMD,COO,CRY,CSII,CUTR,DHR,EW,GKOS,HAE,HOLX,IART,ICUI,IDXX,IIN,INGN,IRTC,ISRG,ITGR,KIDS,LMAT,LNTH,MASI,MDT,NUVA,NVCR,NVRO,OFIX,OSUR,PEN,PLSE,RMD,RTIX,SENS,SIEN,SPNE,SRDX,STAA,STE,SYK,TCMD,TNDM,VAR,VIVO,VRAY,XRAY,ZBH,ADUS,AMED,ANTM,ARA,BEAT,BKD,CAH,CCRN,CHE,CI,CNC,CVS,CYH,DGX,DVA,ENSG,ENZ,GEN,GTS,HCA,HNGR,HQY,HSIC,HUM,LH,LHCG,MCK,MGLN,MOH,OMI,PDCO,PETQ,PINC,PRSC,RDNT,SGRY,TVTY,UHS,UNH,USPH,CERN,CPSI,CSLT,EVH,HMSY,HSTM,INOV,OMCL,TDOC,TRHC,VCRA,VEEV,ARMK,BBX,BJRI,BLMN,BYD,CAKE,CBRL,CHDN,CHUY,CNTY,DENN,DIN,DNKN,DPZ,DS,EAT,ERI,FRGI,GDEN,H,HGV,HLT,JAX,LIND,LOCO,LVS,MAR,MCRI,MGM,MTN,NCLH,NDLS,PBPB,PLAY,PLNT,PZZA,RCL,RICK,RRR,SEAS,SGMS,SIX,TACO,TXRH,VAC,WEN,WYNN,YUM,BLD,BSET,BZH,CVCO,DHI,ETH,FLXS,GPRO,GRBK,GRMN,HOFT,IBP,IRBT,LCUT,LEG,LEN,MHK,MHO,MTH,NVR,NWL,PHM,TMHC,TOL,TPH,TPX,TUP,UEIC,WHR,ZAGG,CENT,CL,ENR,ODC,PG,WDFC,CSL,RAVN,ACGL,AEL,ALL,AMSF,ANAT,AON,BRO,CINF,EHTH,EIG,FAF,FNHC,HALL,HCI,HIG,HRTG,ITIC,KNSL,MCY,MKL,MMC,NODK,NWLI,PGR,SAFT,STC,THG,UIHC,UNM,UVE,WLTW,WRB,CARG,DHX,FB,GOOGL,LTRPA,QNST,TWTR,TZOO,YELP,Z,AMZN,DLTH,ETSY,EXPE,FLWS,GRPN,LQDT,PETS,QUOT,SSTK,W,ADS,AKAM,BAH,BCOV,BR,CASS,CATM,CLGX,CSGS,CTSH,DXC,EGOV,EVTC,FISV,FLT,G,GDDY,GTT,HCKT,JKHY,LDOS,LLNW,MDB,OKTA,PRFT,PRGX,PYPL,SABR,SAIC,SQ,SRT,SWCH,SYKE,TCX,TTEC,TWLO,UIS,V,VRSN,VRTU,WEX,WU,XELA,AOBC,CLAR,ESCA,HAS,MAT,MBUU,MCFT,MPX,PII,RGR,VSTO,BIO,BRKR,CDXC,CDXS,CRL,FLDM,ILMN,MEDP,MTD,NEO,PRAH,RGEN,TECH,AGCO,AIMC,AIN,ALG,ALSN,ASTE,B,BLBD,CFX,CMI,CR,CVGI,DCI,DOV,ERII,ESE,FELE,FLOW,FLS,FSS,FSTR,GBX,GGG,GRC,HI,HURC,HY,IR,ITT,LDL,LNN,LXFR,MIDD,MLI,MLR,MTW,MWA,NDSN,NNBR,NPO,OFLX,OSK,PCAR,PKOH,PLOW,PNR,PRLB,REVG,ROLL,RXN,SPAR,TNC,TTC,TWI,TWIN,WAB,WBC,WBT,WNC,WTS,WWD,XYL,GNK,KEX,AMCX,CABO,CCO,CHTR,CMLS,DISCA,EEX,EVC,GCI,GTN,HMTV,IPG,LBRDK,LORL,MCHX,MDP,NCMI,NXST,NYT,OMC,SBGI,SCOR,SGA,SIRI,SSP,TGNA,TTGT,ATI,CENX,CMC,CMP,HAYN,HL,METC,MTRN,NEM,NUE,RS,RYI,SCCO,SCHN,STLD,SXC,X,ZEUS,NYMT,AVA,BKH,CMS,D,DTE,MDU,NWE,PEG,UTL,WEC,BIG,DDS,DG,DLTR,JCP,JWN,KSS,M,OLLI,TGT,AM,ARCH,CNX,CRC,CVI,DVN,GDP,INSW,INT,KMI,MPC,MRO,NC,NEXT,OKE,OXY,REGI,SBOW,SD,SWN,TRGP,UNT,VLO,WPX,WTI,BCC,GLT,LPX,NP,UFS,VRS,COTY,EL,ELF,EPC,HLF,IPAR,LFVN,NATR,NUS,REV,USNA,YGYI,ACRS,ACRX,AERI,AMPH,ANIP,BDSI,BMY,CBAY,CHMA,COLL,CORT,CTLT,ENDP,HZNP,JAZZ,JNJ,KALA,LCI,MYL,MYOK,NKTR,OCUL,OMER,PAHC,PBH,PCRX,PFE,PRGO,PRTK,REPH,RETA,RVNC,SUPN,TBPH,WVE,XENT,ACTG,BBSI,CBZ,CRAI,CSGP,EFX,EXPO,FC,FCN,FORR,HSII,ICFI,INFO,INWK,KFRC,MAN,NLSN,NSP,RHI,TBI,TNET,VRSK,ALEX,AMT,AVB,BRG,CTRE,FSP,GEO,GLPI,GNL,JCAP,KRG,LAMR,LXP,OUT,PCH,PEB,PK,RYN,SBAC,SLG,SPG,VER,VTR,WRE,WRI,ASPS,FOR,FRPH,HHC,JLL,JOE,MMI,RDFN,RLGY,RMAX,TCI,TRC,ARCB,CVTI,DSKE,JBHT,KNX,LSTR,NSC,R,RRTS,SAIA,SNDR,UHAL,ULH,UNP,WERN,ACLS,ADI,AMAT,AMBA,AMD,AMKR,AXTI,BRKS,CCMP,CREE,CRUS,DIOD,DSPG,ENPH,ENTG,FORM,FSLR,GSIT,ICHR,INTC,IOTS,IPHI,KLAC,MCHP,MKSI,MRVL,MTSI,MU,MXL,NPTN,ON,PDFS,PI,PLAB,POWI,QCOM,QRVO,RMBS,SGH,SLAB,SMTC,SPWR,TER,TXN,UCTT,VECO,XLNX,ACIW,ADBE,AGYS,ALRM,ANSS,APPF,APPN,ATEN,AYX,AZPN,BNFT,BOX,CDNS,CLDR,COUP,CSOD,CVLT,DMRC,ECOM,EGAN,EGHT,ENV,EPAY,EVBG,FEYE,FICO,FIVN,FSCT,FTNT,GWRE,HUBS,INS,INTU,LOGM,LPSN,MANH,MITK,MODN,NEWR,NOW,NTNX,NUAN,PANW,PAYC,PCTY,PFPT,PRO,PTC,QTWO,RMNI,RNG,RP,RST,SCWX,SNCR,SNPS,SPLK,SPSC,SSNC,TDC,TLRA,TTD,TWOU,TYL,UPLD,VMW,VRNS,WDAY,WK,ZEN,AAN,AAP,AN,ANF,ASNA,AZO,BBBY,BBY,BKE,BOOT,BURL,CAL,CHS,CONN,CTRN,CVNA,DKS,EXPR,EYE,FIVE,FL,FND,GCO,GES,GME,GNC,GPI,GPS,HD,HIBB,HOME,HVT,HZO,KMX,LAD,LL,LOW,MIK,MNRO,MUSA,ORLY,PLCE,PRTY,RCII,RH,ROST,SAH,SBH,SCVL,SIG,SNBR,SPWH,TJX,TLRD,TSCO,ULTA,URBN,WSM,ZUMZ,AAPL,DDD,HPE,HPQ,IMMR,NCR,NTAP,PSTG,WDC,CRI,CROX,DECK,DLA,FOSL,GIII,LULU,OXM,PVH,RL,SGC,SKX,TPR,VRA,WWW,CASH,CFFN,EBSB,ESNT,FDEF,FSBW,GCBC,HBCP,HMST,MBIN,MTG,NMIH,NWBI,NYCB,OCFC,OCN,PFS,PFSI,PVBC,RVSB,TBNK,TFSL,TRST,WD,WNEB,WSBF,WSFS,MO,PM,TPB,UVV,VGR,AL,BECN,BMCH,BXC,CAI,DNOW,DXPE,FAST,FBM,GATX,GFN,GMS,GWW,HEES,KAMN,MSM,RUSHA,SITE,SYX,TITN,TRNS,UNVR,URI,VRTV,WCC,WLFC,WSO,MIC,ARTNA,AWK,AWR,CDZI,GWRS,WAAS,GOGO,S,SHEN,SPOK,TMUS'\n",
    "ticker_list=list.split(',')\n",
    "CompanyPartialData_rev=[]"
   ]
  },
  {
   "cell_type": "code",
   "execution_count": null,
   "metadata": {},
   "outputs": [],
   "source": [
    "for i in ticker_list:\n",
    "    df_final = pd.DataFrame(columns=['year','Company','CIK','Revenue','BaselineOutput'])\n",
    "    filename7='C:\\\\Umass spring 20\\\\696\\KT\\\\CS696\\\\cs696_scraping\\\\structured\\\\Data 11-18\\\\Company Wise Revenue\\\\7datapoints\\\\'+ i + '.csv'\n",
    "    filename6='C:\\\\Umass spring 20\\\\696\\KT\\\\CS696\\\\cs696_scraping\\\\structured\\\\Data 11-18\\\\Company Wise Revenue\\\\6datapoints\\\\'+ i + '.csv'\n",
    "    filename8='C:\\\\Umass spring 20\\\\696\\KT\\\\CS696\\\\cs696_scraping\\\\structured\\\\Data 11-18\\\\Company Wise Revenue\\\\8datapoints\\\\'+ i + '.csv'\n",
    "    filename5='C:\\\\Umass spring 20\\\\696\\KT\\\\CS696\\\\cs696_scraping\\\\structured\\\\Data 11-18\\\\Company Wise Revenue\\\\5datapoints\\\\'+ i + '.csv'\n",
    "    filename9='C:\\\\Umass spring 20\\\\696\\KT\\\\CS696\\\\cs696_scraping\\\\structured\\\\Data 11-18\\\\Company Wise Revenue\\\\9datapoints\\\\'+ i + '.csv'\n",
    "#     filename3='C:\\\\Umass spring 20\\\\696\\KT\\\\CS696\\\\cs696_scraping\\\\structured\\\\Data 11-18\\\\Company Wise IncomeLoss\\\\3datapoints\\\\'+ i + '.csv'\n",
    "#     filename2='C:\\\\Umass spring 20\\\\696\\KT\\\\CS696\\\\cs696_scraping\\\\structured\\\\Data 11-18\\\\Company Wise IncomeLoss\\\\2datapoints\\\\'+ i + '.csv'\n",
    "#     filename1='C:\\\\Umass spring 20\\\\696\\KT\\\\CS696\\\\cs696_scraping\\\\structured\\\\Data 11-18\\\\Company Wise IncomeLoss\\\\1datapoints\\\\'+ i + '.csv'\n",
    "    for index, row in df_f.iterrows():\n",
    "        if row['Company']==i:\n",
    "            df_final=df_final.append(pd.Series([row['year'], row['Company'], row['CIK'], row['Revenue'],'NULL'], index=df_final.columns ), ignore_index=True)\n",
    "    if len(df_final.index)==8:\n",
    "        df_final.to_csv(filename8,index = False, header=True)\n",
    "    if len(df_final.index)==7:\n",
    "        df_final.to_csv(filename7,index = False, header=True)\n",
    "    if len(df_final.index)==6:\n",
    "        df_final.to_csv(filename6,index = False, header=True)\n",
    "    if len(df_final.index)==5:\n",
    "        df_final.to_csv(filename5,index = False, header=True)\n",
    "    if len(df_final.index)==9:\n",
    "        df_final.to_csv(filename9,index = False, header=True)\n",
    "#     if len(df_final.index)==3:\n",
    "#         df_final.to_csv(filename3,index = False, header=True)   \n",
    "#     if len(df_final.index)==2:\n",
    "#         df_final.to_csv(filename2,index = False, header=True)  \n",
    "#     if len(df_final.index)==1:\n",
    "#         df_final.to_csv(filename1,index = False, header=True)  \n",
    "    else:\n",
    "        CompanyPartialData_rev.append(i)"
   ]
  },
  {
   "cell_type": "code",
   "execution_count": null,
   "metadata": {},
   "outputs": [],
   "source": []
  },
  {
   "cell_type": "code",
   "execution_count": null,
   "metadata": {},
   "outputs": [],
   "source": []
  }
 ],
 "metadata": {
  "kernelspec": {
   "display_name": "Python 3",
   "language": "python",
   "name": "python3"
  },
  "language_info": {
   "codemirror_mode": {
    "name": "ipython",
    "version": 3
   },
   "file_extension": ".py",
   "mimetype": "text/x-python",
   "name": "python",
   "nbconvert_exporter": "python",
   "pygments_lexer": "ipython3",
   "version": "3.6.10"
  }
 },
 "nbformat": 4,
 "nbformat_minor": 4
}
